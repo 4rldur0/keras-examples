{
  "cells": [
    {
      "cell_type": "markdown",
      "metadata": {
        "id": "6fcNJ9ngWdao"
      },
      "source": [
        "이 노트북은 [케라스 창시자에게 배우는 딥러닝 2판](https://tensorflow.blog/kerasdl2/)의 예제 코드를 담고 있습니다.\n",
        "\n",
        "이 노트북은 텐서플로 2.9 버전에서 테스트했습니다.\n",
        "\n",
        "<table align=\"left\">\n",
        "    <tr>\n",
        "        <td>\n",
        "            <a href=\"https://colab.research.google.com/github/rickiepark/deep-learning-with-python-2nd/blob/main/chapter09_part02_modern-convnet-architecture-patterns.ipynb\" target=\"_parent\"><img src=\"https://colab.research.google.com/assets/colab-badge.svg\" alt=\"Open In Colab\"/></a>\n",
        "        </td>\n",
        "    </tr>\n",
        "</table>"
      ]
    },
    {
      "cell_type": "markdown",
      "metadata": {
        "id": "V6vyo9pMWdar"
      },
      "source": [
        "## 최신 컨브넷 아키텍처 패턴"
      ]
    },
    {
      "cell_type": "markdown",
      "metadata": {
        "id": "wRLUswhpWdar"
      },
      "source": [
        "### 모듈화, 계층화 그리고 재사용"
      ]
    },
    {
      "cell_type": "markdown",
      "metadata": {
        "id": "DrVGd0xfWdas"
      },
      "source": [
        "### 잔차 연결"
      ]
    },
    {
      "cell_type": "markdown",
      "metadata": {
        "id": "z3p_4BtQWdas"
      },
      "source": [
        "**필터 개수가 변경되는 잔차 블록**"
      ]
    },
    {
      "cell_type": "code",
      "execution_count": 1,
      "metadata": {
        "id": "_sMjx-EsWdas"
      },
      "outputs": [],
      "source": [
        "from tensorflow import keras\n",
        "from tensorflow.keras import layers\n",
        "\n",
        "inputs = keras.Input(shape=(32, 32, 3))\n",
        "x = layers.Conv2D(32, 3, activation=\"relu\")(inputs)\n",
        "residual = x\n",
        "x = layers.Conv2D(64, 3, activation=\"relu\", padding=\"same\")(x)\n",
        "residual = layers.Conv2D(64, 1)(residual)\n",
        "x = layers.add([x, residual])"
      ]
    },
    {
      "cell_type": "markdown",
      "metadata": {
        "id": "0qicvVeLWdav"
      },
      "source": [
        "**최대 풀링 층을 가진 잔차 블록**"
      ]
    },
    {
      "cell_type": "code",
      "execution_count": 2,
      "metadata": {
        "id": "VujtXbBHWdav"
      },
      "outputs": [],
      "source": [
        "inputs = keras.Input(shape=(32, 32, 3))\n",
        "x = layers.Conv2D(32, 3, activation=\"relu\")(inputs)\n",
        "residual = x\n",
        "x = layers.Conv2D(64, 3, activation=\"relu\", padding=\"same\")(x)\n",
        "x = layers.MaxPooling2D(2, padding=\"same\")(x)\n",
        "residual = layers.Conv2D(64, 1, strides=2)(residual)\n",
        "x = layers.add([x, residual])"
      ]
    },
    {
      "cell_type": "code",
      "execution_count": 3,
      "metadata": {
        "id": "gqRZwb1eWdaw",
        "outputId": "7a45906b-3cc5-4161-cce3-5457d8707739",
        "colab": {
          "base_uri": "https://localhost:8080/"
        }
      },
      "outputs": [
        {
          "output_type": "stream",
          "name": "stdout",
          "text": [
            "Model: \"model\"\n",
            "__________________________________________________________________________________________________\n",
            " Layer (type)                   Output Shape         Param #     Connected to                     \n",
            "==================================================================================================\n",
            " input_3 (InputLayer)           [(None, 32, 32, 3)]  0           []                               \n",
            "                                                                                                  \n",
            " rescaling (Rescaling)          (None, 32, 32, 3)    0           ['input_3[0][0]']                \n",
            "                                                                                                  \n",
            " conv2d_6 (Conv2D)              (None, 32, 32, 32)   896         ['rescaling[0][0]']              \n",
            "                                                                                                  \n",
            " conv2d_7 (Conv2D)              (None, 32, 32, 32)   9248        ['conv2d_6[0][0]']               \n",
            "                                                                                                  \n",
            " max_pooling2d_1 (MaxPooling2D)  (None, 16, 16, 32)  0           ['conv2d_7[0][0]']               \n",
            "                                                                                                  \n",
            " conv2d_8 (Conv2D)              (None, 16, 16, 32)   128         ['rescaling[0][0]']              \n",
            "                                                                                                  \n",
            " add_2 (Add)                    (None, 16, 16, 32)   0           ['max_pooling2d_1[0][0]',        \n",
            "                                                                  'conv2d_8[0][0]']               \n",
            "                                                                                                  \n",
            " conv2d_9 (Conv2D)              (None, 16, 16, 64)   18496       ['add_2[0][0]']                  \n",
            "                                                                                                  \n",
            " conv2d_10 (Conv2D)             (None, 16, 16, 64)   36928       ['conv2d_9[0][0]']               \n",
            "                                                                                                  \n",
            " max_pooling2d_2 (MaxPooling2D)  (None, 8, 8, 64)    0           ['conv2d_10[0][0]']              \n",
            "                                                                                                  \n",
            " conv2d_11 (Conv2D)             (None, 8, 8, 64)     2112        ['add_2[0][0]']                  \n",
            "                                                                                                  \n",
            " add_3 (Add)                    (None, 8, 8, 64)     0           ['max_pooling2d_2[0][0]',        \n",
            "                                                                  'conv2d_11[0][0]']              \n",
            "                                                                                                  \n",
            " conv2d_12 (Conv2D)             (None, 8, 8, 128)    73856       ['add_3[0][0]']                  \n",
            "                                                                                                  \n",
            " conv2d_13 (Conv2D)             (None, 8, 8, 128)    147584      ['conv2d_12[0][0]']              \n",
            "                                                                                                  \n",
            " conv2d_14 (Conv2D)             (None, 8, 8, 128)    8320        ['add_3[0][0]']                  \n",
            "                                                                                                  \n",
            " add_4 (Add)                    (None, 8, 8, 128)    0           ['conv2d_13[0][0]',              \n",
            "                                                                  'conv2d_14[0][0]']              \n",
            "                                                                                                  \n",
            " global_average_pooling2d (Glob  (None, 128)         0           ['add_4[0][0]']                  \n",
            " alAveragePooling2D)                                                                              \n",
            "                                                                                                  \n",
            " dense (Dense)                  (None, 1)            129         ['global_average_pooling2d[0][0]'\n",
            "                                                                 ]                                \n",
            "                                                                                                  \n",
            "==================================================================================================\n",
            "Total params: 297,697\n",
            "Trainable params: 297,697\n",
            "Non-trainable params: 0\n",
            "__________________________________________________________________________________________________\n"
          ]
        }
      ],
      "source": [
        "inputs = keras.Input(shape=(32, 32, 3))\n",
        "x = layers.Rescaling(1./255)(inputs)\n",
        "\n",
        "def residual_block(x, filters, pooling=False):\n",
        "    residual = x\n",
        "    x = layers.Conv2D(filters, 3, activation=\"relu\", padding=\"same\")(x)\n",
        "    x = layers.Conv2D(filters, 3, activation=\"relu\", padding=\"same\")(x)\n",
        "    if pooling:\n",
        "        x = layers.MaxPooling2D(2, padding=\"same\")(x)\n",
        "        residual = layers.Conv2D(filters, 1, strides=2)(residual)\n",
        "    elif filters != residual.shape[-1]:\n",
        "        residual = layers.Conv2D(filters, 1)(residual)\n",
        "    x = layers.add([x, residual])\n",
        "    return x\n",
        "\n",
        "x = residual_block(x, filters=32, pooling=True)\n",
        "x = residual_block(x, filters=64, pooling=True)\n",
        "x = residual_block(x, filters=128, pooling=False)\n",
        "\n",
        "x = layers.GlobalAveragePooling2D()(x)\n",
        "outputs = layers.Dense(1, activation=\"sigmoid\")(x)\n",
        "model = keras.Model(inputs=inputs, outputs=outputs)\n",
        "model.summary()"
      ]
    },
    {
      "cell_type": "markdown",
      "metadata": {
        "id": "2yTgvoeKWdaw"
      },
      "source": [
        "### 배치 정규화"
      ]
    },
    {
      "cell_type": "markdown",
      "metadata": {
        "id": "JPKA2OB7Wdax"
      },
      "source": [
        "### 깊이별 분리 합성곱"
      ]
    },
    {
      "cell_type": "markdown",
      "metadata": {
        "id": "RkVCpdH6Wdax"
      },
      "source": [
        "### Xception 유사 모델에 모두 적용하기"
      ]
    },
    {
      "cell_type": "code",
      "execution_count": 4,
      "metadata": {
        "id": "9kwJ5oLAWdax",
        "outputId": "bd89981e-c4be-4b4d-a83d-f5114942b28d",
        "colab": {
          "resources": {
            "http://localhost:8080/nbextensions/google.colab/files.js": {
              "data": "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",
              "ok": true,
              "headers": [
                [
                  "content-type",
                  "application/javascript"
                ]
              ],
              "status": 200,
              "status_text": ""
            }
          },
          "base_uri": "https://localhost:8080/",
          "height": 92
        }
      },
      "outputs": [
        {
          "output_type": "display_data",
          "data": {
            "text/plain": [
              "<IPython.core.display.HTML object>"
            ],
            "text/html": [
              "\n",
              "     <input type=\"file\" id=\"files-003cdf4c-1ba7-4814-83e0-50c0f1774a4c\" name=\"files[]\" multiple disabled\n",
              "        style=\"border:none\" />\n",
              "     <output id=\"result-003cdf4c-1ba7-4814-83e0-50c0f1774a4c\">\n",
              "      Upload widget is only available when the cell has been executed in the\n",
              "      current browser session. Please rerun this cell to enable.\n",
              "      </output>\n",
              "      <script src=\"/nbextensions/google.colab/files.js\"></script> "
            ]
          },
          "metadata": {}
        },
        {
          "output_type": "stream",
          "name": "stdout",
          "text": [
            "Saving kaggle.json to kaggle.json\n"
          ]
        },
        {
          "output_type": "execute_result",
          "data": {
            "text/plain": [
              "{'kaggle.json': b'{\"username\":\"haesunpark\",\"key\":\"08f234c75bf1f9cff6991a8a6d5d49ac\"}'}"
            ]
          },
          "metadata": {},
          "execution_count": 4
        }
      ],
      "source": [
        "from google.colab import files\n",
        "files.upload()"
      ]
    },
    {
      "cell_type": "code",
      "execution_count": 5,
      "metadata": {
        "id": "HQRYmlcoWdax",
        "outputId": "e7550558-0b9f-4acc-e745-b39881849e73",
        "colab": {
          "base_uri": "https://localhost:8080/"
        }
      },
      "outputs": [
        {
          "output_type": "stream",
          "name": "stdout",
          "text": [
            "Downloading dogs-vs-cats.zip to /content\n",
            " 99% 804M/812M [00:03<00:00, 247MB/s]\n",
            "100% 812M/812M [00:03<00:00, 220MB/s]\n"
          ]
        }
      ],
      "source": [
        "!mkdir ~/.kaggle\n",
        "!cp kaggle.json ~/.kaggle/\n",
        "!chmod 600 ~/.kaggle/kaggle.json\n",
        "!kaggle competitions download -c dogs-vs-cats\n",
        "!unzip -qq dogs-vs-cats.zip\n",
        "!unzip -qq train.zip"
      ]
    },
    {
      "cell_type": "code",
      "execution_count": 6,
      "metadata": {
        "id": "1TQ1jwjAWday",
        "outputId": "f3a996df-63c6-478d-d0b3-255952b95517",
        "colab": {
          "base_uri": "https://localhost:8080/"
        }
      },
      "outputs": [
        {
          "output_type": "stream",
          "name": "stdout",
          "text": [
            "Found 2000 files belonging to 2 classes.\n",
            "Found 1000 files belonging to 2 classes.\n",
            "Found 2000 files belonging to 2 classes.\n"
          ]
        }
      ],
      "source": [
        "import os, shutil, pathlib\n",
        "from tensorflow.keras.utils import image_dataset_from_directory\n",
        "\n",
        "original_dir = pathlib.Path(\"train\")\n",
        "new_base_dir = pathlib.Path(\"cats_vs_dogs_small\")\n",
        "\n",
        "def make_subset(subset_name, start_index, end_index):\n",
        "    for category in (\"cat\", \"dog\"):\n",
        "        dir = new_base_dir / subset_name / category\n",
        "        os.makedirs(dir)\n",
        "        fnames = [f\"{category}.{i}.jpg\" for i in range(start_index, end_index)]\n",
        "        for fname in fnames:\n",
        "            shutil.copyfile(src=original_dir / fname,\n",
        "                            dst=dir / fname)\n",
        "\n",
        "make_subset(\"train\", start_index=0, end_index=1000)\n",
        "make_subset(\"validation\", start_index=1000, end_index=1500)\n",
        "make_subset(\"test\", start_index=1500, end_index=2500)\n",
        "\n",
        "train_dataset = image_dataset_from_directory(\n",
        "    new_base_dir / \"train\",\n",
        "    image_size=(180, 180),\n",
        "    batch_size=32)\n",
        "validation_dataset = image_dataset_from_directory(\n",
        "    new_base_dir / \"validation\",\n",
        "    image_size=(180, 180),\n",
        "    batch_size=32)\n",
        "test_dataset = image_dataset_from_directory(\n",
        "    new_base_dir / \"test\",\n",
        "    image_size=(180, 180),\n",
        "    batch_size=32)"
      ]
    },
    {
      "cell_type": "code",
      "execution_count": 7,
      "metadata": {
        "id": "ocyuOyHbWday"
      },
      "outputs": [],
      "source": [
        "data_augmentation = keras.Sequential(\n",
        "    [\n",
        "        layers.RandomFlip(\"horizontal\"),\n",
        "        layers.RandomRotation(0.1),\n",
        "        layers.RandomZoom(0.2),\n",
        "    ]\n",
        ")"
      ]
    },
    {
      "cell_type": "code",
      "execution_count": 8,
      "metadata": {
        "id": "-qBdzynbWday"
      },
      "outputs": [],
      "source": [
        "inputs = keras.Input(shape=(180, 180, 3))\n",
        "x = data_augmentation(inputs)\n",
        "\n",
        "x = layers.Rescaling(1./255)(x)\n",
        "x = layers.Conv2D(filters=32, kernel_size=5, use_bias=False)(x)\n",
        "\n",
        "for size in [32, 64, 128, 256, 512]:\n",
        "    residual = x\n",
        "\n",
        "    x = layers.BatchNormalization()(x)\n",
        "    x = layers.Activation(\"relu\")(x)\n",
        "    x = layers.SeparableConv2D(size, 3, padding=\"same\", use_bias=False)(x)\n",
        "\n",
        "    x = layers.BatchNormalization()(x)\n",
        "    x = layers.Activation(\"relu\")(x)\n",
        "    x = layers.SeparableConv2D(size, 3, padding=\"same\", use_bias=False)(x)\n",
        "\n",
        "    x = layers.MaxPooling2D(3, strides=2, padding=\"same\")(x)\n",
        "\n",
        "    residual = layers.Conv2D(\n",
        "        size, 1, strides=2, padding=\"same\", use_bias=False)(residual)\n",
        "    x = layers.add([x, residual])\n",
        "\n",
        "x = layers.GlobalAveragePooling2D()(x)\n",
        "x = layers.Dropout(0.5)(x)\n",
        "outputs = layers.Dense(1, activation=\"sigmoid\")(x)\n",
        "model = keras.Model(inputs=inputs, outputs=outputs)"
      ]
    },
    {
      "cell_type": "code",
      "execution_count": 9,
      "metadata": {
        "id": "p4rMrBCmWdaz",
        "outputId": "e35f6342-fe4e-46fa-c196-3f4ffc79ea31",
        "colab": {
          "base_uri": "https://localhost:8080/"
        }
      },
      "outputs": [
        {
          "output_type": "stream",
          "name": "stdout",
          "text": [
            "Epoch 1/100\n",
            "63/63 [==============================] - 43s 440ms/step - loss: 0.7037 - accuracy: 0.5535 - val_loss: 0.6937 - val_accuracy: 0.4990\n",
            "Epoch 2/100\n",
            "63/63 [==============================] - 27s 418ms/step - loss: 0.6468 - accuracy: 0.6245 - val_loss: 0.6931 - val_accuracy: 0.4990\n",
            "Epoch 3/100\n",
            "63/63 [==============================] - 27s 418ms/step - loss: 0.6442 - accuracy: 0.6385 - val_loss: 0.7072 - val_accuracy: 0.5000\n",
            "Epoch 4/100\n",
            "63/63 [==============================] - 27s 424ms/step - loss: 0.6236 - accuracy: 0.6690 - val_loss: 0.7184 - val_accuracy: 0.5000\n",
            "Epoch 5/100\n",
            "63/63 [==============================] - 27s 422ms/step - loss: 0.5898 - accuracy: 0.6840 - val_loss: 0.8213 - val_accuracy: 0.5000\n",
            "Epoch 6/100\n",
            "63/63 [==============================] - 27s 426ms/step - loss: 0.5830 - accuracy: 0.6930 - val_loss: 0.8525 - val_accuracy: 0.5000\n",
            "Epoch 7/100\n",
            "63/63 [==============================] - 27s 422ms/step - loss: 0.5510 - accuracy: 0.7205 - val_loss: 0.8297 - val_accuracy: 0.5000\n",
            "Epoch 8/100\n",
            "63/63 [==============================] - 27s 417ms/step - loss: 0.5204 - accuracy: 0.7465 - val_loss: 0.9174 - val_accuracy: 0.5350\n",
            "Epoch 9/100\n",
            "63/63 [==============================] - 27s 419ms/step - loss: 0.5228 - accuracy: 0.7455 - val_loss: 0.7241 - val_accuracy: 0.5900\n",
            "Epoch 10/100\n",
            "63/63 [==============================] - 27s 424ms/step - loss: 0.5129 - accuracy: 0.7510 - val_loss: 1.6695 - val_accuracy: 0.5380\n",
            "Epoch 11/100\n",
            "63/63 [==============================] - 27s 424ms/step - loss: 0.4980 - accuracy: 0.7630 - val_loss: 0.6710 - val_accuracy: 0.6460\n",
            "Epoch 12/100\n",
            "63/63 [==============================] - 27s 423ms/step - loss: 0.4893 - accuracy: 0.7730 - val_loss: 0.7748 - val_accuracy: 0.6510\n",
            "Epoch 13/100\n",
            "63/63 [==============================] - 27s 424ms/step - loss: 0.4692 - accuracy: 0.7945 - val_loss: 0.7193 - val_accuracy: 0.6440\n",
            "Epoch 14/100\n",
            "63/63 [==============================] - 27s 430ms/step - loss: 0.4600 - accuracy: 0.7860 - val_loss: 0.6953 - val_accuracy: 0.6650\n",
            "Epoch 15/100\n",
            "63/63 [==============================] - 27s 426ms/step - loss: 0.4526 - accuracy: 0.8055 - val_loss: 0.8769 - val_accuracy: 0.5910\n",
            "Epoch 16/100\n",
            "63/63 [==============================] - 27s 421ms/step - loss: 0.4284 - accuracy: 0.8050 - val_loss: 1.1244 - val_accuracy: 0.6150\n",
            "Epoch 17/100\n",
            "63/63 [==============================] - 27s 427ms/step - loss: 0.4383 - accuracy: 0.8080 - val_loss: 0.5108 - val_accuracy: 0.7430\n",
            "Epoch 18/100\n",
            "63/63 [==============================] - 27s 427ms/step - loss: 0.4108 - accuracy: 0.8135 - val_loss: 0.9808 - val_accuracy: 0.6120\n",
            "Epoch 19/100\n",
            "63/63 [==============================] - 27s 432ms/step - loss: 0.3940 - accuracy: 0.8205 - val_loss: 0.5851 - val_accuracy: 0.7550\n",
            "Epoch 20/100\n",
            "63/63 [==============================] - 27s 430ms/step - loss: 0.3885 - accuracy: 0.8220 - val_loss: 0.6034 - val_accuracy: 0.7180\n",
            "Epoch 21/100\n",
            "63/63 [==============================] - 27s 431ms/step - loss: 0.4015 - accuracy: 0.8155 - val_loss: 0.9157 - val_accuracy: 0.6100\n",
            "Epoch 22/100\n",
            "63/63 [==============================] - 27s 429ms/step - loss: 0.3821 - accuracy: 0.8340 - val_loss: 0.4374 - val_accuracy: 0.7910\n",
            "Epoch 23/100\n",
            "63/63 [==============================] - 27s 421ms/step - loss: 0.3526 - accuracy: 0.8545 - val_loss: 0.4396 - val_accuracy: 0.8000\n",
            "Epoch 24/100\n",
            "63/63 [==============================] - 27s 422ms/step - loss: 0.3585 - accuracy: 0.8515 - val_loss: 0.4922 - val_accuracy: 0.7700\n",
            "Epoch 25/100\n",
            "63/63 [==============================] - 27s 422ms/step - loss: 0.3693 - accuracy: 0.8265 - val_loss: 0.5168 - val_accuracy: 0.7650\n",
            "Epoch 26/100\n",
            "63/63 [==============================] - 27s 425ms/step - loss: 0.3546 - accuracy: 0.8455 - val_loss: 0.5986 - val_accuracy: 0.7210\n",
            "Epoch 27/100\n",
            "63/63 [==============================] - 27s 422ms/step - loss: 0.3428 - accuracy: 0.8500 - val_loss: 0.6547 - val_accuracy: 0.7040\n",
            "Epoch 28/100\n",
            "63/63 [==============================] - 27s 422ms/step - loss: 0.3445 - accuracy: 0.8535 - val_loss: 0.6022 - val_accuracy: 0.7380\n",
            "Epoch 29/100\n",
            "63/63 [==============================] - 26s 414ms/step - loss: 0.3156 - accuracy: 0.8700 - val_loss: 0.6539 - val_accuracy: 0.7280\n",
            "Epoch 30/100\n",
            "63/63 [==============================] - 27s 428ms/step - loss: 0.3435 - accuracy: 0.8550 - val_loss: 0.4375 - val_accuracy: 0.8050\n",
            "Epoch 31/100\n",
            "63/63 [==============================] - 27s 429ms/step - loss: 0.3055 - accuracy: 0.8530 - val_loss: 0.5260 - val_accuracy: 0.7830\n",
            "Epoch 32/100\n",
            "63/63 [==============================] - 27s 428ms/step - loss: 0.3197 - accuracy: 0.8605 - val_loss: 0.6178 - val_accuracy: 0.7650\n",
            "Epoch 33/100\n",
            "63/63 [==============================] - 27s 420ms/step - loss: 0.3236 - accuracy: 0.8620 - val_loss: 0.4247 - val_accuracy: 0.8140\n",
            "Epoch 34/100\n",
            "63/63 [==============================] - 27s 417ms/step - loss: 0.2895 - accuracy: 0.8810 - val_loss: 0.4958 - val_accuracy: 0.7660\n",
            "Epoch 35/100\n",
            "63/63 [==============================] - 27s 425ms/step - loss: 0.2947 - accuracy: 0.8830 - val_loss: 0.4807 - val_accuracy: 0.8100\n",
            "Epoch 36/100\n",
            "63/63 [==============================] - 27s 427ms/step - loss: 0.2858 - accuracy: 0.8850 - val_loss: 0.7631 - val_accuracy: 0.7360\n",
            "Epoch 37/100\n",
            "63/63 [==============================] - 27s 424ms/step - loss: 0.2714 - accuracy: 0.8820 - val_loss: 0.3918 - val_accuracy: 0.8470\n",
            "Epoch 38/100\n",
            "63/63 [==============================] - 27s 418ms/step - loss: 0.2725 - accuracy: 0.8895 - val_loss: 0.4831 - val_accuracy: 0.8110\n",
            "Epoch 39/100\n",
            "63/63 [==============================] - 28s 435ms/step - loss: 0.2526 - accuracy: 0.8860 - val_loss: 0.7864 - val_accuracy: 0.7470\n",
            "Epoch 40/100\n",
            "63/63 [==============================] - 27s 427ms/step - loss: 0.2484 - accuracy: 0.8940 - val_loss: 0.4402 - val_accuracy: 0.8180\n",
            "Epoch 41/100\n",
            "63/63 [==============================] - 26s 413ms/step - loss: 0.2449 - accuracy: 0.8975 - val_loss: 0.6379 - val_accuracy: 0.7610\n",
            "Epoch 42/100\n",
            "63/63 [==============================] - 27s 426ms/step - loss: 0.2402 - accuracy: 0.9010 - val_loss: 0.3812 - val_accuracy: 0.8520\n",
            "Epoch 43/100\n",
            "63/63 [==============================] - 27s 428ms/step - loss: 0.2329 - accuracy: 0.8955 - val_loss: 0.4093 - val_accuracy: 0.8520\n",
            "Epoch 44/100\n",
            "63/63 [==============================] - 27s 426ms/step - loss: 0.2304 - accuracy: 0.9050 - val_loss: 0.7394 - val_accuracy: 0.7560\n",
            "Epoch 45/100\n",
            "63/63 [==============================] - 27s 426ms/step - loss: 0.2050 - accuracy: 0.9200 - val_loss: 0.5837 - val_accuracy: 0.7770\n",
            "Epoch 46/100\n",
            "63/63 [==============================] - 27s 426ms/step - loss: 0.2389 - accuracy: 0.9035 - val_loss: 0.3533 - val_accuracy: 0.8630\n",
            "Epoch 47/100\n",
            "63/63 [==============================] - 27s 427ms/step - loss: 0.2142 - accuracy: 0.9085 - val_loss: 0.4714 - val_accuracy: 0.8120\n",
            "Epoch 48/100\n",
            "63/63 [==============================] - 27s 431ms/step - loss: 0.2330 - accuracy: 0.9065 - val_loss: 0.3869 - val_accuracy: 0.8280\n",
            "Epoch 49/100\n",
            "63/63 [==============================] - 27s 432ms/step - loss: 0.1965 - accuracy: 0.9205 - val_loss: 0.7386 - val_accuracy: 0.7460\n",
            "Epoch 50/100\n",
            "63/63 [==============================] - 27s 429ms/step - loss: 0.2306 - accuracy: 0.9090 - val_loss: 0.3374 - val_accuracy: 0.8570\n",
            "Epoch 51/100\n",
            "63/63 [==============================] - 27s 421ms/step - loss: 0.1955 - accuracy: 0.9195 - val_loss: 0.3950 - val_accuracy: 0.8630\n",
            "Epoch 52/100\n",
            "63/63 [==============================] - 27s 427ms/step - loss: 0.1926 - accuracy: 0.9205 - val_loss: 1.2200 - val_accuracy: 0.6540\n",
            "Epoch 53/100\n",
            "63/63 [==============================] - 27s 429ms/step - loss: 0.1976 - accuracy: 0.9285 - val_loss: 0.3990 - val_accuracy: 0.8440\n",
            "Epoch 54/100\n",
            "63/63 [==============================] - 27s 416ms/step - loss: 0.1924 - accuracy: 0.9205 - val_loss: 0.4324 - val_accuracy: 0.8250\n",
            "Epoch 55/100\n",
            "63/63 [==============================] - 27s 427ms/step - loss: 0.1740 - accuracy: 0.9355 - val_loss: 0.3585 - val_accuracy: 0.8610\n",
            "Epoch 56/100\n",
            "63/63 [==============================] - 27s 432ms/step - loss: 0.1821 - accuracy: 0.9225 - val_loss: 0.4648 - val_accuracy: 0.8510\n",
            "Epoch 57/100\n",
            "63/63 [==============================] - 27s 424ms/step - loss: 0.1974 - accuracy: 0.9245 - val_loss: 0.5558 - val_accuracy: 0.7920\n",
            "Epoch 58/100\n",
            "63/63 [==============================] - 27s 427ms/step - loss: 0.1681 - accuracy: 0.9340 - val_loss: 0.8714 - val_accuracy: 0.7730\n",
            "Epoch 59/100\n",
            "63/63 [==============================] - 27s 427ms/step - loss: 0.1593 - accuracy: 0.9330 - val_loss: 1.3677 - val_accuracy: 0.7060\n",
            "Epoch 60/100\n",
            "63/63 [==============================] - 27s 418ms/step - loss: 0.1738 - accuracy: 0.9365 - val_loss: 0.3783 - val_accuracy: 0.8680\n",
            "Epoch 61/100\n",
            "63/63 [==============================] - 27s 423ms/step - loss: 0.1699 - accuracy: 0.9285 - val_loss: 0.3562 - val_accuracy: 0.8630\n",
            "Epoch 62/100\n",
            "63/63 [==============================] - 27s 425ms/step - loss: 0.1638 - accuracy: 0.9355 - val_loss: 0.3158 - val_accuracy: 0.8720\n",
            "Epoch 63/100\n",
            "63/63 [==============================] - 27s 428ms/step - loss: 0.1625 - accuracy: 0.9340 - val_loss: 0.6412 - val_accuracy: 0.7790\n",
            "Epoch 64/100\n",
            "63/63 [==============================] - 28s 433ms/step - loss: 0.1672 - accuracy: 0.9325 - val_loss: 0.3257 - val_accuracy: 0.8630\n",
            "Epoch 65/100\n",
            "63/63 [==============================] - 27s 430ms/step - loss: 0.1602 - accuracy: 0.9315 - val_loss: 0.3759 - val_accuracy: 0.8570\n",
            "Epoch 66/100\n",
            "63/63 [==============================] - 27s 428ms/step - loss: 0.1476 - accuracy: 0.9380 - val_loss: 0.9246 - val_accuracy: 0.7270\n",
            "Epoch 67/100\n",
            "63/63 [==============================] - 27s 428ms/step - loss: 0.1523 - accuracy: 0.9380 - val_loss: 0.4412 - val_accuracy: 0.8390\n",
            "Epoch 68/100\n",
            "63/63 [==============================] - 27s 425ms/step - loss: 0.1451 - accuracy: 0.9445 - val_loss: 0.3325 - val_accuracy: 0.8710\n",
            "Epoch 69/100\n",
            "63/63 [==============================] - 27s 430ms/step - loss: 0.1729 - accuracy: 0.9310 - val_loss: 0.3183 - val_accuracy: 0.8820\n",
            "Epoch 70/100\n",
            "63/63 [==============================] - 27s 420ms/step - loss: 0.1583 - accuracy: 0.9390 - val_loss: 0.3016 - val_accuracy: 0.8790\n",
            "Epoch 71/100\n",
            "63/63 [==============================] - 27s 430ms/step - loss: 0.1260 - accuracy: 0.9485 - val_loss: 0.2955 - val_accuracy: 0.8980\n",
            "Epoch 72/100\n",
            "63/63 [==============================] - 27s 432ms/step - loss: 0.1566 - accuracy: 0.9335 - val_loss: 0.4120 - val_accuracy: 0.8460\n",
            "Epoch 73/100\n",
            "63/63 [==============================] - 27s 428ms/step - loss: 0.1501 - accuracy: 0.9390 - val_loss: 0.4455 - val_accuracy: 0.8580\n",
            "Epoch 74/100\n",
            "63/63 [==============================] - 27s 430ms/step - loss: 0.1534 - accuracy: 0.9430 - val_loss: 0.4089 - val_accuracy: 0.8630\n",
            "Epoch 75/100\n",
            "63/63 [==============================] - 27s 420ms/step - loss: 0.1345 - accuracy: 0.9475 - val_loss: 0.4906 - val_accuracy: 0.8360\n",
            "Epoch 76/100\n",
            "63/63 [==============================] - 27s 428ms/step - loss: 0.1309 - accuracy: 0.9500 - val_loss: 0.6308 - val_accuracy: 0.8150\n",
            "Epoch 77/100\n",
            "63/63 [==============================] - 28s 432ms/step - loss: 0.1196 - accuracy: 0.9535 - val_loss: 0.2922 - val_accuracy: 0.9000\n",
            "Epoch 78/100\n",
            "63/63 [==============================] - 27s 433ms/step - loss: 0.1389 - accuracy: 0.9420 - val_loss: 0.8607 - val_accuracy: 0.7730\n",
            "Epoch 79/100\n",
            "63/63 [==============================] - 28s 432ms/step - loss: 0.1081 - accuracy: 0.9520 - val_loss: 0.5253 - val_accuracy: 0.8540\n",
            "Epoch 80/100\n",
            "63/63 [==============================] - 27s 430ms/step - loss: 0.1307 - accuracy: 0.9520 - val_loss: 1.3304 - val_accuracy: 0.7110\n",
            "Epoch 81/100\n",
            "63/63 [==============================] - 28s 438ms/step - loss: 0.1182 - accuracy: 0.9570 - val_loss: 0.3425 - val_accuracy: 0.8980\n",
            "Epoch 82/100\n",
            "63/63 [==============================] - 27s 426ms/step - loss: 0.1148 - accuracy: 0.9525 - val_loss: 0.4211 - val_accuracy: 0.8620\n",
            "Epoch 83/100\n",
            "63/63 [==============================] - 27s 425ms/step - loss: 0.1157 - accuracy: 0.9525 - val_loss: 0.7120 - val_accuracy: 0.8150\n",
            "Epoch 84/100\n",
            "63/63 [==============================] - 27s 423ms/step - loss: 0.1253 - accuracy: 0.9480 - val_loss: 0.4865 - val_accuracy: 0.8530\n",
            "Epoch 85/100\n",
            "63/63 [==============================] - 27s 423ms/step - loss: 0.1170 - accuracy: 0.9565 - val_loss: 0.5348 - val_accuracy: 0.8150\n",
            "Epoch 86/100\n",
            "63/63 [==============================] - 27s 427ms/step - loss: 0.1335 - accuracy: 0.9505 - val_loss: 0.3041 - val_accuracy: 0.8890\n",
            "Epoch 87/100\n",
            "63/63 [==============================] - 27s 424ms/step - loss: 0.1176 - accuracy: 0.9525 - val_loss: 0.4103 - val_accuracy: 0.8560\n",
            "Epoch 88/100\n",
            "63/63 [==============================] - 26s 414ms/step - loss: 0.1089 - accuracy: 0.9600 - val_loss: 0.3700 - val_accuracy: 0.8840\n",
            "Epoch 89/100\n",
            "63/63 [==============================] - 27s 422ms/step - loss: 0.1076 - accuracy: 0.9585 - val_loss: 0.5445 - val_accuracy: 0.8310\n",
            "Epoch 90/100\n",
            "63/63 [==============================] - 27s 426ms/step - loss: 0.1204 - accuracy: 0.9545 - val_loss: 0.3443 - val_accuracy: 0.8920\n",
            "Epoch 91/100\n",
            "63/63 [==============================] - 27s 424ms/step - loss: 0.1051 - accuracy: 0.9640 - val_loss: 0.4919 - val_accuracy: 0.8390\n",
            "Epoch 92/100\n",
            "63/63 [==============================] - 27s 425ms/step - loss: 0.1017 - accuracy: 0.9615 - val_loss: 0.3044 - val_accuracy: 0.8810\n",
            "Epoch 93/100\n",
            "63/63 [==============================] - 27s 417ms/step - loss: 0.1065 - accuracy: 0.9580 - val_loss: 0.5228 - val_accuracy: 0.8710\n",
            "Epoch 94/100\n",
            "63/63 [==============================] - 27s 427ms/step - loss: 0.1015 - accuracy: 0.9605 - val_loss: 0.3735 - val_accuracy: 0.8890\n",
            "Epoch 95/100\n",
            "63/63 [==============================] - 27s 428ms/step - loss: 0.1108 - accuracy: 0.9590 - val_loss: 1.6559 - val_accuracy: 0.6960\n",
            "Epoch 96/100\n",
            "63/63 [==============================] - 27s 420ms/step - loss: 0.1153 - accuracy: 0.9545 - val_loss: 0.9166 - val_accuracy: 0.7920\n",
            "Epoch 97/100\n",
            "63/63 [==============================] - 27s 425ms/step - loss: 0.0978 - accuracy: 0.9590 - val_loss: 0.3754 - val_accuracy: 0.8740\n",
            "Epoch 98/100\n",
            "63/63 [==============================] - 27s 427ms/step - loss: 0.0895 - accuracy: 0.9635 - val_loss: 0.7109 - val_accuracy: 0.8120\n",
            "Epoch 99/100\n",
            "63/63 [==============================] - 27s 426ms/step - loss: 0.0999 - accuracy: 0.9590 - val_loss: 0.4038 - val_accuracy: 0.9000\n",
            "Epoch 100/100\n",
            "63/63 [==============================] - 27s 421ms/step - loss: 0.1011 - accuracy: 0.9595 - val_loss: 1.1845 - val_accuracy: 0.7580\n"
          ]
        }
      ],
      "source": [
        "model.compile(loss=\"binary_crossentropy\",\n",
        "              optimizer=\"rmsprop\",\n",
        "              metrics=[\"accuracy\"])\n",
        "history = model.fit(\n",
        "    train_dataset,\n",
        "    epochs=100,\n",
        "    validation_data=validation_dataset)"
      ]
    }
  ],
  "metadata": {
    "colab": {
      "collapsed_sections": [],
      "name": "chapter09_part02_modern-convnet-architecture-patterns.i",
      "provenance": []
    },
    "kernelspec": {
      "display_name": "default:Python",
      "language": "python",
      "name": "conda-env-default-py"
    },
    "language_info": {
      "codemirror_mode": {
        "name": "ipython",
        "version": 3
      },
      "file_extension": ".py",
      "mimetype": "text/x-python",
      "name": "python",
      "nbconvert_exporter": "python",
      "pygments_lexer": "ipython3",
      "version": "3.9.10"
    },
    "accelerator": "GPU"
  },
  "nbformat": 4,
  "nbformat_minor": 0
}