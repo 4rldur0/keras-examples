{
 "cells": [
  {
   "cell_type": "markdown",
   "metadata": {
    "colab_type": "text"
   },
   "source": [
    "이 노트북은 [케라스 창시자에게 배우는 딥러닝 2판](https://tensorflow.blog/kerasdl2/)의 예제 코드를 담고 있습니다.\n",
    "\n",
    "이 노트북은 텐서플로 2.9 버전에서 테스트했습니다.\n",
    "\n",
    "<table align=\"left\">\n",
    "    <tr>\n",
    "        <td>\n",
    "            <a href=\"https://colab.research.google.com/github/rickiepark/deep-learning-with-python-2nd/blob/main/chapter07_working-with-keras.ipynb\" target=\"_parent\"><img src=\"https://colab.research.google.com/assets/colab-badge.svg\" alt=\"Open In Colab\"/></a>\n",
    "        </td>\n",
    "    </tr>\n",
    "</table>"
   ]
  },
  {
   "cell_type": "markdown",
   "metadata": {
    "colab_type": "text"
   },
   "source": [
    "# 케라스 완전 정복"
   ]
  },
  {
   "cell_type": "markdown",
   "metadata": {
    "colab_type": "text"
   },
   "source": [
    "## 다양한 워크플로"
   ]
  },
  {
   "cell_type": "markdown",
   "metadata": {
    "colab_type": "text"
   },
   "source": [
    "## 케라스 모델을 만드는 여러 방법"
   ]
  },
  {
   "cell_type": "markdown",
   "metadata": {
    "colab_type": "text"
   },
   "source": [
    "### `Sequential` 모델"
   ]
  },
  {
   "cell_type": "markdown",
   "metadata": {
    "colab_type": "text"
   },
   "source": [
    "**`Sequential` 클래스**"
   ]
  },
  {
   "cell_type": "code",
   "execution_count": 1,
   "metadata": {
    "colab_type": "code"
   },
   "outputs": [
    {
     "name": "stderr",
     "output_type": "stream",
     "text": [
      "2022-05-03 08:28:37.308505: I tensorflow/core/platform/cpu_feature_guard.cc:193] This TensorFlow binary is optimized with oneAPI Deep Neural Network Library (oneDNN) to use the following CPU instructions in performance-critical operations:  AVX2 AVX512F FMA\n",
      "To enable them in other operations, rebuild TensorFlow with the appropriate compiler flags.\n"
     ]
    }
   ],
   "source": [
    "from tensorflow import keras\n",
    "from tensorflow.keras import layers\n",
    "\n",
    "model = keras.Sequential([\n",
    "    layers.Dense(64, activation=\"relu\"),\n",
    "    layers.Dense(10, activation=\"softmax\")\n",
    "])"
   ]
  },
  {
   "cell_type": "markdown",
   "metadata": {
    "colab_type": "text"
   },
   "source": [
    "**점진적으로 `Sequential` 모델 만들기**"
   ]
  },
  {
   "cell_type": "code",
   "execution_count": 2,
   "metadata": {
    "colab_type": "code"
   },
   "outputs": [],
   "source": [
    "model = keras.Sequential()\n",
    "model.add(layers.Dense(64, activation=\"relu\"))\n",
    "model.add(layers.Dense(10, activation=\"softmax\"))"
   ]
  },
  {
   "cell_type": "markdown",
   "metadata": {
    "colab_type": "text"
   },
   "source": [
    "**가중치를 만들기 위해 모델을 호출합니다**"
   ]
  },
  {
   "cell_type": "code",
   "execution_count": 3,
   "metadata": {
    "colab_type": "code"
   },
   "outputs": [
    {
     "data": {
      "text/plain": [
       "[<tf.Variable 'dense_2/kernel:0' shape=(3, 64) dtype=float32, numpy=\n",
       " array([[ 0.04933426, -0.06294127, -0.1539684 , -0.15880333,  0.17105511,\n",
       "         -0.08686934, -0.11822383, -0.09832902,  0.11852854, -0.14036615,\n",
       "         -0.1529721 ,  0.24590725, -0.22790903,  0.04552957,  0.14492789,\n",
       "          0.24259281,  0.15136936, -0.03680813,  0.20439428,  0.26818627,\n",
       "         -0.22116305, -0.0487532 , -0.22022954,  0.291492  ,  0.10124677,\n",
       "          0.06474778, -0.10596713, -0.17714953, -0.05351293, -0.24608585,\n",
       "          0.07329378,  0.14873841, -0.12282531,  0.21048182, -0.24241838,\n",
       "          0.10455146,  0.17658752, -0.05307057,  0.15422255, -0.16409437,\n",
       "         -0.00855756,  0.14825696, -0.2821315 , -0.18604228,  0.05844989,\n",
       "         -0.00870824, -0.17212453,  0.00834379, -0.00839654, -0.1726246 ,\n",
       "         -0.04285848,  0.04235926, -0.16408053,  0.16253966,  0.0904958 ,\n",
       "          0.05472305, -0.05569394,  0.2031678 , -0.27243382,  0.01744017,\n",
       "          0.2556597 ,  0.17803773, -0.00189605,  0.1137099 ],\n",
       "        [ 0.28848857, -0.03527725,  0.18264857, -0.2245188 ,  0.00232705,\n",
       "         -0.09973621,  0.10232469,  0.01391318,  0.29532355, -0.08876854,\n",
       "         -0.2573504 , -0.27224118, -0.005395  , -0.2551838 , -0.1909706 ,\n",
       "          0.27147412,  0.13263217, -0.25885254, -0.10373238, -0.17767286,\n",
       "          0.21452695, -0.00928745,  0.25280166, -0.17563155,  0.15569636,\n",
       "         -0.04162052,  0.28445828, -0.02358398,  0.04136625, -0.2826865 ,\n",
       "         -0.22907954,  0.13590264,  0.23391968,  0.16914514,  0.26160026,\n",
       "         -0.17375946, -0.08990946, -0.04696971,  0.12555206, -0.06269319,\n",
       "         -0.19574653, -0.29883513, -0.08853917,  0.12604636,  0.23510313,\n",
       "         -0.10987125, -0.04897246,  0.28357214,  0.1605056 ,  0.03900722,\n",
       "         -0.0979252 ,  0.2798078 ,  0.13226357,  0.16784796,  0.0802817 ,\n",
       "          0.00538567, -0.20936882, -0.13958597, -0.06459098,  0.04651788,\n",
       "         -0.18190762, -0.09082378, -0.07535002, -0.29667267],\n",
       "        [ 0.17701069,  0.2256149 , -0.11959834,  0.2423327 , -0.28767014,\n",
       "          0.11177403, -0.23225643,  0.1014761 ,  0.21066272,  0.17216262,\n",
       "         -0.29104364, -0.10398024, -0.24820073, -0.27543333, -0.23590693,\n",
       "         -0.01404831,  0.07012197, -0.12018068,  0.11525679,  0.01019919,\n",
       "          0.29648566,  0.05993307,  0.08646458,  0.19919103,  0.17000657,\n",
       "         -0.14746115, -0.25562   , -0.14837961,  0.09793326,  0.25209934,\n",
       "          0.24033254, -0.26301658, -0.25005627,  0.05170399,  0.18682823,\n",
       "         -0.27468875, -0.18244109, -0.29081997,  0.29807508, -0.25609624,\n",
       "          0.26141262,  0.12098199, -0.03632584,  0.03022462, -0.16245297,\n",
       "         -0.14238386,  0.17851064, -0.23930277, -0.05789922, -0.11904283,\n",
       "          0.09269157,  0.14239433, -0.20236513,  0.11315089,  0.202555  ,\n",
       "         -0.08677831,  0.06581658, -0.15404916, -0.00797948, -0.13676888,\n",
       "         -0.13562469,  0.2764638 , -0.06575443,  0.04115319]],\n",
       "       dtype=float32)>,\n",
       " <tf.Variable 'dense_2/bias:0' shape=(64,) dtype=float32, numpy=\n",
       " array([0., 0., 0., 0., 0., 0., 0., 0., 0., 0., 0., 0., 0., 0., 0., 0., 0.,\n",
       "        0., 0., 0., 0., 0., 0., 0., 0., 0., 0., 0., 0., 0., 0., 0., 0., 0.,\n",
       "        0., 0., 0., 0., 0., 0., 0., 0., 0., 0., 0., 0., 0., 0., 0., 0., 0.,\n",
       "        0., 0., 0., 0., 0., 0., 0., 0., 0., 0., 0., 0., 0.], dtype=float32)>,\n",
       " <tf.Variable 'dense_3/kernel:0' shape=(64, 10) dtype=float32, numpy=\n",
       " array([[-5.48910946e-02,  3.59626710e-02, -2.03110784e-01,\n",
       "         -1.29650608e-01,  1.46729112e-01,  1.18507564e-01,\n",
       "          2.61577874e-01, -4.45455462e-02,  2.07797021e-01,\n",
       "          1.50416106e-01],\n",
       "        [ 2.10414171e-01,  2.11335421e-02,  2.15802282e-01,\n",
       "          1.59423828e-01, -2.15940461e-01,  2.58490533e-01,\n",
       "          8.78933370e-02, -1.62509665e-01, -2.22153664e-01,\n",
       "         -3.56297493e-02],\n",
       "        [ 3.02371085e-02,  2.10581720e-01, -6.78088218e-02,\n",
       "         -4.68091071e-02,  2.39771336e-01,  1.89022034e-01,\n",
       "          4.11969125e-02,  1.37153774e-01,  7.28607774e-02,\n",
       "         -7.80978799e-02],\n",
       "        [ 9.68964398e-02,  1.26933903e-01, -2.34141663e-01,\n",
       "         -1.60249084e-01,  1.73982501e-01, -1.59801841e-01,\n",
       "          2.61799783e-01,  2.50495106e-01,  1.18231535e-01,\n",
       "         -2.68355370e-01],\n",
       "        [-1.22405961e-01,  5.39564788e-02, -9.27055776e-02,\n",
       "         -2.21990198e-01, -2.43435740e-01,  7.98525512e-02,\n",
       "         -2.08055213e-01, -3.92474234e-02,  7.32257664e-02,\n",
       "          2.07290113e-01],\n",
       "        [ 1.24756068e-01,  1.29166156e-01,  1.47084802e-01,\n",
       "         -2.01998353e-02, -1.82679370e-01, -1.49838626e-02,\n",
       "         -2.12801680e-01, -5.19017428e-02, -7.58220404e-02,\n",
       "         -2.60092795e-01],\n",
       "        [-2.79050410e-01,  3.56419683e-02, -2.44965956e-01,\n",
       "          2.39831597e-01, -8.96595269e-02, -2.62623578e-01,\n",
       "          1.13512754e-01,  2.13606089e-01,  1.32831752e-01,\n",
       "         -2.19713390e-01],\n",
       "        [ 9.37994123e-02,  1.21087134e-01,  2.37290949e-01,\n",
       "         -6.87527657e-03,  2.75075465e-01,  2.49141455e-02,\n",
       "          1.35057360e-01,  2.05312580e-01,  1.62162870e-01,\n",
       "         -1.31030381e-01],\n",
       "        [ 5.39169014e-02, -2.62695611e-01, -1.35960221e-01,\n",
       "          1.11930877e-01, -8.78699124e-02, -8.78689587e-02,\n",
       "         -5.81728518e-02,  1.29459977e-01, -1.97633296e-01,\n",
       "         -1.40469477e-01],\n",
       "        [ 3.83880734e-02,  1.89865887e-01,  1.06283039e-01,\n",
       "          1.80867344e-01, -1.97005451e-01,  2.66727239e-01,\n",
       "          2.29085475e-01,  8.31448138e-02,  5.48616946e-02,\n",
       "          2.33024329e-01],\n",
       "        [-9.82134193e-02, -9.76401567e-02,  8.59707594e-03,\n",
       "         -1.80811137e-01, -2.77287126e-01,  6.38574660e-02,\n",
       "         -1.68127269e-01, -1.49272248e-01,  5.70532680e-03,\n",
       "         -1.05373278e-01],\n",
       "        [-2.57012725e-01, -1.43848181e-01,  2.00106502e-01,\n",
       "          1.68196797e-01, -1.34633601e-01, -1.66752249e-01,\n",
       "          3.39418948e-02, -1.93578690e-01, -2.19088793e-02,\n",
       "          7.32133985e-02],\n",
       "        [ 7.83300698e-02,  7.56665170e-02,  9.50716436e-02,\n",
       "          5.97702265e-02, -4.46145236e-02,  1.17801249e-01,\n",
       "          1.23705149e-01,  1.58101678e-01, -7.56766945e-02,\n",
       "          3.52941751e-02],\n",
       "        [ 3.55067849e-02, -9.03509855e-02,  1.46476239e-01,\n",
       "          1.10636503e-01,  1.30233288e-01, -1.63551956e-01,\n",
       "         -2.45434463e-01,  1.36047453e-01,  1.64032340e-01,\n",
       "         -1.06854275e-01],\n",
       "        [-2.66371846e-01,  1.39012098e-01, -4.66838479e-02,\n",
       "          4.49867547e-02,  3.30538154e-02, -1.78178117e-01,\n",
       "          2.57825285e-01,  2.02914178e-02,  1.79950505e-01,\n",
       "          1.40013695e-02],\n",
       "        [ 2.66337693e-02,  5.17743826e-03,  2.19109505e-01,\n",
       "          1.49617523e-01, -2.69682050e-01, -6.80018961e-02,\n",
       "         -2.42281497e-01, -1.32849813e-01,  1.06975943e-01,\n",
       "          3.08194757e-02],\n",
       "        [ 1.70143515e-01, -8.43705684e-02,  8.15525651e-02,\n",
       "          1.80331022e-01, -1.98347151e-01,  2.48350829e-01,\n",
       "          8.22907090e-02,  2.12061882e-01,  1.71576917e-01,\n",
       "         -1.68636441e-01],\n",
       "        [ 4.18533385e-02,  1.97593659e-01, -9.30101275e-02,\n",
       "          1.25159025e-02, -1.17356375e-01,  1.16248548e-01,\n",
       "          1.64476961e-01, -1.21009544e-01,  1.41753852e-02,\n",
       "          1.15740478e-01],\n",
       "        [ 1.80258989e-01,  1.14387572e-01, -5.69584519e-02,\n",
       "          2.24806517e-01, -6.15645200e-02,  7.50080645e-02,\n",
       "          2.59418815e-01, -9.53112990e-02, -1.11731693e-01,\n",
       "         -1.31796584e-01],\n",
       "        [ 2.68303901e-01,  1.70046031e-01, -1.92660689e-01,\n",
       "          7.30768144e-02,  1.81608766e-01,  2.10722774e-01,\n",
       "         -1.00830480e-01, -1.14116088e-01, -8.84380043e-02,\n",
       "         -1.85860455e-01],\n",
       "        [-6.37791306e-02,  1.37432784e-01, -1.02808148e-01,\n",
       "         -1.01082340e-01, -1.99313954e-01, -2.72874057e-01,\n",
       "          7.06206560e-02, -2.48573929e-01,  1.56385243e-01,\n",
       "         -1.86043680e-01],\n",
       "        [-1.05574831e-01, -1.62277550e-01, -1.76372334e-01,\n",
       "          7.49409199e-02, -4.23567295e-02,  1.28495127e-01,\n",
       "          5.82564175e-02,  9.42511261e-02, -1.02835238e-01,\n",
       "          9.21276212e-03],\n",
       "        [-1.25197694e-01,  3.54558825e-02, -1.83528990e-01,\n",
       "          1.17208511e-01, -3.11463475e-02,  2.01416016e-01,\n",
       "         -5.71070015e-02,  2.21530586e-01, -2.04781294e-02,\n",
       "          2.70458847e-01],\n",
       "        [ 1.06580138e-01, -8.89372826e-03, -7.89822042e-02,\n",
       "         -1.94005638e-01, -1.48026139e-01, -2.48702854e-01,\n",
       "         -7.82429725e-02,  2.19002813e-01, -2.78230518e-01,\n",
       "          1.23454928e-02],\n",
       "        [ 6.08525574e-02, -5.60680926e-02,  1.08090937e-01,\n",
       "          5.28525114e-02, -2.04050437e-01, -1.22269437e-01,\n",
       "          2.01540589e-01, -2.85226405e-02, -1.81919962e-01,\n",
       "          2.28045374e-01],\n",
       "        [ 2.54632622e-01, -1.98215917e-01, -1.11650020e-01,\n",
       "          1.05040193e-01, -2.34651089e-01,  2.37036556e-01,\n",
       "          5.77602983e-02,  2.10513681e-01, -1.67009085e-01,\n",
       "          2.71056026e-01],\n",
       "        [-2.14272708e-01, -1.27319098e-01,  2.32080430e-01,\n",
       "          2.47888297e-01, -3.78701538e-02,  1.16302997e-01,\n",
       "          1.22667402e-01,  2.34447986e-01,  1.22741401e-01,\n",
       "         -2.38918200e-01],\n",
       "        [ 2.26942927e-01, -2.73820043e-01, -5.57272136e-02,\n",
       "          9.58505273e-02,  4.55074012e-02, -1.56757697e-01,\n",
       "          2.22122401e-01, -1.96666360e-01,  1.21150553e-01,\n",
       "          4.17152047e-03],\n",
       "        [ 1.46175355e-01,  3.02919745e-02,  1.62933707e-01,\n",
       "         -1.72652423e-01, -6.27189726e-02, -2.14103192e-01,\n",
       "         -2.07697093e-01,  1.54513478e-01,  2.03491777e-01,\n",
       "         -6.60290420e-02],\n",
       "        [-5.73793054e-03, -1.75359368e-01, -5.80805987e-02,\n",
       "          2.83187717e-01, -2.43149176e-01,  2.30338484e-01,\n",
       "          2.14970797e-01, -2.82948345e-01, -2.82232106e-01,\n",
       "         -9.29784924e-02],\n",
       "        [-1.72320783e-01,  7.24323392e-02,  2.00906217e-01,\n",
       "         -1.55449405e-01,  2.30961829e-01,  1.61707491e-01,\n",
       "          1.43669635e-01, -1.18147433e-02,  3.25818062e-02,\n",
       "         -1.32710636e-01],\n",
       "        [ 1.79000199e-01,  2.29017586e-01, -2.74817318e-01,\n",
       "          8.37337673e-02,  1.90271676e-01, -1.74919248e-01,\n",
       "         -1.27123371e-01,  2.13914096e-01, -2.97749937e-02,\n",
       "         -3.37763727e-02],\n",
       "        [-1.02117360e-02, -1.14826962e-01, -5.52742630e-02,\n",
       "         -2.46345609e-01,  4.76898253e-02,  2.65355974e-01,\n",
       "         -2.14623079e-01, -8.21728557e-02, -5.54374009e-02,\n",
       "          1.19620800e-01],\n",
       "        [-1.12986565e-03, -2.51512438e-01, -3.30006778e-02,\n",
       "         -1.70359880e-01, -2.54385650e-01,  7.90774822e-04,\n",
       "          2.56676525e-01, -4.89768088e-02,  8.97312164e-02,\n",
       "          1.28656238e-01],\n",
       "        [-2.59083092e-01,  1.99992359e-01, -2.32471585e-01,\n",
       "          2.67585605e-01,  1.50545448e-01,  1.96137726e-02,\n",
       "         -7.53591061e-02, -7.38159269e-02,  1.00488514e-01,\n",
       "         -7.33398199e-02],\n",
       "        [-2.04846293e-01, -1.00509092e-01,  1.59025788e-01,\n",
       "          6.14690781e-02, -8.71667117e-02, -6.01246655e-02,\n",
       "         -2.83569098e-04, -1.38789564e-01, -1.16973341e-01,\n",
       "          1.86068654e-01],\n",
       "        [-2.60712355e-01, -2.52924651e-01, -2.81968683e-01,\n",
       "          2.84616143e-01,  1.41802192e-01,  1.49510592e-01,\n",
       "         -2.37568974e-01, -7.55190551e-02, -5.40927052e-03,\n",
       "         -1.81129247e-01],\n",
       "        [ 1.07303023e-01,  2.13861763e-01, -3.25689018e-02,\n",
       "          1.97530508e-01, -1.40230954e-02, -2.29955956e-01,\n",
       "          1.16917253e-01, -1.25741959e-01, -6.43783808e-03,\n",
       "          1.15806133e-01],\n",
       "        [-1.00101411e-01, -2.60266721e-01,  1.96248502e-01,\n",
       "          2.69780308e-01, -2.09451690e-01,  5.59955239e-02,\n",
       "         -1.48695260e-01, -2.62933880e-01,  2.44861871e-01,\n",
       "         -1.00662038e-01],\n",
       "        [-2.01090544e-01, -1.64213136e-01,  1.57753825e-01,\n",
       "          1.55069351e-01, -2.31401920e-02,  1.28658205e-01,\n",
       "         -2.88149714e-03,  1.76737100e-01,  8.66807699e-02,\n",
       "          5.04631102e-02],\n",
       "        [-2.72005498e-01,  2.26426750e-01,  1.32902831e-01,\n",
       "         -1.16900161e-01, -8.47398192e-02,  1.93819821e-01,\n",
       "         -1.02097422e-01, -4.51077372e-02,  1.66993529e-01,\n",
       "          1.16333753e-01],\n",
       "        [ 1.93825603e-01,  6.19427860e-02, -1.04179442e-01,\n",
       "          1.42247826e-01,  2.76652247e-01,  9.70154405e-02,\n",
       "          1.52721971e-01,  1.82114393e-01, -3.79544050e-02,\n",
       "          8.05965066e-03],\n",
       "        [ 1.05171561e-01, -2.27733135e-01, -2.78646410e-01,\n",
       "         -9.82046574e-02, -1.25012770e-01,  1.64474636e-01,\n",
       "         -1.39628336e-01, -6.13064766e-02,  1.74786389e-01,\n",
       "          8.85201395e-02],\n",
       "        [-4.13557738e-02, -2.03939974e-01,  2.54854530e-01,\n",
       "          7.64673352e-02,  1.37292534e-01,  2.35285372e-01,\n",
       "         -2.93007791e-02, -7.24677742e-02, -1.13423347e-01,\n",
       "          2.35079318e-01],\n",
       "        [-1.84769943e-01, -1.79623067e-01, -2.89508104e-02,\n",
       "          2.61608809e-01, -9.86337811e-02, -2.06720859e-01,\n",
       "         -1.53376609e-01,  2.73188740e-01, -2.34004110e-01,\n",
       "         -1.57543778e-01],\n",
       "        [ 6.96262717e-03,  3.23930085e-02,  2.10665971e-01,\n",
       "         -3.22574377e-02,  2.43882924e-01, -1.10251099e-01,\n",
       "          2.36487418e-01, -3.02230716e-02, -7.72834867e-02,\n",
       "          6.73128963e-02],\n",
       "        [-1.84666812e-01, -2.96099484e-02,  1.22829109e-01,\n",
       "         -2.46731937e-02, -1.91978753e-01,  1.53081417e-01,\n",
       "         -1.41524002e-01,  1.24951869e-01, -1.37412772e-01,\n",
       "         -2.13892192e-01],\n",
       "        [ 9.37649608e-03, -2.29184389e-01,  2.83419997e-01,\n",
       "         -2.80943155e-01, -4.47121412e-02, -9.89109278e-03,\n",
       "         -2.04969347e-02, -5.95806688e-02,  1.37461305e-01,\n",
       "         -1.87132820e-01],\n",
       "        [ 1.82919621e-01, -5.80473244e-02, -2.59477854e-01,\n",
       "          2.11347163e-01, -2.68509626e-01, -1.56352460e-01,\n",
       "         -2.24144578e-01, -2.51360774e-01,  1.99564725e-01,\n",
       "         -2.48893544e-01],\n",
       "        [-1.86358064e-01,  3.35236192e-02, -1.68360889e-01,\n",
       "         -1.71176195e-02, -1.89835757e-01,  1.03091002e-02,\n",
       "         -1.44266382e-01,  2.57208735e-01, -1.91853896e-01,\n",
       "          1.68716908e-01],\n",
       "        [-2.07424045e-01,  2.33330518e-01,  1.22802645e-01,\n",
       "          5.31836748e-02, -9.51150358e-02,  1.17562145e-01,\n",
       "         -2.62234360e-01,  1.44401550e-01, -6.53887838e-02,\n",
       "          4.92880046e-02],\n",
       "        [ 7.63192475e-02,  2.79860169e-01, -2.52693087e-01,\n",
       "          1.56605899e-01,  8.78846943e-02, -1.22166306e-01,\n",
       "         -2.03648001e-01, -2.68623799e-01, -1.63190722e-01,\n",
       "         -1.68761298e-01],\n",
       "        [ 2.67375916e-01,  7.83431828e-02,  2.79607505e-01,\n",
       "         -2.31092155e-01,  2.12459385e-01, -9.78449136e-02,\n",
       "         -1.18642330e-01, -4.90645170e-02,  1.08190745e-01,\n",
       "         -1.12222388e-01],\n",
       "        [-8.70791972e-02,  2.16384232e-02, -3.55547667e-03,\n",
       "          2.47172743e-01, -3.38169038e-02, -1.89394951e-02,\n",
       "          2.02937812e-01,  2.22391754e-01,  2.52340108e-01,\n",
       "          5.91030121e-02],\n",
       "        [-2.73575187e-02,  1.45380169e-01,  1.30041540e-02,\n",
       "          2.04088718e-01,  2.35073835e-01, -2.08858818e-01,\n",
       "          1.40388429e-01, -6.73401207e-02,  1.67383820e-01,\n",
       "          2.00897276e-01],\n",
       "        [-1.62232473e-01, -2.04434216e-01, -2.73356408e-01,\n",
       "          8.56868625e-02, -1.80078536e-01,  2.16176420e-01,\n",
       "         -1.54535070e-01, -2.00799018e-01,  1.75778657e-01,\n",
       "          1.86357468e-01],\n",
       "        [ 1.64074033e-01,  5.18921614e-02,  1.99879527e-01,\n",
       "          1.82924658e-01, -9.30562615e-03, -2.68430054e-01,\n",
       "          9.75355506e-02,  3.51574421e-02, -2.83040851e-01,\n",
       "         -1.91463202e-01],\n",
       "        [-9.33443457e-02, -2.65974432e-01, -5.94971627e-02,\n",
       "          2.45031446e-01, -1.84506059e-01, -1.03614464e-01,\n",
       "         -1.58129737e-01,  1.66240722e-01, -1.88673362e-01,\n",
       "         -1.70421600e-01],\n",
       "        [-2.43043959e-01,  1.26654387e-01, -9.53895003e-02,\n",
       "         -2.12399572e-01,  1.58419698e-01, -4.30773050e-02,\n",
       "          1.30036175e-02, -1.48602456e-01, -3.18482518e-03,\n",
       "         -2.38277197e-01],\n",
       "        [ 2.12004334e-01,  2.71610409e-01,  9.46317315e-02,\n",
       "         -2.44245186e-01,  1.41396224e-01,  2.38548547e-01,\n",
       "         -1.66784763e-01, -5.32074422e-02,  1.02440059e-01,\n",
       "          2.71474153e-01],\n",
       "        [ 2.42855638e-01,  8.11026692e-02, -2.76771367e-01,\n",
       "          2.54410207e-02, -1.14441276e-01,  1.54816270e-01,\n",
       "          1.88122094e-02, -1.33456677e-01, -1.53205872e-01,\n",
       "          1.34336025e-01],\n",
       "        [-2.51632988e-01,  2.09683210e-01,  1.87675178e-01,\n",
       "          2.14874536e-01, -2.13762447e-01,  5.78565598e-02,\n",
       "         -1.06903970e-01,  1.13959819e-01, -2.83367276e-01,\n",
       "          2.78501660e-01],\n",
       "        [ 5.92063367e-02,  1.66129172e-02, -1.11188591e-02,\n",
       "         -1.72015488e-01,  2.15668648e-01, -6.76403940e-02,\n",
       "          2.79406995e-01,  2.39246219e-01,  2.28168935e-01,\n",
       "         -2.77094066e-01],\n",
       "        [-5.17939925e-02, -2.45944306e-01,  6.91029429e-03,\n",
       "          5.41416705e-02,  9.49060619e-02,  2.54473954e-01,\n",
       "         -2.14276299e-01, -8.89633298e-02, -2.29210541e-01,\n",
       "         -1.69813171e-01]], dtype=float32)>,\n",
       " <tf.Variable 'dense_3/bias:0' shape=(10,) dtype=float32, numpy=array([0., 0., 0., 0., 0., 0., 0., 0., 0., 0.], dtype=float32)>]"
      ]
     },
     "execution_count": 3,
     "metadata": {},
     "output_type": "execute_result"
    }
   ],
   "source": [
    "model.build(input_shape=(None, 3))\n",
    "model.weights"
   ]
  },
  {
   "cell_type": "markdown",
   "metadata": {
    "colab_type": "text"
   },
   "source": [
    "**`summary` 메서드**"
   ]
  },
  {
   "cell_type": "code",
   "execution_count": 4,
   "metadata": {
    "colab_type": "code"
   },
   "outputs": [
    {
     "name": "stdout",
     "output_type": "stream",
     "text": [
      "Model: \"sequential_1\"\n",
      "_________________________________________________________________\n",
      " Layer (type)                Output Shape              Param #   \n",
      "=================================================================\n",
      " dense_2 (Dense)             (None, 64)                256       \n",
      "                                                                 \n",
      " dense_3 (Dense)             (None, 10)                650       \n",
      "                                                                 \n",
      "=================================================================\n",
      "Total params: 906\n",
      "Trainable params: 906\n",
      "Non-trainable params: 0\n",
      "_________________________________________________________________\n"
     ]
    }
   ],
   "source": [
    "model.summary()"
   ]
  },
  {
   "cell_type": "markdown",
   "metadata": {
    "colab_type": "text"
   },
   "source": [
    "**`name` 매개변수로 모델과 층에 이름 지정하기**"
   ]
  },
  {
   "cell_type": "code",
   "execution_count": 5,
   "metadata": {
    "colab_type": "code"
   },
   "outputs": [
    {
     "name": "stdout",
     "output_type": "stream",
     "text": [
      "Model: \"my_example_model\"\n",
      "_________________________________________________________________\n",
      " Layer (type)                Output Shape              Param #   \n",
      "=================================================================\n",
      " my_first_layer (Dense)      (None, 64)                256       \n",
      "                                                                 \n",
      " my_last_layer (Dense)       (None, 10)                650       \n",
      "                                                                 \n",
      "=================================================================\n",
      "Total params: 906\n",
      "Trainable params: 906\n",
      "Non-trainable params: 0\n",
      "_________________________________________________________________\n"
     ]
    }
   ],
   "source": [
    "model = keras.Sequential(name=\"my_example_model\")\n",
    "model.add(layers.Dense(64, activation=\"relu\", name=\"my_first_layer\"))\n",
    "model.add(layers.Dense(10, activation=\"softmax\", name=\"my_last_layer\"))\n",
    "model.build((None, 3))\n",
    "model.summary()"
   ]
  },
  {
   "cell_type": "markdown",
   "metadata": {
    "colab_type": "text"
   },
   "source": [
    "**모델의 입력 크기를 미리 지정하기**"
   ]
  },
  {
   "cell_type": "code",
   "execution_count": 6,
   "metadata": {
    "colab_type": "code"
   },
   "outputs": [],
   "source": [
    "model = keras.Sequential()\n",
    "model.add(keras.Input(shape=(3,)))\n",
    "model.add(layers.Dense(64, activation=\"relu\"))"
   ]
  },
  {
   "cell_type": "code",
   "execution_count": 7,
   "metadata": {
    "colab_type": "code"
   },
   "outputs": [
    {
     "name": "stdout",
     "output_type": "stream",
     "text": [
      "Model: \"sequential_2\"\n",
      "_________________________________________________________________\n",
      " Layer (type)                Output Shape              Param #   \n",
      "=================================================================\n",
      " dense_4 (Dense)             (None, 64)                256       \n",
      "                                                                 \n",
      "=================================================================\n",
      "Total params: 256\n",
      "Trainable params: 256\n",
      "Non-trainable params: 0\n",
      "_________________________________________________________________\n"
     ]
    }
   ],
   "source": [
    "model.summary()"
   ]
  },
  {
   "cell_type": "code",
   "execution_count": 8,
   "metadata": {
    "colab_type": "code"
   },
   "outputs": [
    {
     "name": "stdout",
     "output_type": "stream",
     "text": [
      "Model: \"sequential_2\"\n",
      "_________________________________________________________________\n",
      " Layer (type)                Output Shape              Param #   \n",
      "=================================================================\n",
      " dense_4 (Dense)             (None, 64)                256       \n",
      "                                                                 \n",
      " dense_5 (Dense)             (None, 10)                650       \n",
      "                                                                 \n",
      "=================================================================\n",
      "Total params: 906\n",
      "Trainable params: 906\n",
      "Non-trainable params: 0\n",
      "_________________________________________________________________\n"
     ]
    }
   ],
   "source": [
    "model.add(layers.Dense(10, activation=\"softmax\"))\n",
    "model.summary()"
   ]
  },
  {
   "cell_type": "markdown",
   "metadata": {
    "colab_type": "text"
   },
   "source": [
    "### 함수형 API"
   ]
  },
  {
   "cell_type": "markdown",
   "metadata": {
    "colab_type": "text"
   },
   "source": [
    "#### 간단한 예제"
   ]
  },
  {
   "cell_type": "markdown",
   "metadata": {
    "colab_type": "text"
   },
   "source": [
    "**두 개의 `Dense` 층을 가진 간단한 함수형 모델**"
   ]
  },
  {
   "cell_type": "code",
   "execution_count": 9,
   "metadata": {
    "colab_type": "code"
   },
   "outputs": [],
   "source": [
    "inputs = keras.Input(shape=(3,), name=\"my_input\")\n",
    "features = layers.Dense(64, activation=\"relu\")(inputs)\n",
    "outputs = layers.Dense(10, activation=\"softmax\")(features)\n",
    "model = keras.Model(inputs=inputs, outputs=outputs)"
   ]
  },
  {
   "cell_type": "code",
   "execution_count": 10,
   "metadata": {
    "colab_type": "code"
   },
   "outputs": [],
   "source": [
    "inputs = keras.Input(shape=(3,), name=\"my_input\")"
   ]
  },
  {
   "cell_type": "code",
   "execution_count": 11,
   "metadata": {
    "colab_type": "code"
   },
   "outputs": [
    {
     "data": {
      "text/plain": [
       "TensorShape([None, 3])"
      ]
     },
     "execution_count": 11,
     "metadata": {},
     "output_type": "execute_result"
    }
   ],
   "source": [
    "inputs.shape"
   ]
  },
  {
   "cell_type": "code",
   "execution_count": 12,
   "metadata": {
    "colab_type": "code"
   },
   "outputs": [
    {
     "data": {
      "text/plain": [
       "tf.float32"
      ]
     },
     "execution_count": 12,
     "metadata": {},
     "output_type": "execute_result"
    }
   ],
   "source": [
    "inputs.dtype"
   ]
  },
  {
   "cell_type": "code",
   "execution_count": 13,
   "metadata": {
    "colab_type": "code"
   },
   "outputs": [],
   "source": [
    "features = layers.Dense(64, activation=\"relu\")(inputs)"
   ]
  },
  {
   "cell_type": "code",
   "execution_count": 14,
   "metadata": {
    "colab_type": "code"
   },
   "outputs": [
    {
     "data": {
      "text/plain": [
       "TensorShape([None, 64])"
      ]
     },
     "execution_count": 14,
     "metadata": {},
     "output_type": "execute_result"
    }
   ],
   "source": [
    "features.shape"
   ]
  },
  {
   "cell_type": "code",
   "execution_count": 15,
   "metadata": {
    "colab_type": "code"
   },
   "outputs": [],
   "source": [
    "outputs = layers.Dense(10, activation=\"softmax\")(features)\n",
    "model = keras.Model(inputs=inputs, outputs=outputs)"
   ]
  },
  {
   "cell_type": "code",
   "execution_count": 16,
   "metadata": {
    "colab_type": "code"
   },
   "outputs": [
    {
     "name": "stdout",
     "output_type": "stream",
     "text": [
      "Model: \"model_1\"\n",
      "_________________________________________________________________\n",
      " Layer (type)                Output Shape              Param #   \n",
      "=================================================================\n",
      " my_input (InputLayer)       [(None, 3)]               0         \n",
      "                                                                 \n",
      " dense_8 (Dense)             (None, 64)                256       \n",
      "                                                                 \n",
      " dense_9 (Dense)             (None, 10)                650       \n",
      "                                                                 \n",
      "=================================================================\n",
      "Total params: 906\n",
      "Trainable params: 906\n",
      "Non-trainable params: 0\n",
      "_________________________________________________________________\n"
     ]
    }
   ],
   "source": [
    "model.summary()"
   ]
  },
  {
   "cell_type": "markdown",
   "metadata": {
    "colab_type": "text"
   },
   "source": [
    "#### 다중 입력, 다중 출력 모델"
   ]
  },
  {
   "cell_type": "markdown",
   "metadata": {
    "colab_type": "text"
   },
   "source": [
    "**다중 입력, 다중 출력 함수형 모델**"
   ]
  },
  {
   "cell_type": "code",
   "execution_count": 17,
   "metadata": {
    "colab_type": "code"
   },
   "outputs": [],
   "source": [
    "vocabulary_size = 10000\n",
    "num_tags = 100\n",
    "num_departments = 4\n",
    "\n",
    "title = keras.Input(shape=(vocabulary_size,), name=\"title\")\n",
    "text_body = keras.Input(shape=(vocabulary_size,), name=\"text_body\")\n",
    "tags = keras.Input(shape=(num_tags,), name=\"tags\")\n",
    "\n",
    "features = layers.Concatenate()([title, text_body, tags])\n",
    "features = layers.Dense(64, activation=\"relu\")(features)\n",
    "\n",
    "priority = layers.Dense(1, activation=\"sigmoid\", name=\"priority\")(features)\n",
    "department = layers.Dense(\n",
    "    num_departments, activation=\"softmax\", name=\"department\")(features)\n",
    "\n",
    "model = keras.Model(inputs=[title, text_body, tags], outputs=[priority, department])"
   ]
  },
  {
   "cell_type": "markdown",
   "metadata": {
    "colab_type": "text"
   },
   "source": [
    "#### 다중 입력, 다중 출력 모델 훈련하기"
   ]
  },
  {
   "cell_type": "markdown",
   "metadata": {
    "colab_type": "text"
   },
   "source": [
    "**입력과 타깃 배열 리스트를 전달하여 모델 훈련하기**"
   ]
  },
  {
   "cell_type": "code",
   "execution_count": 18,
   "metadata": {
    "colab_type": "code"
   },
   "outputs": [
    {
     "name": "stdout",
     "output_type": "stream",
     "text": [
      "40/40 [==============================] - 1s 12ms/step - loss: 28.4220 - priority_loss: 0.3340 - department_loss: 28.0879 - priority_mean_absolute_error: 0.4979 - department_accuracy: 0.2484\n",
      "40/40 [==============================] - 0s 4ms/step - loss: 27.8236 - priority_loss: 0.3378 - department_loss: 27.4858 - priority_mean_absolute_error: 0.5005 - department_accuracy: 0.1266\n",
      "40/40 [==============================] - 0s 4ms/step\n"
     ]
    }
   ],
   "source": [
    "import numpy as np\n",
    "\n",
    "num_samples = 1280\n",
    "\n",
    "title_data = np.random.randint(0, 2, size=(num_samples, vocabulary_size))\n",
    "text_body_data = np.random.randint(0, 2, size=(num_samples, vocabulary_size))\n",
    "tags_data = np.random.randint(0, 2, size=(num_samples, num_tags))\n",
    "\n",
    "priority_data = np.random.random(size=(num_samples, 1))\n",
    "department_data = np.random.randint(0, 2, size=(num_samples, num_departments))\n",
    "\n",
    "model.compile(optimizer=\"rmsprop\",\n",
    "              loss=[\"mean_squared_error\", \"categorical_crossentropy\"],\n",
    "              metrics=[[\"mean_absolute_error\"], [\"accuracy\"]])\n",
    "model.fit([title_data, text_body_data, tags_data],\n",
    "          [priority_data, department_data],\n",
    "          epochs=1)\n",
    "model.evaluate([title_data, text_body_data, tags_data],\n",
    "               [priority_data, department_data])\n",
    "priority_preds, department_preds = model.predict([title_data, text_body_data, tags_data])"
   ]
  },
  {
   "cell_type": "markdown",
   "metadata": {
    "colab_type": "text"
   },
   "source": [
    "**입력과 타깃 배열을 딕셔너리로 전달하여 모델 훈련하기**"
   ]
  },
  {
   "cell_type": "code",
   "execution_count": 19,
   "metadata": {
    "colab_type": "code"
   },
   "outputs": [
    {
     "name": "stdout",
     "output_type": "stream",
     "text": [
      "40/40 [==============================] - 1s 11ms/step - loss: 35.0567 - priority_loss: 0.3378 - department_loss: 34.7189 - priority_mean_absolute_error: 0.5005 - department_accuracy: 0.2734\n",
      "40/40 [==============================] - 0s 4ms/step - loss: 49.5274 - priority_loss: 0.3378 - department_loss: 49.1896 - priority_mean_absolute_error: 0.5005 - department_accuracy: 0.5703\n",
      "40/40 [==============================] - 0s 4ms/step\n"
     ]
    }
   ],
   "source": [
    "model.compile(optimizer=\"rmsprop\",\n",
    "              loss={\"priority\": \"mean_squared_error\", \"department\": \"categorical_crossentropy\"},\n",
    "              metrics={\"priority\": [\"mean_absolute_error\"], \"department\": [\"accuracy\"]})\n",
    "model.fit({\"title\": title_data, \"text_body\": text_body_data, \"tags\": tags_data},\n",
    "          {\"priority\": priority_data, \"department\": department_data},\n",
    "          epochs=1)\n",
    "model.evaluate({\"title\": title_data, \"text_body\": text_body_data, \"tags\": tags_data},\n",
    "               {\"priority\": priority_data, \"department\": department_data})\n",
    "priority_preds, department_preds = model.predict(\n",
    "    {\"title\": title_data, \"text_body\": text_body_data, \"tags\": tags_data})"
   ]
  },
  {
   "cell_type": "markdown",
   "metadata": {
    "colab_type": "text",
    "tags": []
   },
   "source": [
    "#### 함수형 API의 장점: 층 연결 구조 활용하기"
   ]
  },
  {
   "cell_type": "code",
   "execution_count": 20,
   "metadata": {
    "colab_type": "code"
   },
   "outputs": [
    {
     "data": {
      "image/png": "[encoded data removed]",
      "text/plain": [
       "<IPython.core.display.Image object>"
      ]
     },
     "execution_count": 20,
     "metadata": {},
     "output_type": "execute_result"
    }
   ],
   "source": [
    "keras.utils.plot_model(model, \"ticket_classifier.png\")"
   ]
  },
  {
   "cell_type": "code",
   "execution_count": 21,
   "metadata": {
    "colab_type": "code"
   },
   "outputs": [
    {
     "data": {
      "image/png": "[encoded data removed]",
      "text/plain": [
       "<IPython.core.display.Image object>"
      ]
     },
     "execution_count": 21,
     "metadata": {},
     "output_type": "execute_result"
    }
   ],
   "source": [
    "keras.utils.plot_model(model, \"ticket_classifier_with_shape_info.png\", show_shapes=True)"
   ]
  },
  {
   "cell_type": "markdown",
   "metadata": {
    "colab_type": "text"
   },
   "source": [
    "**함수형 모델에 있는 층의 입력과 출력을 출력하기**"
   ]
  },
  {
   "cell_type": "code",
   "execution_count": 22,
   "metadata": {
    "colab_type": "code"
   },
   "outputs": [
    {
     "data": {
      "text/plain": [
       "[<keras.engine.input_layer.InputLayer at 0x7fdfe279d6a0>,\n",
       " <keras.engine.input_layer.InputLayer at 0x7fdfe279d640>,\n",
       " <keras.engine.input_layer.InputLayer at 0x7fdfe279d520>,\n",
       " <keras.layers.merging.concatenate.Concatenate at 0x7fdfe279c310>,\n",
       " <keras.layers.core.dense.Dense at 0x7fdfe279ca00>,\n",
       " <keras.layers.core.dense.Dense at 0x7fdfe279c640>,\n",
       " <keras.layers.core.dense.Dense at 0x7fdfe278f7c0>]"
      ]
     },
     "execution_count": 22,
     "metadata": {},
     "output_type": "execute_result"
    }
   ],
   "source": [
    "model.layers"
   ]
  },
  {
   "cell_type": "code",
   "execution_count": 23,
   "metadata": {
    "colab_type": "code"
   },
   "outputs": [
    {
     "data": {
      "text/plain": [
       "[<KerasTensor: shape=(None, 10000) dtype=float32 (created by layer 'title')>,\n",
       " <KerasTensor: shape=(None, 10000) dtype=float32 (created by layer 'text_body')>,\n",
       " <KerasTensor: shape=(None, 100) dtype=float32 (created by layer 'tags')>]"
      ]
     },
     "execution_count": 23,
     "metadata": {},
     "output_type": "execute_result"
    }
   ],
   "source": [
    "model.layers[3].input"
   ]
  },
  {
   "cell_type": "code",
   "execution_count": 24,
   "metadata": {
    "colab_type": "code"
   },
   "outputs": [
    {
     "data": {
      "text/plain": [
       "<KerasTensor: shape=(None, 20100) dtype=float32 (created by layer 'concatenate')>"
      ]
     },
     "execution_count": 24,
     "metadata": {},
     "output_type": "execute_result"
    }
   ],
   "source": [
    "model.layers[3].output"
   ]
  },
  {
   "cell_type": "markdown",
   "metadata": {
    "colab_type": "text"
   },
   "source": [
    "**중간 층의 출력을 재사용해 새로운 모델 만들기**"
   ]
  },
  {
   "cell_type": "code",
   "execution_count": 25,
   "metadata": {
    "colab_type": "code"
   },
   "outputs": [],
   "source": [
    "features = model.layers[4].output\n",
    "difficulty = layers.Dense(3, activation=\"softmax\", name=\"difficulty\")(features)\n",
    "\n",
    "new_model = keras.Model(\n",
    "    inputs=[title, text_body, tags],\n",
    "    outputs=[priority, department, difficulty])"
   ]
  },
  {
   "cell_type": "code",
   "execution_count": 26,
   "metadata": {
    "colab_type": "code"
   },
   "outputs": [
    {
     "data": {
      "image/png": "[encoded data removed]",
      "text/plain": [
       "<IPython.core.display.Image object>"
      ]
     },
     "execution_count": 26,
     "metadata": {},
     "output_type": "execute_result"
    }
   ],
   "source": [
    "keras.utils.plot_model(new_model, \"updated_ticket_classifier.png\", show_shapes=True)"
   ]
  },
  {
   "cell_type": "markdown",
   "metadata": {
    "colab_type": "text"
   },
   "source": [
    "### Model 서브클래싱"
   ]
  },
  {
   "cell_type": "markdown",
   "metadata": {
    "colab_type": "text"
   },
   "source": [
    "#### 이전 예제를 서브클래싱 모델로 다시 만들기"
   ]
  },
  {
   "cell_type": "markdown",
   "metadata": {
    "colab_type": "text"
   },
   "source": [
    "**간단한 서브클래싱 모델**"
   ]
  },
  {
   "cell_type": "code",
   "execution_count": 27,
   "metadata": {
    "colab_type": "code"
   },
   "outputs": [],
   "source": [
    "class CustomerTicketModel(keras.Model):\n",
    "\n",
    "    def __init__(self, num_departments):\n",
    "        super().__init__()\n",
    "        self.concat_layer = layers.Concatenate()\n",
    "        self.mixing_layer = layers.Dense(64, activation=\"relu\")\n",
    "        self.priority_scorer = layers.Dense(1, activation=\"sigmoid\")\n",
    "        self.department_classifier = layers.Dense(\n",
    "            num_departments, activation=\"softmax\")\n",
    "\n",
    "    def call(self, inputs):\n",
    "        title = inputs[\"title\"]\n",
    "        text_body = inputs[\"text_body\"]\n",
    "        tags = inputs[\"tags\"]\n",
    "\n",
    "        features = self.concat_layer([title, text_body, tags])\n",
    "        features = self.mixing_layer(features)\n",
    "        priority = self.priority_scorer(features)\n",
    "        department = self.department_classifier(features)\n",
    "        return priority, department"
   ]
  },
  {
   "cell_type": "code",
   "execution_count": 28,
   "metadata": {
    "colab_type": "code"
   },
   "outputs": [],
   "source": [
    "model = CustomerTicketModel(num_departments=4)\n",
    "\n",
    "priority, department = model(\n",
    "    {\"title\": title_data, \"text_body\": text_body_data, \"tags\": tags_data})"
   ]
  },
  {
   "cell_type": "code",
   "execution_count": 29,
   "metadata": {
    "colab_type": "code"
   },
   "outputs": [
    {
     "name": "stdout",
     "output_type": "stream",
     "text": [
      "40/40 [==============================] - 1s 12ms/step - loss: 38.8235 - output_1_loss: 0.3330 - output_2_loss: 38.4905 - output_1_mean_absolute_error: 0.4971 - output_2_accuracy: 0.2305\n",
      "40/40 [==============================] - 0s 5ms/step - loss: 15.3576 - output_1_loss: 0.3378 - output_2_loss: 15.0197 - output_1_mean_absolute_error: 0.5005 - output_2_accuracy: 0.0625\n",
      "40/40 [==============================] - 0s 4ms/step\n"
     ]
    }
   ],
   "source": [
    "model.compile(optimizer=\"rmsprop\",\n",
    "              loss=[\"mean_squared_error\", \"categorical_crossentropy\"],\n",
    "              metrics=[[\"mean_absolute_error\"], [\"accuracy\"]])\n",
    "model.fit({\"title\": title_data,\n",
    "           \"text_body\": text_body_data,\n",
    "           \"tags\": tags_data},\n",
    "          [priority_data, department_data],\n",
    "          epochs=1)\n",
    "model.evaluate({\"title\": title_data,\n",
    "                \"text_body\": text_body_data,\n",
    "                \"tags\": tags_data},\n",
    "               [priority_data, department_data])\n",
    "priority_preds, department_preds = model.predict({\"title\": title_data,\n",
    "                                                  \"text_body\": text_body_data,\n",
    "                                                  \"tags\": tags_data})"
   ]
  },
  {
   "cell_type": "markdown",
   "metadata": {
    "colab_type": "text"
   },
   "source": [
    "#### 주의: 서브클래싱된 모델이 지원하지 않는 것"
   ]
  },
  {
   "cell_type": "markdown",
   "metadata": {
    "colab_type": "text"
   },
   "source": [
    "### 여러 방식을 혼합하여 사용하기"
   ]
  },
  {
   "cell_type": "markdown",
   "metadata": {
    "colab_type": "text"
   },
   "source": [
    "**서브클래싱한 모델을 포함하는 함수형 모델 만들기**"
   ]
  },
  {
   "cell_type": "code",
   "execution_count": 30,
   "metadata": {
    "colab_type": "code"
   },
   "outputs": [],
   "source": [
    "class Classifier(keras.Model):\n",
    "\n",
    "    def __init__(self, num_classes=2):\n",
    "        super().__init__()\n",
    "        if num_classes == 2:\n",
    "            num_units = 1\n",
    "            activation = \"sigmoid\"\n",
    "        else:\n",
    "            num_units = num_classes\n",
    "            activation = \"softmax\"\n",
    "        self.dense = layers.Dense(num_units, activation=activation)\n",
    "\n",
    "    def call(self, inputs):\n",
    "        return self.dense(inputs)\n",
    "\n",
    "inputs = keras.Input(shape=(3,))\n",
    "features = layers.Dense(64, activation=\"relu\")(inputs)\n",
    "outputs = Classifier(num_classes=10)(features)\n",
    "model = keras.Model(inputs=inputs, outputs=outputs)"
   ]
  },
  {
   "cell_type": "markdown",
   "metadata": {
    "colab_type": "text"
   },
   "source": [
    "**함수형 모델을 포함하는 서브클래싱 모델 만들기**"
   ]
  },
  {
   "cell_type": "code",
   "execution_count": 31,
   "metadata": {
    "colab_type": "code"
   },
   "outputs": [],
   "source": [
    "inputs = keras.Input(shape=(64,))\n",
    "outputs = layers.Dense(1, activation=\"sigmoid\")(inputs)\n",
    "binary_classifier = keras.Model(inputs=inputs, outputs=outputs)\n",
    "\n",
    "class MyModel(keras.Model):\n",
    "\n",
    "    def __init__(self, num_classes=2):\n",
    "        super().__init__()\n",
    "        self.dense = layers.Dense(64, activation=\"relu\")\n",
    "        self.classifier = binary_classifier\n",
    "\n",
    "    def call(self, inputs):\n",
    "        features = self.dense(inputs)\n",
    "        return self.classifier(features)\n",
    "\n",
    "model = MyModel()"
   ]
  },
  {
   "cell_type": "markdown",
   "metadata": {
    "colab_type": "text"
   },
   "source": [
    "### 작업에 적합한 도구 사용하기"
   ]
  },
  {
   "cell_type": "markdown",
   "metadata": {
    "colab_type": "text"
   },
   "source": [
    "## 내장된 훈련 루프와 평가 루프 사용하기"
   ]
  },
  {
   "cell_type": "markdown",
   "metadata": {
    "colab_type": "text"
   },
   "source": [
    "**표준 워크플로: `compile()`, `fit()`, `evaluate()`, `predict()`**"
   ]
  },
  {
   "cell_type": "code",
   "execution_count": 32,
   "metadata": {
    "colab_type": "code"
   },
   "outputs": [
    {
     "name": "stdout",
     "output_type": "stream",
     "text": [
      "Epoch 1/3\n",
      "1563/1563 [==============================] - 7s 4ms/step - loss: 0.2954 - accuracy: 0.9128 - val_loss: 0.1485 - val_accuracy: 0.9575\n",
      "Epoch 2/3\n",
      "1563/1563 [==============================] - 6s 4ms/step - loss: 0.1657 - accuracy: 0.9542 - val_loss: 0.1185 - val_accuracy: 0.9677\n",
      "Epoch 3/3\n",
      "1563/1563 [==============================] - 6s 4ms/step - loss: 0.1382 - accuracy: 0.9624 - val_loss: 0.1118 - val_accuracy: 0.9719\n",
      "313/313 [==============================] - 0s 1ms/step - loss: 0.1055 - accuracy: 0.9730\n",
      "313/313 [==============================] - 0s 1ms/step\n"
     ]
    }
   ],
   "source": [
    "from tensorflow.keras.datasets import mnist\n",
    "\n",
    "def get_mnist_model():\n",
    "    inputs = keras.Input(shape=(28 * 28,))\n",
    "    features = layers.Dense(512, activation=\"relu\")(inputs)\n",
    "    features = layers.Dropout(0.5)(features)\n",
    "    outputs = layers.Dense(10, activation=\"softmax\")(features)\n",
    "    model = keras.Model(inputs, outputs)\n",
    "    return model\n",
    "\n",
    "(images, labels), (test_images, test_labels) = mnist.load_data()\n",
    "images = images.reshape((60000, 28 * 28)).astype(\"float32\") / 255\n",
    "test_images = test_images.reshape((10000, 28 * 28)).astype(\"float32\") / 255\n",
    "train_images, val_images = images[10000:], images[:10000]\n",
    "train_labels, val_labels = labels[10000:], labels[:10000]\n",
    "\n",
    "model = get_mnist_model()\n",
    "model.compile(optimizer=\"rmsprop\",\n",
    "              loss=\"sparse_categorical_crossentropy\",\n",
    "              metrics=[\"accuracy\"])\n",
    "model.fit(train_images, train_labels,\n",
    "          epochs=3,\n",
    "          validation_data=(val_images, val_labels))\n",
    "test_metrics = model.evaluate(test_images, test_labels)\n",
    "predictions = model.predict(test_images)"
   ]
  },
  {
   "cell_type": "markdown",
   "metadata": {
    "colab_type": "text"
   },
   "source": [
    "### 사용자 정의 지표 만들기"
   ]
  },
  {
   "cell_type": "markdown",
   "metadata": {
    "colab_type": "text"
   },
   "source": [
    "**`Metric` 클래스를 상속하여 사용자 정의 지표 구현하기**"
   ]
  },
  {
   "cell_type": "code",
   "execution_count": 33,
   "metadata": {
    "colab_type": "code"
   },
   "outputs": [],
   "source": [
    "import tensorflow as tf\n",
    "\n",
    "class RootMeanSquaredError(keras.metrics.Metric):\n",
    "\n",
    "    def __init__(self, name=\"rmse\", **kwargs):\n",
    "        super().__init__(name=name, **kwargs)\n",
    "        self.mse_sum = self.add_weight(name=\"mse_sum\", initializer=\"zeros\")\n",
    "        self.total_samples = self.add_weight(\n",
    "            name=\"total_samples\", initializer=\"zeros\", dtype=\"int32\")\n",
    "\n",
    "    def update_state(self, y_true, y_pred, sample_weight=None):\n",
    "        y_true = tf.one_hot(y_true, depth=tf.shape(y_pred)[1])\n",
    "        mse = tf.reduce_sum(tf.square(y_true - y_pred))\n",
    "        self.mse_sum.assign_add(mse)\n",
    "        num_samples = tf.shape(y_pred)[0]\n",
    "        self.total_samples.assign_add(num_samples)\n",
    "\n",
    "    def result(self):\n",
    "        return tf.sqrt(self.mse_sum / tf.cast(self.total_samples, tf.float32))\n",
    "\n",
    "    def reset_state(self):\n",
    "        self.mse_sum.assign(0.)\n",
    "        self.total_samples.assign(0)"
   ]
  },
  {
   "cell_type": "code",
   "execution_count": 34,
   "metadata": {
    "colab_type": "code"
   },
   "outputs": [
    {
     "name": "stdout",
     "output_type": "stream",
     "text": [
      "Epoch 1/3\n",
      "1563/1563 [==============================] - 7s 4ms/step - loss: 0.2945 - accuracy: 0.9124 - rmse: 7.1831 - val_loss: 0.1671 - val_accuracy: 0.9530 - val_rmse: 7.3600\n",
      "Epoch 2/3\n",
      "1563/1563 [==============================] - 6s 4ms/step - loss: 0.1700 - accuracy: 0.9512 - rmse: 7.3494 - val_loss: 0.1198 - val_accuracy: 0.9665 - val_rmse: 7.3949\n",
      "Epoch 3/3\n",
      "1563/1563 [==============================] - 6s 4ms/step - loss: 0.1396 - accuracy: 0.9624 - rmse: 7.3866 - val_loss: 0.1106 - val_accuracy: 0.9718 - val_rmse: 7.4214\n",
      "313/313 [==============================] - 0s 2ms/step - loss: 0.1008 - accuracy: 0.9728 - rmse: 7.4336\n"
     ]
    }
   ],
   "source": [
    "model = get_mnist_model()\n",
    "model.compile(optimizer=\"rmsprop\",\n",
    "              loss=\"sparse_categorical_crossentropy\",\n",
    "              metrics=[\"accuracy\", RootMeanSquaredError()])\n",
    "model.fit(train_images, train_labels,\n",
    "          epochs=3,\n",
    "          validation_data=(val_images, val_labels))\n",
    "test_metrics = model.evaluate(test_images, test_labels)"
   ]
  },
  {
   "cell_type": "markdown",
   "metadata": {
    "colab_type": "text"
   },
   "source": [
    "### 콜백 사용하기"
   ]
  },
  {
   "cell_type": "markdown",
   "metadata": {
    "colab_type": "text"
   },
   "source": [
    "#### EarlyStopping 콜백과 ModelCheckpoint 콜백"
   ]
  },
  {
   "cell_type": "markdown",
   "metadata": {
    "colab_type": "text"
   },
   "source": [
    "**`fit()` 메서드에서 `callbacks` 매개변수 사용하기**"
   ]
  },
  {
   "cell_type": "code",
   "execution_count": 35,
   "metadata": {
    "colab_type": "code"
   },
   "outputs": [
    {
     "name": "stdout",
     "output_type": "stream",
     "text": [
      "Epoch 1/10\n",
      "1563/1563 [==============================] - 7s 4ms/step - loss: 0.2915 - accuracy: 0.9135 - val_loss: 0.1449 - val_accuracy: 0.9577\n",
      "Epoch 2/10\n",
      "1563/1563 [==============================] - 6s 4ms/step - loss: 0.1632 - accuracy: 0.9529 - val_loss: 0.1286 - val_accuracy: 0.9656\n",
      "Epoch 3/10\n",
      "1563/1563 [==============================] - 6s 4ms/step - loss: 0.1370 - accuracy: 0.9629 - val_loss: 0.1159 - val_accuracy: 0.9700\n",
      "Epoch 4/10\n",
      "1563/1563 [==============================] - 6s 4ms/step - loss: 0.1257 - accuracy: 0.9678 - val_loss: 0.1121 - val_accuracy: 0.9735\n",
      "Epoch 5/10\n",
      "1563/1563 [==============================] - 6s 4ms/step - loss: 0.1202 - accuracy: 0.9706 - val_loss: 0.1120 - val_accuracy: 0.9739\n",
      "Epoch 6/10\n",
      "1563/1563 [==============================] - 6s 4ms/step - loss: 0.1079 - accuracy: 0.9737 - val_loss: 0.1146 - val_accuracy: 0.9741\n",
      "Epoch 7/10\n",
      "1563/1563 [==============================] - 7s 4ms/step - loss: 0.1061 - accuracy: 0.9750 - val_loss: 0.1210 - val_accuracy: 0.9764\n",
      "Epoch 8/10\n",
      "1563/1563 [==============================] - 7s 4ms/step - loss: 0.1029 - accuracy: 0.9765 - val_loss: 0.1095 - val_accuracy: 0.9779\n",
      "Epoch 9/10\n",
      "1563/1563 [==============================] - 7s 4ms/step - loss: 0.0969 - accuracy: 0.9783 - val_loss: 0.1191 - val_accuracy: 0.9770\n",
      "Epoch 10/10\n",
      "1563/1563 [==============================] - 6s 4ms/step - loss: 0.0954 - accuracy: 0.9791 - val_loss: 0.1179 - val_accuracy: 0.9778\n"
     ]
    },
    {
     "data": {
      "text/plain": [
       "<keras.callbacks.History at 0x7fdfe262e130>"
      ]
     },
     "execution_count": 35,
     "metadata": {},
     "output_type": "execute_result"
    }
   ],
   "source": [
    "callbacks_list = [\n",
    "    keras.callbacks.EarlyStopping(\n",
    "        monitor=\"val_accuracy\",\n",
    "        patience=2,\n",
    "    ),\n",
    "    keras.callbacks.ModelCheckpoint(\n",
    "        filepath=\"checkpoint_path.keras\",\n",
    "        monitor=\"val_loss\",\n",
    "        save_best_only=True,\n",
    "    )\n",
    "]\n",
    "model = get_mnist_model()\n",
    "model.compile(optimizer=\"rmsprop\",\n",
    "              loss=\"sparse_categorical_crossentropy\",\n",
    "              metrics=[\"accuracy\"])\n",
    "model.fit(train_images, train_labels,\n",
    "          epochs=10,\n",
    "          callbacks=callbacks_list,\n",
    "          validation_data=(val_images, val_labels))"
   ]
  },
  {
   "cell_type": "code",
   "execution_count": 36,
   "metadata": {
    "colab_type": "code"
   },
   "outputs": [],
   "source": [
    "model = keras.models.load_model(\"checkpoint_path.keras\")"
   ]
  },
  {
   "cell_type": "markdown",
   "metadata": {
    "colab_type": "text"
   },
   "source": [
    "### 사용자 정의 콜백 만들기"
   ]
  },
  {
   "cell_type": "markdown",
   "metadata": {
    "colab_type": "text"
   },
   "source": [
    "**`Callback` 클래스를 상속하여 사용자 정의 콜백 만들기**"
   ]
  },
  {
   "cell_type": "code",
   "execution_count": 37,
   "metadata": {
    "colab_type": "code"
   },
   "outputs": [],
   "source": [
    "from matplotlib import pyplot as plt\n",
    "\n",
    "class LossHistory(keras.callbacks.Callback):\n",
    "    def on_train_begin(self, logs):\n",
    "        self.per_batch_losses = []\n",
    "\n",
    "    def on_batch_end(self, batch, logs):\n",
    "        self.per_batch_losses.append(logs.get(\"loss\"))\n",
    "\n",
    "    def on_epoch_end(self, epoch, logs):\n",
    "        plt.clf()\n",
    "        plt.plot(range(len(self.per_batch_losses)), self.per_batch_losses,\n",
    "                 label=\"Training loss for each batch\")\n",
    "        plt.xlabel(f\"Batch (epoch {epoch})\")\n",
    "        plt.ylabel(\"Loss\")\n",
    "        plt.legend()\n",
    "        plt.savefig(f\"plot_at_epoch_{epoch}\")\n",
    "        self.per_batch_losses = []"
   ]
  },
  {
   "cell_type": "code",
   "execution_count": 38,
   "metadata": {
    "colab_type": "code"
   },
   "outputs": [
    {
     "name": "stdout",
     "output_type": "stream",
     "text": [
      "Epoch 1/10\n",
      "1563/1563 [==============================] - 7s 4ms/step - loss: 0.2916 - accuracy: 0.9130 - val_loss: 0.1645 - val_accuracy: 0.9531\n",
      "Epoch 2/10\n",
      "1563/1563 [==============================] - 6s 4ms/step - loss: 0.1661 - accuracy: 0.9538 - val_loss: 0.1198 - val_accuracy: 0.9685\n",
      "Epoch 3/10\n",
      "1563/1563 [==============================] - 7s 4ms/step - loss: 0.1412 - accuracy: 0.9612 - val_loss: 0.1127 - val_accuracy: 0.9706\n",
      "Epoch 4/10\n",
      "1563/1563 [==============================] - 6s 4ms/step - loss: 0.1264 - accuracy: 0.9682 - val_loss: 0.1084 - val_accuracy: 0.9751\n",
      "Epoch 5/10\n",
      "1563/1563 [==============================] - 6s 4ms/step - loss: 0.1195 - accuracy: 0.9702 - val_loss: 0.1077 - val_accuracy: 0.9761\n",
      "Epoch 6/10\n",
      "1563/1563 [==============================] - 6s 4ms/step - loss: 0.1074 - accuracy: 0.9732 - val_loss: 0.1157 - val_accuracy: 0.9745\n",
      "Epoch 7/10\n",
      "1563/1563 [==============================] - 6s 4ms/step - loss: 0.1071 - accuracy: 0.9751 - val_loss: 0.1161 - val_accuracy: 0.9758\n",
      "Epoch 8/10\n",
      "1563/1563 [==============================] - 6s 4ms/step - loss: 0.1019 - accuracy: 0.9771 - val_loss: 0.1105 - val_accuracy: 0.9783\n",
      "Epoch 9/10\n",
      "1563/1563 [==============================] - 6s 4ms/step - loss: 0.0965 - accuracy: 0.9772 - val_loss: 0.1194 - val_accuracy: 0.9767\n",
      "Epoch 10/10\n",
      "1563/1563 [==============================] - 6s 4ms/step - loss: 0.0961 - accuracy: 0.9782 - val_loss: 0.1104 - val_accuracy: 0.9793\n"
     ]
    },
    {
     "data": {
      "text/plain": [
       "<keras.callbacks.History at 0x7fdfe0e30c70>"
      ]
     },
     "execution_count": 38,
     "metadata": {},
     "output_type": "execute_result"
    },
    {
     "data": {
      "image/png": "[encoded data removed]",
      "text/plain": [
       "<Figure size 432x288 with 1 Axes>"
      ]
     },
     "metadata": {
      "needs_background": "light"
     },
     "output_type": "display_data"
    }
   ],
   "source": [
    "model = get_mnist_model()\n",
    "model.compile(optimizer=\"rmsprop\",\n",
    "              loss=\"sparse_categorical_crossentropy\",\n",
    "              metrics=[\"accuracy\"])\n",
    "model.fit(train_images, train_labels,\n",
    "          epochs=10,\n",
    "          callbacks=[LossHistory()],\n",
    "          validation_data=(val_images, val_labels))"
   ]
  },
  {
   "cell_type": "markdown",
   "metadata": {
    "colab_type": "text"
   },
   "source": [
    "### 텐서보드를 사용한 모니터링과 시각화"
   ]
  },
  {
   "cell_type": "code",
   "execution_count": 39,
   "metadata": {
    "colab_type": "code"
   },
   "outputs": [
    {
     "name": "stdout",
     "output_type": "stream",
     "text": [
      "Epoch 1/10\n",
      "1563/1563 [==============================] - 6s 4ms/step - loss: 0.2912 - accuracy: 0.9133 - val_loss: 0.1498 - val_accuracy: 0.9567\n",
      "Epoch 2/10\n",
      "1563/1563 [==============================] - 6s 4ms/step - loss: 0.1652 - accuracy: 0.9535 - val_loss: 0.1191 - val_accuracy: 0.9689\n",
      "Epoch 3/10\n",
      "1563/1563 [==============================] - 6s 4ms/step - loss: 0.1362 - accuracy: 0.9628 - val_loss: 0.1124 - val_accuracy: 0.9702\n",
      "Epoch 4/10\n",
      "1563/1563 [==============================] - 6s 4ms/step - loss: 0.1219 - accuracy: 0.9675 - val_loss: 0.1015 - val_accuracy: 0.9749\n",
      "Epoch 5/10\n",
      "1563/1563 [==============================] - 6s 4ms/step - loss: 0.1173 - accuracy: 0.9706 - val_loss: 0.1005 - val_accuracy: 0.9768\n",
      "Epoch 6/10\n",
      "1563/1563 [==============================] - 6s 4ms/step - loss: 0.1081 - accuracy: 0.9744 - val_loss: 0.1072 - val_accuracy: 0.9768\n",
      "Epoch 7/10\n",
      "1563/1563 [==============================] - 6s 4ms/step - loss: 0.1031 - accuracy: 0.9754 - val_loss: 0.1086 - val_accuracy: 0.9777\n",
      "Epoch 8/10\n",
      "1563/1563 [==============================] - 6s 4ms/step - loss: 0.1003 - accuracy: 0.9765 - val_loss: 0.1066 - val_accuracy: 0.9796\n",
      "Epoch 9/10\n",
      "1563/1563 [==============================] - 6s 4ms/step - loss: 0.0952 - accuracy: 0.9782 - val_loss: 0.1101 - val_accuracy: 0.9773\n",
      "Epoch 10/10\n",
      "1563/1563 [==============================] - 6s 4ms/step - loss: 0.0920 - accuracy: 0.9797 - val_loss: 0.1062 - val_accuracy: 0.9799\n"
     ]
    },
    {
     "data": {
      "text/plain": [
       "<keras.callbacks.History at 0x7fdfb307d5e0>"
      ]
     },
     "execution_count": 39,
     "metadata": {},
     "output_type": "execute_result"
    }
   ],
   "source": [
    "model = get_mnist_model()\n",
    "model.compile(optimizer=\"rmsprop\",\n",
    "              loss=\"sparse_categorical_crossentropy\",\n",
    "              metrics=[\"accuracy\"])\n",
    "\n",
    "tensorboard = keras.callbacks.TensorBoard(\n",
    "    log_dir=\"./tb_logs\",\n",
    ")\n",
    "model.fit(train_images, train_labels,\n",
    "          epochs=10,\n",
    "          validation_data=(val_images, val_labels),\n",
    "          callbacks=[tensorboard])"
   ]
  },
  {
   "cell_type": "code",
   "execution_count": 40,
   "metadata": {
    "colab_type": "code"
   },
   "outputs": [],
   "source": [
    "import sys\n",
    "if 'google.colab' in sys.modules:\n",
    "    %load_ext tensorboard\n",
    "    %tensorboard --logdir /full_path_to_your_log_dir"
   ]
  },
  {
   "cell_type": "markdown",
   "metadata": {
    "colab_type": "text"
   },
   "source": [
    "## 사용자 정의 훈련, 평가 루프 만들기"
   ]
  },
  {
   "cell_type": "markdown",
   "metadata": {
    "colab_type": "text"
   },
   "source": [
    "### 훈련 vs 추론"
   ]
  },
  {
   "cell_type": "markdown",
   "metadata": {
    "colab_type": "text"
   },
   "source": [
    "### 측정 지표의 저수준 사용법"
   ]
  },
  {
   "cell_type": "code",
   "execution_count": 41,
   "metadata": {
    "colab_type": "code"
   },
   "outputs": [
    {
     "name": "stdout",
     "output_type": "stream",
     "text": [
      "결과: 1.00\n"
     ]
    }
   ],
   "source": [
    "metric = keras.metrics.SparseCategoricalAccuracy()\n",
    "targets = [0, 1, 2]\n",
    "predictions = [[1, 0, 0], [0, 1, 0], [0, 0, 1]]\n",
    "metric.update_state(targets, predictions)\n",
    "current_result = metric.result()\n",
    "print(f\"결과: {current_result:.2f}\")"
   ]
  },
  {
   "cell_type": "code",
   "execution_count": 42,
   "metadata": {
    "colab_type": "code"
   },
   "outputs": [
    {
     "name": "stdout",
     "output_type": "stream",
     "text": [
      "평균 지표: 2.00\n"
     ]
    }
   ],
   "source": [
    "values = [0, 1, 2, 3, 4]\n",
    "mean_tracker = keras.metrics.Mean()\n",
    "for value in values:\n",
    "    mean_tracker.update_state(value)\n",
    "print(f\"평균 지표: {mean_tracker.result():.2f}\")"
   ]
  },
  {
   "cell_type": "markdown",
   "metadata": {
    "colab_type": "text"
   },
   "source": [
    "### 완전한 훈련과 평가 루프"
   ]
  },
  {
   "cell_type": "markdown",
   "metadata": {
    "colab_type": "text"
   },
   "source": [
    "**단계별 훈련 루프 작성하기: 훈련 스텝 함수**"
   ]
  },
  {
   "cell_type": "code",
   "execution_count": 43,
   "metadata": {
    "colab_type": "code"
   },
   "outputs": [],
   "source": [
    "model = get_mnist_model()\n",
    "\n",
    "loss_fn = keras.losses.SparseCategoricalCrossentropy()\n",
    "optimizer = keras.optimizers.RMSprop()\n",
    "metrics = [keras.metrics.SparseCategoricalAccuracy()]\n",
    "loss_tracking_metric = keras.metrics.Mean()\n",
    "\n",
    "def train_step(inputs, targets):\n",
    "    with tf.GradientTape() as tape:\n",
    "        predictions = model(inputs, training=True)\n",
    "        loss = loss_fn(targets, predictions)\n",
    "    gradients = tape.gradient(loss, model.trainable_weights)\n",
    "    optimizer.apply_gradients(zip(gradients, model.trainable_weights))\n",
    "\n",
    "    logs = {}\n",
    "    for metric in metrics:\n",
    "        metric.update_state(targets, predictions)\n",
    "        logs[metric.name] = metric.result()\n",
    "\n",
    "    loss_tracking_metric.update_state(loss)\n",
    "    logs[\"loss\"] = loss_tracking_metric.result()\n",
    "    return logs"
   ]
  },
  {
   "cell_type": "markdown",
   "metadata": {
    "colab_type": "text"
   },
   "source": [
    "**Writing a step-by-step training loop: resetting the metrics**"
   ]
  },
  {
   "cell_type": "code",
   "execution_count": 44,
   "metadata": {
    "colab_type": "code"
   },
   "outputs": [],
   "source": [
    "def reset_metrics():\n",
    "    for metric in metrics:\n",
    "        metric.reset_state()\n",
    "    loss_tracking_metric.reset_state()"
   ]
  },
  {
   "cell_type": "markdown",
   "metadata": {
    "colab_type": "text"
   },
   "source": [
    "**단계별 훈련 루프 작성하기: 훈련 루프 자체**"
   ]
  },
  {
   "cell_type": "code",
   "execution_count": 45,
   "metadata": {
    "colab_type": "code"
   },
   "outputs": [
    {
     "name": "stdout",
     "output_type": "stream",
     "text": [
      "0번째 에포크 결과\n",
      "...sparse_categorical_accuracy: 0.9153\n",
      "...loss: 0.2894\n",
      "1번째 에포크 결과\n",
      "...sparse_categorical_accuracy: 0.9535\n",
      "...loss: 0.1683\n",
      "2번째 에포크 결과\n",
      "...sparse_categorical_accuracy: 0.9628\n",
      "...loss: 0.1408\n"
     ]
    }
   ],
   "source": [
    "training_dataset = tf.data.Dataset.from_tensor_slices((train_images, train_labels))\n",
    "training_dataset = training_dataset.batch(32)\n",
    "epochs = 3\n",
    "for epoch in range(epochs):\n",
    "    reset_metrics()\n",
    "    for inputs_batch, targets_batch in training_dataset:\n",
    "        logs = train_step(inputs_batch, targets_batch)\n",
    "    print(f\"{epoch}번째 에포크 결과\")\n",
    "    for key, value in logs.items():\n",
    "        print(f\"...{key}: {value:.4f}\")"
   ]
  },
  {
   "cell_type": "markdown",
   "metadata": {
    "colab_type": "text"
   },
   "source": [
    "**단계별 평가 루프 작성하기**"
   ]
  },
  {
   "cell_type": "code",
   "execution_count": 46,
   "metadata": {
    "colab_type": "code"
   },
   "outputs": [
    {
     "name": "stdout",
     "output_type": "stream",
     "text": [
      "평가 결과:\n",
      "...val_sparse_categorical_accuracy: 0.9659\n",
      "...val_loss: 0.1336\n"
     ]
    }
   ],
   "source": [
    "def test_step(inputs, targets):\n",
    "    predictions = model(inputs, training=False)\n",
    "    loss = loss_fn(targets, predictions)\n",
    "\n",
    "    logs = {}\n",
    "    for metric in metrics:\n",
    "        metric.update_state(targets, predictions)\n",
    "        logs[\"val_\" + metric.name] = metric.result()\n",
    "\n",
    "    loss_tracking_metric.update_state(loss)\n",
    "    logs[\"val_loss\"] = loss_tracking_metric.result()\n",
    "    return logs\n",
    "\n",
    "val_dataset = tf.data.Dataset.from_tensor_slices((val_images, val_labels))\n",
    "val_dataset = val_dataset.batch(32)\n",
    "reset_metrics()\n",
    "for inputs_batch, targets_batch in val_dataset:\n",
    "    logs = test_step(inputs_batch, targets_batch)\n",
    "print(\"평가 결과:\")\n",
    "for key, value in logs.items():\n",
    "    print(f\"...{key}: {value:.4f}\")"
   ]
  },
  {
   "cell_type": "markdown",
   "metadata": {
    "colab_type": "text"
   },
   "source": [
    "### tf.function로 성능 높이기"
   ]
  },
  {
   "cell_type": "markdown",
   "metadata": {
    "colab_type": "text"
   },
   "source": [
    "**평가 스텝 함수에 `@tf.function` 데코레이터 추가하기**"
   ]
  },
  {
   "cell_type": "code",
   "execution_count": 47,
   "metadata": {
    "colab_type": "code"
   },
   "outputs": [
    {
     "name": "stdout",
     "output_type": "stream",
     "text": [
      "평가 결과:\n",
      "...val_sparse_categorical_accuracy: 0.9659\n",
      "...val_loss: 0.1336\n"
     ]
    }
   ],
   "source": [
    "@tf.function\n",
    "def test_step(inputs, targets):\n",
    "    predictions = model(inputs, training=False)\n",
    "    loss = loss_fn(targets, predictions)\n",
    "\n",
    "    logs = {}\n",
    "    for metric in metrics:\n",
    "        metric.update_state(targets, predictions)\n",
    "        logs[\"val_\" + metric.name] = metric.result()\n",
    "\n",
    "    loss_tracking_metric.update_state(loss)\n",
    "    logs[\"val_loss\"] = loss_tracking_metric.result()\n",
    "    return logs\n",
    "\n",
    "val_dataset = tf.data.Dataset.from_tensor_slices((val_images, val_labels))\n",
    "val_dataset = val_dataset.batch(32)\n",
    "reset_metrics()\n",
    "for inputs_batch, targets_batch in val_dataset:\n",
    "    logs = test_step(inputs_batch, targets_batch)\n",
    "print(\"평가 결과:\")\n",
    "for key, value in logs.items():\n",
    "    print(f\"...{key}: {value:.4f}\")"
   ]
  },
  {
   "cell_type": "markdown",
   "metadata": {
    "colab_type": "text"
   },
   "source": [
    "### fit() 메서드를 사용자 정의 훈련 루프로 활용하기"
   ]
  },
  {
   "cell_type": "markdown",
   "metadata": {
    "colab_type": "text"
   },
   "source": [
    "**`fit()`이 사용할 사용자 정의 훈련 스텝 구현하기**"
   ]
  },
  {
   "cell_type": "code",
   "execution_count": 48,
   "metadata": {
    "colab_type": "code"
   },
   "outputs": [],
   "source": [
    "loss_fn = keras.losses.SparseCategoricalCrossentropy()\n",
    "loss_tracker = keras.metrics.Mean(name=\"loss\")\n",
    "\n",
    "class CustomModel(keras.Model):\n",
    "    def train_step(self, data):\n",
    "        inputs, targets = data\n",
    "        with tf.GradientTape() as tape:\n",
    "            predictions = self(inputs, training=True)\n",
    "            loss = loss_fn(targets, predictions)\n",
    "        gradients = tape.gradient(loss, self.trainable_weights)\n",
    "        self.optimizer.apply_gradients(zip(gradients, self.trainable_weights))\n",
    "\n",
    "        loss_tracker.update_state(loss)\n",
    "        return {\"loss\": loss_tracker.result()}\n",
    "\n",
    "    @property\n",
    "    def metrics(self):\n",
    "        return [loss_tracker]"
   ]
  },
  {
   "cell_type": "code",
   "execution_count": 49,
   "metadata": {
    "colab_type": "code"
   },
   "outputs": [
    {
     "name": "stdout",
     "output_type": "stream",
     "text": [
      "Epoch 1/3\n",
      "1563/1563 [==============================] - 6s 4ms/step - loss: 0.2934\n",
      "Epoch 2/3\n",
      "1563/1563 [==============================] - 6s 4ms/step - loss: 0.1669\n",
      "Epoch 3/3\n",
      "1563/1563 [==============================] - 5s 3ms/step - loss: 0.1415\n"
     ]
    },
    {
     "data": {
      "text/plain": [
       "<keras.callbacks.History at 0x7fdfbe4935e0>"
      ]
     },
     "execution_count": 49,
     "metadata": {},
     "output_type": "execute_result"
    }
   ],
   "source": [
    "inputs = keras.Input(shape=(28 * 28,))\n",
    "features = layers.Dense(512, activation=\"relu\")(inputs)\n",
    "features = layers.Dropout(0.5)(features)\n",
    "outputs = layers.Dense(10, activation=\"softmax\")(features)\n",
    "model = CustomModel(inputs, outputs)\n",
    "\n",
    "model.compile(optimizer=keras.optimizers.RMSprop())\n",
    "model.fit(train_images, train_labels, epochs=3)"
   ]
  },
  {
   "cell_type": "code",
   "execution_count": 50,
   "metadata": {
    "colab_type": "code"
   },
   "outputs": [],
   "source": [
    "class CustomModel(keras.Model):\n",
    "    def train_step(self, data):\n",
    "        inputs, targets = data\n",
    "        with tf.GradientTape() as tape:\n",
    "            predictions = self(inputs, training=True)\n",
    "            loss = self.compiled_loss(targets, predictions)\n",
    "        gradients = tape.gradient(loss, self.trainable_weights)\n",
    "        self.optimizer.apply_gradients(zip(gradients, self.trainable_weights))\n",
    "        self.compiled_metrics.update_state(targets, predictions)\n",
    "        return {m.name: m.result() for m in self.metrics}"
   ]
  },
  {
   "cell_type": "code",
   "execution_count": 51,
   "metadata": {
    "colab_type": "code"
   },
   "outputs": [
    {
     "name": "stdout",
     "output_type": "stream",
     "text": [
      "Epoch 1/3\n",
      "1563/1563 [==============================] - 6s 4ms/step - loss: 0.2930 - sparse_categorical_accuracy: 0.9132\n",
      "Epoch 2/3\n",
      "1563/1563 [==============================] - 6s 4ms/step - loss: 0.1643 - sparse_categorical_accuracy: 0.9545\n",
      "Epoch 3/3\n",
      "1563/1563 [==============================] - 6s 4ms/step - loss: 0.1400 - sparse_categorical_accuracy: 0.9631\n"
     ]
    },
    {
     "data": {
      "text/plain": [
       "<keras.callbacks.History at 0x7fdfbf43d400>"
      ]
     },
     "execution_count": 51,
     "metadata": {},
     "output_type": "execute_result"
    }
   ],
   "source": [
    "inputs = keras.Input(shape=(28 * 28,))\n",
    "features = layers.Dense(512, activation=\"relu\")(inputs)\n",
    "features = layers.Dropout(0.5)(features)\n",
    "outputs = layers.Dense(10, activation=\"softmax\")(features)\n",
    "model = CustomModel(inputs, outputs)\n",
    "\n",
    "model.compile(optimizer=keras.optimizers.RMSprop(),\n",
    "              loss=keras.losses.SparseCategoricalCrossentropy(),\n",
    "              metrics=[keras.metrics.SparseCategoricalAccuracy()])\n",
    "model.fit(train_images, train_labels, epochs=3)"
   ]
  },
  {
   "cell_type": "markdown",
   "metadata": {
    "colab_type": "text"
   },
   "source": [
    "## 요약"
   ]
  }
 ],
 "metadata": {
  "colab": {
   "collapsed_sections": [],
   "name": "chapter07_working-with-keras.i",
   "private_outputs": false,
   "provenance": [],
   "toc_visible": true
  },
  "kernelspec": {
   "display_name": "default:Python",
   "language": "python",
   "name": "conda-env-default-py"
  },
  "language_info": {
   "codemirror_mode": {
    "name": "ipython",
    "version": 3
   },
   "file_extension": ".py",
   "mimetype": "text/x-python",
   "name": "python",
   "nbconvert_exporter": "python",
   "pygments_lexer": "ipython3",
   "version": "3.9.10"
  }
 },
 "nbformat": 4,
 "nbformat_minor": 4
}
