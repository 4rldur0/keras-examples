{
 "cells": [
  {
   "cell_type": "markdown",
   "metadata": {
    "colab_type": "text"
   },
   "source": [
    "이 노트북은 [케라스 창시자에게 배우는 딥러닝 2판](https://tensorflow.blog/kerasdl2/)의 예제 코드를 담고 있습니다.\n",
    "\n",
    "이 노트북은 텐서플로 2.9 버전에서 테스트했습니다.\n",
    "\n",
    "<table align=\"left\"><tr><td>\n",
    "<a href=\"https://colab.research.google.com/github/rickiepark/deep-learning-with-python-2nd/blob/master/chapter02_mathematical-building-blocks.ipynb\" target=\"_parent\"><img src=\"https://colab.research.google.com/assets/colab-badge.svg\" alt=\"Open In Colab\"/></a>\n",
    "</td></tr></table>"
   ]
  },
  {
   "cell_type": "markdown",
   "metadata": {
    "colab_type": "text"
   },
   "source": [
    "# 신경망의 수학적 구성 요소"
   ]
  },
  {
   "cell_type": "markdown",
   "metadata": {
    "colab_type": "text"
   },
   "source": [
    "## 신경망과의 첫 만남"
   ]
  },
  {
   "cell_type": "markdown",
   "metadata": {
    "colab_type": "text"
   },
   "source": [
    "**케라스에서 MNIST 데이터셋 적재하기**"
   ]
  },
  {
   "cell_type": "code",
   "execution_count": 1,
   "metadata": {
    "colab_type": "code",
    "execution": {
     "iopub.execute_input": "2022-05-21T00:57:05.419691Z",
     "iopub.status.busy": "2022-05-21T00:57:05.419221Z",
     "iopub.status.idle": "2022-05-21T00:57:07.931588Z",
     "shell.execute_reply": "2022-05-21T00:57:07.930532Z"
    }
   },
   "outputs": [
    {
     "name": "stdout",
     "output_type": "stream",
     "text": [
      "Downloading data from https://storage.googleapis.com/tensorflow/tf-keras-datasets/mnist.npz\n",
      "11490434/11490434 [==============================] - 0s 0us/step\n"
     ]
    }
   ],
   "source": [
    "from tensorflow.keras.datasets import mnist\n",
    "(train_images, train_labels), (test_images, test_labels) = mnist.load_data()"
   ]
  },
  {
   "cell_type": "code",
   "execution_count": 2,
   "metadata": {
    "colab_type": "code",
    "execution": {
     "iopub.execute_input": "2022-05-21T00:57:07.936250Z",
     "iopub.status.busy": "2022-05-21T00:57:07.935565Z",
     "iopub.status.idle": "2022-05-21T00:57:07.945910Z",
     "shell.execute_reply": "2022-05-21T00:57:07.945184Z"
    }
   },
   "outputs": [
    {
     "data": {
      "text/plain": [
       "(60000, 28, 28)"
      ]
     },
     "execution_count": 2,
     "metadata": {},
     "output_type": "execute_result"
    }
   ],
   "source": [
    "train_images.shape"
   ]
  },
  {
   "cell_type": "code",
   "execution_count": 3,
   "metadata": {
    "colab_type": "code",
    "execution": {
     "iopub.execute_input": "2022-05-21T00:57:07.949595Z",
     "iopub.status.busy": "2022-05-21T00:57:07.948880Z",
     "iopub.status.idle": "2022-05-21T00:57:07.953413Z",
     "shell.execute_reply": "2022-05-21T00:57:07.952780Z"
    }
   },
   "outputs": [
    {
     "data": {
      "text/plain": [
       "60000"
      ]
     },
     "execution_count": 3,
     "metadata": {},
     "output_type": "execute_result"
    }
   ],
   "source": [
    "len(train_labels)"
   ]
  },
  {
   "cell_type": "code",
   "execution_count": 4,
   "metadata": {
    "colab_type": "code",
    "execution": {
     "iopub.execute_input": "2022-05-21T00:57:07.956620Z",
     "iopub.status.busy": "2022-05-21T00:57:07.956158Z",
     "iopub.status.idle": "2022-05-21T00:57:07.961433Z",
     "shell.execute_reply": "2022-05-21T00:57:07.960670Z"
    }
   },
   "outputs": [
    {
     "data": {
      "text/plain": [
       "array([5, 0, 4, ..., 5, 6, 8], dtype=uint8)"
      ]
     },
     "execution_count": 4,
     "metadata": {},
     "output_type": "execute_result"
    }
   ],
   "source": [
    "train_labels"
   ]
  },
  {
   "cell_type": "code",
   "execution_count": 5,
   "metadata": {
    "colab_type": "code",
    "execution": {
     "iopub.execute_input": "2022-05-21T00:57:07.964700Z",
     "iopub.status.busy": "2022-05-21T00:57:07.964447Z",
     "iopub.status.idle": "2022-05-21T00:57:07.969443Z",
     "shell.execute_reply": "2022-05-21T00:57:07.968645Z"
    }
   },
   "outputs": [
    {
     "data": {
      "text/plain": [
       "(10000, 28, 28)"
      ]
     },
     "execution_count": 5,
     "metadata": {},
     "output_type": "execute_result"
    }
   ],
   "source": [
    "test_images.shape"
   ]
  },
  {
   "cell_type": "code",
   "execution_count": 6,
   "metadata": {
    "colab_type": "code",
    "execution": {
     "iopub.execute_input": "2022-05-21T00:57:07.973895Z",
     "iopub.status.busy": "2022-05-21T00:57:07.973604Z",
     "iopub.status.idle": "2022-05-21T00:57:07.978539Z",
     "shell.execute_reply": "2022-05-21T00:57:07.977669Z"
    }
   },
   "outputs": [
    {
     "data": {
      "text/plain": [
       "10000"
      ]
     },
     "execution_count": 6,
     "metadata": {},
     "output_type": "execute_result"
    }
   ],
   "source": [
    "len(test_labels)"
   ]
  },
  {
   "cell_type": "code",
   "execution_count": 7,
   "metadata": {
    "colab_type": "code",
    "execution": {
     "iopub.execute_input": "2022-05-21T00:57:07.982841Z",
     "iopub.status.busy": "2022-05-21T00:57:07.982277Z",
     "iopub.status.idle": "2022-05-21T00:57:07.987700Z",
     "shell.execute_reply": "2022-05-21T00:57:07.986719Z"
    }
   },
   "outputs": [
    {
     "data": {
      "text/plain": [
       "array([7, 2, 1, ..., 4, 5, 6], dtype=uint8)"
      ]
     },
     "execution_count": 7,
     "metadata": {},
     "output_type": "execute_result"
    }
   ],
   "source": [
    "test_labels"
   ]
  },
  {
   "cell_type": "markdown",
   "metadata": {
    "colab_type": "text"
   },
   "source": [
    "**신경망 구조**"
   ]
  },
  {
   "cell_type": "code",
   "execution_count": 8,
   "metadata": {
    "colab_type": "code",
    "execution": {
     "iopub.execute_input": "2022-05-21T00:57:07.991164Z",
     "iopub.status.busy": "2022-05-21T00:57:07.990885Z",
     "iopub.status.idle": "2022-05-21T00:57:08.025097Z",
     "shell.execute_reply": "2022-05-21T00:57:08.023960Z"
    }
   },
   "outputs": [
    {
     "name": "stderr",
     "output_type": "stream",
     "text": [
      "2022-05-21 00:57:08.001444: I tensorflow/core/platform/cpu_feature_guard.cc:193] This TensorFlow binary is optimized with oneAPI Deep Neural Network Library (oneDNN) to use the following CPU instructions in performance-critical operations:  AVX2 FMA\n",
      "To enable them in other operations, rebuild TensorFlow with the appropriate compiler flags.\n"
     ]
    }
   ],
   "source": [
    "from tensorflow import keras\n",
    "from tensorflow.keras import layers\n",
    "model = keras.Sequential([\n",
    "    layers.Dense(512, activation=\"relu\"),\n",
    "    layers.Dense(10, activation=\"softmax\")\n",
    "])"
   ]
  },
  {
   "cell_type": "markdown",
   "metadata": {
    "colab_type": "text"
   },
   "source": [
    "**컴파일 단계**"
   ]
  },
  {
   "cell_type": "code",
   "execution_count": 9,
   "metadata": {
    "colab_type": "code",
    "execution": {
     "iopub.execute_input": "2022-05-21T00:57:08.029264Z",
     "iopub.status.busy": "2022-05-21T00:57:08.028955Z",
     "iopub.status.idle": "2022-05-21T00:57:08.043873Z",
     "shell.execute_reply": "2022-05-21T00:57:08.042917Z"
    }
   },
   "outputs": [],
   "source": [
    "model.compile(optimizer=\"rmsprop\",\n",
    "              loss=\"sparse_categorical_crossentropy\",\n",
    "              metrics=[\"accuracy\"])"
   ]
  },
  {
   "cell_type": "markdown",
   "metadata": {
    "colab_type": "text"
   },
   "source": [
    "**이미지 데이터 준비하기**"
   ]
  },
  {
   "cell_type": "code",
   "execution_count": 10,
   "metadata": {
    "colab_type": "code",
    "execution": {
     "iopub.execute_input": "2022-05-21T00:57:08.047878Z",
     "iopub.status.busy": "2022-05-21T00:57:08.047587Z",
     "iopub.status.idle": "2022-05-21T00:57:08.461821Z",
     "shell.execute_reply": "2022-05-21T00:57:08.460699Z"
    }
   },
   "outputs": [],
   "source": [
    "train_images = train_images.reshape((60000, 28 * 28))\n",
    "train_images = train_images.astype(\"float32\") / 255\n",
    "test_images = test_images.reshape((10000, 28 * 28))\n",
    "test_images = test_images.astype(\"float32\") / 255"
   ]
  },
  {
   "cell_type": "markdown",
   "metadata": {
    "colab_type": "text"
   },
   "source": [
    "**모델 훈련**"
   ]
  },
  {
   "cell_type": "code",
   "execution_count": 11,
   "metadata": {
    "colab_type": "code",
    "execution": {
     "iopub.execute_input": "2022-05-21T00:57:08.466297Z",
     "iopub.status.busy": "2022-05-21T00:57:08.465542Z",
     "iopub.status.idle": "2022-05-21T00:57:19.300649Z",
     "shell.execute_reply": "2022-05-21T00:57:19.299825Z"
    }
   },
   "outputs": [
    {
     "name": "stdout",
     "output_type": "stream",
     "text": [
      "Epoch 1/5\n",
      "469/469 [==============================] - 3s 4ms/step - loss: 0.2576 - accuracy: 0.9250\n",
      "Epoch 2/5\n",
      "469/469 [==============================] - 2s 4ms/step - loss: 0.1049 - accuracy: 0.9686\n",
      "Epoch 3/5\n",
      "469/469 [==============================] - 2s 4ms/step - loss: 0.0687 - accuracy: 0.9793\n",
      "Epoch 4/5\n",
      "469/469 [==============================] - 2s 4ms/step - loss: 0.0501 - accuracy: 0.9851\n",
      "Epoch 5/5\n",
      "469/469 [==============================] - 2s 4ms/step - loss: 0.0371 - accuracy: 0.9889\n"
     ]
    },
    {
     "data": {
      "text/plain": [
       "<keras.callbacks.History at 0x7f0abae46748>"
      ]
     },
     "execution_count": 11,
     "metadata": {},
     "output_type": "execute_result"
    }
   ],
   "source": [
    "model.fit(train_images, train_labels, epochs=5, batch_size=128)"
   ]
  },
  {
   "cell_type": "markdown",
   "metadata": {
    "colab_type": "text"
   },
   "source": [
    "**모델을 사용해 예측 만들기**"
   ]
  },
  {
   "cell_type": "code",
   "execution_count": 12,
   "metadata": {
    "colab_type": "code",
    "execution": {
     "iopub.execute_input": "2022-05-21T00:57:19.304176Z",
     "iopub.status.busy": "2022-05-21T00:57:19.303848Z",
     "iopub.status.idle": "2022-05-21T00:57:19.406311Z",
     "shell.execute_reply": "2022-05-21T00:57:19.405251Z"
    }
   },
   "outputs": [
    {
     "name": "stdout",
     "output_type": "stream",
     "text": [
      "1/1 [==============================] - 0s 65ms/step\n"
     ]
    },
    {
     "data": {
      "text/plain": [
       "array([8.5533157e-11, 1.0381556e-11, 4.6546523e-07, 6.6218540e-06,\n",
       "       1.1274758e-13, 6.9147865e-09, 2.1693866e-16, 9.9999279e-01,\n",
       "       3.4780889e-08, 1.1508043e-08], dtype=float32)"
      ]
     },
     "execution_count": 12,
     "metadata": {},
     "output_type": "execute_result"
    }
   ],
   "source": [
    "test_digits = test_images[0:10]\n",
    "predictions = model.predict(test_digits)\n",
    "predictions[0]"
   ]
  },
  {
   "cell_type": "code",
   "execution_count": 13,
   "metadata": {
    "colab_type": "code",
    "execution": {
     "iopub.execute_input": "2022-05-21T00:57:19.410311Z",
     "iopub.status.busy": "2022-05-21T00:57:19.409575Z",
     "iopub.status.idle": "2022-05-21T00:57:19.414980Z",
     "shell.execute_reply": "2022-05-21T00:57:19.414116Z"
    }
   },
   "outputs": [
    {
     "data": {
      "text/plain": [
       "7"
      ]
     },
     "execution_count": 13,
     "metadata": {},
     "output_type": "execute_result"
    }
   ],
   "source": [
    "predictions[0].argmax()"
   ]
  },
  {
   "cell_type": "code",
   "execution_count": 14,
   "metadata": {
    "colab_type": "code",
    "execution": {
     "iopub.execute_input": "2022-05-21T00:57:19.418674Z",
     "iopub.status.busy": "2022-05-21T00:57:19.418395Z",
     "iopub.status.idle": "2022-05-21T00:57:19.424303Z",
     "shell.execute_reply": "2022-05-21T00:57:19.423160Z"
    }
   },
   "outputs": [
    {
     "data": {
      "text/plain": [
       "0.9999928"
      ]
     },
     "execution_count": 14,
     "metadata": {},
     "output_type": "execute_result"
    }
   ],
   "source": [
    "predictions[0][7]"
   ]
  },
  {
   "cell_type": "code",
   "execution_count": 15,
   "metadata": {
    "colab_type": "code",
    "execution": {
     "iopub.execute_input": "2022-05-21T00:57:19.428684Z",
     "iopub.status.busy": "2022-05-21T00:57:19.428277Z",
     "iopub.status.idle": "2022-05-21T00:57:19.433154Z",
     "shell.execute_reply": "2022-05-21T00:57:19.432273Z"
    }
   },
   "outputs": [
    {
     "data": {
      "text/plain": [
       "7"
      ]
     },
     "execution_count": 15,
     "metadata": {},
     "output_type": "execute_result"
    }
   ],
   "source": [
    "test_labels[0]"
   ]
  },
  {
   "cell_type": "markdown",
   "metadata": {
    "colab_type": "text"
   },
   "source": [
    "**새로운 데이터에서 모델 평가하기**"
   ]
  },
  {
   "cell_type": "code",
   "execution_count": 16,
   "metadata": {
    "colab_type": "code",
    "execution": {
     "iopub.execute_input": "2022-05-21T00:57:19.437738Z",
     "iopub.status.busy": "2022-05-21T00:57:19.437092Z",
     "iopub.status.idle": "2022-05-21T00:57:20.109805Z",
     "shell.execute_reply": "2022-05-21T00:57:20.109057Z"
    }
   },
   "outputs": [
    {
     "name": "stdout",
     "output_type": "stream",
     "text": [
      "313/313 [==============================] - 1s 1ms/step - loss: 0.0683 - accuracy: 0.9802\n",
      "테스트 정확도: 0.9801999926567078\n"
     ]
    }
   ],
   "source": [
    "test_loss, test_acc = model.evaluate(test_images, test_labels)\n",
    "print(f\"테스트 정확도: {test_acc}\")"
   ]
  },
  {
   "cell_type": "markdown",
   "metadata": {
    "colab_type": "text"
   },
   "source": [
    "## 신경망을 위한 데이터 표현"
   ]
  },
  {
   "cell_type": "markdown",
   "metadata": {
    "colab_type": "text"
   },
   "source": [
    "### 스칼라 (랭크-0 텐서)"
   ]
  },
  {
   "cell_type": "code",
   "execution_count": 17,
   "metadata": {
    "colab_type": "code",
    "execution": {
     "iopub.execute_input": "2022-05-21T00:57:20.113826Z",
     "iopub.status.busy": "2022-05-21T00:57:20.113141Z",
     "iopub.status.idle": "2022-05-21T00:57:20.119204Z",
     "shell.execute_reply": "2022-05-21T00:57:20.118308Z"
    }
   },
   "outputs": [
    {
     "data": {
      "text/plain": [
       "array(12)"
      ]
     },
     "execution_count": 17,
     "metadata": {},
     "output_type": "execute_result"
    }
   ],
   "source": [
    "import numpy as np\n",
    "x = np.array(12)\n",
    "x"
   ]
  },
  {
   "cell_type": "code",
   "execution_count": 18,
   "metadata": {
    "colab_type": "code",
    "execution": {
     "iopub.execute_input": "2022-05-21T00:57:20.122738Z",
     "iopub.status.busy": "2022-05-21T00:57:20.122472Z",
     "iopub.status.idle": "2022-05-21T00:57:20.127154Z",
     "shell.execute_reply": "2022-05-21T00:57:20.126388Z"
    }
   },
   "outputs": [
    {
     "data": {
      "text/plain": [
       "0"
      ]
     },
     "execution_count": 18,
     "metadata": {},
     "output_type": "execute_result"
    }
   ],
   "source": [
    "x.ndim"
   ]
  },
  {
   "cell_type": "markdown",
   "metadata": {
    "colab_type": "text"
   },
   "source": [
    "### 벡터 (랭크-1 텐서)"
   ]
  },
  {
   "cell_type": "code",
   "execution_count": 19,
   "metadata": {
    "colab_type": "code",
    "execution": {
     "iopub.execute_input": "2022-05-21T00:57:20.131021Z",
     "iopub.status.busy": "2022-05-21T00:57:20.130223Z",
     "iopub.status.idle": "2022-05-21T00:57:20.135705Z",
     "shell.execute_reply": "2022-05-21T00:57:20.135002Z"
    }
   },
   "outputs": [
    {
     "data": {
      "text/plain": [
       "array([12,  3,  6, 14,  7])"
      ]
     },
     "execution_count": 19,
     "metadata": {},
     "output_type": "execute_result"
    }
   ],
   "source": [
    "x = np.array([12, 3, 6, 14, 7])\n",
    "x"
   ]
  },
  {
   "cell_type": "code",
   "execution_count": 20,
   "metadata": {
    "colab_type": "code",
    "execution": {
     "iopub.execute_input": "2022-05-21T00:57:20.139180Z",
     "iopub.status.busy": "2022-05-21T00:57:20.138695Z",
     "iopub.status.idle": "2022-05-21T00:57:20.143498Z",
     "shell.execute_reply": "2022-05-21T00:57:20.142627Z"
    }
   },
   "outputs": [
    {
     "data": {
      "text/plain": [
       "1"
      ]
     },
     "execution_count": 20,
     "metadata": {},
     "output_type": "execute_result"
    }
   ],
   "source": [
    "x.ndim"
   ]
  },
  {
   "cell_type": "markdown",
   "metadata": {
    "colab_type": "text"
   },
   "source": [
    "### 행렬 (랭크-2 텐서)"
   ]
  },
  {
   "cell_type": "code",
   "execution_count": 21,
   "metadata": {
    "colab_type": "code",
    "execution": {
     "iopub.execute_input": "2022-05-21T00:57:20.146816Z",
     "iopub.status.busy": "2022-05-21T00:57:20.146544Z",
     "iopub.status.idle": "2022-05-21T00:57:20.153035Z",
     "shell.execute_reply": "2022-05-21T00:57:20.152330Z"
    }
   },
   "outputs": [
    {
     "data": {
      "text/plain": [
       "2"
      ]
     },
     "execution_count": 21,
     "metadata": {},
     "output_type": "execute_result"
    }
   ],
   "source": [
    "x = np.array([[5, 78, 2, 34, 0],\n",
    "              [6, 79, 3, 35, 1],\n",
    "              [7, 80, 4, 36, 2]])\n",
    "x.ndim"
   ]
  },
  {
   "cell_type": "markdown",
   "metadata": {
    "colab_type": "text"
   },
   "source": [
    "### 랭크-3 텐서와 더 높은 랭크의 텐서"
   ]
  },
  {
   "cell_type": "code",
   "execution_count": 22,
   "metadata": {
    "colab_type": "code",
    "execution": {
     "iopub.execute_input": "2022-05-21T00:57:20.156415Z",
     "iopub.status.busy": "2022-05-21T00:57:20.156159Z",
     "iopub.status.idle": "2022-05-21T00:57:20.163001Z",
     "shell.execute_reply": "2022-05-21T00:57:20.162138Z"
    }
   },
   "outputs": [
    {
     "data": {
      "text/plain": [
       "3"
      ]
     },
     "execution_count": 22,
     "metadata": {},
     "output_type": "execute_result"
    }
   ],
   "source": [
    "x = np.array([[[5, 78, 2, 34, 0],\n",
    "               [6, 79, 3, 35, 1],\n",
    "               [7, 80, 4, 36, 2]],\n",
    "              [[5, 78, 2, 34, 0],\n",
    "               [6, 79, 3, 35, 1],\n",
    "               [7, 80, 4, 36, 2]],\n",
    "              [[5, 78, 2, 34, 0],\n",
    "               [6, 79, 3, 35, 1],\n",
    "               [7, 80, 4, 36, 2]]])\n",
    "x.ndim"
   ]
  },
  {
   "cell_type": "markdown",
   "metadata": {
    "colab_type": "text"
   },
   "source": [
    "### 핵심 속성"
   ]
  },
  {
   "cell_type": "code",
   "execution_count": 23,
   "metadata": {
    "colab_type": "code",
    "execution": {
     "iopub.execute_input": "2022-05-21T00:57:20.166433Z",
     "iopub.status.busy": "2022-05-21T00:57:20.166160Z",
     "iopub.status.idle": "2022-05-21T00:57:20.596456Z",
     "shell.execute_reply": "2022-05-21T00:57:20.595567Z"
    }
   },
   "outputs": [],
   "source": [
    "from tensorflow.keras.datasets import mnist\n",
    "(train_images, train_labels), (test_images, test_labels) = mnist.load_data()"
   ]
  },
  {
   "cell_type": "code",
   "execution_count": 24,
   "metadata": {
    "colab_type": "code",
    "execution": {
     "iopub.execute_input": "2022-05-21T00:57:20.600816Z",
     "iopub.status.busy": "2022-05-21T00:57:20.600517Z",
     "iopub.status.idle": "2022-05-21T00:57:20.605652Z",
     "shell.execute_reply": "2022-05-21T00:57:20.604662Z"
    }
   },
   "outputs": [
    {
     "data": {
      "text/plain": [
       "3"
      ]
     },
     "execution_count": 24,
     "metadata": {},
     "output_type": "execute_result"
    }
   ],
   "source": [
    "train_images.ndim"
   ]
  },
  {
   "cell_type": "code",
   "execution_count": 25,
   "metadata": {
    "colab_type": "code",
    "execution": {
     "iopub.execute_input": "2022-05-21T00:57:20.608889Z",
     "iopub.status.busy": "2022-05-21T00:57:20.608612Z",
     "iopub.status.idle": "2022-05-21T00:57:20.614638Z",
     "shell.execute_reply": "2022-05-21T00:57:20.613826Z"
    }
   },
   "outputs": [
    {
     "data": {
      "text/plain": [
       "(60000, 28, 28)"
      ]
     },
     "execution_count": 25,
     "metadata": {},
     "output_type": "execute_result"
    }
   ],
   "source": [
    "train_images.shape"
   ]
  },
  {
   "cell_type": "code",
   "execution_count": 26,
   "metadata": {
    "colab_type": "code",
    "execution": {
     "iopub.execute_input": "2022-05-21T00:57:20.618889Z",
     "iopub.status.busy": "2022-05-21T00:57:20.618226Z",
     "iopub.status.idle": "2022-05-21T00:57:20.625094Z",
     "shell.execute_reply": "2022-05-21T00:57:20.624338Z"
    }
   },
   "outputs": [
    {
     "data": {
      "text/plain": [
       "dtype('uint8')"
      ]
     },
     "execution_count": 26,
     "metadata": {},
     "output_type": "execute_result"
    }
   ],
   "source": [
    "train_images.dtype"
   ]
  },
  {
   "cell_type": "markdown",
   "metadata": {
    "colab_type": "text"
   },
   "source": [
    "**다섯 번째 이미지 출력하기**"
   ]
  },
  {
   "cell_type": "code",
   "execution_count": 27,
   "metadata": {
    "colab_type": "code",
    "execution": {
     "iopub.execute_input": "2022-05-21T00:57:20.628820Z",
     "iopub.status.busy": "2022-05-21T00:57:20.628306Z",
     "iopub.status.idle": "2022-05-21T00:57:21.431208Z",
     "shell.execute_reply": "2022-05-21T00:57:21.430286Z"
    }
   },
   "outputs": [
    {
     "data": {
      "image/png": "[encoded data removed]",
      "text/plain": [
       "<Figure size 432x288 with 1 Axes>"
      ]
     },
     "metadata": {
      "needs_background": "light"
     },
     "output_type": "display_data"
    }
   ],
   "source": [
    "import matplotlib.pyplot as plt\n",
    "digit = train_images[4]\n",
    "plt.imshow(digit, cmap=plt.cm.binary)\n",
    "plt.show()"
   ]
  },
  {
   "cell_type": "code",
   "execution_count": 28,
   "metadata": {
    "colab_type": "code",
    "execution": {
     "iopub.execute_input": "2022-05-21T00:57:21.435121Z",
     "iopub.status.busy": "2022-05-21T00:57:21.434503Z",
     "iopub.status.idle": "2022-05-21T00:57:21.439445Z",
     "shell.execute_reply": "2022-05-21T00:57:21.438851Z"
    }
   },
   "outputs": [
    {
     "data": {
      "text/plain": [
       "9"
      ]
     },
     "execution_count": 28,
     "metadata": {},
     "output_type": "execute_result"
    }
   ],
   "source": [
    "train_labels[4]"
   ]
  },
  {
   "cell_type": "markdown",
   "metadata": {
    "colab_type": "text"
   },
   "source": [
    "### 넘파이로 텐서 조작하기"
   ]
  },
  {
   "cell_type": "code",
   "execution_count": 29,
   "metadata": {
    "colab_type": "code",
    "execution": {
     "iopub.execute_input": "2022-05-21T00:57:21.443500Z",
     "iopub.status.busy": "2022-05-21T00:57:21.443068Z",
     "iopub.status.idle": "2022-05-21T00:57:21.447465Z",
     "shell.execute_reply": "2022-05-21T00:57:21.446885Z"
    }
   },
   "outputs": [
    {
     "data": {
      "text/plain": [
       "(90, 28, 28)"
      ]
     },
     "execution_count": 29,
     "metadata": {},
     "output_type": "execute_result"
    }
   ],
   "source": [
    "my_slice = train_images[10:100]\n",
    "my_slice.shape"
   ]
  },
  {
   "cell_type": "code",
   "execution_count": 30,
   "metadata": {
    "colab_type": "code",
    "execution": {
     "iopub.execute_input": "2022-05-21T00:57:21.450776Z",
     "iopub.status.busy": "2022-05-21T00:57:21.450356Z",
     "iopub.status.idle": "2022-05-21T00:57:21.454814Z",
     "shell.execute_reply": "2022-05-21T00:57:21.454187Z"
    }
   },
   "outputs": [
    {
     "data": {
      "text/plain": [
       "(90, 28, 28)"
      ]
     },
     "execution_count": 30,
     "metadata": {},
     "output_type": "execute_result"
    }
   ],
   "source": [
    "my_slice = train_images[10:100, :, :]\n",
    "my_slice.shape"
   ]
  },
  {
   "cell_type": "code",
   "execution_count": 31,
   "metadata": {
    "colab_type": "code",
    "execution": {
     "iopub.execute_input": "2022-05-21T00:57:21.458290Z",
     "iopub.status.busy": "2022-05-21T00:57:21.457804Z",
     "iopub.status.idle": "2022-05-21T00:57:21.462673Z",
     "shell.execute_reply": "2022-05-21T00:57:21.461775Z"
    }
   },
   "outputs": [
    {
     "data": {
      "text/plain": [
       "(90, 28, 28)"
      ]
     },
     "execution_count": 31,
     "metadata": {},
     "output_type": "execute_result"
    }
   ],
   "source": [
    "my_slice = train_images[10:100, 0:28, 0:28]\n",
    "my_slice.shape"
   ]
  },
  {
   "cell_type": "code",
   "execution_count": 32,
   "metadata": {
    "colab_type": "code",
    "execution": {
     "iopub.execute_input": "2022-05-21T00:57:21.465976Z",
     "iopub.status.busy": "2022-05-21T00:57:21.465505Z",
     "iopub.status.idle": "2022-05-21T00:57:21.469168Z",
     "shell.execute_reply": "2022-05-21T00:57:21.468362Z"
    }
   },
   "outputs": [],
   "source": [
    "my_slice = train_images[:, 14:, 14:]"
   ]
  },
  {
   "cell_type": "code",
   "execution_count": 33,
   "metadata": {
    "colab_type": "code",
    "execution": {
     "iopub.execute_input": "2022-05-21T00:57:21.472711Z",
     "iopub.status.busy": "2022-05-21T00:57:21.472282Z",
     "iopub.status.idle": "2022-05-21T00:57:21.476345Z",
     "shell.execute_reply": "2022-05-21T00:57:21.475454Z"
    }
   },
   "outputs": [],
   "source": [
    "my_slice = train_images[:, 7:-7, 7:-7]"
   ]
  },
  {
   "cell_type": "markdown",
   "metadata": {
    "colab_type": "text"
   },
   "source": [
    "### 배치 데이터"
   ]
  },
  {
   "cell_type": "code",
   "execution_count": 34,
   "metadata": {
    "colab_type": "code",
    "execution": {
     "iopub.execute_input": "2022-05-21T00:57:21.479963Z",
     "iopub.status.busy": "2022-05-21T00:57:21.479396Z",
     "iopub.status.idle": "2022-05-21T00:57:21.482994Z",
     "shell.execute_reply": "2022-05-21T00:57:21.482245Z"
    }
   },
   "outputs": [],
   "source": [
    "batch = train_images[:128]"
   ]
  },
  {
   "cell_type": "code",
   "execution_count": 35,
   "metadata": {
    "colab_type": "code",
    "execution": {
     "iopub.execute_input": "2022-05-21T00:57:21.486283Z",
     "iopub.status.busy": "2022-05-21T00:57:21.485817Z",
     "iopub.status.idle": "2022-05-21T00:57:21.489326Z",
     "shell.execute_reply": "2022-05-21T00:57:21.488653Z"
    }
   },
   "outputs": [],
   "source": [
    "batch = train_images[128:256]"
   ]
  },
  {
   "cell_type": "code",
   "execution_count": 36,
   "metadata": {
    "colab_type": "code",
    "execution": {
     "iopub.execute_input": "2022-05-21T00:57:21.492485Z",
     "iopub.status.busy": "2022-05-21T00:57:21.491982Z",
     "iopub.status.idle": "2022-05-21T00:57:21.495891Z",
     "shell.execute_reply": "2022-05-21T00:57:21.495127Z"
    }
   },
   "outputs": [],
   "source": [
    "n = 3\n",
    "batch = train_images[128 * n:128 * (n + 1)]"
   ]
  },
  {
   "cell_type": "markdown",
   "metadata": {
    "colab_type": "text"
   },
   "source": [
    "### 텐서의 실제 사례"
   ]
  },
  {
   "cell_type": "markdown",
   "metadata": {
    "colab_type": "text"
   },
   "source": [
    "### 벡터 데이터"
   ]
  },
  {
   "cell_type": "markdown",
   "metadata": {
    "colab_type": "text"
   },
   "source": [
    "### 시계열 데이터 또는 시퀀스 데이터"
   ]
  },
  {
   "cell_type": "markdown",
   "metadata": {
    "colab_type": "text"
   },
   "source": [
    "### 이미지 데이터"
   ]
  },
  {
   "cell_type": "markdown",
   "metadata": {
    "colab_type": "text"
   },
   "source": [
    "### 비디오 데이터"
   ]
  },
  {
   "cell_type": "markdown",
   "metadata": {
    "colab_type": "text"
   },
   "source": [
    "## 신경망의 톱니바퀴: 텐서 연산"
   ]
  },
  {
   "cell_type": "markdown",
   "metadata": {
    "colab_type": "text"
   },
   "source": [
    "### 원소별 연산"
   ]
  },
  {
   "cell_type": "code",
   "execution_count": 37,
   "metadata": {
    "colab_type": "code",
    "execution": {
     "iopub.execute_input": "2022-05-21T00:57:21.499755Z",
     "iopub.status.busy": "2022-05-21T00:57:21.499215Z",
     "iopub.status.idle": "2022-05-21T00:57:21.503803Z",
     "shell.execute_reply": "2022-05-21T00:57:21.502971Z"
    }
   },
   "outputs": [],
   "source": [
    "def naive_relu(x):\n",
    "    assert len(x.shape) == 2\n",
    "    x = x.copy()\n",
    "    for i in range(x.shape[0]):\n",
    "        for j in range(x.shape[1]):\n",
    "            x[i, j] = max(x[i, j], 0)\n",
    "    return x"
   ]
  },
  {
   "cell_type": "code",
   "execution_count": 38,
   "metadata": {
    "colab_type": "code",
    "execution": {
     "iopub.execute_input": "2022-05-21T00:57:21.507340Z",
     "iopub.status.busy": "2022-05-21T00:57:21.506666Z",
     "iopub.status.idle": "2022-05-21T00:57:21.511473Z",
     "shell.execute_reply": "2022-05-21T00:57:21.510630Z"
    }
   },
   "outputs": [],
   "source": [
    "def naive_add(x, y):\n",
    "    assert len(x.shape) == 2\n",
    "    assert x.shape == y.shape\n",
    "    x = x.copy()\n",
    "    for i in range(x.shape[0]):\n",
    "        for j in range(x.shape[1]):\n",
    "            x[i, j] += y[i, j]\n",
    "    return x"
   ]
  },
  {
   "cell_type": "code",
   "execution_count": 39,
   "metadata": {
    "colab_type": "code",
    "execution": {
     "iopub.execute_input": "2022-05-21T00:57:21.514953Z",
     "iopub.status.busy": "2022-05-21T00:57:21.514566Z",
     "iopub.status.idle": "2022-05-21T00:57:21.524287Z",
     "shell.execute_reply": "2022-05-21T00:57:21.523672Z"
    }
   },
   "outputs": [
    {
     "name": "stdout",
     "output_type": "stream",
     "text": [
      "걸린 시간: 0.00 s\n"
     ]
    }
   ],
   "source": [
    "import time\n",
    "\n",
    "x = np.random.random((20, 100))\n",
    "y = np.random.random((20, 100))\n",
    "\n",
    "t0 = time.time()\n",
    "for _ in range(1000):\n",
    "    z = x + y\n",
    "    z = np.maximum(z, 0.)\n",
    "print(\"걸린 시간: {0:.2f} s\".format(time.time() - t0))"
   ]
  },
  {
   "cell_type": "code",
   "execution_count": 40,
   "metadata": {
    "colab_type": "code",
    "execution": {
     "iopub.execute_input": "2022-05-21T00:57:21.527704Z",
     "iopub.status.busy": "2022-05-21T00:57:21.527269Z",
     "iopub.status.idle": "2022-05-21T00:57:23.525600Z",
     "shell.execute_reply": "2022-05-21T00:57:23.524629Z"
    }
   },
   "outputs": [
    {
     "name": "stdout",
     "output_type": "stream",
     "text": [
      "걸린 시간: 1.99 s\n"
     ]
    }
   ],
   "source": [
    "t0 = time.time()\n",
    "for _ in range(1000):\n",
    "    z = naive_add(x, y)\n",
    "    z = naive_relu(z)\n",
    "print(\"걸린 시간: {0:.2f} s\".format(time.time() - t0))"
   ]
  },
  {
   "cell_type": "markdown",
   "metadata": {
    "colab_type": "text"
   },
   "source": [
    "### 브로드캐스팅"
   ]
  },
  {
   "cell_type": "code",
   "execution_count": 41,
   "metadata": {
    "colab_type": "code",
    "execution": {
     "iopub.execute_input": "2022-05-21T00:57:23.529492Z",
     "iopub.status.busy": "2022-05-21T00:57:23.529207Z",
     "iopub.status.idle": "2022-05-21T00:57:23.533586Z",
     "shell.execute_reply": "2022-05-21T00:57:23.532638Z"
    }
   },
   "outputs": [],
   "source": [
    "import numpy as np\n",
    "X = np.random.random((32, 10))\n",
    "y = np.random.random((10,))"
   ]
  },
  {
   "cell_type": "code",
   "execution_count": 42,
   "metadata": {
    "colab_type": "code",
    "execution": {
     "iopub.execute_input": "2022-05-21T00:57:23.536953Z",
     "iopub.status.busy": "2022-05-21T00:57:23.536681Z",
     "iopub.status.idle": "2022-05-21T00:57:23.541762Z",
     "shell.execute_reply": "2022-05-21T00:57:23.540974Z"
    }
   },
   "outputs": [],
   "source": [
    "y = np.expand_dims(y, axis=0)"
   ]
  },
  {
   "cell_type": "code",
   "execution_count": 43,
   "metadata": {
    "colab_type": "code",
    "execution": {
     "iopub.execute_input": "2022-05-21T00:57:23.545374Z",
     "iopub.status.busy": "2022-05-21T00:57:23.545120Z",
     "iopub.status.idle": "2022-05-21T00:57:23.549140Z",
     "shell.execute_reply": "2022-05-21T00:57:23.548341Z"
    }
   },
   "outputs": [],
   "source": [
    "Y = np.concatenate([y] * 32, axis=0)"
   ]
  },
  {
   "cell_type": "code",
   "execution_count": 44,
   "metadata": {
    "colab_type": "code",
    "execution": {
     "iopub.execute_input": "2022-05-21T00:57:23.552981Z",
     "iopub.status.busy": "2022-05-21T00:57:23.552734Z",
     "iopub.status.idle": "2022-05-21T00:57:23.557779Z",
     "shell.execute_reply": "2022-05-21T00:57:23.557013Z"
    }
   },
   "outputs": [],
   "source": [
    "def naive_add_matrix_and_vector(x, y):\n",
    "    assert len(x.shape) == 2\n",
    "    assert len(y.shape) == 1\n",
    "    assert x.shape[1] == y.shape[0]\n",
    "    x = x.copy()\n",
    "    for i in range(x.shape[0]):\n",
    "        for j in range(x.shape[1]):\n",
    "            x[i, j] += y[j]\n",
    "    return x"
   ]
  },
  {
   "cell_type": "code",
   "execution_count": 45,
   "metadata": {
    "colab_type": "code",
    "execution": {
     "iopub.execute_input": "2022-05-21T00:57:23.561664Z",
     "iopub.status.busy": "2022-05-21T00:57:23.561412Z",
     "iopub.status.idle": "2022-05-21T00:57:23.566195Z",
     "shell.execute_reply": "2022-05-21T00:57:23.565424Z"
    }
   },
   "outputs": [],
   "source": [
    "import numpy as np\n",
    "x = np.random.random((64, 3, 32, 10))\n",
    "y = np.random.random((32, 10))\n",
    "z = np.maximum(x, y)"
   ]
  },
  {
   "cell_type": "markdown",
   "metadata": {
    "colab_type": "text"
   },
   "source": [
    "### 텐서 곱셈"
   ]
  },
  {
   "cell_type": "code",
   "execution_count": 46,
   "metadata": {
    "colab_type": "code",
    "execution": {
     "iopub.execute_input": "2022-05-21T00:57:23.570018Z",
     "iopub.status.busy": "2022-05-21T00:57:23.569765Z",
     "iopub.status.idle": "2022-05-21T00:57:23.574104Z",
     "shell.execute_reply": "2022-05-21T00:57:23.573257Z"
    }
   },
   "outputs": [],
   "source": [
    "x = np.random.random((32,))\n",
    "y = np.random.random((32,))\n",
    "z = np.dot(x, y)"
   ]
  },
  {
   "cell_type": "code",
   "execution_count": 47,
   "metadata": {
    "colab_type": "code",
    "execution": {
     "iopub.execute_input": "2022-05-21T00:57:23.578149Z",
     "iopub.status.busy": "2022-05-21T00:57:23.577898Z",
     "iopub.status.idle": "2022-05-21T00:57:23.582594Z",
     "shell.execute_reply": "2022-05-21T00:57:23.581768Z"
    }
   },
   "outputs": [],
   "source": [
    "def naive_vector_dot(x, y):\n",
    "    assert len(x.shape) == 1\n",
    "    assert len(y.shape) == 1\n",
    "    assert x.shape[0] == y.shape[0]\n",
    "    z = 0.\n",
    "    for i in range(x.shape[0]):\n",
    "        z += x[i] * y[i]\n",
    "    return z"
   ]
  },
  {
   "cell_type": "code",
   "execution_count": 48,
   "metadata": {
    "colab_type": "code",
    "execution": {
     "iopub.execute_input": "2022-05-21T00:57:23.586856Z",
     "iopub.status.busy": "2022-05-21T00:57:23.586576Z",
     "iopub.status.idle": "2022-05-21T00:57:23.592373Z",
     "shell.execute_reply": "2022-05-21T00:57:23.591083Z"
    }
   },
   "outputs": [],
   "source": [
    "def naive_matrix_vector_dot(x, y):\n",
    "    assert len(x.shape) == 2\n",
    "    assert len(y.shape) == 1\n",
    "    assert x.shape[1] == y.shape[0]\n",
    "    z = np.zeros(x.shape[0])\n",
    "    for i in range(x.shape[0]):\n",
    "        for j in range(x.shape[1]):\n",
    "            z[i] += x[i, j] * y[j]\n",
    "    return z"
   ]
  },
  {
   "cell_type": "code",
   "execution_count": 49,
   "metadata": {
    "colab_type": "code",
    "execution": {
     "iopub.execute_input": "2022-05-21T00:57:23.595861Z",
     "iopub.status.busy": "2022-05-21T00:57:23.595594Z",
     "iopub.status.idle": "2022-05-21T00:57:23.599907Z",
     "shell.execute_reply": "2022-05-21T00:57:23.599230Z"
    }
   },
   "outputs": [],
   "source": [
    "def naive_matrix_vector_dot(x, y):\n",
    "    z = np.zeros(x.shape[0])\n",
    "    for i in range(x.shape[0]):\n",
    "        z[i] = naive_vector_dot(x[i, :], y)\n",
    "    return z"
   ]
  },
  {
   "cell_type": "code",
   "execution_count": 50,
   "metadata": {
    "colab_type": "code",
    "execution": {
     "iopub.execute_input": "2022-05-21T00:57:23.604217Z",
     "iopub.status.busy": "2022-05-21T00:57:23.603640Z",
     "iopub.status.idle": "2022-05-21T00:57:23.609035Z",
     "shell.execute_reply": "2022-05-21T00:57:23.608386Z"
    }
   },
   "outputs": [],
   "source": [
    "def naive_matrix_dot(x, y):\n",
    "    assert len(x.shape) == 2\n",
    "    assert len(y.shape) == 2\n",
    "    assert x.shape[1] == y.shape[0]\n",
    "    z = np.zeros((x.shape[0], y.shape[1]))\n",
    "    for i in range(x.shape[0]):\n",
    "        for j in range(y.shape[1]):\n",
    "            row_x = x[i, :]\n",
    "            column_y = y[:, j]\n",
    "            z[i, j] = naive_vector_dot(row_x, column_y)\n",
    "    return z"
   ]
  },
  {
   "cell_type": "markdown",
   "metadata": {
    "colab_type": "text"
   },
   "source": [
    "### 텐서 크기 변환"
   ]
  },
  {
   "cell_type": "code",
   "execution_count": 51,
   "metadata": {
    "colab_type": "code",
    "execution": {
     "iopub.execute_input": "2022-05-21T00:57:23.612816Z",
     "iopub.status.busy": "2022-05-21T00:57:23.612353Z",
     "iopub.status.idle": "2022-05-21T00:57:23.615796Z",
     "shell.execute_reply": "2022-05-21T00:57:23.615179Z"
    }
   },
   "outputs": [],
   "source": [
    "train_images = train_images.reshape((60000, 28 * 28))"
   ]
  },
  {
   "cell_type": "code",
   "execution_count": 52,
   "metadata": {
    "colab_type": "code",
    "execution": {
     "iopub.execute_input": "2022-05-21T00:57:23.620077Z",
     "iopub.status.busy": "2022-05-21T00:57:23.619555Z",
     "iopub.status.idle": "2022-05-21T00:57:23.625554Z",
     "shell.execute_reply": "2022-05-21T00:57:23.624598Z"
    }
   },
   "outputs": [
    {
     "data": {
      "text/plain": [
       "(3, 2)"
      ]
     },
     "execution_count": 52,
     "metadata": {},
     "output_type": "execute_result"
    }
   ],
   "source": [
    "x = np.array([[0., 1.],\n",
    "             [2., 3.],\n",
    "             [4., 5.]])\n",
    "x.shape"
   ]
  },
  {
   "cell_type": "code",
   "execution_count": 53,
   "metadata": {
    "colab_type": "code",
    "execution": {
     "iopub.execute_input": "2022-05-21T00:57:23.629139Z",
     "iopub.status.busy": "2022-05-21T00:57:23.628859Z",
     "iopub.status.idle": "2022-05-21T00:57:23.634545Z",
     "shell.execute_reply": "2022-05-21T00:57:23.633514Z"
    }
   },
   "outputs": [
    {
     "data": {
      "text/plain": [
       "array([[0.],\n",
       "       [1.],\n",
       "       [2.],\n",
       "       [3.],\n",
       "       [4.],\n",
       "       [5.]])"
      ]
     },
     "execution_count": 53,
     "metadata": {},
     "output_type": "execute_result"
    }
   ],
   "source": [
    "x = x.reshape((6, 1))\n",
    "x"
   ]
  },
  {
   "cell_type": "code",
   "execution_count": 54,
   "metadata": {
    "colab_type": "code",
    "execution": {
     "iopub.execute_input": "2022-05-21T00:57:23.639766Z",
     "iopub.status.busy": "2022-05-21T00:57:23.639078Z",
     "iopub.status.idle": "2022-05-21T00:57:23.644899Z",
     "shell.execute_reply": "2022-05-21T00:57:23.644035Z"
    }
   },
   "outputs": [
    {
     "data": {
      "text/plain": [
       "(20, 300)"
      ]
     },
     "execution_count": 54,
     "metadata": {},
     "output_type": "execute_result"
    }
   ],
   "source": [
    "x = np.zeros((300, 20))\n",
    "x = np.transpose(x)\n",
    "x.shape"
   ]
  },
  {
   "cell_type": "markdown",
   "metadata": {
    "colab_type": "text"
   },
   "source": [
    "### 텐서 연산의 기하학적 해석"
   ]
  },
  {
   "cell_type": "markdown",
   "metadata": {
    "colab_type": "text"
   },
   "source": [
    "### 딥러닝의 기하학적 해석"
   ]
  },
  {
   "cell_type": "markdown",
   "metadata": {
    "colab_type": "text"
   },
   "source": [
    "## 신경망의 엔진: 그레이디언트 기반 최적화"
   ]
  },
  {
   "cell_type": "markdown",
   "metadata": {
    "colab_type": "text"
   },
   "source": [
    "### 도함수란?"
   ]
  },
  {
   "cell_type": "markdown",
   "metadata": {
    "colab_type": "text"
   },
   "source": [
    "### 텐서 연산의 도함수: 그레이디언트"
   ]
  },
  {
   "cell_type": "markdown",
   "metadata": {
    "colab_type": "text"
   },
   "source": [
    "### 확률적 경사 하강법"
   ]
  },
  {
   "cell_type": "markdown",
   "metadata": {
    "colab_type": "text"
   },
   "source": [
    "### 도함수 연결: 역전파 알고리즘"
   ]
  },
  {
   "cell_type": "markdown",
   "metadata": {
    "colab_type": "text"
   },
   "source": [
    "#### 연쇄 법칙"
   ]
  },
  {
   "cell_type": "markdown",
   "metadata": {
    "colab_type": "text"
   },
   "source": [
    "#### 계산 그래프를 활용한 자동 미분"
   ]
  },
  {
   "cell_type": "markdown",
   "metadata": {
    "colab_type": "text"
   },
   "source": [
    "#### 텐서플로의 그레이디언트 테이프"
   ]
  },
  {
   "cell_type": "code",
   "execution_count": 55,
   "metadata": {
    "colab_type": "code",
    "execution": {
     "iopub.execute_input": "2022-05-21T00:57:23.649769Z",
     "iopub.status.busy": "2022-05-21T00:57:23.649237Z",
     "iopub.status.idle": "2022-05-21T00:57:23.656183Z",
     "shell.execute_reply": "2022-05-21T00:57:23.655436Z"
    }
   },
   "outputs": [],
   "source": [
    "import tensorflow as tf\n",
    "x = tf.Variable(0.)\n",
    "with tf.GradientTape() as tape:\n",
    "    y = 2 * x + 3\n",
    "grad_of_y_wrt_x = tape.gradient(y, x)"
   ]
  },
  {
   "cell_type": "code",
   "execution_count": 56,
   "metadata": {
    "colab_type": "code",
    "execution": {
     "iopub.execute_input": "2022-05-21T00:57:23.659954Z",
     "iopub.status.busy": "2022-05-21T00:57:23.659320Z",
     "iopub.status.idle": "2022-05-21T00:57:23.665978Z",
     "shell.execute_reply": "2022-05-21T00:57:23.665192Z"
    }
   },
   "outputs": [],
   "source": [
    "x = tf.Variable(tf.zeros((2, 2)))\n",
    "with tf.GradientTape() as tape:\n",
    "    y = 2 * x + 3\n",
    "grad_of_y_wrt_x = tape.gradient(y, x)"
   ]
  },
  {
   "cell_type": "code",
   "execution_count": 57,
   "metadata": {
    "colab_type": "code",
    "execution": {
     "iopub.execute_input": "2022-05-21T00:57:23.669642Z",
     "iopub.status.busy": "2022-05-21T00:57:23.669139Z",
     "iopub.status.idle": "2022-05-21T00:57:23.677360Z",
     "shell.execute_reply": "2022-05-21T00:57:23.676599Z"
    }
   },
   "outputs": [],
   "source": [
    "W = tf.Variable(tf.random.uniform((2, 2)))\n",
    "b = tf.Variable(tf.zeros((2,)))\n",
    "x = tf.random.uniform((2, 2))\n",
    "with tf.GradientTape() as tape:\n",
    "    y = tf.matmul(x, W) + b\n",
    "grad_of_y_wrt_W_and_b = tape.gradient(y, [W, b])"
   ]
  },
  {
   "cell_type": "markdown",
   "metadata": {
    "colab_type": "text"
   },
   "source": [
    "## 첫 번째 예제 다시 살펴보기"
   ]
  },
  {
   "cell_type": "code",
   "execution_count": 58,
   "metadata": {
    "colab_type": "code",
    "execution": {
     "iopub.execute_input": "2022-05-21T00:57:23.681093Z",
     "iopub.status.busy": "2022-05-21T00:57:23.680602Z",
     "iopub.status.idle": "2022-05-21T00:57:24.079600Z",
     "shell.execute_reply": "2022-05-21T00:57:24.078307Z"
    }
   },
   "outputs": [],
   "source": [
    "(train_images, train_labels), (test_images, test_labels) = mnist.load_data()\n",
    "train_images = train_images.reshape((60000, 28 * 28))\n",
    "train_images = train_images.astype(\"float32\") / 255\n",
    "test_images = test_images.reshape((10000, 28 * 28))\n",
    "test_images = test_images.astype(\"float32\") / 255"
   ]
  },
  {
   "cell_type": "code",
   "execution_count": 59,
   "metadata": {
    "colab_type": "code",
    "execution": {
     "iopub.execute_input": "2022-05-21T00:57:24.084071Z",
     "iopub.status.busy": "2022-05-21T00:57:24.083440Z",
     "iopub.status.idle": "2022-05-21T00:57:24.092511Z",
     "shell.execute_reply": "2022-05-21T00:57:24.091627Z"
    }
   },
   "outputs": [],
   "source": [
    "model = keras.Sequential([\n",
    "    layers.Dense(512, activation=\"relu\"),\n",
    "    layers.Dense(10, activation=\"softmax\")\n",
    "])"
   ]
  },
  {
   "cell_type": "code",
   "execution_count": 60,
   "metadata": {
    "colab_type": "code",
    "execution": {
     "iopub.execute_input": "2022-05-21T00:57:24.096195Z",
     "iopub.status.busy": "2022-05-21T00:57:24.095736Z",
     "iopub.status.idle": "2022-05-21T00:57:24.104256Z",
     "shell.execute_reply": "2022-05-21T00:57:24.103588Z"
    }
   },
   "outputs": [],
   "source": [
    "model.compile(optimizer=\"rmsprop\",\n",
    "              loss=\"sparse_categorical_crossentropy\",\n",
    "              metrics=[\"accuracy\"])"
   ]
  },
  {
   "cell_type": "code",
   "execution_count": 61,
   "metadata": {
    "colab_type": "code",
    "execution": {
     "iopub.execute_input": "2022-05-21T00:57:24.107793Z",
     "iopub.status.busy": "2022-05-21T00:57:24.107143Z",
     "iopub.status.idle": "2022-05-21T00:57:34.534710Z",
     "shell.execute_reply": "2022-05-21T00:57:34.533527Z"
    }
   },
   "outputs": [
    {
     "name": "stdout",
     "output_type": "stream",
     "text": [
      "Epoch 1/5\n",
      "469/469 [==============================] - 2s 4ms/step - loss: 0.2538 - accuracy: 0.9266\n",
      "Epoch 2/5\n",
      "469/469 [==============================] - 2s 4ms/step - loss: 0.1010 - accuracy: 0.9698\n",
      "Epoch 3/5\n",
      "469/469 [==============================] - 2s 4ms/step - loss: 0.0667 - accuracy: 0.9802\n",
      "Epoch 4/5\n",
      "469/469 [==============================] - 2s 4ms/step - loss: 0.0493 - accuracy: 0.9850\n",
      "Epoch 5/5\n",
      "469/469 [==============================] - 2s 4ms/step - loss: 0.0367 - accuracy: 0.9890\n"
     ]
    },
    {
     "data": {
      "text/plain": [
       "<keras.callbacks.History at 0x7f0ab033fef0>"
      ]
     },
     "execution_count": 61,
     "metadata": {},
     "output_type": "execute_result"
    }
   ],
   "source": [
    "model.fit(train_images, train_labels, epochs=5, batch_size=128)"
   ]
  },
  {
   "cell_type": "markdown",
   "metadata": {
    "colab_type": "text"
   },
   "source": [
    "### 텐서플로를 사용해 첫 번째 예제를 밑바닥부터 다시 구현하기"
   ]
  },
  {
   "cell_type": "markdown",
   "metadata": {
    "colab_type": "text"
   },
   "source": [
    "#### 단순한 Dense 클래스"
   ]
  },
  {
   "cell_type": "code",
   "execution_count": 62,
   "metadata": {
    "colab_type": "code",
    "execution": {
     "iopub.execute_input": "2022-05-21T00:57:34.539073Z",
     "iopub.status.busy": "2022-05-21T00:57:34.538100Z",
     "iopub.status.idle": "2022-05-21T00:57:34.544603Z",
     "shell.execute_reply": "2022-05-21T00:57:34.543941Z"
    }
   },
   "outputs": [],
   "source": [
    "import tensorflow as tf\n",
    "\n",
    "class NaiveDense:\n",
    "    def __init__(self, input_size, output_size, activation):\n",
    "        self.activation = activation\n",
    "\n",
    "        w_shape = (input_size, output_size)\n",
    "        w_initial_value = tf.random.uniform(w_shape, minval=0, maxval=1e-1)\n",
    "        self.W = tf.Variable(w_initial_value)\n",
    "\n",
    "        b_shape = (output_size,)\n",
    "        b_initial_value = tf.zeros(b_shape)\n",
    "        self.b = tf.Variable(b_initial_value)\n",
    "\n",
    "    def __call__(self, inputs):\n",
    "        return self.activation(tf.matmul(inputs, self.W) + self.b)\n",
    "\n",
    "    @property\n",
    "    def weights(self):\n",
    "        return [self.W, self.b]"
   ]
  },
  {
   "cell_type": "markdown",
   "metadata": {
    "colab_type": "text"
   },
   "source": [
    "#### 단순한 Sequential 클래스"
   ]
  },
  {
   "cell_type": "code",
   "execution_count": 63,
   "metadata": {
    "colab_type": "code",
    "execution": {
     "iopub.execute_input": "2022-05-21T00:57:34.549011Z",
     "iopub.status.busy": "2022-05-21T00:57:34.548061Z",
     "iopub.status.idle": "2022-05-21T00:57:34.553613Z",
     "shell.execute_reply": "2022-05-21T00:57:34.552900Z"
    }
   },
   "outputs": [],
   "source": [
    "class NaiveSequential:\n",
    "    def __init__(self, layers):\n",
    "        self.layers = layers\n",
    "\n",
    "    def __call__(self, inputs):\n",
    "        x = inputs\n",
    "        for layer in self.layers:\n",
    "           x = layer(x)\n",
    "        return x\n",
    "\n",
    "    @property\n",
    "    def weights(self):\n",
    "       weights = []\n",
    "       for layer in self.layers:\n",
    "           weights += layer.weights\n",
    "       return weights"
   ]
  },
  {
   "cell_type": "code",
   "execution_count": 64,
   "metadata": {
    "colab_type": "code",
    "execution": {
     "iopub.execute_input": "2022-05-21T00:57:34.557429Z",
     "iopub.status.busy": "2022-05-21T00:57:34.556712Z",
     "iopub.status.idle": "2022-05-21T00:57:34.565352Z",
     "shell.execute_reply": "2022-05-21T00:57:34.564638Z"
    }
   },
   "outputs": [],
   "source": [
    "model = NaiveSequential([\n",
    "    NaiveDense(input_size=28 * 28, output_size=512, activation=tf.nn.relu),\n",
    "    NaiveDense(input_size=512, output_size=10, activation=tf.nn.softmax)\n",
    "])\n",
    "assert len(model.weights) == 4"
   ]
  },
  {
   "cell_type": "markdown",
   "metadata": {
    "colab_type": "text"
   },
   "source": [
    "#### 배치 제너레이터"
   ]
  },
  {
   "cell_type": "code",
   "execution_count": 65,
   "metadata": {
    "colab_type": "code",
    "execution": {
     "iopub.execute_input": "2022-05-21T00:57:34.569718Z",
     "iopub.status.busy": "2022-05-21T00:57:34.568911Z",
     "iopub.status.idle": "2022-05-21T00:57:34.575841Z",
     "shell.execute_reply": "2022-05-21T00:57:34.575023Z"
    }
   },
   "outputs": [],
   "source": [
    "import math\n",
    "\n",
    "class BatchGenerator:\n",
    "    def __init__(self, images, labels, batch_size=128):\n",
    "        assert len(images) == len(labels)\n",
    "        self.index = 0\n",
    "        self.images = images\n",
    "        self.labels = labels\n",
    "        self.batch_size = batch_size\n",
    "        self.num_batches = math.ceil(len(images) / batch_size)\n",
    "\n",
    "    def next(self):\n",
    "        images = self.images[self.index : self.index + self.batch_size]\n",
    "        labels = self.labels[self.index : self.index + self.batch_size]\n",
    "        self.index += self.batch_size\n",
    "        return images, labels"
   ]
  },
  {
   "cell_type": "markdown",
   "metadata": {
    "colab_type": "text"
   },
   "source": [
    "### 훈련 스텝 실행하기"
   ]
  },
  {
   "cell_type": "code",
   "execution_count": 66,
   "metadata": {
    "colab_type": "code",
    "execution": {
     "iopub.execute_input": "2022-05-21T00:57:34.579548Z",
     "iopub.status.busy": "2022-05-21T00:57:34.579204Z",
     "iopub.status.idle": "2022-05-21T00:57:34.584549Z",
     "shell.execute_reply": "2022-05-21T00:57:34.583770Z"
    }
   },
   "outputs": [],
   "source": [
    "def one_training_step(model, images_batch, labels_batch):\n",
    "    with tf.GradientTape() as tape:\n",
    "        predictions = model(images_batch)\n",
    "        per_sample_losses = tf.keras.losses.sparse_categorical_crossentropy(\n",
    "            labels_batch, predictions)\n",
    "        average_loss = tf.reduce_mean(per_sample_losses)\n",
    "    gradients = tape.gradient(average_loss, model.weights)\n",
    "    update_weights(gradients, model.weights)\n",
    "    return average_loss"
   ]
  },
  {
   "cell_type": "code",
   "execution_count": 67,
   "metadata": {
    "colab_type": "code",
    "execution": {
     "iopub.execute_input": "2022-05-21T00:57:34.587934Z",
     "iopub.status.busy": "2022-05-21T00:57:34.587645Z",
     "iopub.status.idle": "2022-05-21T00:57:34.591908Z",
     "shell.execute_reply": "2022-05-21T00:57:34.591071Z"
    }
   },
   "outputs": [],
   "source": [
    "learning_rate = 1e-3\n",
    "\n",
    "def update_weights(gradients, weights):\n",
    "    for g, w in zip(gradients, weights):\n",
    "        w.assign_sub(g * learning_rate)"
   ]
  },
  {
   "cell_type": "code",
   "execution_count": 68,
   "metadata": {
    "colab_type": "code",
    "execution": {
     "iopub.execute_input": "2022-05-21T00:57:34.595476Z",
     "iopub.status.busy": "2022-05-21T00:57:34.595223Z",
     "iopub.status.idle": "2022-05-21T00:57:34.600016Z",
     "shell.execute_reply": "2022-05-21T00:57:34.599071Z"
    }
   },
   "outputs": [],
   "source": [
    "from tensorflow.keras import optimizers\n",
    "\n",
    "optimizer = optimizers.SGD(learning_rate=1e-3)\n",
    "\n",
    "def update_weights(gradients, weights):\n",
    "    optimizer.apply_gradients(zip(gradients, weights))"
   ]
  },
  {
   "cell_type": "markdown",
   "metadata": {
    "colab_type": "text"
   },
   "source": [
    "### 전체 훈련 루프"
   ]
  },
  {
   "cell_type": "code",
   "execution_count": 69,
   "metadata": {
    "colab_type": "code",
    "execution": {
     "iopub.execute_input": "2022-05-21T00:57:34.603512Z",
     "iopub.status.busy": "2022-05-21T00:57:34.603225Z",
     "iopub.status.idle": "2022-05-21T00:57:34.608868Z",
     "shell.execute_reply": "2022-05-21T00:57:34.607981Z"
    }
   },
   "outputs": [],
   "source": [
    "def fit(model, images, labels, epochs, batch_size=128):\n",
    "    for epoch_counter in range(epochs):\n",
    "        print(f\"에포크 {epoch_counter}\")\n",
    "        batch_generator = BatchGenerator(images, labels)\n",
    "        for batch_counter in range(batch_generator.num_batches):\n",
    "            images_batch, labels_batch = batch_generator.next()\n",
    "            loss = one_training_step(model, images_batch, labels_batch)\n",
    "            if batch_counter % 100 == 0:\n",
    "                print(f\"{batch_counter}번째 배치 손실: {loss:.2f}\")"
   ]
  },
  {
   "cell_type": "code",
   "execution_count": 70,
   "metadata": {
    "colab_type": "code",
    "execution": {
     "iopub.execute_input": "2022-05-21T00:57:34.612683Z",
     "iopub.status.busy": "2022-05-21T00:57:34.612226Z",
     "iopub.status.idle": "2022-05-21T00:58:10.090355Z",
     "shell.execute_reply": "2022-05-21T00:58:10.089432Z"
    }
   },
   "outputs": [
    {
     "name": "stdout",
     "output_type": "stream",
     "text": [
      "에포크 0\n",
      "0번째 배치 손실: 3.50\n",
      "100번째 배치 손실: 2.21\n",
      "200번째 배치 손실: 2.20\n",
      "300번째 배치 손실: 2.08\n",
      "400번째 배치 손실: 2.23\n",
      "에포크 1\n",
      "0번째 배치 손실: 1.91\n",
      "100번째 배치 손실: 1.86\n",
      "200번째 배치 손실: 1.83\n",
      "300번째 배치 손실: 1.72\n",
      "400번째 배치 손실: 1.84\n",
      "에포크 2\n",
      "0번째 배치 손실: 1.58\n",
      "100번째 배치 손실: 1.56\n",
      "200번째 배치 손실: 1.51\n",
      "300번째 배치 손실: 1.43\n",
      "400번째 배치 손실: 1.52\n",
      "에포크 3\n",
      "0번째 배치 손실: 1.33\n",
      "100번째 배치 손실: 1.32\n",
      "200번째 배치 손실: 1.24\n",
      "300번째 배치 손실: 1.22\n",
      "400번째 배치 손실: 1.28\n",
      "에포크 4\n",
      "0번째 배치 손실: 1.13\n",
      "100번째 배치 손실: 1.14\n",
      "200번째 배치 손실: 1.04\n",
      "300번째 배치 손실: 1.05\n",
      "400번째 배치 손실: 1.11\n",
      "에포크 5\n",
      "0번째 배치 손실: 0.99\n",
      "100번째 배치 손실: 1.00\n",
      "200번째 배치 손실: 0.90\n",
      "300번째 배치 손실: 0.93\n",
      "400번째 배치 손실: 0.99\n",
      "에포크 6\n",
      "0번째 배치 손실: 0.88\n",
      "100번째 배치 손실: 0.90\n",
      "200번째 배치 손실: 0.79\n",
      "300번째 배치 손실: 0.84\n",
      "400번째 배치 손실: 0.90\n",
      "에포크 7\n",
      "0번째 배치 손실: 0.80\n",
      "100번째 배치 손실: 0.81\n",
      "200번째 배치 손실: 0.71\n",
      "300번째 배치 손실: 0.77\n",
      "400번째 배치 손실: 0.83\n",
      "에포크 8\n",
      "0번째 배치 손실: 0.74\n",
      "100번째 배치 손실: 0.75\n",
      "200번째 배치 손실: 0.65\n",
      "300번째 배치 손실: 0.71\n",
      "400번째 배치 손실: 0.78\n",
      "에포크 9\n",
      "0번째 배치 손실: 0.69\n",
      "100번째 배치 손실: 0.69\n",
      "200번째 배치 손실: 0.60\n",
      "300번째 배치 손실: 0.67\n",
      "400번째 배치 손실: 0.74\n"
     ]
    }
   ],
   "source": [
    "from tensorflow.keras.datasets import mnist\n",
    "(train_images, train_labels), (test_images, test_labels) = mnist.load_data()\n",
    "\n",
    "train_images = train_images.reshape((60000, 28 * 28))\n",
    "train_images = train_images.astype(\"float32\") / 255\n",
    "test_images = test_images.reshape((10000, 28 * 28))\n",
    "test_images = test_images.astype(\"float32\") / 255\n",
    "\n",
    "fit(model, train_images, train_labels, epochs=10, batch_size=128)"
   ]
  },
  {
   "cell_type": "markdown",
   "metadata": {
    "colab_type": "text"
   },
   "source": [
    "### 모델 평가하기"
   ]
  },
  {
   "cell_type": "code",
   "execution_count": 71,
   "metadata": {
    "colab_type": "code",
    "execution": {
     "iopub.execute_input": "2022-05-21T00:58:10.094649Z",
     "iopub.status.busy": "2022-05-21T00:58:10.094318Z",
     "iopub.status.idle": "2022-05-21T00:58:10.165292Z",
     "shell.execute_reply": "2022-05-21T00:58:10.164371Z"
    }
   },
   "outputs": [
    {
     "name": "stdout",
     "output_type": "stream",
     "text": [
      "정확도: 0.82\n"
     ]
    }
   ],
   "source": [
    "predictions = model(test_images)\n",
    "predictions = predictions.numpy()\n",
    "predicted_labels = np.argmax(predictions, axis=1)\n",
    "matches = predicted_labels == test_labels\n",
    "print(f\"정확도: {matches.mean():.2f}\")"
   ]
  },
  {
   "cell_type": "markdown",
   "metadata": {
    "colab_type": "text"
   },
   "source": [
    "## 요약"
   ]
  }
 ],
 "metadata": {
  "colab": {
   "collapsed_sections": [],
   "name": "chapter02_mathematical-building-blocks.i",
   "private_outputs": false,
   "provenance": [],
   "toc_visible": true
  },
  "kernelspec": {
   "display_name": "Python 3 (ipykernel)",
   "language": "python",
   "name": "python3"
  },
  "language_info": {
   "codemirror_mode": {
    "name": "ipython",
    "version": 3
   },
   "file_extension": ".py",
   "mimetype": "text/x-python",
   "name": "python",
   "nbconvert_exporter": "python",
   "pygments_lexer": "ipython3",
   "version": "3.7.3"
  }
 },
 "nbformat": 4,
 "nbformat_minor": 1
}
