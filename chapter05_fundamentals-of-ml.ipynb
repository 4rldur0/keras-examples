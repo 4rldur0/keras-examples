{
 "cells": [
  {
   "cell_type": "markdown",
   "metadata": {
    "colab_type": "text"
   },
   "source": [
    "이 노트북은 [케라스 창시자에게 배우는 딥러닝 2판](https://tensorflow.blog/kerasdl2/)의 예제 코드를 담고 있습니다.\n",
    "\n",
    "<table align=\"left\">\n",
    "    <tr>\n",
    "        <td>\n",
    "            <a href=\"https://colab.research.google.com/github/rickiepark/deep-learning-with-python-2nd/blob/main/chapter05_fundamentals-of-ml.ipynb\" target=\"_parent\"><img src=\"https://colab.research.google.com/assets/colab-badge.svg\" alt=\"Open In Colab\"/></a>\n",
    "        </td>\n",
    "    </tr>\n",
    "</table>"
   ]
  },
  {
   "cell_type": "markdown",
   "metadata": {
    "colab_type": "text"
   },
   "source": [
    "# 머신 러닝의 기본 요소"
   ]
  },
  {
   "cell_type": "markdown",
   "metadata": {
    "colab_type": "text"
   },
   "source": [
    "## 일반화: 머신 러닝의 목표"
   ]
  },
  {
   "cell_type": "markdown",
   "metadata": {
    "colab_type": "text"
   },
   "source": [
    "### 과소적합과 과대적합"
   ]
  },
  {
   "cell_type": "markdown",
   "metadata": {
    "colab_type": "text"
   },
   "source": [
    "#### 잡음 섞인 훈련 데이터"
   ]
  },
  {
   "cell_type": "markdown",
   "metadata": {
    "colab_type": "text"
   },
   "source": [
    "#### 불확실한 특성"
   ]
  },
  {
   "cell_type": "markdown",
   "metadata": {
    "colab_type": "text"
   },
   "source": [
    "#### 드문 특성과 가짜 상관관계"
   ]
  },
  {
   "cell_type": "markdown",
   "metadata": {
    "colab_type": "text"
   },
   "source": [
    "**MNIST에 백색 잡음 픽셀과 0 픽셀을 추가하기**"
   ]
  },
  {
   "cell_type": "code",
   "execution_count": 1,
   "metadata": {
    "colab_type": "code",
    "execution": {
     "iopub.execute_input": "2022-05-21T01:01:24.254476Z",
     "iopub.status.busy": "2022-05-21T01:01:24.253958Z",
     "iopub.status.idle": "2022-05-21T01:01:27.373051Z",
     "shell.execute_reply": "2022-05-21T01:01:27.372074Z"
    }
   },
   "outputs": [],
   "source": [
    "from tensorflow.keras.datasets import mnist\n",
    "import numpy as np\n",
    "\n",
    "(train_images, train_labels), _ = mnist.load_data()\n",
    "train_images = train_images.reshape((60000, 28 * 28))\n",
    "train_images = train_images.astype(\"float32\") / 255\n",
    "\n",
    "train_images_with_noise_channels = np.concatenate(\n",
    "    [train_images, np.random.random((len(train_images), 784))], axis=1)\n",
    "\n",
    "train_images_with_zeros_channels = np.concatenate(\n",
    "    [train_images, np.zeros((len(train_images), 784))], axis=1)"
   ]
  },
  {
   "cell_type": "code",
   "execution_count": 2,
   "metadata": {
    "execution": {
     "iopub.execute_input": "2022-05-21T01:01:27.377455Z",
     "iopub.status.busy": "2022-05-21T01:01:27.376945Z",
     "iopub.status.idle": "2022-05-21T01:01:27.388938Z",
     "shell.execute_reply": "2022-05-21T01:01:27.387917Z"
    }
   },
   "outputs": [
    {
     "data": {
      "text/plain": [
       "(60000, 1568)"
      ]
     },
     "execution_count": 2,
     "metadata": {},
     "output_type": "execute_result"
    }
   ],
   "source": [
    "train_images_with_noise_channels.shape"
   ]
  },
  {
   "cell_type": "markdown",
   "metadata": {
    "colab_type": "text"
   },
   "source": [
    "**백색 잡음과 0을 추가한 MNIST 데이터에서 모델 훈련하기**"
   ]
  },
  {
   "cell_type": "code",
   "execution_count": 3,
   "metadata": {
    "colab_type": "code",
    "execution": {
     "iopub.execute_input": "2022-05-21T01:01:27.392783Z",
     "iopub.status.busy": "2022-05-21T01:01:27.392444Z",
     "iopub.status.idle": "2022-05-21T01:02:25.502977Z",
     "shell.execute_reply": "2022-05-21T01:02:25.502078Z"
    }
   },
   "outputs": [
    {
     "name": "stderr",
     "output_type": "stream",
     "text": [
      "2022-05-21 01:01:27.403814: I tensorflow/core/platform/cpu_feature_guard.cc:193] This TensorFlow binary is optimized with oneAPI Deep Neural Network Library (oneDNN) to use the following CPU instructions in performance-critical operations:  AVX2 FMA\n",
      "To enable them in other operations, rebuild TensorFlow with the appropriate compiler flags.\n"
     ]
    },
    {
     "name": "stdout",
     "output_type": "stream",
     "text": [
      "Epoch 1/10\n",
      "375/375 [==============================] - 3s 8ms/step - loss: 0.6158 - accuracy: 0.8106 - val_loss: 0.2610 - val_accuracy: 0.9242\n",
      "Epoch 2/10\n",
      "375/375 [==============================] - 3s 7ms/step - loss: 0.2563 - accuracy: 0.9197 - val_loss: 0.2508 - val_accuracy: 0.9234\n",
      "Epoch 3/10\n",
      "375/375 [==============================] - 3s 7ms/step - loss: 0.1684 - accuracy: 0.9475 - val_loss: 0.1487 - val_accuracy: 0.9558\n",
      "Epoch 4/10\n",
      "375/375 [==============================] - 3s 7ms/step - loss: 0.1220 - accuracy: 0.9618 - val_loss: 0.1407 - val_accuracy: 0.9590\n",
      "Epoch 5/10\n",
      "375/375 [==============================] - 3s 8ms/step - loss: 0.0892 - accuracy: 0.9716 - val_loss: 0.1349 - val_accuracy: 0.9604\n",
      "Epoch 6/10\n",
      "375/375 [==============================] - 3s 8ms/step - loss: 0.0652 - accuracy: 0.9792 - val_loss: 0.1354 - val_accuracy: 0.9617\n",
      "Epoch 7/10\n",
      "375/375 [==============================] - 3s 8ms/step - loss: 0.0499 - accuracy: 0.9840 - val_loss: 0.1431 - val_accuracy: 0.9605\n",
      "Epoch 8/10\n",
      "375/375 [==============================] - 3s 8ms/step - loss: 0.0385 - accuracy: 0.9875 - val_loss: 0.1437 - val_accuracy: 0.9621\n",
      "Epoch 9/10\n",
      "375/375 [==============================] - 3s 7ms/step - loss: 0.0269 - accuracy: 0.9911 - val_loss: 0.1251 - val_accuracy: 0.9667\n",
      "Epoch 10/10\n",
      "375/375 [==============================] - 3s 8ms/step - loss: 0.0213 - accuracy: 0.9926 - val_loss: 0.1289 - val_accuracy: 0.9698\n",
      "Epoch 1/10\n",
      "375/375 [==============================] - 3s 8ms/step - loss: 0.2923 - accuracy: 0.9164 - val_loss: 0.1690 - val_accuracy: 0.9523\n",
      "Epoch 2/10\n",
      "375/375 [==============================] - 3s 8ms/step - loss: 0.1185 - accuracy: 0.9651 - val_loss: 0.1025 - val_accuracy: 0.9703\n",
      "Epoch 3/10\n",
      "375/375 [==============================] - 3s 8ms/step - loss: 0.0776 - accuracy: 0.9773 - val_loss: 0.0879 - val_accuracy: 0.9735\n",
      "Epoch 4/10\n",
      "375/375 [==============================] - 3s 8ms/step - loss: 0.0557 - accuracy: 0.9830 - val_loss: 0.1043 - val_accuracy: 0.9693\n",
      "Epoch 5/10\n",
      "375/375 [==============================] - 3s 7ms/step - loss: 0.0409 - accuracy: 0.9880 - val_loss: 0.0855 - val_accuracy: 0.9754\n",
      "Epoch 6/10\n",
      "375/375 [==============================] - 3s 7ms/step - loss: 0.0314 - accuracy: 0.9905 - val_loss: 0.0794 - val_accuracy: 0.9779\n",
      "Epoch 7/10\n",
      "375/375 [==============================] - 3s 7ms/step - loss: 0.0240 - accuracy: 0.9930 - val_loss: 0.0824 - val_accuracy: 0.9776\n",
      "Epoch 8/10\n",
      "375/375 [==============================] - 3s 7ms/step - loss: 0.0178 - accuracy: 0.9948 - val_loss: 0.0801 - val_accuracy: 0.9803\n",
      "Epoch 9/10\n",
      "375/375 [==============================] - 3s 8ms/step - loss: 0.0143 - accuracy: 0.9960 - val_loss: 0.0948 - val_accuracy: 0.9758\n",
      "Epoch 10/10\n",
      "375/375 [==============================] - 3s 7ms/step - loss: 0.0104 - accuracy: 0.9972 - val_loss: 0.0943 - val_accuracy: 0.9770\n"
     ]
    }
   ],
   "source": [
    "from tensorflow import keras\n",
    "from tensorflow.keras import layers\n",
    "\n",
    "def get_model():\n",
    "    model = keras.Sequential([\n",
    "        layers.Dense(512, activation=\"relu\"),\n",
    "        layers.Dense(10, activation=\"softmax\")\n",
    "    ])\n",
    "    model.compile(optimizer=\"rmsprop\",\n",
    "                  loss=\"sparse_categorical_crossentropy\",\n",
    "                  metrics=[\"accuracy\"])\n",
    "    return model\n",
    "\n",
    "model = get_model()\n",
    "history_noise = model.fit(\n",
    "    train_images_with_noise_channels, train_labels,\n",
    "    epochs=10,\n",
    "    batch_size=128,\n",
    "    validation_split=0.2)\n",
    "\n",
    "model = get_model()\n",
    "history_zeros = model.fit(\n",
    "    train_images_with_zeros_channels, train_labels,\n",
    "    epochs=10,\n",
    "    batch_size=128,\n",
    "    validation_split=0.2)"
   ]
  },
  {
   "cell_type": "markdown",
   "metadata": {
    "colab_type": "text"
   },
   "source": [
    "**검증 정확도 비교 그래프 그리기**"
   ]
  },
  {
   "cell_type": "code",
   "execution_count": 4,
   "metadata": {
    "colab_type": "code",
    "execution": {
     "iopub.execute_input": "2022-05-21T01:02:25.507068Z",
     "iopub.status.busy": "2022-05-21T01:02:25.506610Z",
     "iopub.status.idle": "2022-05-21T01:02:26.352048Z",
     "shell.execute_reply": "2022-05-21T01:02:26.351089Z"
    }
   },
   "outputs": [
    {
     "data": {
      "image/png": "[encoded data removed]",
      "text/plain": [
       "<Figure size 432x288 with 1 Axes>"
      ]
     },
     "metadata": {
      "needs_background": "light"
     },
     "output_type": "display_data"
    }
   ],
   "source": [
    "import matplotlib.pyplot as plt\n",
    "val_acc_noise = history_noise.history[\"val_accuracy\"]\n",
    "val_acc_zeros = history_zeros.history[\"val_accuracy\"]\n",
    "epochs = range(1, 11)\n",
    "plt.plot(epochs, val_acc_noise, \"b-\",\n",
    "         label=\"Validation accuracy with noise channels\")\n",
    "plt.plot(epochs, val_acc_zeros, \"b--\",\n",
    "         label=\"Validation accuracy with zeros channels\")\n",
    "plt.title(\"Effect of noise channels on validation accuracy\")\n",
    "plt.xlabel(\"Epochs\")\n",
    "plt.ylabel(\"Accuracy\")\n",
    "plt.legend()\n",
    "plt.show()"
   ]
  },
  {
   "cell_type": "markdown",
   "metadata": {
    "colab_type": "text"
   },
   "source": [
    "### 딥러닝에서 일반화의 본질"
   ]
  },
  {
   "cell_type": "markdown",
   "metadata": {
    "colab_type": "text"
   },
   "source": [
    "**랜덤하게 섞은 레이블로 MNIST 모델 훈련하기**"
   ]
  },
  {
   "cell_type": "code",
   "execution_count": 5,
   "metadata": {
    "colab_type": "code",
    "execution": {
     "iopub.execute_input": "2022-05-21T01:02:26.358294Z",
     "iopub.status.busy": "2022-05-21T01:02:26.357787Z",
     "iopub.status.idle": "2022-05-21T01:05:33.171731Z",
     "shell.execute_reply": "2022-05-21T01:05:33.170427Z"
    }
   },
   "outputs": [
    {
     "name": "stdout",
     "output_type": "stream",
     "text": [
      "Epoch 1/100\n",
      "375/375 [==============================] - 2s 5ms/step - loss: 2.3168 - accuracy: 0.1006 - val_loss: 2.3052 - val_accuracy: 0.1036\n",
      "Epoch 2/100\n",
      "375/375 [==============================] - 2s 5ms/step - loss: 2.2997 - accuracy: 0.1165 - val_loss: 2.3132 - val_accuracy: 0.0977\n",
      "Epoch 3/100\n",
      "375/375 [==============================] - 2s 5ms/step - loss: 2.2906 - accuracy: 0.1282 - val_loss: 2.3238 - val_accuracy: 0.1044\n",
      "Epoch 4/100\n",
      "375/375 [==============================] - 2s 5ms/step - loss: 2.2766 - accuracy: 0.1395 - val_loss: 2.3324 - val_accuracy: 0.0997\n",
      "Epoch 5/100\n",
      "375/375 [==============================] - 2s 5ms/step - loss: 2.2583 - accuracy: 0.1554 - val_loss: 2.3478 - val_accuracy: 0.0956\n",
      "Epoch 6/100\n",
      "375/375 [==============================] - 2s 5ms/step - loss: 2.2378 - accuracy: 0.1703 - val_loss: 2.3524 - val_accuracy: 0.0959\n",
      "Epoch 7/100\n",
      "375/375 [==============================] - 2s 5ms/step - loss: 2.2135 - accuracy: 0.1830 - val_loss: 2.3730 - val_accuracy: 0.0981\n",
      "Epoch 8/100\n",
      "375/375 [==============================] - 2s 5ms/step - loss: 2.1860 - accuracy: 0.1985 - val_loss: 2.3880 - val_accuracy: 0.0983\n",
      "Epoch 9/100\n",
      "375/375 [==============================] - 2s 5ms/step - loss: 2.1555 - accuracy: 0.2160 - val_loss: 2.4163 - val_accuracy: 0.0944\n",
      "Epoch 10/100\n",
      "375/375 [==============================] - 2s 5ms/step - loss: 2.1241 - accuracy: 0.2326 - val_loss: 2.4338 - val_accuracy: 0.0967\n",
      "Epoch 11/100\n",
      "375/375 [==============================] - 2s 5ms/step - loss: 2.0914 - accuracy: 0.2464 - val_loss: 2.4510 - val_accuracy: 0.0972\n",
      "Epoch 12/100\n",
      "375/375 [==============================] - 2s 5ms/step - loss: 2.0580 - accuracy: 0.2631 - val_loss: 2.4928 - val_accuracy: 0.0980\n",
      "Epoch 13/100\n",
      "375/375 [==============================] - 2s 5ms/step - loss: 2.0237 - accuracy: 0.2800 - val_loss: 2.5235 - val_accuracy: 0.0961\n",
      "Epoch 14/100\n",
      "375/375 [==============================] - 2s 5ms/step - loss: 1.9915 - accuracy: 0.2898 - val_loss: 2.5548 - val_accuracy: 0.1008\n",
      "Epoch 15/100\n",
      "375/375 [==============================] - 2s 5ms/step - loss: 1.9547 - accuracy: 0.3075 - val_loss: 2.5729 - val_accuracy: 0.0966\n",
      "Epoch 16/100\n",
      "375/375 [==============================] - 2s 5ms/step - loss: 1.9209 - accuracy: 0.3210 - val_loss: 2.6071 - val_accuracy: 0.1023\n",
      "Epoch 17/100\n",
      "375/375 [==============================] - 2s 5ms/step - loss: 1.8880 - accuracy: 0.3368 - val_loss: 2.6480 - val_accuracy: 0.0971\n",
      "Epoch 18/100\n",
      "375/375 [==============================] - 2s 5ms/step - loss: 1.8530 - accuracy: 0.3513 - val_loss: 2.6867 - val_accuracy: 0.1005\n",
      "Epoch 19/100\n",
      "375/375 [==============================] - 2s 5ms/step - loss: 1.8197 - accuracy: 0.3613 - val_loss: 2.7010 - val_accuracy: 0.1001\n",
      "Epoch 20/100\n",
      "375/375 [==============================] - 2s 5ms/step - loss: 1.7868 - accuracy: 0.3744 - val_loss: 2.7421 - val_accuracy: 0.0999\n",
      "Epoch 21/100\n",
      "375/375 [==============================] - 2s 5ms/step - loss: 1.7557 - accuracy: 0.3866 - val_loss: 2.7935 - val_accuracy: 0.1000\n",
      "Epoch 22/100\n",
      "375/375 [==============================] - 2s 5ms/step - loss: 1.7238 - accuracy: 0.3992 - val_loss: 2.8317 - val_accuracy: 0.0993\n",
      "Epoch 23/100\n",
      "375/375 [==============================] - 2s 5ms/step - loss: 1.6947 - accuracy: 0.4115 - val_loss: 2.8658 - val_accuracy: 0.0984\n",
      "Epoch 24/100\n",
      "375/375 [==============================] - 2s 5ms/step - loss: 1.6633 - accuracy: 0.4217 - val_loss: 2.9173 - val_accuracy: 0.1005\n",
      "Epoch 25/100\n",
      "375/375 [==============================] - 2s 5ms/step - loss: 1.6361 - accuracy: 0.4348 - val_loss: 2.9411 - val_accuracy: 0.1032\n",
      "Epoch 26/100\n",
      "375/375 [==============================] - 2s 5ms/step - loss: 1.6056 - accuracy: 0.4460 - val_loss: 2.9679 - val_accuracy: 0.1019\n",
      "Epoch 27/100\n",
      "375/375 [==============================] - 2s 5ms/step - loss: 1.5780 - accuracy: 0.4568 - val_loss: 3.0255 - val_accuracy: 0.1008\n",
      "Epoch 28/100\n",
      "375/375 [==============================] - 2s 5ms/step - loss: 1.5505 - accuracy: 0.4664 - val_loss: 3.0763 - val_accuracy: 0.1008\n",
      "Epoch 29/100\n",
      "375/375 [==============================] - 2s 5ms/step - loss: 1.5241 - accuracy: 0.4756 - val_loss: 3.1273 - val_accuracy: 0.0983\n",
      "Epoch 30/100\n",
      "375/375 [==============================] - 2s 5ms/step - loss: 1.4976 - accuracy: 0.4846 - val_loss: 3.1695 - val_accuracy: 0.0978\n",
      "Epoch 31/100\n",
      "375/375 [==============================] - 2s 5ms/step - loss: 1.4749 - accuracy: 0.4960 - val_loss: 3.2259 - val_accuracy: 0.1002\n",
      "Epoch 32/100\n",
      "375/375 [==============================] - 2s 5ms/step - loss: 1.4481 - accuracy: 0.5039 - val_loss: 3.2744 - val_accuracy: 0.0973\n",
      "Epoch 33/100\n",
      "375/375 [==============================] - 2s 5ms/step - loss: 1.4236 - accuracy: 0.5159 - val_loss: 3.3085 - val_accuracy: 0.0986\n",
      "Epoch 34/100\n",
      "375/375 [==============================] - 2s 5ms/step - loss: 1.4004 - accuracy: 0.5226 - val_loss: 3.3565 - val_accuracy: 0.0982\n",
      "Epoch 35/100\n",
      "375/375 [==============================] - 2s 6ms/step - loss: 1.3760 - accuracy: 0.5320 - val_loss: 3.4180 - val_accuracy: 0.1010\n",
      "Epoch 36/100\n",
      "375/375 [==============================] - 2s 6ms/step - loss: 1.3523 - accuracy: 0.5403 - val_loss: 3.4647 - val_accuracy: 0.0999\n",
      "Epoch 37/100\n",
      "375/375 [==============================] - 2s 5ms/step - loss: 1.3329 - accuracy: 0.5468 - val_loss: 3.4934 - val_accuracy: 0.0977\n",
      "Epoch 38/100\n",
      "375/375 [==============================] - 2s 5ms/step - loss: 1.3085 - accuracy: 0.5578 - val_loss: 3.5460 - val_accuracy: 0.1017\n",
      "Epoch 39/100\n",
      "375/375 [==============================] - 2s 5ms/step - loss: 1.2900 - accuracy: 0.5632 - val_loss: 3.6003 - val_accuracy: 0.1004\n",
      "Epoch 40/100\n",
      "375/375 [==============================] - 2s 5ms/step - loss: 1.2662 - accuracy: 0.5730 - val_loss: 3.6458 - val_accuracy: 0.1011\n",
      "Epoch 41/100\n",
      "375/375 [==============================] - 2s 5ms/step - loss: 1.2445 - accuracy: 0.5798 - val_loss: 3.6896 - val_accuracy: 0.0985\n",
      "Epoch 42/100\n",
      "375/375 [==============================] - 2s 5ms/step - loss: 1.2258 - accuracy: 0.5875 - val_loss: 3.7366 - val_accuracy: 0.0960\n",
      "Epoch 43/100\n",
      "375/375 [==============================] - 2s 5ms/step - loss: 1.2065 - accuracy: 0.5929 - val_loss: 3.8049 - val_accuracy: 0.1002\n",
      "Epoch 44/100\n",
      "375/375 [==============================] - 2s 5ms/step - loss: 1.1885 - accuracy: 0.5982 - val_loss: 3.8606 - val_accuracy: 0.0960\n",
      "Epoch 45/100\n",
      "375/375 [==============================] - 2s 5ms/step - loss: 1.1676 - accuracy: 0.6076 - val_loss: 3.9283 - val_accuracy: 0.0988\n",
      "Epoch 46/100\n",
      "375/375 [==============================] - 2s 5ms/step - loss: 1.1481 - accuracy: 0.6129 - val_loss: 3.9672 - val_accuracy: 0.0954\n",
      "Epoch 47/100\n",
      "375/375 [==============================] - 2s 5ms/step - loss: 1.1314 - accuracy: 0.6190 - val_loss: 4.0161 - val_accuracy: 0.1022\n",
      "Epoch 48/100\n",
      "375/375 [==============================] - 2s 5ms/step - loss: 1.1143 - accuracy: 0.6254 - val_loss: 4.0863 - val_accuracy: 0.0975\n",
      "Epoch 49/100\n",
      "375/375 [==============================] - 2s 5ms/step - loss: 1.0947 - accuracy: 0.6315 - val_loss: 4.1256 - val_accuracy: 0.0971\n",
      "Epoch 50/100\n",
      "375/375 [==============================] - 2s 5ms/step - loss: 1.0773 - accuracy: 0.6410 - val_loss: 4.1848 - val_accuracy: 0.0978\n",
      "Epoch 51/100\n",
      "375/375 [==============================] - 2s 5ms/step - loss: 1.0622 - accuracy: 0.6453 - val_loss: 4.2469 - val_accuracy: 0.0978\n",
      "Epoch 52/100\n",
      "375/375 [==============================] - 2s 5ms/step - loss: 1.0454 - accuracy: 0.6495 - val_loss: 4.2907 - val_accuracy: 0.0952\n",
      "Epoch 53/100\n",
      "375/375 [==============================] - 2s 5ms/step - loss: 1.0286 - accuracy: 0.6560 - val_loss: 4.3398 - val_accuracy: 0.0959\n",
      "Epoch 54/100\n",
      "375/375 [==============================] - 2s 5ms/step - loss: 1.0131 - accuracy: 0.6634 - val_loss: 4.4089 - val_accuracy: 0.1000\n",
      "Epoch 55/100\n",
      "375/375 [==============================] - 2s 5ms/step - loss: 0.9967 - accuracy: 0.6671 - val_loss: 4.4581 - val_accuracy: 0.0969\n",
      "Epoch 56/100\n",
      "375/375 [==============================] - 2s 5ms/step - loss: 0.9821 - accuracy: 0.6725 - val_loss: 4.5322 - val_accuracy: 0.0956\n",
      "Epoch 57/100\n",
      "375/375 [==============================] - 2s 5ms/step - loss: 0.9667 - accuracy: 0.6778 - val_loss: 4.5838 - val_accuracy: 0.0981\n",
      "Epoch 58/100\n",
      "375/375 [==============================] - 2s 5ms/step - loss: 0.9521 - accuracy: 0.6832 - val_loss: 4.6271 - val_accuracy: 0.0972\n",
      "Epoch 59/100\n",
      "375/375 [==============================] - 2s 5ms/step - loss: 0.9382 - accuracy: 0.6890 - val_loss: 4.7203 - val_accuracy: 0.0984\n",
      "Epoch 60/100\n",
      "375/375 [==============================] - 2s 5ms/step - loss: 0.9237 - accuracy: 0.6931 - val_loss: 4.8355 - val_accuracy: 0.1000\n",
      "Epoch 61/100\n",
      "375/375 [==============================] - 2s 5ms/step - loss: 0.9122 - accuracy: 0.6973 - val_loss: 4.8052 - val_accuracy: 0.0987\n",
      "Epoch 62/100\n",
      "375/375 [==============================] - 2s 5ms/step - loss: 0.8969 - accuracy: 0.7045 - val_loss: 4.8760 - val_accuracy: 0.0985\n",
      "Epoch 63/100\n",
      "375/375 [==============================] - 2s 5ms/step - loss: 0.8834 - accuracy: 0.7072 - val_loss: 4.9346 - val_accuracy: 0.0979\n",
      "Epoch 64/100\n",
      "375/375 [==============================] - 2s 5ms/step - loss: 0.8703 - accuracy: 0.7113 - val_loss: 4.9811 - val_accuracy: 0.0993\n",
      "Epoch 65/100\n",
      "375/375 [==============================] - 2s 5ms/step - loss: 0.8583 - accuracy: 0.7154 - val_loss: 5.0912 - val_accuracy: 0.0967\n",
      "Epoch 66/100\n",
      "375/375 [==============================] - 2s 5ms/step - loss: 0.8455 - accuracy: 0.7193 - val_loss: 5.1504 - val_accuracy: 0.0968\n",
      "Epoch 67/100\n",
      "375/375 [==============================] - 2s 5ms/step - loss: 0.8343 - accuracy: 0.7249 - val_loss: 5.1722 - val_accuracy: 0.0988\n",
      "Epoch 68/100\n",
      "375/375 [==============================] - 2s 5ms/step - loss: 0.8208 - accuracy: 0.7296 - val_loss: 5.2758 - val_accuracy: 0.0952\n",
      "Epoch 69/100\n",
      "375/375 [==============================] - 2s 5ms/step - loss: 0.8073 - accuracy: 0.7338 - val_loss: 5.3533 - val_accuracy: 0.0966\n",
      "Epoch 70/100\n",
      "375/375 [==============================] - 2s 5ms/step - loss: 0.7975 - accuracy: 0.7370 - val_loss: 5.4020 - val_accuracy: 0.0982\n",
      "Epoch 71/100\n",
      "375/375 [==============================] - 2s 5ms/step - loss: 0.7860 - accuracy: 0.7411 - val_loss: 5.4116 - val_accuracy: 0.0976\n",
      "Epoch 72/100\n",
      "375/375 [==============================] - 2s 5ms/step - loss: 0.7716 - accuracy: 0.7477 - val_loss: 5.5060 - val_accuracy: 0.0997\n",
      "Epoch 73/100\n",
      "375/375 [==============================] - 2s 5ms/step - loss: 0.7606 - accuracy: 0.7517 - val_loss: 5.5366 - val_accuracy: 0.0998\n",
      "Epoch 74/100\n",
      "375/375 [==============================] - 2s 5ms/step - loss: 0.7482 - accuracy: 0.7541 - val_loss: 5.6590 - val_accuracy: 0.0970\n",
      "Epoch 75/100\n",
      "375/375 [==============================] - 2s 5ms/step - loss: 0.7379 - accuracy: 0.7585 - val_loss: 5.7195 - val_accuracy: 0.0995\n",
      "Epoch 76/100\n",
      "375/375 [==============================] - 2s 5ms/step - loss: 0.7295 - accuracy: 0.7606 - val_loss: 5.8005 - val_accuracy: 0.0993\n",
      "Epoch 77/100\n",
      "375/375 [==============================] - 2s 5ms/step - loss: 0.7175 - accuracy: 0.7649 - val_loss: 5.8446 - val_accuracy: 0.0978\n",
      "Epoch 78/100\n",
      "375/375 [==============================] - 2s 5ms/step - loss: 0.7074 - accuracy: 0.7663 - val_loss: 5.9220 - val_accuracy: 0.0985\n",
      "Epoch 79/100\n",
      "375/375 [==============================] - 2s 5ms/step - loss: 0.6974 - accuracy: 0.7701 - val_loss: 5.9727 - val_accuracy: 0.1002\n",
      "Epoch 80/100\n",
      "375/375 [==============================] - 2s 5ms/step - loss: 0.6862 - accuracy: 0.7759 - val_loss: 6.0277 - val_accuracy: 0.1001\n",
      "Epoch 81/100\n",
      "375/375 [==============================] - 2s 5ms/step - loss: 0.6776 - accuracy: 0.7791 - val_loss: 6.0833 - val_accuracy: 0.0986\n",
      "Epoch 82/100\n",
      "375/375 [==============================] - 2s 5ms/step - loss: 0.6666 - accuracy: 0.7836 - val_loss: 6.1938 - val_accuracy: 0.0991\n",
      "Epoch 83/100\n",
      "375/375 [==============================] - 2s 5ms/step - loss: 0.6587 - accuracy: 0.7871 - val_loss: 6.2276 - val_accuracy: 0.0976\n",
      "Epoch 84/100\n",
      "375/375 [==============================] - 2s 5ms/step - loss: 0.6484 - accuracy: 0.7881 - val_loss: 6.2831 - val_accuracy: 0.0989\n",
      "Epoch 85/100\n",
      "375/375 [==============================] - 2s 5ms/step - loss: 0.6395 - accuracy: 0.7907 - val_loss: 6.3865 - val_accuracy: 0.0997\n",
      "Epoch 86/100\n",
      "375/375 [==============================] - 2s 5ms/step - loss: 0.6313 - accuracy: 0.7946 - val_loss: 6.4912 - val_accuracy: 0.0995\n",
      "Epoch 87/100\n",
      "375/375 [==============================] - 2s 5ms/step - loss: 0.6211 - accuracy: 0.7984 - val_loss: 6.5104 - val_accuracy: 0.0976\n",
      "Epoch 88/100\n",
      "375/375 [==============================] - 2s 5ms/step - loss: 0.6115 - accuracy: 0.8022 - val_loss: 6.5586 - val_accuracy: 0.0978\n",
      "Epoch 89/100\n",
      "375/375 [==============================] - 2s 5ms/step - loss: 0.6036 - accuracy: 0.8046 - val_loss: 6.6031 - val_accuracy: 0.1049\n",
      "Epoch 90/100\n",
      "375/375 [==============================] - 2s 5ms/step - loss: 0.5943 - accuracy: 0.8075 - val_loss: 6.6853 - val_accuracy: 0.0979\n",
      "Epoch 91/100\n",
      "375/375 [==============================] - 2s 5ms/step - loss: 0.5872 - accuracy: 0.8108 - val_loss: 6.7872 - val_accuracy: 0.0982\n",
      "Epoch 92/100\n",
      "375/375 [==============================] - 2s 5ms/step - loss: 0.5779 - accuracy: 0.8131 - val_loss: 6.8696 - val_accuracy: 0.0991\n",
      "Epoch 93/100\n",
      "375/375 [==============================] - 2s 5ms/step - loss: 0.5689 - accuracy: 0.8153 - val_loss: 6.9161 - val_accuracy: 0.1002\n",
      "Epoch 94/100\n",
      "375/375 [==============================] - 2s 5ms/step - loss: 0.5610 - accuracy: 0.8181 - val_loss: 6.9820 - val_accuracy: 0.1009\n",
      "Epoch 95/100\n",
      "375/375 [==============================] - 2s 5ms/step - loss: 0.5534 - accuracy: 0.8209 - val_loss: 7.0527 - val_accuracy: 0.1023\n",
      "Epoch 96/100\n",
      "375/375 [==============================] - 2s 5ms/step - loss: 0.5465 - accuracy: 0.8239 - val_loss: 7.1350 - val_accuracy: 0.1005\n",
      "Epoch 97/100\n",
      "375/375 [==============================] - 2s 5ms/step - loss: 0.5374 - accuracy: 0.8277 - val_loss: 7.1628 - val_accuracy: 0.1006\n",
      "Epoch 98/100\n",
      "375/375 [==============================] - 2s 5ms/step - loss: 0.5322 - accuracy: 0.8289 - val_loss: 7.3048 - val_accuracy: 0.0958\n",
      "Epoch 99/100\n",
      "375/375 [==============================] - 2s 5ms/step - loss: 0.5235 - accuracy: 0.8316 - val_loss: 7.3475 - val_accuracy: 0.1023\n",
      "Epoch 100/100\n",
      "375/375 [==============================] - 2s 5ms/step - loss: 0.5157 - accuracy: 0.8339 - val_loss: 7.4391 - val_accuracy: 0.1016\n"
     ]
    },
    {
     "data": {
      "text/plain": [
       "<keras.callbacks.History at 0x7f0110103cf8>"
      ]
     },
     "execution_count": 5,
     "metadata": {},
     "output_type": "execute_result"
    }
   ],
   "source": [
    "(train_images, train_labels), _ = mnist.load_data()\n",
    "train_images = train_images.reshape((60000, 28 * 28))\n",
    "train_images = train_images.astype(\"float32\") / 255\n",
    "\n",
    "random_train_labels = train_labels[:]\n",
    "np.random.shuffle(random_train_labels)\n",
    "\n",
    "model = keras.Sequential([\n",
    "    layers.Dense(512, activation=\"relu\"),\n",
    "    layers.Dense(10, activation=\"softmax\")\n",
    "])\n",
    "model.compile(optimizer=\"rmsprop\",\n",
    "              loss=\"sparse_categorical_crossentropy\",\n",
    "              metrics=[\"accuracy\"])\n",
    "model.fit(train_images, random_train_labels,\n",
    "          epochs=100,\n",
    "          batch_size=128,\n",
    "          validation_split=0.2)"
   ]
  },
  {
   "cell_type": "markdown",
   "metadata": {
    "colab_type": "text"
   },
   "source": [
    "#### 매니폴드 가설"
   ]
  },
  {
   "cell_type": "markdown",
   "metadata": {
    "colab_type": "text"
   },
   "source": [
    "#### 일반화의 원천인 보간"
   ]
  },
  {
   "cell_type": "markdown",
   "metadata": {
    "colab_type": "text"
   },
   "source": [
    "#### 딥러닝이 작동하는 이유"
   ]
  },
  {
   "cell_type": "markdown",
   "metadata": {
    "colab_type": "text"
   },
   "source": [
    "#### 가장 중요한 훈련 데이터"
   ]
  },
  {
   "cell_type": "markdown",
   "metadata": {
    "colab_type": "text"
   },
   "source": [
    "## 머신 러닝 모델 평가"
   ]
  },
  {
   "cell_type": "markdown",
   "metadata": {
    "colab_type": "text"
   },
   "source": [
    "### 훈련, 검증, 테스트 세트"
   ]
  },
  {
   "cell_type": "markdown",
   "metadata": {
    "colab_type": "text"
   },
   "source": [
    "#### 단순 홀드아웃 검증"
   ]
  },
  {
   "cell_type": "markdown",
   "metadata": {
    "colab_type": "text"
   },
   "source": [
    "#### K-겹 교차 검증"
   ]
  },
  {
   "cell_type": "markdown",
   "metadata": {
    "colab_type": "text"
   },
   "source": [
    "#### 셔플링을 사용한 반복 K-겹 교차 검증"
   ]
  },
  {
   "cell_type": "markdown",
   "metadata": {
    "colab_type": "text"
   },
   "source": [
    "### 상식 수준의 기준점을 넘기"
   ]
  },
  {
   "cell_type": "markdown",
   "metadata": {
    "colab_type": "text"
   },
   "source": [
    "### 모델 평가에 대해 유념해야 할 점"
   ]
  },
  {
   "cell_type": "markdown",
   "metadata": {
    "colab_type": "text"
   },
   "source": [
    "## 훈련 성능 향상하기"
   ]
  },
  {
   "cell_type": "markdown",
   "metadata": {
    "colab_type": "text"
   },
   "source": [
    "### 경사 하강법의 핵심 파라미터 튜닝하기"
   ]
  },
  {
   "cell_type": "markdown",
   "metadata": {
    "colab_type": "text"
   },
   "source": [
    "**잘못된 높은 학습률로 MNIST 모델 훈련하기**"
   ]
  },
  {
   "cell_type": "code",
   "execution_count": 6,
   "metadata": {
    "colab_type": "code",
    "execution": {
     "iopub.execute_input": "2022-05-21T01:05:33.177460Z",
     "iopub.status.busy": "2022-05-21T01:05:33.177117Z",
     "iopub.status.idle": "2022-05-21T01:05:52.585061Z",
     "shell.execute_reply": "2022-05-21T01:05:52.584241Z"
    }
   },
   "outputs": [
    {
     "name": "stdout",
     "output_type": "stream",
     "text": [
      "Epoch 1/10\n",
      "375/375 [==============================] - 2s 5ms/step - loss: 956.4675 - accuracy: 0.3946 - val_loss: 3.5492 - val_accuracy: 0.2813\n",
      "Epoch 2/10\n",
      "375/375 [==============================] - 2s 5ms/step - loss: 4.6012 - accuracy: 0.2683 - val_loss: 2.1531 - val_accuracy: 0.2711\n",
      "Epoch 3/10\n",
      "375/375 [==============================] - 2s 5ms/step - loss: 2.9923 - accuracy: 0.2559 - val_loss: 2.1568 - val_accuracy: 0.2036\n",
      "Epoch 4/10\n",
      "375/375 [==============================] - 2s 5ms/step - loss: 2.7545 - accuracy: 0.2514 - val_loss: 2.9839 - val_accuracy: 0.3231\n",
      "Epoch 5/10\n",
      "375/375 [==============================] - 2s 5ms/step - loss: 3.2284 - accuracy: 0.2866 - val_loss: 2.3702 - val_accuracy: 0.2873\n",
      "Epoch 6/10\n",
      "375/375 [==============================] - 2s 5ms/step - loss: 2.5103 - accuracy: 0.2761 - val_loss: 2.1773 - val_accuracy: 0.2202\n",
      "Epoch 7/10\n",
      "375/375 [==============================] - 2s 5ms/step - loss: 2.4951 - accuracy: 0.2595 - val_loss: 2.8390 - val_accuracy: 0.2891\n",
      "Epoch 8/10\n",
      "375/375 [==============================] - 2s 5ms/step - loss: 2.4925 - accuracy: 0.2729 - val_loss: 2.1782 - val_accuracy: 0.2317\n",
      "Epoch 9/10\n",
      "375/375 [==============================] - 2s 5ms/step - loss: 2.8699 - accuracy: 0.2906 - val_loss: 2.7469 - val_accuracy: 0.2726\n",
      "Epoch 10/10\n",
      "375/375 [==============================] - 2s 5ms/step - loss: 2.5351 - accuracy: 0.2940 - val_loss: 2.0229 - val_accuracy: 0.2466\n"
     ]
    },
    {
     "data": {
      "text/plain": [
       "<keras.callbacks.History at 0x7f0112c54b70>"
      ]
     },
     "execution_count": 6,
     "metadata": {},
     "output_type": "execute_result"
    }
   ],
   "source": [
    "(train_images, train_labels), _ = mnist.load_data()\n",
    "train_images = train_images.reshape((60000, 28 * 28))\n",
    "train_images = train_images.astype(\"float32\") / 255\n",
    "\n",
    "model = keras.Sequential([\n",
    "    layers.Dense(512, activation=\"relu\"),\n",
    "    layers.Dense(10, activation=\"softmax\")\n",
    "])\n",
    "model.compile(optimizer=keras.optimizers.RMSprop(1.),\n",
    "              loss=\"sparse_categorical_crossentropy\",\n",
    "              metrics=[\"accuracy\"])\n",
    "model.fit(train_images, train_labels,\n",
    "          epochs=10,\n",
    "          batch_size=128,\n",
    "          validation_split=0.2)"
   ]
  },
  {
   "cell_type": "markdown",
   "metadata": {
    "colab_type": "text"
   },
   "source": [
    "**같은 모델을 적절한 학습률로 훈련하기**"
   ]
  },
  {
   "cell_type": "code",
   "execution_count": 7,
   "metadata": {
    "colab_type": "code",
    "execution": {
     "iopub.execute_input": "2022-05-21T01:05:52.588549Z",
     "iopub.status.busy": "2022-05-21T01:05:52.588260Z",
     "iopub.status.idle": "2022-05-21T01:06:11.526008Z",
     "shell.execute_reply": "2022-05-21T01:06:11.525112Z"
    }
   },
   "outputs": [
    {
     "name": "stdout",
     "output_type": "stream",
     "text": [
      "Epoch 1/10\n",
      "375/375 [==============================] - 2s 5ms/step - loss: 0.3735 - accuracy: 0.9098 - val_loss: 0.1643 - val_accuracy: 0.9557\n",
      "Epoch 2/10\n",
      "375/375 [==============================] - 2s 5ms/step - loss: 0.1400 - accuracy: 0.9640 - val_loss: 0.1392 - val_accuracy: 0.9669\n",
      "Epoch 3/10\n",
      "375/375 [==============================] - 2s 5ms/step - loss: 0.1149 - accuracy: 0.9730 - val_loss: 0.1867 - val_accuracy: 0.9610\n",
      "Epoch 4/10\n",
      "375/375 [==============================] - 2s 5ms/step - loss: 0.0993 - accuracy: 0.9778 - val_loss: 0.1815 - val_accuracy: 0.9715\n",
      "Epoch 5/10\n",
      "375/375 [==============================] - 2s 5ms/step - loss: 0.0848 - accuracy: 0.9815 - val_loss: 0.2341 - val_accuracy: 0.9691\n",
      "Epoch 6/10\n",
      "375/375 [==============================] - 2s 5ms/step - loss: 0.0806 - accuracy: 0.9834 - val_loss: 0.2015 - val_accuracy: 0.9727\n",
      "Epoch 7/10\n",
      "375/375 [==============================] - 2s 5ms/step - loss: 0.0719 - accuracy: 0.9865 - val_loss: 0.2717 - val_accuracy: 0.9685\n",
      "Epoch 8/10\n",
      "375/375 [==============================] - 2s 5ms/step - loss: 0.0691 - accuracy: 0.9877 - val_loss: 0.2729 - val_accuracy: 0.9725\n",
      "Epoch 9/10\n",
      "375/375 [==============================] - 2s 5ms/step - loss: 0.0628 - accuracy: 0.9889 - val_loss: 0.2601 - val_accuracy: 0.9737\n",
      "Epoch 10/10\n",
      "375/375 [==============================] - 2s 5ms/step - loss: 0.0565 - accuracy: 0.9903 - val_loss: 0.3517 - val_accuracy: 0.9668\n"
     ]
    },
    {
     "data": {
      "text/plain": [
       "<keras.callbacks.History at 0x7f0112b120b8>"
      ]
     },
     "execution_count": 7,
     "metadata": {},
     "output_type": "execute_result"
    }
   ],
   "source": [
    "model = keras.Sequential([\n",
    "    layers.Dense(512, activation=\"relu\"),\n",
    "    layers.Dense(10, activation=\"softmax\")\n",
    "])\n",
    "model.compile(optimizer=keras.optimizers.RMSprop(1e-2),\n",
    "              loss=\"sparse_categorical_crossentropy\",\n",
    "              metrics=[\"accuracy\"])\n",
    "model.fit(train_images, train_labels,\n",
    "          epochs=10,\n",
    "          batch_size=128,\n",
    "          validation_split=0.2)"
   ]
  },
  {
   "cell_type": "markdown",
   "metadata": {
    "colab_type": "text"
   },
   "source": [
    "### 구조에 대해 더 나은 가정하기"
   ]
  },
  {
   "cell_type": "markdown",
   "metadata": {
    "colab_type": "text"
   },
   "source": [
    "### 모델 용량 늘리기"
   ]
  },
  {
   "cell_type": "markdown",
   "metadata": {
    "colab_type": "text"
   },
   "source": [
    "**MNIST 데이터를 사용한 간단한 로지스틱 회귀 모델**"
   ]
  },
  {
   "cell_type": "code",
   "execution_count": 8,
   "metadata": {
    "colab_type": "code",
    "execution": {
     "iopub.execute_input": "2022-05-21T01:06:11.530131Z",
     "iopub.status.busy": "2022-05-21T01:06:11.529560Z",
     "iopub.status.idle": "2022-05-21T01:06:25.955536Z",
     "shell.execute_reply": "2022-05-21T01:06:25.954654Z"
    }
   },
   "outputs": [
    {
     "name": "stdout",
     "output_type": "stream",
     "text": [
      "Epoch 1/20\n",
      "375/375 [==============================] - 1s 2ms/step - loss: 0.6708 - accuracy: 0.8349 - val_loss: 0.3596 - val_accuracy: 0.9038\n",
      "Epoch 2/20\n",
      "375/375 [==============================] - 1s 2ms/step - loss: 0.3522 - accuracy: 0.9026 - val_loss: 0.3089 - val_accuracy: 0.9152\n",
      "Epoch 3/20\n",
      "375/375 [==============================] - 1s 2ms/step - loss: 0.3162 - accuracy: 0.9117 - val_loss: 0.2901 - val_accuracy: 0.9185\n",
      "Epoch 4/20\n",
      "375/375 [==============================] - 1s 2ms/step - loss: 0.2998 - accuracy: 0.9163 - val_loss: 0.2812 - val_accuracy: 0.9196\n",
      "Epoch 5/20\n",
      "375/375 [==============================] - 1s 2ms/step - loss: 0.2903 - accuracy: 0.9187 - val_loss: 0.2749 - val_accuracy: 0.9236\n",
      "Epoch 6/20\n",
      "375/375 [==============================] - 1s 2ms/step - loss: 0.2835 - accuracy: 0.9206 - val_loss: 0.2741 - val_accuracy: 0.9244\n",
      "Epoch 7/20\n",
      "375/375 [==============================] - 1s 2ms/step - loss: 0.2782 - accuracy: 0.9227 - val_loss: 0.2694 - val_accuracy: 0.9246\n",
      "Epoch 8/20\n",
      "375/375 [==============================] - 1s 2ms/step - loss: 0.2743 - accuracy: 0.9235 - val_loss: 0.2668 - val_accuracy: 0.9261\n",
      "Epoch 9/20\n",
      "375/375 [==============================] - 1s 2ms/step - loss: 0.2717 - accuracy: 0.9245 - val_loss: 0.2640 - val_accuracy: 0.9283\n",
      "Epoch 10/20\n",
      "375/375 [==============================] - 1s 2ms/step - loss: 0.2691 - accuracy: 0.9253 - val_loss: 0.2647 - val_accuracy: 0.9278\n",
      "Epoch 11/20\n",
      "375/375 [==============================] - 1s 2ms/step - loss: 0.2673 - accuracy: 0.9256 - val_loss: 0.2628 - val_accuracy: 0.9281\n",
      "Epoch 12/20\n",
      "375/375 [==============================] - 1s 2ms/step - loss: 0.2650 - accuracy: 0.9270 - val_loss: 0.2633 - val_accuracy: 0.9286\n",
      "Epoch 13/20\n",
      "375/375 [==============================] - 1s 2ms/step - loss: 0.2633 - accuracy: 0.9273 - val_loss: 0.2617 - val_accuracy: 0.9301\n",
      "Epoch 14/20\n",
      "375/375 [==============================] - 1s 2ms/step - loss: 0.2619 - accuracy: 0.9279 - val_loss: 0.2622 - val_accuracy: 0.9293\n",
      "Epoch 15/20\n",
      "375/375 [==============================] - 1s 2ms/step - loss: 0.2602 - accuracy: 0.9284 - val_loss: 0.2625 - val_accuracy: 0.9291\n",
      "Epoch 16/20\n",
      "375/375 [==============================] - 1s 2ms/step - loss: 0.2594 - accuracy: 0.9284 - val_loss: 0.2609 - val_accuracy: 0.9303\n",
      "Epoch 17/20\n",
      "375/375 [==============================] - 1s 2ms/step - loss: 0.2583 - accuracy: 0.9288 - val_loss: 0.2607 - val_accuracy: 0.9299\n",
      "Epoch 18/20\n",
      "375/375 [==============================] - 1s 2ms/step - loss: 0.2573 - accuracy: 0.9298 - val_loss: 0.2597 - val_accuracy: 0.9307\n",
      "Epoch 19/20\n",
      "375/375 [==============================] - 1s 2ms/step - loss: 0.2566 - accuracy: 0.9296 - val_loss: 0.2610 - val_accuracy: 0.9299\n",
      "Epoch 20/20\n",
      "375/375 [==============================] - 1s 2ms/step - loss: 0.2556 - accuracy: 0.9301 - val_loss: 0.2597 - val_accuracy: 0.9310\n"
     ]
    }
   ],
   "source": [
    "model = keras.Sequential([layers.Dense(10, activation=\"softmax\")])\n",
    "model.compile(optimizer=\"rmsprop\",\n",
    "              loss=\"sparse_categorical_crossentropy\",\n",
    "              metrics=[\"accuracy\"])\n",
    "history_small_model = model.fit(\n",
    "    train_images, train_labels,\n",
    "    epochs=20,\n",
    "    batch_size=128,\n",
    "    validation_split=0.2)"
   ]
  },
  {
   "cell_type": "code",
   "execution_count": 9,
   "metadata": {
    "colab_type": "code",
    "execution": {
     "iopub.execute_input": "2022-05-21T01:06:25.959685Z",
     "iopub.status.busy": "2022-05-21T01:06:25.959399Z",
     "iopub.status.idle": "2022-05-21T01:06:26.277516Z",
     "shell.execute_reply": "2022-05-21T01:06:26.276506Z"
    }
   },
   "outputs": [
    {
     "data": {
      "image/png": "[encoded data removed]",
      "text/plain": [
       "<Figure size 432x288 with 1 Axes>"
      ]
     },
     "metadata": {
      "needs_background": "light"
     },
     "output_type": "display_data"
    }
   ],
   "source": [
    "import matplotlib.pyplot as plt\n",
    "val_loss = history_small_model.history[\"val_loss\"]\n",
    "epochs = range(1, 21)\n",
    "plt.plot(epochs, val_loss, \"b--\",\n",
    "         label=\"Validation loss\")\n",
    "plt.title(\"Effect of insufficient model capacity on validation loss\")\n",
    "plt.xlabel(\"Epochs\")\n",
    "plt.ylabel(\"Loss\")\n",
    "plt.legend()\n",
    "plt.show()"
   ]
  },
  {
   "cell_type": "code",
   "execution_count": 10,
   "metadata": {
    "colab_type": "code",
    "execution": {
     "iopub.execute_input": "2022-05-21T01:06:26.281161Z",
     "iopub.status.busy": "2022-05-21T01:06:26.280863Z",
     "iopub.status.idle": "2022-05-21T01:06:48.235589Z",
     "shell.execute_reply": "2022-05-21T01:06:48.234644Z"
    }
   },
   "outputs": [
    {
     "name": "stdout",
     "output_type": "stream",
     "text": [
      "Epoch 1/20\n",
      "375/375 [==============================] - 2s 3ms/step - loss: 0.3613 - accuracy: 0.8980 - val_loss: 0.2050 - val_accuracy: 0.9401\n",
      "Epoch 2/20\n",
      "375/375 [==============================] - 1s 3ms/step - loss: 0.1603 - accuracy: 0.9523 - val_loss: 0.1302 - val_accuracy: 0.9623\n",
      "Epoch 3/20\n",
      "375/375 [==============================] - 1s 3ms/step - loss: 0.1145 - accuracy: 0.9659 - val_loss: 0.1135 - val_accuracy: 0.9668\n",
      "Epoch 4/20\n",
      "375/375 [==============================] - 1s 3ms/step - loss: 0.0876 - accuracy: 0.9737 - val_loss: 0.1044 - val_accuracy: 0.9691\n",
      "Epoch 5/20\n",
      "375/375 [==============================] - 1s 3ms/step - loss: 0.0710 - accuracy: 0.9789 - val_loss: 0.1364 - val_accuracy: 0.9583\n",
      "Epoch 6/20\n",
      "375/375 [==============================] - 1s 3ms/step - loss: 0.0581 - accuracy: 0.9821 - val_loss: 0.1086 - val_accuracy: 0.9691\n",
      "Epoch 7/20\n",
      "375/375 [==============================] - 1s 3ms/step - loss: 0.0483 - accuracy: 0.9853 - val_loss: 0.0935 - val_accuracy: 0.9746\n",
      "Epoch 8/20\n",
      "375/375 [==============================] - 1s 3ms/step - loss: 0.0404 - accuracy: 0.9875 - val_loss: 0.0910 - val_accuracy: 0.9737\n",
      "Epoch 9/20\n",
      "375/375 [==============================] - 1s 3ms/step - loss: 0.0329 - accuracy: 0.9896 - val_loss: 0.0982 - val_accuracy: 0.9753\n",
      "Epoch 10/20\n",
      "375/375 [==============================] - 1s 3ms/step - loss: 0.0281 - accuracy: 0.9914 - val_loss: 0.0983 - val_accuracy: 0.9759\n",
      "Epoch 11/20\n",
      "375/375 [==============================] - 1s 3ms/step - loss: 0.0231 - accuracy: 0.9931 - val_loss: 0.1004 - val_accuracy: 0.9768\n",
      "Epoch 12/20\n",
      "375/375 [==============================] - 1s 3ms/step - loss: 0.0209 - accuracy: 0.9935 - val_loss: 0.1194 - val_accuracy: 0.9718\n",
      "Epoch 13/20\n",
      "375/375 [==============================] - 1s 3ms/step - loss: 0.0178 - accuracy: 0.9943 - val_loss: 0.1086 - val_accuracy: 0.9748\n",
      "Epoch 14/20\n",
      "375/375 [==============================] - 1s 3ms/step - loss: 0.0145 - accuracy: 0.9953 - val_loss: 0.1157 - val_accuracy: 0.9734\n",
      "Epoch 15/20\n",
      "375/375 [==============================] - 1s 3ms/step - loss: 0.0118 - accuracy: 0.9962 - val_loss: 0.1185 - val_accuracy: 0.9755\n",
      "Epoch 16/20\n",
      "375/375 [==============================] - 1s 3ms/step - loss: 0.0107 - accuracy: 0.9966 - val_loss: 0.1231 - val_accuracy: 0.9749\n",
      "Epoch 17/20\n",
      "375/375 [==============================] - 1s 3ms/step - loss: 0.0093 - accuracy: 0.9972 - val_loss: 0.1310 - val_accuracy: 0.9748\n",
      "Epoch 18/20\n",
      "375/375 [==============================] - 1s 3ms/step - loss: 0.0074 - accuracy: 0.9976 - val_loss: 0.1318 - val_accuracy: 0.9745\n",
      "Epoch 19/20\n",
      "375/375 [==============================] - 1s 3ms/step - loss: 0.0071 - accuracy: 0.9977 - val_loss: 0.1499 - val_accuracy: 0.9730\n",
      "Epoch 20/20\n",
      "375/375 [==============================] - 1s 3ms/step - loss: 0.0052 - accuracy: 0.9985 - val_loss: 0.1514 - val_accuracy: 0.9741\n"
     ]
    }
   ],
   "source": [
    "model = keras.Sequential([\n",
    "    layers.Dense(96, activation=\"relu\"),\n",
    "    layers.Dense(96, activation=\"relu\"),\n",
    "    layers.Dense(10, activation=\"softmax\"),\n",
    "])\n",
    "model.compile(optimizer=\"rmsprop\",\n",
    "              loss=\"sparse_categorical_crossentropy\",\n",
    "              metrics=[\"accuracy\"])\n",
    "history_large_model = model.fit(\n",
    "    train_images, train_labels,\n",
    "    epochs=20,\n",
    "    batch_size=128,\n",
    "    validation_split=0.2)"
   ]
  },
  {
   "cell_type": "markdown",
   "metadata": {
    "colab_type": "text"
   },
   "source": [
    "## 일반화 성능 향상하기"
   ]
  },
  {
   "cell_type": "markdown",
   "metadata": {
    "colab_type": "text"
   },
   "source": [
    "### 데이터셋 큐레이션"
   ]
  },
  {
   "cell_type": "markdown",
   "metadata": {
    "colab_type": "text"
   },
   "source": [
    "### 특성 공학"
   ]
  },
  {
   "cell_type": "markdown",
   "metadata": {
    "colab_type": "text"
   },
   "source": [
    "### 조기 종료 사용하기"
   ]
  },
  {
   "cell_type": "markdown",
   "metadata": {
    "colab_type": "text"
   },
   "source": [
    "### 모델 규제하기"
   ]
  },
  {
   "cell_type": "markdown",
   "metadata": {
    "colab_type": "text"
   },
   "source": [
    "#### 네트워크 크기 축소"
   ]
  },
  {
   "cell_type": "markdown",
   "metadata": {
    "colab_type": "text"
   },
   "source": [
    "**원본 모델**"
   ]
  },
  {
   "cell_type": "code",
   "execution_count": 11,
   "metadata": {
    "colab_type": "code",
    "execution": {
     "iopub.execute_input": "2022-05-21T01:06:48.240327Z",
     "iopub.status.busy": "2022-05-21T01:06:48.239635Z",
     "iopub.status.idle": "2022-05-21T01:07:01.599335Z",
     "shell.execute_reply": "2022-05-21T01:07:01.598428Z"
    }
   },
   "outputs": [
    {
     "name": "stdout",
     "output_type": "stream",
     "text": [
      "Epoch 1/20\n",
      "30/30 [==============================] - 1s 27ms/step - loss: 0.5206 - accuracy: 0.8014 - val_loss: 0.3950 - val_accuracy: 0.8709\n",
      "Epoch 2/20\n",
      "30/30 [==============================] - 0s 12ms/step - loss: 0.3199 - accuracy: 0.9005 - val_loss: 0.3420 - val_accuracy: 0.8611\n",
      "Epoch 3/20\n",
      "30/30 [==============================] - 0s 12ms/step - loss: 0.2366 - accuracy: 0.9255 - val_loss: 0.2835 - val_accuracy: 0.8899\n",
      "Epoch 4/20\n",
      "30/30 [==============================] - 0s 12ms/step - loss: 0.1868 - accuracy: 0.9394 - val_loss: 0.2920 - val_accuracy: 0.8825\n",
      "Epoch 5/20\n",
      "30/30 [==============================] - 0s 12ms/step - loss: 0.1540 - accuracy: 0.9509 - val_loss: 0.2746 - val_accuracy: 0.8888\n",
      "Epoch 6/20\n",
      "30/30 [==============================] - 0s 12ms/step - loss: 0.1266 - accuracy: 0.9601 - val_loss: 0.2858 - val_accuracy: 0.8865\n",
      "Epoch 7/20\n",
      "30/30 [==============================] - 0s 12ms/step - loss: 0.1038 - accuracy: 0.9691 - val_loss: 0.3048 - val_accuracy: 0.8850\n",
      "Epoch 8/20\n",
      "30/30 [==============================] - 0s 12ms/step - loss: 0.0884 - accuracy: 0.9741 - val_loss: 0.3194 - val_accuracy: 0.8835\n",
      "Epoch 9/20\n",
      "30/30 [==============================] - 0s 12ms/step - loss: 0.0726 - accuracy: 0.9804 - val_loss: 0.3452 - val_accuracy: 0.8813\n",
      "Epoch 10/20\n",
      "30/30 [==============================] - 0s 12ms/step - loss: 0.0631 - accuracy: 0.9839 - val_loss: 0.3652 - val_accuracy: 0.8809\n",
      "Epoch 11/20\n",
      "30/30 [==============================] - 0s 14ms/step - loss: 0.0503 - accuracy: 0.9883 - val_loss: 0.3973 - val_accuracy: 0.8764\n",
      "Epoch 12/20\n",
      "30/30 [==============================] - 0s 12ms/step - loss: 0.0421 - accuracy: 0.9905 - val_loss: 0.4161 - val_accuracy: 0.8781\n",
      "Epoch 13/20\n",
      "30/30 [==============================] - 0s 12ms/step - loss: 0.0333 - accuracy: 0.9932 - val_loss: 0.4492 - val_accuracy: 0.8744\n",
      "Epoch 14/20\n",
      "30/30 [==============================] - 0s 11ms/step - loss: 0.0280 - accuracy: 0.9943 - val_loss: 0.4943 - val_accuracy: 0.8691\n",
      "Epoch 15/20\n",
      "30/30 [==============================] - 0s 11ms/step - loss: 0.0218 - accuracy: 0.9966 - val_loss: 0.5404 - val_accuracy: 0.8673\n",
      "Epoch 16/20\n",
      "30/30 [==============================] - 0s 11ms/step - loss: 0.0177 - accuracy: 0.9969 - val_loss: 0.5454 - val_accuracy: 0.8696\n",
      "Epoch 17/20\n",
      "30/30 [==============================] - 0s 12ms/step - loss: 0.0149 - accuracy: 0.9975 - val_loss: 0.5734 - val_accuracy: 0.8698\n",
      "Epoch 18/20\n",
      "30/30 [==============================] - 0s 12ms/step - loss: 0.0090 - accuracy: 0.9991 - val_loss: 0.6149 - val_accuracy: 0.8658\n",
      "Epoch 19/20\n",
      "30/30 [==============================] - 0s 12ms/step - loss: 0.0091 - accuracy: 0.9987 - val_loss: 0.6541 - val_accuracy: 0.8644\n",
      "Epoch 20/20\n",
      "30/30 [==============================] - 0s 11ms/step - loss: 0.0070 - accuracy: 0.9991 - val_loss: 0.7251 - val_accuracy: 0.8596\n"
     ]
    }
   ],
   "source": [
    "from tensorflow.keras.datasets import imdb\n",
    "(train_data, train_labels), _ = imdb.load_data(num_words=10000)\n",
    "\n",
    "def vectorize_sequences(sequences, dimension=10000):\n",
    "    results = np.zeros((len(sequences), dimension))\n",
    "    for i, sequence in enumerate(sequences):\n",
    "        results[i, sequence] = 1.\n",
    "    return results\n",
    "train_data = vectorize_sequences(train_data)\n",
    "\n",
    "model = keras.Sequential([\n",
    "    layers.Dense(16, activation=\"relu\"),\n",
    "    layers.Dense(16, activation=\"relu\"),\n",
    "    layers.Dense(1, activation=\"sigmoid\")\n",
    "])\n",
    "model.compile(optimizer=\"rmsprop\",\n",
    "              loss=\"binary_crossentropy\",\n",
    "              metrics=[\"accuracy\"])\n",
    "history_original = model.fit(train_data, train_labels,\n",
    "                             epochs=20, batch_size=512, validation_split=0.4)"
   ]
  },
  {
   "cell_type": "markdown",
   "metadata": {
    "colab_type": "text"
   },
   "source": [
    "**작은 용량의 모델**"
   ]
  },
  {
   "cell_type": "code",
   "execution_count": 12,
   "metadata": {
    "colab_type": "code",
    "execution": {
     "iopub.execute_input": "2022-05-21T01:07:01.603485Z",
     "iopub.status.busy": "2022-05-21T01:07:01.603168Z",
     "iopub.status.idle": "2022-05-21T01:07:09.910749Z",
     "shell.execute_reply": "2022-05-21T01:07:09.909893Z"
    }
   },
   "outputs": [
    {
     "name": "stdout",
     "output_type": "stream",
     "text": [
      "Epoch 1/20\n",
      "30/30 [==============================] - 1s 26ms/step - loss: 0.6109 - accuracy: 0.7743 - val_loss: 0.5419 - val_accuracy: 0.8368\n",
      "Epoch 2/20\n",
      "30/30 [==============================] - 0s 11ms/step - loss: 0.4792 - accuracy: 0.8785 - val_loss: 0.4481 - val_accuracy: 0.8662\n",
      "Epoch 3/20\n",
      "30/30 [==============================] - 0s 12ms/step - loss: 0.3874 - accuracy: 0.9012 - val_loss: 0.3844 - val_accuracy: 0.8774\n",
      "Epoch 4/20\n",
      "30/30 [==============================] - 0s 11ms/step - loss: 0.3210 - accuracy: 0.9144 - val_loss: 0.3397 - val_accuracy: 0.8843\n",
      "Epoch 5/20\n",
      "30/30 [==============================] - 0s 11ms/step - loss: 0.2718 - accuracy: 0.9254 - val_loss: 0.3123 - val_accuracy: 0.8873\n",
      "Epoch 6/20\n",
      "30/30 [==============================] - 0s 11ms/step - loss: 0.2343 - accuracy: 0.9337 - val_loss: 0.2949 - val_accuracy: 0.8897\n",
      "Epoch 7/20\n",
      "30/30 [==============================] - 0s 11ms/step - loss: 0.2059 - accuracy: 0.9420 - val_loss: 0.2812 - val_accuracy: 0.8921\n",
      "Epoch 8/20\n",
      "30/30 [==============================] - 0s 11ms/step - loss: 0.1818 - accuracy: 0.9483 - val_loss: 0.2773 - val_accuracy: 0.8894\n",
      "Epoch 9/20\n",
      "30/30 [==============================] - 0s 11ms/step - loss: 0.1616 - accuracy: 0.9547 - val_loss: 0.2755 - val_accuracy: 0.8912\n",
      "Epoch 10/20\n",
      "30/30 [==============================] - 0s 11ms/step - loss: 0.1437 - accuracy: 0.9598 - val_loss: 0.2949 - val_accuracy: 0.8812\n",
      "Epoch 11/20\n",
      "30/30 [==============================] - 0s 12ms/step - loss: 0.1296 - accuracy: 0.9639 - val_loss: 0.2765 - val_accuracy: 0.8904\n",
      "Epoch 12/20\n",
      "30/30 [==============================] - 0s 11ms/step - loss: 0.1154 - accuracy: 0.9699 - val_loss: 0.2822 - val_accuracy: 0.8879\n",
      "Epoch 13/20\n",
      "30/30 [==============================] - 0s 12ms/step - loss: 0.1034 - accuracy: 0.9728 - val_loss: 0.2890 - val_accuracy: 0.8870\n",
      "Epoch 14/20\n",
      "30/30 [==============================] - 0s 12ms/step - loss: 0.0926 - accuracy: 0.9763 - val_loss: 0.3013 - val_accuracy: 0.8849\n",
      "Epoch 15/20\n",
      "30/30 [==============================] - 0s 11ms/step - loss: 0.0820 - accuracy: 0.9802 - val_loss: 0.3065 - val_accuracy: 0.8828\n",
      "Epoch 16/20\n",
      "30/30 [==============================] - 0s 11ms/step - loss: 0.0733 - accuracy: 0.9830 - val_loss: 0.3187 - val_accuracy: 0.8826\n",
      "Epoch 17/20\n",
      "30/30 [==============================] - 0s 11ms/step - loss: 0.0650 - accuracy: 0.9860 - val_loss: 0.3290 - val_accuracy: 0.8816\n",
      "Epoch 18/20\n",
      "30/30 [==============================] - 0s 11ms/step - loss: 0.0578 - accuracy: 0.9881 - val_loss: 0.3416 - val_accuracy: 0.8807\n",
      "Epoch 19/20\n",
      "30/30 [==============================] - 0s 12ms/step - loss: 0.0509 - accuracy: 0.9895 - val_loss: 0.3598 - val_accuracy: 0.8780\n",
      "Epoch 20/20\n",
      "30/30 [==============================] - 0s 11ms/step - loss: 0.0455 - accuracy: 0.9907 - val_loss: 0.3694 - val_accuracy: 0.8780\n"
     ]
    }
   ],
   "source": [
    "model = keras.Sequential([\n",
    "    layers.Dense(4, activation=\"relu\"),\n",
    "    layers.Dense(4, activation=\"relu\"),\n",
    "    layers.Dense(1, activation=\"sigmoid\")\n",
    "])\n",
    "model.compile(optimizer=\"rmsprop\",\n",
    "              loss=\"binary_crossentropy\",\n",
    "              metrics=[\"accuracy\"])\n",
    "history_smaller_model = model.fit(\n",
    "    train_data, train_labels,\n",
    "    epochs=20, batch_size=512, validation_split=0.4)"
   ]
  },
  {
   "cell_type": "markdown",
   "metadata": {
    "colab_type": "text"
   },
   "source": [
    "**큰 용량의 모델**"
   ]
  },
  {
   "cell_type": "code",
   "execution_count": 13,
   "metadata": {
    "colab_type": "code",
    "execution": {
     "iopub.execute_input": "2022-05-21T01:07:09.914619Z",
     "iopub.status.busy": "2022-05-21T01:07:09.914070Z",
     "iopub.status.idle": "2022-05-21T01:07:55.440909Z",
     "shell.execute_reply": "2022-05-21T01:07:55.439855Z"
    }
   },
   "outputs": [
    {
     "name": "stdout",
     "output_type": "stream",
     "text": [
      "Epoch 1/20\n",
      "30/30 [==============================] - 3s 89ms/step - loss: 0.5415 - accuracy: 0.7588 - val_loss: 0.2896 - val_accuracy: 0.8829\n",
      "Epoch 2/20\n",
      "30/30 [==============================] - 2s 72ms/step - loss: 0.2697 - accuracy: 0.8931 - val_loss: 0.2733 - val_accuracy: 0.8867\n",
      "Epoch 3/20\n",
      "30/30 [==============================] - 2s 72ms/step - loss: 0.1415 - accuracy: 0.9493 - val_loss: 0.3534 - val_accuracy: 0.8785\n",
      "Epoch 4/20\n",
      "30/30 [==============================] - 2s 74ms/step - loss: 0.0855 - accuracy: 0.9726 - val_loss: 0.5873 - val_accuracy: 0.8282\n",
      "Epoch 5/20\n",
      "30/30 [==============================] - 2s 73ms/step - loss: 0.1175 - accuracy: 0.9763 - val_loss: 0.3404 - val_accuracy: 0.8861\n",
      "Epoch 6/20\n",
      "30/30 [==============================] - 2s 72ms/step - loss: 0.0062 - accuracy: 0.9991 - val_loss: 0.4938 - val_accuracy: 0.8885\n",
      "Epoch 7/20\n",
      "30/30 [==============================] - 2s 73ms/step - loss: 9.6325e-04 - accuracy: 0.9998 - val_loss: 0.5984 - val_accuracy: 0.8877\n",
      "Epoch 8/20\n",
      "30/30 [==============================] - 2s 72ms/step - loss: 1.2871e-04 - accuracy: 1.0000 - val_loss: 0.7316 - val_accuracy: 0.8873\n",
      "Epoch 9/20\n",
      "30/30 [==============================] - 2s 72ms/step - loss: 2.4239e-05 - accuracy: 1.0000 - val_loss: 0.8166 - val_accuracy: 0.8851\n",
      "Epoch 10/20\n",
      "30/30 [==============================] - 2s 73ms/step - loss: 4.8460e-06 - accuracy: 1.0000 - val_loss: 0.9175 - val_accuracy: 0.8852\n",
      "Epoch 11/20\n",
      "30/30 [==============================] - 3s 89ms/step - loss: 1.2302e-06 - accuracy: 1.0000 - val_loss: 1.0019 - val_accuracy: 0.8851\n",
      "Epoch 12/20\n",
      "30/30 [==============================] - 2s 71ms/step - loss: 3.7986e-07 - accuracy: 1.0000 - val_loss: 1.1047 - val_accuracy: 0.8860\n",
      "Epoch 13/20\n",
      "30/30 [==============================] - 2s 72ms/step - loss: 1.3450e-07 - accuracy: 1.0000 - val_loss: 1.1699 - val_accuracy: 0.8857\n",
      "Epoch 14/20\n",
      "30/30 [==============================] - 2s 72ms/step - loss: 5.3586e-08 - accuracy: 1.0000 - val_loss: 1.2033 - val_accuracy: 0.8851\n",
      "Epoch 15/20\n",
      "30/30 [==============================] - 2s 74ms/step - loss: 2.9812e-08 - accuracy: 1.0000 - val_loss: 1.2375 - val_accuracy: 0.8850\n",
      "Epoch 16/20\n",
      "30/30 [==============================] - 2s 73ms/step - loss: 2.0001e-08 - accuracy: 1.0000 - val_loss: 1.2630 - val_accuracy: 0.8851\n",
      "Epoch 17/20\n",
      "30/30 [==============================] - 2s 73ms/step - loss: 1.4867e-08 - accuracy: 1.0000 - val_loss: 1.2777 - val_accuracy: 0.8851\n",
      "Epoch 18/20\n",
      "30/30 [==============================] - 2s 72ms/step - loss: 1.1879e-08 - accuracy: 1.0000 - val_loss: 1.2938 - val_accuracy: 0.8850\n",
      "Epoch 19/20\n",
      "30/30 [==============================] - 2s 72ms/step - loss: 9.8788e-09 - accuracy: 1.0000 - val_loss: 1.3059 - val_accuracy: 0.8850\n",
      "Epoch 20/20\n",
      "30/30 [==============================] - 2s 72ms/step - loss: 8.4562e-09 - accuracy: 1.0000 - val_loss: 1.3161 - val_accuracy: 0.8850\n"
     ]
    }
   ],
   "source": [
    "model = keras.Sequential([\n",
    "    layers.Dense(512, activation=\"relu\"),\n",
    "    layers.Dense(512, activation=\"relu\"),\n",
    "    layers.Dense(1, activation=\"sigmoid\")\n",
    "])\n",
    "model.compile(optimizer=\"rmsprop\",\n",
    "              loss=\"binary_crossentropy\",\n",
    "              metrics=[\"accuracy\"])\n",
    "history_larger_model = model.fit(\n",
    "    train_data, train_labels,\n",
    "    epochs=20, batch_size=512, validation_split=0.4)"
   ]
  },
  {
   "cell_type": "markdown",
   "metadata": {
    "colab_type": "text"
   },
   "source": [
    "#### 가중치 규제 추가하기"
   ]
  },
  {
   "cell_type": "markdown",
   "metadata": {
    "colab_type": "text"
   },
   "source": [
    "**모델에 L2 가중치 추가하기**"
   ]
  },
  {
   "cell_type": "code",
   "execution_count": 14,
   "metadata": {
    "colab_type": "code",
    "execution": {
     "iopub.execute_input": "2022-05-21T01:07:55.445676Z",
     "iopub.status.busy": "2022-05-21T01:07:55.444826Z",
     "iopub.status.idle": "2022-05-21T01:08:04.225182Z",
     "shell.execute_reply": "2022-05-21T01:08:04.224432Z"
    }
   },
   "outputs": [
    {
     "name": "stdout",
     "output_type": "stream",
     "text": [
      "Epoch 1/20\n",
      "30/30 [==============================] - 1s 27ms/step - loss: 0.5787 - accuracy: 0.7929 - val_loss: 0.4689 - val_accuracy: 0.8470\n",
      "Epoch 2/20\n",
      "30/30 [==============================] - 0s 11ms/step - loss: 0.3892 - accuracy: 0.8927 - val_loss: 0.3838 - val_accuracy: 0.8838\n",
      "Epoch 3/20\n",
      "30/30 [==============================] - 0s 12ms/step - loss: 0.3288 - accuracy: 0.9137 - val_loss: 0.3636 - val_accuracy: 0.8872\n",
      "Epoch 4/20\n",
      "30/30 [==============================] - 0s 12ms/step - loss: 0.2975 - accuracy: 0.9272 - val_loss: 0.3631 - val_accuracy: 0.8860\n",
      "Epoch 5/20\n",
      "30/30 [==============================] - 0s 12ms/step - loss: 0.2766 - accuracy: 0.9333 - val_loss: 0.3683 - val_accuracy: 0.8821\n",
      "Epoch 6/20\n",
      "30/30 [==============================] - 0s 12ms/step - loss: 0.2708 - accuracy: 0.9329 - val_loss: 0.3644 - val_accuracy: 0.8845\n",
      "Epoch 7/20\n",
      "30/30 [==============================] - 0s 14ms/step - loss: 0.2529 - accuracy: 0.9429 - val_loss: 0.3637 - val_accuracy: 0.8837\n",
      "Epoch 8/20\n",
      "30/30 [==============================] - 0s 11ms/step - loss: 0.2508 - accuracy: 0.9409 - val_loss: 0.3676 - val_accuracy: 0.8827\n",
      "Epoch 9/20\n",
      "30/30 [==============================] - 0s 12ms/step - loss: 0.2435 - accuracy: 0.9427 - val_loss: 0.3712 - val_accuracy: 0.8803\n",
      "Epoch 10/20\n",
      "30/30 [==============================] - 0s 12ms/step - loss: 0.2384 - accuracy: 0.9460 - val_loss: 0.3746 - val_accuracy: 0.8792\n",
      "Epoch 11/20\n",
      "30/30 [==============================] - 0s 11ms/step - loss: 0.2348 - accuracy: 0.9480 - val_loss: 0.3924 - val_accuracy: 0.8755\n",
      "Epoch 12/20\n",
      "30/30 [==============================] - 0s 11ms/step - loss: 0.2235 - accuracy: 0.9518 - val_loss: 0.3952 - val_accuracy: 0.8740\n",
      "Epoch 13/20\n",
      "30/30 [==============================] - 0s 12ms/step - loss: 0.2253 - accuracy: 0.9510 - val_loss: 0.4122 - val_accuracy: 0.8720\n",
      "Epoch 14/20\n",
      "30/30 [==============================] - 0s 12ms/step - loss: 0.2218 - accuracy: 0.9525 - val_loss: 0.3898 - val_accuracy: 0.8790\n",
      "Epoch 15/20\n",
      "30/30 [==============================] - 0s 11ms/step - loss: 0.2218 - accuracy: 0.9511 - val_loss: 0.3932 - val_accuracy: 0.8804\n",
      "Epoch 16/20\n",
      "30/30 [==============================] - 0s 12ms/step - loss: 0.2151 - accuracy: 0.9548 - val_loss: 0.4375 - val_accuracy: 0.8680\n",
      "Epoch 17/20\n",
      "30/30 [==============================] - 0s 14ms/step - loss: 0.2113 - accuracy: 0.9569 - val_loss: 0.4685 - val_accuracy: 0.8522\n",
      "Epoch 18/20\n",
      "30/30 [==============================] - 0s 12ms/step - loss: 0.2129 - accuracy: 0.9544 - val_loss: 0.4060 - val_accuracy: 0.8748\n",
      "Epoch 19/20\n",
      "30/30 [==============================] - 0s 14ms/step - loss: 0.2139 - accuracy: 0.9545 - val_loss: 0.4045 - val_accuracy: 0.8762\n",
      "Epoch 20/20\n",
      "30/30 [==============================] - 0s 11ms/step - loss: 0.2047 - accuracy: 0.9593 - val_loss: 0.4253 - val_accuracy: 0.8715\n"
     ]
    }
   ],
   "source": [
    "from tensorflow.keras import regularizers\n",
    "model = keras.Sequential([\n",
    "    layers.Dense(16,\n",
    "                 kernel_regularizer=regularizers.l2(0.002),\n",
    "                 activation=\"relu\"),\n",
    "    layers.Dense(16,\n",
    "                 kernel_regularizer=regularizers.l2(0.002),\n",
    "                 activation=\"relu\"),\n",
    "    layers.Dense(1, activation=\"sigmoid\")\n",
    "])\n",
    "model.compile(optimizer=\"rmsprop\",\n",
    "              loss=\"binary_crossentropy\",\n",
    "              metrics=[\"accuracy\"])\n",
    "history_l2_reg = model.fit(\n",
    "    train_data, train_labels,\n",
    "    epochs=20, batch_size=512, validation_split=0.4)"
   ]
  },
  {
   "cell_type": "markdown",
   "metadata": {
    "colab_type": "text"
   },
   "source": [
    "**케라스에서 사용할 수 있는 가중치 규제**"
   ]
  },
  {
   "cell_type": "code",
   "execution_count": 15,
   "metadata": {
    "colab_type": "code",
    "execution": {
     "iopub.execute_input": "2022-05-21T01:08:04.229728Z",
     "iopub.status.busy": "2022-05-21T01:08:04.228866Z",
     "iopub.status.idle": "2022-05-21T01:08:04.237099Z",
     "shell.execute_reply": "2022-05-21T01:08:04.235990Z"
    }
   },
   "outputs": [
    {
     "data": {
      "text/plain": [
       "<keras.regularizers.L1L2 at 0x7f01127f9b70>"
      ]
     },
     "execution_count": 15,
     "metadata": {},
     "output_type": "execute_result"
    }
   ],
   "source": [
    "from tensorflow.keras import regularizers\n",
    "regularizers.l1(0.001)\n",
    "regularizers.l1_l2(l1=0.001, l2=0.001)"
   ]
  },
  {
   "cell_type": "markdown",
   "metadata": {
    "colab_type": "text"
   },
   "source": [
    "#### 드롭아웃 추가"
   ]
  },
  {
   "cell_type": "markdown",
   "metadata": {
    "colab_type": "text"
   },
   "source": [
    "**IMDB 모델에 드롭아웃 추가하기**"
   ]
  },
  {
   "cell_type": "code",
   "execution_count": 16,
   "metadata": {
    "colab_type": "code",
    "execution": {
     "iopub.execute_input": "2022-05-21T01:08:04.241161Z",
     "iopub.status.busy": "2022-05-21T01:08:04.240762Z",
     "iopub.status.idle": "2022-05-21T01:08:13.113623Z",
     "shell.execute_reply": "2022-05-21T01:08:13.112554Z"
    }
   },
   "outputs": [
    {
     "name": "stdout",
     "output_type": "stream",
     "text": [
      "Epoch 1/20\n",
      "30/30 [==============================] - 1s 28ms/step - loss: 0.6506 - accuracy: 0.6252 - val_loss: 0.5948 - val_accuracy: 0.6429\n",
      "Epoch 2/20\n",
      "30/30 [==============================] - 0s 12ms/step - loss: 0.5570 - accuracy: 0.7669 - val_loss: 0.5365 - val_accuracy: 0.6993\n",
      "Epoch 3/20\n",
      "30/30 [==============================] - 0s 11ms/step - loss: 0.4997 - accuracy: 0.8367 - val_loss: 0.4947 - val_accuracy: 0.8158\n",
      "Epoch 4/20\n",
      "30/30 [==============================] - 0s 12ms/step - loss: 0.4624 - accuracy: 0.8798 - val_loss: 0.4843 - val_accuracy: 0.8327\n",
      "Epoch 5/20\n",
      "30/30 [==============================] - 0s 12ms/step - loss: 0.4317 - accuracy: 0.9024 - val_loss: 0.4688 - val_accuracy: 0.8687\n",
      "Epoch 6/20\n",
      "30/30 [==============================] - 0s 12ms/step - loss: 0.4090 - accuracy: 0.9189 - val_loss: 0.4877 - val_accuracy: 0.8551\n",
      "Epoch 7/20\n",
      "30/30 [==============================] - 0s 11ms/step - loss: 0.3827 - accuracy: 0.9296 - val_loss: 0.4758 - val_accuracy: 0.8653\n",
      "Epoch 8/20\n",
      "30/30 [==============================] - 0s 11ms/step - loss: 0.3632 - accuracy: 0.9375 - val_loss: 0.5131 - val_accuracy: 0.8581\n",
      "Epoch 9/20\n",
      "30/30 [==============================] - 0s 12ms/step - loss: 0.3495 - accuracy: 0.9441 - val_loss: 0.4777 - val_accuracy: 0.8677\n",
      "Epoch 10/20\n",
      "30/30 [==============================] - 0s 12ms/step - loss: 0.3322 - accuracy: 0.9480 - val_loss: 0.5052 - val_accuracy: 0.8635\n",
      "Epoch 11/20\n",
      "30/30 [==============================] - 0s 12ms/step - loss: 0.3157 - accuracy: 0.9542 - val_loss: 0.5703 - val_accuracy: 0.8582\n",
      "Epoch 12/20\n",
      "30/30 [==============================] - 0s 12ms/step - loss: 0.3026 - accuracy: 0.9572 - val_loss: 0.5821 - val_accuracy: 0.8603\n",
      "Epoch 13/20\n",
      "30/30 [==============================] - 0s 14ms/step - loss: 0.2859 - accuracy: 0.9617 - val_loss: 0.5412 - val_accuracy: 0.8609\n",
      "Epoch 14/20\n",
      "30/30 [==============================] - 0s 12ms/step - loss: 0.2770 - accuracy: 0.9614 - val_loss: 0.6549 - val_accuracy: 0.8525\n",
      "Epoch 15/20\n",
      "30/30 [==============================] - 0s 12ms/step - loss: 0.2657 - accuracy: 0.9650 - val_loss: 0.6693 - val_accuracy: 0.8559\n",
      "Epoch 16/20\n",
      "30/30 [==============================] - 0s 11ms/step - loss: 0.2514 - accuracy: 0.9685 - val_loss: 0.6917 - val_accuracy: 0.8569\n",
      "Epoch 17/20\n",
      "30/30 [==============================] - 0s 14ms/step - loss: 0.2405 - accuracy: 0.9675 - val_loss: 0.7566 - val_accuracy: 0.8517\n",
      "Epoch 18/20\n",
      "30/30 [==============================] - 0s 11ms/step - loss: 0.2293 - accuracy: 0.9712 - val_loss: 0.7901 - val_accuracy: 0.8503\n",
      "Epoch 19/20\n",
      "30/30 [==============================] - 0s 12ms/step - loss: 0.2183 - accuracy: 0.9717 - val_loss: 0.8234 - val_accuracy: 0.8511\n",
      "Epoch 20/20\n",
      "30/30 [==============================] - 0s 11ms/step - loss: 0.2115 - accuracy: 0.9743 - val_loss: 0.9100 - val_accuracy: 0.8491\n"
     ]
    }
   ],
   "source": [
    "model = keras.Sequential([\n",
    "    layers.Dense(16, activation=\"relu\"),\n",
    "    layers.Dropout(0.5),\n",
    "    layers.Dense(16, activation=\"relu\"),\n",
    "    layers.Dropout(0.5),\n",
    "    layers.Dense(1, activation=\"sigmoid\")\n",
    "])\n",
    "model.compile(optimizer=\"rmsprop\",\n",
    "              loss=\"binary_crossentropy\",\n",
    "              metrics=[\"accuracy\"])\n",
    "history_dropout = model.fit(\n",
    "    train_data, train_labels,\n",
    "    epochs=20, batch_size=512, validation_split=0.4)"
   ]
  },
  {
   "cell_type": "markdown",
   "metadata": {
    "colab_type": "text"
   },
   "source": [
    "## 요약"
   ]
  }
 ],
 "metadata": {
  "colab": {
   "collapsed_sections": [],
   "name": "chapter05_fundamentals-of-ml.i",
   "private_outputs": false,
   "provenance": [],
   "toc_visible": true
  },
  "kernelspec": {
   "display_name": "default:Python",
   "language": "python",
   "name": "conda-env-default-py"
  },
  "language_info": {
   "codemirror_mode": {
    "name": "ipython",
    "version": 3
   },
   "file_extension": ".py",
   "mimetype": "text/x-python",
   "name": "python",
   "nbconvert_exporter": "python",
   "pygments_lexer": "ipython3",
   "version": "3.9.10"
  }
 },
 "nbformat": 4,
 "nbformat_minor": 4
}
