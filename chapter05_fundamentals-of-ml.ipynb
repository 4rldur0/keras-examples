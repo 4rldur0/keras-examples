{
 "cells": [
  {
   "cell_type": "markdown",
   "metadata": {
    "colab_type": "text"
   },
   "source": [
    "이 노트북은 [케라스 창시자에게 배우는 딥러닝 2판](https://tensorflow.blog/kerasdl2/)의 예제 코드를 담고 있습니다.\n",
    "\n",
    "이 노트북은 텐서플로 2.8 버전에서 테스트했습니다.\n",
    "\n",
    "<table align=\"left\">\n",
    "    <tr>\n",
    "        <td>\n",
    "            <a href=\"https://colab.research.google.com/github/rickiepark/deep-learning-with-python-2nd/blob/main/chapter05_fundamentals-of-ml.ipynb\" target=\"_parent\"><img src=\"https://colab.research.google.com/assets/colab-badge.svg\" alt=\"Open In Colab\"/></a>\n",
    "        </td>\n",
    "    </tr>\n",
    "</table>"
   ]
  },
  {
   "cell_type": "markdown",
   "metadata": {
    "colab_type": "text"
   },
   "source": [
    "# 머신 러닝의 기본 요소"
   ]
  },
  {
   "cell_type": "markdown",
   "metadata": {
    "colab_type": "text"
   },
   "source": [
    "## 일반화: 머신 러닝의 목표"
   ]
  },
  {
   "cell_type": "markdown",
   "metadata": {
    "colab_type": "text"
   },
   "source": [
    "### 과소적합과 과대적합"
   ]
  },
  {
   "cell_type": "markdown",
   "metadata": {
    "colab_type": "text"
   },
   "source": [
    "#### 잡음 섞인 훈련 데이터"
   ]
  },
  {
   "cell_type": "markdown",
   "metadata": {
    "colab_type": "text"
   },
   "source": [
    "#### 불확실한 특성"
   ]
  },
  {
   "cell_type": "markdown",
   "metadata": {
    "colab_type": "text"
   },
   "source": [
    "#### 드문 특성과 가짜 상관관계"
   ]
  },
  {
   "cell_type": "markdown",
   "metadata": {
    "colab_type": "text"
   },
   "source": [
    "**MNIST에 백색 잡음 픽셀과 0 픽셀을 추가하기**"
   ]
  },
  {
   "cell_type": "code",
   "execution_count": 1,
   "metadata": {
    "colab_type": "code"
   },
   "outputs": [],
   "source": [
    "from tensorflow.keras.datasets import mnist\n",
    "import numpy as np\n",
    "\n",
    "(train_images, train_labels), _ = mnist.load_data()\n",
    "train_images = train_images.reshape((60000, 28 * 28))\n",
    "train_images = train_images.astype(\"float32\") / 255\n",
    "\n",
    "train_images_with_noise_channels = np.concatenate(\n",
    "    [train_images, np.random.random((len(train_images), 784))], axis=1)\n",
    "\n",
    "train_images_with_zeros_channels = np.concatenate(\n",
    "    [train_images, np.zeros((len(train_images), 784))], axis=1)"
   ]
  },
  {
   "cell_type": "code",
   "execution_count": 2,
   "metadata": {},
   "outputs": [
    {
     "data": {
      "text/plain": [
       "(60000, 1568)"
      ]
     },
     "execution_count": 2,
     "metadata": {},
     "output_type": "execute_result"
    }
   ],
   "source": [
    "train_images_with_noise_channels.shape"
   ]
  },
  {
   "cell_type": "markdown",
   "metadata": {
    "colab_type": "text"
   },
   "source": [
    "**백색 잡음과 0을 추가한 MNIST 데이터에서 모델 훈련하기**"
   ]
  },
  {
   "cell_type": "code",
   "execution_count": 3,
   "metadata": {
    "colab_type": "code"
   },
   "outputs": [
    {
     "name": "stderr",
     "output_type": "stream",
     "text": [
      "2022-04-26 06:01:04.258374: I tensorflow/core/platform/cpu_feature_guard.cc:151] This TensorFlow binary is optimized with oneAPI Deep Neural Network Library (oneDNN) to use the following CPU instructions in performance-critical operations:  AVX2 AVX512F FMA\n",
      "To enable them in other operations, rebuild TensorFlow with the appropriate compiler flags.\n"
     ]
    },
    {
     "name": "stdout",
     "output_type": "stream",
     "text": [
      "Epoch 1/10\n",
      "375/375 [==============================] - 5s 12ms/step - loss: 0.6309 - accuracy: 0.8121 - val_loss: 0.2789 - val_accuracy: 0.9140\n",
      "Epoch 2/10\n",
      "375/375 [==============================] - 5s 12ms/step - loss: 0.2530 - accuracy: 0.9208 - val_loss: 0.2704 - val_accuracy: 0.9162\n",
      "Epoch 3/10\n",
      "375/375 [==============================] - 4s 11ms/step - loss: 0.1655 - accuracy: 0.9487 - val_loss: 0.1654 - val_accuracy: 0.9500\n",
      "Epoch 4/10\n",
      "375/375 [==============================] - 4s 10ms/step - loss: 0.1182 - accuracy: 0.9633 - val_loss: 0.1321 - val_accuracy: 0.9632\n",
      "Epoch 5/10\n",
      "375/375 [==============================] - 4s 10ms/step - loss: 0.0865 - accuracy: 0.9725 - val_loss: 0.1435 - val_accuracy: 0.9585\n",
      "Epoch 6/10\n",
      "375/375 [==============================] - 4s 10ms/step - loss: 0.0628 - accuracy: 0.9797 - val_loss: 0.1250 - val_accuracy: 0.9653\n",
      "Epoch 7/10\n",
      "375/375 [==============================] - 4s 12ms/step - loss: 0.0484 - accuracy: 0.9841 - val_loss: 0.1319 - val_accuracy: 0.9654\n",
      "Epoch 8/10\n",
      "375/375 [==============================] - 4s 10ms/step - loss: 0.0353 - accuracy: 0.9882 - val_loss: 0.1337 - val_accuracy: 0.9675\n",
      "Epoch 9/10\n",
      "375/375 [==============================] - 4s 10ms/step - loss: 0.0260 - accuracy: 0.9917 - val_loss: 0.1286 - val_accuracy: 0.9696\n",
      "Epoch 10/10\n",
      "375/375 [==============================] - 4s 10ms/step - loss: 0.0206 - accuracy: 0.9935 - val_loss: 0.1728 - val_accuracy: 0.9593\n",
      "Epoch 1/10\n",
      "375/375 [==============================] - 4s 11ms/step - loss: 0.2843 - accuracy: 0.9175 - val_loss: 0.1618 - val_accuracy: 0.9512\n",
      "Epoch 2/10\n",
      "375/375 [==============================] - 4s 10ms/step - loss: 0.1192 - accuracy: 0.9641 - val_loss: 0.1028 - val_accuracy: 0.9708\n",
      "Epoch 3/10\n",
      "375/375 [==============================] - 4s 10ms/step - loss: 0.0780 - accuracy: 0.9769 - val_loss: 0.0894 - val_accuracy: 0.9737\n",
      "Epoch 4/10\n",
      "375/375 [==============================] - 4s 10ms/step - loss: 0.0556 - accuracy: 0.9833 - val_loss: 0.0843 - val_accuracy: 0.9740\n",
      "Epoch 5/10\n",
      "375/375 [==============================] - 4s 10ms/step - loss: 0.0429 - accuracy: 0.9871 - val_loss: 0.0790 - val_accuracy: 0.9763\n",
      "Epoch 6/10\n",
      "375/375 [==============================] - 4s 10ms/step - loss: 0.0316 - accuracy: 0.9913 - val_loss: 0.0801 - val_accuracy: 0.9763\n",
      "Epoch 7/10\n",
      "375/375 [==============================] - 4s 10ms/step - loss: 0.0243 - accuracy: 0.9932 - val_loss: 0.0819 - val_accuracy: 0.9793\n",
      "Epoch 8/10\n",
      "375/375 [==============================] - 4s 10ms/step - loss: 0.0184 - accuracy: 0.9947 - val_loss: 0.0854 - val_accuracy: 0.9786\n",
      "Epoch 9/10\n",
      "375/375 [==============================] - 4s 10ms/step - loss: 0.0140 - accuracy: 0.9964 - val_loss: 0.0854 - val_accuracy: 0.9793\n",
      "Epoch 10/10\n",
      "375/375 [==============================] - 4s 10ms/step - loss: 0.0107 - accuracy: 0.9970 - val_loss: 0.0904 - val_accuracy: 0.9791\n"
     ]
    }
   ],
   "source": [
    "from tensorflow import keras\n",
    "from tensorflow.keras import layers\n",
    "\n",
    "def get_model():\n",
    "    model = keras.Sequential([\n",
    "        layers.Dense(512, activation=\"relu\"),\n",
    "        layers.Dense(10, activation=\"softmax\")\n",
    "    ])\n",
    "    model.compile(optimizer=\"rmsprop\",\n",
    "                  loss=\"sparse_categorical_crossentropy\",\n",
    "                  metrics=[\"accuracy\"])\n",
    "    return model\n",
    "\n",
    "model = get_model()\n",
    "history_noise = model.fit(\n",
    "    train_images_with_noise_channels, train_labels,\n",
    "    epochs=10,\n",
    "    batch_size=128,\n",
    "    validation_split=0.2)\n",
    "\n",
    "model = get_model()\n",
    "history_zeros = model.fit(\n",
    "    train_images_with_zeros_channels, train_labels,\n",
    "    epochs=10,\n",
    "    batch_size=128,\n",
    "    validation_split=0.2)"
   ]
  },
  {
   "cell_type": "markdown",
   "metadata": {
    "colab_type": "text"
   },
   "source": [
    "**검증 정확도 비교 그래프 그리기**"
   ]
  },
  {
   "cell_type": "code",
   "execution_count": 4,
   "metadata": {
    "colab_type": "code"
   },
   "outputs": [
    {
     "data": {
      "image/png": "[encoded data removed]",
      "text/plain": [
       "<Figure size 432x288 with 1 Axes>"
      ]
     },
     "metadata": {
      "needs_background": "light"
     },
     "output_type": "display_data"
    }
   ],
   "source": [
    "import matplotlib.pyplot as plt\n",
    "val_acc_noise = history_noise.history[\"val_accuracy\"]\n",
    "val_acc_zeros = history_zeros.history[\"val_accuracy\"]\n",
    "epochs = range(1, 11)\n",
    "plt.plot(epochs, val_acc_noise, \"b-\",\n",
    "         label=\"Validation accuracy with noise channels\")\n",
    "plt.plot(epochs, val_acc_zeros, \"b--\",\n",
    "         label=\"Validation accuracy with zeros channels\")\n",
    "plt.title(\"Effect of noise channels on validation accuracy\")\n",
    "plt.xlabel(\"Epochs\")\n",
    "plt.ylabel(\"Accuracy\")\n",
    "plt.legend()\n",
    "plt.show()"
   ]
  },
  {
   "cell_type": "markdown",
   "metadata": {
    "colab_type": "text"
   },
   "source": [
    "### 딥러닝에서 일반화의 본질"
   ]
  },
  {
   "cell_type": "markdown",
   "metadata": {
    "colab_type": "text"
   },
   "source": [
    "**랜덤하게 섞은 레이블로 MNIST 모델 훈련하기**"
   ]
  },
  {
   "cell_type": "code",
   "execution_count": null,
   "metadata": {
    "colab_type": "code"
   },
   "outputs": [
    {
     "name": "stdout",
     "output_type": "stream",
     "text": [
      "Epoch 1/100\n",
      "375/375 [==============================] - 3s 7ms/step - loss: 2.3173 - accuracy: 0.1044 - val_loss: 2.3068 - val_accuracy: 0.1095\n",
      "Epoch 2/100\n",
      "375/375 [==============================] - 2s 6ms/step - loss: 2.2995 - accuracy: 0.1183 - val_loss: 2.3133 - val_accuracy: 0.1042\n",
      "Epoch 3/100\n",
      "375/375 [==============================] - 3s 7ms/step - loss: 2.2899 - accuracy: 0.1320 - val_loss: 2.3219 - val_accuracy: 0.1021\n",
      "Epoch 4/100\n",
      "375/375 [==============================] - 2s 6ms/step - loss: 2.2753 - accuracy: 0.1427 - val_loss: 2.3322 - val_accuracy: 0.1016\n",
      "Epoch 5/100\n",
      "375/375 [==============================] - 2s 6ms/step - loss: 2.2565 - accuracy: 0.1551 - val_loss: 2.3369 - val_accuracy: 0.1041\n",
      "Epoch 6/100\n",
      "375/375 [==============================] - 3s 7ms/step - loss: 2.2345 - accuracy: 0.1726 - val_loss: 2.3527 - val_accuracy: 0.1017\n",
      "Epoch 7/100\n",
      "375/375 [==============================] - 2s 7ms/step - loss: 2.2081 - accuracy: 0.1897 - val_loss: 2.3686 - val_accuracy: 0.1051\n",
      "Epoch 8/100\n",
      "375/375 [==============================] - 2s 6ms/step - loss: 2.1809 - accuracy: 0.2012 - val_loss: 2.3865 - val_accuracy: 0.1028\n",
      "Epoch 9/100\n",
      "375/375 [==============================] - 2s 6ms/step - loss: 2.1488 - accuracy: 0.2189 - val_loss: 2.4064 - val_accuracy: 0.1007\n",
      "Epoch 10/100\n",
      "375/375 [==============================] - 2s 6ms/step - loss: 2.1183 - accuracy: 0.2361 - val_loss: 2.4301 - val_accuracy: 0.1054\n",
      "Epoch 11/100\n",
      "375/375 [==============================] - 3s 7ms/step - loss: 2.0832 - accuracy: 0.2524 - val_loss: 2.4564 - val_accuracy: 0.1014\n",
      "Epoch 12/100\n",
      "375/375 [==============================] - 3s 7ms/step - loss: 2.0498 - accuracy: 0.2672 - val_loss: 2.4817 - val_accuracy: 0.1039\n",
      "Epoch 13/100\n",
      "375/375 [==============================] - 2s 6ms/step - loss: 2.0158 - accuracy: 0.2817 - val_loss: 2.5202 - val_accuracy: 0.1023\n",
      "Epoch 14/100\n",
      "375/375 [==============================] - 3s 7ms/step - loss: 1.9803 - accuracy: 0.2978 - val_loss: 2.5423 - val_accuracy: 0.1029\n",
      "Epoch 15/100\n",
      "375/375 [==============================] - 3s 8ms/step - loss: 1.9442 - accuracy: 0.3123 - val_loss: 2.5642 - val_accuracy: 0.1003\n",
      "Epoch 16/100\n",
      "375/375 [==============================] - 3s 7ms/step - loss: 1.9100 - accuracy: 0.3257 - val_loss: 2.6118 - val_accuracy: 0.1023\n",
      "Epoch 17/100\n",
      "375/375 [==============================] - 2s 6ms/step - loss: 1.8757 - accuracy: 0.3392 - val_loss: 2.6423 - val_accuracy: 0.1021\n",
      "Epoch 18/100\n",
      "375/375 [==============================] - 3s 7ms/step - loss: 1.8407 - accuracy: 0.3543 - val_loss: 2.6853 - val_accuracy: 0.1012\n",
      "Epoch 19/100\n",
      "375/375 [==============================] - 3s 8ms/step - loss: 1.8063 - accuracy: 0.3674 - val_loss: 2.7312 - val_accuracy: 0.0993\n",
      "Epoch 20/100\n",
      "375/375 [==============================] - 3s 7ms/step - loss: 1.7745 - accuracy: 0.3781 - val_loss: 2.7509 - val_accuracy: 0.1007\n",
      "Epoch 21/100\n",
      "375/375 [==============================] - 3s 7ms/step - loss: 1.7404 - accuracy: 0.3935 - val_loss: 2.8029 - val_accuracy: 0.0992\n",
      "Epoch 22/100\n",
      "375/375 [==============================] - 3s 7ms/step - loss: 1.7110 - accuracy: 0.4040 - val_loss: 2.8249 - val_accuracy: 0.1012\n",
      "Epoch 23/100\n",
      "375/375 [==============================] - 3s 8ms/step - loss: 1.6782 - accuracy: 0.4173 - val_loss: 2.8635 - val_accuracy: 0.1016\n",
      "Epoch 24/100\n",
      "375/375 [==============================] - 3s 7ms/step - loss: 1.6488 - accuracy: 0.4279 - val_loss: 2.9038 - val_accuracy: 0.1037\n",
      "Epoch 25/100\n",
      "375/375 [==============================] - 3s 7ms/step - loss: 1.6179 - accuracy: 0.4404 - val_loss: 2.9717 - val_accuracy: 0.1007\n",
      "Epoch 26/100\n",
      "375/375 [==============================] - 2s 7ms/step - loss: 1.5879 - accuracy: 0.4542 - val_loss: 2.9952 - val_accuracy: 0.1034\n",
      "Epoch 27/100\n",
      "375/375 [==============================] - 3s 8ms/step - loss: 1.5598 - accuracy: 0.4635 - val_loss: 3.0233 - val_accuracy: 0.1022\n",
      "Epoch 28/100\n",
      "375/375 [==============================] - 2s 6ms/step - loss: 1.5321 - accuracy: 0.4745 - val_loss: 3.0949 - val_accuracy: 0.1020\n",
      "Epoch 29/100\n",
      "375/375 [==============================] - 2s 7ms/step - loss: 1.5061 - accuracy: 0.4823 - val_loss: 3.1246 - val_accuracy: 0.1012\n",
      "Epoch 30/100\n",
      "375/375 [==============================] - 3s 8ms/step - loss: 1.4781 - accuracy: 0.4952 - val_loss: 3.1599 - val_accuracy: 0.1007\n",
      "Epoch 31/100\n",
      "375/375 [==============================] - 3s 7ms/step - loss: 1.4529 - accuracy: 0.5027 - val_loss: 3.2234 - val_accuracy: 0.1043\n",
      "Epoch 32/100\n",
      "375/375 [==============================] - 3s 7ms/step - loss: 1.4266 - accuracy: 0.5144 - val_loss: 3.2677 - val_accuracy: 0.1002\n",
      "Epoch 33/100\n",
      "375/375 [==============================] - 3s 9ms/step - loss: 1.4011 - accuracy: 0.5232 - val_loss: 3.3070 - val_accuracy: 0.1049\n",
      "Epoch 34/100\n",
      "375/375 [==============================] - 3s 8ms/step - loss: 1.3785 - accuracy: 0.5322 - val_loss: 3.3782 - val_accuracy: 0.0997\n",
      "Epoch 35/100\n",
      "375/375 [==============================] - 3s 7ms/step - loss: 1.3532 - accuracy: 0.5401 - val_loss: 3.3936 - val_accuracy: 0.1020\n",
      "Epoch 36/100\n",
      "375/375 [==============================] - 3s 7ms/step - loss: 1.3301 - accuracy: 0.5472 - val_loss: 3.4560 - val_accuracy: 0.1005\n",
      "Epoch 37/100\n",
      "375/375 [==============================] - 2s 7ms/step - loss: 1.3051 - accuracy: 0.5584 - val_loss: 3.5002 - val_accuracy: 0.1004\n",
      "Epoch 38/100\n",
      "375/375 [==============================] - 2s 7ms/step - loss: 1.2848 - accuracy: 0.5634 - val_loss: 3.5664 - val_accuracy: 0.0991\n",
      "Epoch 39/100\n",
      "375/375 [==============================] - 2s 6ms/step - loss: 1.2615 - accuracy: 0.5751 - val_loss: 3.6180 - val_accuracy: 0.1033\n",
      "Epoch 40/100\n",
      "375/375 [==============================] - 2s 6ms/step - loss: 1.2430 - accuracy: 0.5801 - val_loss: 3.6496 - val_accuracy: 0.1039\n",
      "Epoch 41/100\n",
      "375/375 [==============================] - 3s 8ms/step - loss: 1.2209 - accuracy: 0.5882 - val_loss: 3.7038 - val_accuracy: 0.1017\n",
      "Epoch 42/100\n",
      "375/375 [==============================] - 3s 8ms/step - loss: 1.2011 - accuracy: 0.5953 - val_loss: 3.7946 - val_accuracy: 0.1026\n",
      "Epoch 43/100\n",
      "375/375 [==============================] - 2s 6ms/step - loss: 1.1803 - accuracy: 0.6024 - val_loss: 3.8261 - val_accuracy: 0.1006\n",
      "Epoch 44/100\n",
      "375/375 [==============================] - 2s 7ms/step - loss: 1.1614 - accuracy: 0.6085 - val_loss: 3.8652 - val_accuracy: 0.1016\n",
      "Epoch 45/100\n",
      "375/375 [==============================] - 3s 7ms/step - loss: 1.1405 - accuracy: 0.6154 - val_loss: 3.9209 - val_accuracy: 0.1036\n",
      "Epoch 46/100\n",
      "375/375 [==============================] - 2s 7ms/step - loss: 1.1202 - accuracy: 0.6240 - val_loss: 3.9765 - val_accuracy: 0.1001\n",
      "Epoch 47/100\n",
      "375/375 [==============================] - 2s 6ms/step - loss: 1.1027 - accuracy: 0.6299 - val_loss: 4.0303 - val_accuracy: 0.1060\n",
      "Epoch 48/100\n",
      "375/375 [==============================] - 2s 6ms/step - loss: 1.0835 - accuracy: 0.6380 - val_loss: 4.1208 - val_accuracy: 0.1018\n",
      "Epoch 49/100\n",
      "375/375 [==============================] - 2s 6ms/step - loss: 1.0666 - accuracy: 0.6434 - val_loss: 4.1393 - val_accuracy: 0.1022\n",
      "Epoch 50/100\n",
      "375/375 [==============================] - 3s 7ms/step - loss: 1.0500 - accuracy: 0.6478 - val_loss: 4.1607 - val_accuracy: 0.0990\n",
      "Epoch 51/100\n",
      "375/375 [==============================] - 2s 6ms/step - loss: 1.0321 - accuracy: 0.6551 - val_loss: 4.2402 - val_accuracy: 0.1005\n",
      "Epoch 52/100\n",
      "375/375 [==============================] - 2s 6ms/step - loss: 1.0158 - accuracy: 0.6625 - val_loss: 4.2891 - val_accuracy: 0.0986\n",
      "Epoch 53/100\n",
      "375/375 [==============================] - 2s 6ms/step - loss: 0.9983 - accuracy: 0.6673 - val_loss: 4.3611 - val_accuracy: 0.1002\n",
      "Epoch 54/100\n",
      "375/375 [==============================] - 2s 6ms/step - loss: 0.9830 - accuracy: 0.6732 - val_loss: 4.4277 - val_accuracy: 0.1041\n",
      "Epoch 55/100\n",
      "375/375 [==============================] - 2s 6ms/step - loss: 0.9699 - accuracy: 0.6768 - val_loss: 4.4937 - val_accuracy: 0.0990\n",
      "Epoch 56/100\n",
      "375/375 [==============================] - 2s 6ms/step - loss: 0.9538 - accuracy: 0.6837 - val_loss: 4.5655 - val_accuracy: 0.0969\n",
      "Epoch 57/100\n",
      "375/375 [==============================] - 2s 6ms/step - loss: 0.9358 - accuracy: 0.6907 - val_loss: 4.5910 - val_accuracy: 0.0954\n",
      "Epoch 58/100\n",
      "375/375 [==============================] - 2s 6ms/step - loss: 0.9222 - accuracy: 0.6943 - val_loss: 4.6564 - val_accuracy: 0.0995\n",
      "Epoch 59/100\n",
      "375/375 [==============================] - 2s 6ms/step - loss: 0.9077 - accuracy: 0.7000 - val_loss: 4.7254 - val_accuracy: 0.1022\n",
      "Epoch 60/100\n",
      "375/375 [==============================] - 2s 6ms/step - loss: 0.8930 - accuracy: 0.7044 - val_loss: 4.7680 - val_accuracy: 0.1037\n",
      "Epoch 61/100\n",
      "375/375 [==============================] - 2s 6ms/step - loss: 0.8786 - accuracy: 0.7088 - val_loss: 4.8277 - val_accuracy: 0.1002\n",
      "Epoch 62/100\n",
      "375/375 [==============================] - 3s 7ms/step - loss: 0.8624 - accuracy: 0.7169 - val_loss: 4.8970 - val_accuracy: 0.0989\n",
      "Epoch 63/100\n",
      "375/375 [==============================] - 2s 7ms/step - loss: 0.8498 - accuracy: 0.7184 - val_loss: 4.9557 - val_accuracy: 0.1001\n",
      "Epoch 64/100\n",
      "375/375 [==============================] - 2s 6ms/step - loss: 0.8361 - accuracy: 0.7238 - val_loss: 4.9978 - val_accuracy: 0.0991\n",
      "Epoch 65/100\n",
      "375/375 [==============================] - 2s 6ms/step - loss: 0.8235 - accuracy: 0.7290 - val_loss: 5.0678 - val_accuracy: 0.1013\n",
      "Epoch 66/100\n",
      "375/375 [==============================] - 2s 7ms/step - loss: 0.8106 - accuracy: 0.7329 - val_loss: 5.1666 - val_accuracy: 0.1004\n",
      "Epoch 67/100\n",
      "375/375 [==============================] - 3s 8ms/step - loss: 0.7982 - accuracy: 0.7387 - val_loss: 5.1882 - val_accuracy: 0.0999\n",
      "Epoch 68/100\n",
      "375/375 [==============================] - 2s 6ms/step - loss: 0.7873 - accuracy: 0.7415 - val_loss: 5.2774 - val_accuracy: 0.0988\n",
      "Epoch 69/100\n",
      "375/375 [==============================] - 2s 6ms/step - loss: 0.7756 - accuracy: 0.7464 - val_loss: 5.3148 - val_accuracy: 0.0975\n",
      "Epoch 70/100\n",
      "375/375 [==============================] - 2s 6ms/step - loss: 0.7619 - accuracy: 0.7522 - val_loss: 5.3871 - val_accuracy: 0.0996\n",
      "Epoch 71/100\n",
      "375/375 [==============================] - 2s 6ms/step - loss: 0.7494 - accuracy: 0.7551 - val_loss: 5.4361 - val_accuracy: 0.1012\n",
      "Epoch 72/100\n",
      "375/375 [==============================] - 2s 6ms/step - loss: 0.7394 - accuracy: 0.7599 - val_loss: 5.5045 - val_accuracy: 0.1001\n",
      "Epoch 73/100\n",
      "375/375 [==============================] - 2s 6ms/step - loss: 0.7275 - accuracy: 0.7620 - val_loss: 5.5665 - val_accuracy: 0.1016\n",
      "Epoch 74/100\n",
      "375/375 [==============================] - 2s 6ms/step - loss: 0.7155 - accuracy: 0.7665 - val_loss: 5.6479 - val_accuracy: 0.1016\n",
      "Epoch 75/100\n",
      "375/375 [==============================] - 2s 6ms/step - loss: 0.7065 - accuracy: 0.7681 - val_loss: 5.6902 - val_accuracy: 0.1018\n",
      "Epoch 76/100\n",
      "375/375 [==============================] - 2s 6ms/step - loss: 0.6937 - accuracy: 0.7740 - val_loss: 5.7135 - val_accuracy: 0.1007\n",
      "Epoch 77/100\n",
      "375/375 [==============================] - 2s 6ms/step - loss: 0.6820 - accuracy: 0.7790 - val_loss: 5.8151 - val_accuracy: 0.1022\n",
      "Epoch 78/100\n",
      "375/375 [==============================] - 2s 6ms/step - loss: 0.6718 - accuracy: 0.7813 - val_loss: 5.8923 - val_accuracy: 0.1004\n",
      "Epoch 79/100\n",
      "375/375 [==============================] - 2s 6ms/step - loss: 0.6621 - accuracy: 0.7841 - val_loss: 5.9766 - val_accuracy: 0.0983\n",
      "Epoch 80/100\n",
      "375/375 [==============================] - 2s 6ms/step - loss: 0.6522 - accuracy: 0.7902 - val_loss: 6.0459 - val_accuracy: 0.1024\n",
      "Epoch 81/100\n",
      "375/375 [==============================] - 2s 6ms/step - loss: 0.6434 - accuracy: 0.7905 - val_loss: 6.0982 - val_accuracy: 0.1016\n",
      "Epoch 82/100\n",
      "375/375 [==============================] - 2s 6ms/step - loss: 0.6323 - accuracy: 0.7944 - val_loss: 6.1574 - val_accuracy: 0.0998\n",
      "Epoch 83/100\n",
      "375/375 [==============================] - 2s 6ms/step - loss: 0.6230 - accuracy: 0.7981 - val_loss: 6.2147 - val_accuracy: 0.1028\n",
      "Epoch 84/100\n",
      "375/375 [==============================] - 2s 6ms/step - loss: 0.6134 - accuracy: 0.8044 - val_loss: 6.2887 - val_accuracy: 0.1018\n",
      "Epoch 85/100\n",
      "375/375 [==============================] - 2s 6ms/step - loss: 0.6060 - accuracy: 0.8051 - val_loss: 6.3780 - val_accuracy: 0.1032\n",
      "Epoch 86/100\n",
      "375/375 [==============================] - 2s 6ms/step - loss: 0.5967 - accuracy: 0.8061 - val_loss: 6.4081 - val_accuracy: 0.1009\n",
      "Epoch 87/100\n",
      "375/375 [==============================] - 2s 6ms/step - loss: 0.5880 - accuracy: 0.8093 - val_loss: 6.4498 - val_accuracy: 0.1051\n",
      "Epoch 88/100\n",
      "375/375 [==============================] - 2s 6ms/step - loss: 0.5763 - accuracy: 0.8140 - val_loss: 6.5423 - val_accuracy: 0.1026\n",
      "Epoch 89/100\n",
      "375/375 [==============================] - 2s 6ms/step - loss: 0.5687 - accuracy: 0.8174 - val_loss: 6.6400 - val_accuracy: 0.1002\n",
      "Epoch 90/100\n",
      "375/375 [==============================] - 2s 6ms/step - loss: 0.5619 - accuracy: 0.8190 - val_loss: 6.6726 - val_accuracy: 0.1013\n",
      "Epoch 91/100\n",
      "375/375 [==============================] - 2s 6ms/step - loss: 0.5561 - accuracy: 0.8209 - val_loss: 6.7160 - val_accuracy: 0.0995\n",
      "Epoch 92/100\n",
      "375/375 [==============================] - 2s 6ms/step - loss: 0.5429 - accuracy: 0.8273 - val_loss: 6.7923 - val_accuracy: 0.0997\n",
      "Epoch 93/100\n",
      "375/375 [==============================] - 2s 6ms/step - loss: 0.5367 - accuracy: 0.8287 - val_loss: 6.8978 - val_accuracy: 0.0999\n",
      "Epoch 94/100\n",
      "375/375 [==============================] - 3s 8ms/step - loss: 0.5264 - accuracy: 0.8321 - val_loss: 7.0156 - val_accuracy: 0.1028\n",
      "Epoch 95/100\n",
      "375/375 [==============================] - 2s 6ms/step - loss: 0.5222 - accuracy: 0.8342 - val_loss: 7.0426 - val_accuracy: 0.1019\n",
      "Epoch 96/100\n",
      "375/375 [==============================] - 2s 6ms/step - loss: 0.5130 - accuracy: 0.8370 - val_loss: 7.1054 - val_accuracy: 0.0986\n",
      "Epoch 97/100\n",
      "375/375 [==============================] - 2s 6ms/step - loss: 0.5042 - accuracy: 0.8391 - val_loss: 7.2101 - val_accuracy: 0.0972\n",
      "Epoch 98/100\n",
      "375/375 [==============================] - 2s 6ms/step - loss: 0.4989 - accuracy: 0.8405 - val_loss: 7.2444 - val_accuracy: 0.0975\n",
      "Epoch 99/100\n",
      "375/375 [==============================] - 2s 6ms/step - loss: 0.4909 - accuracy: 0.8438 - val_loss: 7.3166 - val_accuracy: 0.1013\n",
      "Epoch 100/100\n",
      "375/375 [==============================] - 2s 6ms/step - loss: 0.4836 - accuracy: 0.8459 - val_loss: 7.4102 - val_accuracy: 0.1004\n"
     ]
    },
    {
     "data": {
      "text/plain": [
       "<keras.callbacks.History at 0x7fda4f3b6d90>"
      ]
     },
     "execution_count": 5,
     "metadata": {},
     "output_type": "execute_result"
    }
   ],
   "source": [
    "(train_images, train_labels), _ = mnist.load_data()\n",
    "train_images = train_images.reshape((60000, 28 * 28))\n",
    "train_images = train_images.astype(\"float32\") / 255\n",
    "\n",
    "random_train_labels = train_labels[:]\n",
    "np.random.shuffle(random_train_labels)\n",
    "\n",
    "model = keras.Sequential([\n",
    "    layers.Dense(512, activation=\"relu\"),\n",
    "    layers.Dense(10, activation=\"softmax\")\n",
    "])\n",
    "model.compile(optimizer=\"rmsprop\",\n",
    "              loss=\"sparse_categorical_crossentropy\",\n",
    "              metrics=[\"accuracy\"])\n",
    "model.fit(train_images, random_train_labels,\n",
    "          epochs=100,\n",
    "          batch_size=128,\n",
    "          validation_split=0.2)"
   ]
  },
  {
   "cell_type": "markdown",
   "metadata": {
    "colab_type": "text"
   },
   "source": [
    "#### 매니폴드 가설"
   ]
  },
  {
   "cell_type": "markdown",
   "metadata": {
    "colab_type": "text"
   },
   "source": [
    "#### 일반화의 원천인 보간"
   ]
  },
  {
   "cell_type": "markdown",
   "metadata": {
    "colab_type": "text"
   },
   "source": [
    "#### 딥러닝이 작동하는 이유"
   ]
  },
  {
   "cell_type": "markdown",
   "metadata": {
    "colab_type": "text"
   },
   "source": [
    "#### 가장 중요한 훈련 데이터"
   ]
  },
  {
   "cell_type": "markdown",
   "metadata": {
    "colab_type": "text"
   },
   "source": [
    "## 머신 러닝 모델 평가"
   ]
  },
  {
   "cell_type": "markdown",
   "metadata": {
    "colab_type": "text"
   },
   "source": [
    "### 훈련, 검증, 테스트 세트"
   ]
  },
  {
   "cell_type": "markdown",
   "metadata": {
    "colab_type": "text"
   },
   "source": [
    "#### 단순 홀드아웃 검증"
   ]
  },
  {
   "cell_type": "markdown",
   "metadata": {
    "colab_type": "text"
   },
   "source": [
    "#### K-겹 교차 검증"
   ]
  },
  {
   "cell_type": "markdown",
   "metadata": {
    "colab_type": "text"
   },
   "source": [
    "#### 셔플링을 사용한 반복 K-겹 교차 검증"
   ]
  },
  {
   "cell_type": "markdown",
   "metadata": {
    "colab_type": "text"
   },
   "source": [
    "### 상식 수준의 기준점을 넘기"
   ]
  },
  {
   "cell_type": "markdown",
   "metadata": {
    "colab_type": "text"
   },
   "source": [
    "### 모델 평가에 대해 유념해야 할 점"
   ]
  },
  {
   "cell_type": "markdown",
   "metadata": {
    "colab_type": "text"
   },
   "source": [
    "## 훈련 성능 향상하기"
   ]
  },
  {
   "cell_type": "markdown",
   "metadata": {
    "colab_type": "text"
   },
   "source": [
    "### 경사 하강법의 핵심 파라미터 튜닝하기"
   ]
  },
  {
   "cell_type": "markdown",
   "metadata": {
    "colab_type": "text"
   },
   "source": [
    "**잘못된 높은 학습률로 MNIST 모델 훈련하기**"
   ]
  },
  {
   "cell_type": "code",
   "execution_count": null,
   "metadata": {
    "colab_type": "code"
   },
   "outputs": [
    {
     "name": "stdout",
     "output_type": "stream",
     "text": [
      "Epoch 1/10\n",
      "375/375 [==============================] - 3s 7ms/step - loss: 864.5463 - accuracy: 0.4204 - val_loss: 2.0885 - val_accuracy: 0.2504\n",
      "Epoch 2/10\n",
      "375/375 [==============================] - 2s 6ms/step - loss: 3.9584 - accuracy: 0.2538 - val_loss: 2.2037 - val_accuracy: 0.2064\n",
      "Epoch 3/10\n",
      "375/375 [==============================] - 2s 6ms/step - loss: 2.8090 - accuracy: 0.2112 - val_loss: 2.9223 - val_accuracy: 0.2238\n",
      "Epoch 4/10\n",
      "375/375 [==============================] - 2s 6ms/step - loss: 2.5907 - accuracy: 0.2327 - val_loss: 2.0428 - val_accuracy: 0.2383\n",
      "Epoch 5/10\n",
      "375/375 [==============================] - 2s 6ms/step - loss: 2.6024 - accuracy: 0.2487 - val_loss: 2.5173 - val_accuracy: 0.2293\n",
      "Epoch 6/10\n",
      "375/375 [==============================] - 2s 6ms/step - loss: 2.7019 - accuracy: 0.2658 - val_loss: 3.7475 - val_accuracy: 0.2871\n",
      "Epoch 7/10\n",
      "375/375 [==============================] - 2s 6ms/step - loss: 2.6650 - accuracy: 0.2824 - val_loss: 2.1500 - val_accuracy: 0.3058\n",
      "Epoch 8/10\n",
      "375/375 [==============================] - 2s 6ms/step - loss: 2.5495 - accuracy: 0.3114 - val_loss: 1.9372 - val_accuracy: 0.2990\n",
      "Epoch 9/10\n",
      "375/375 [==============================] - 2s 6ms/step - loss: 2.6121 - accuracy: 0.2949 - val_loss: 2.5996 - val_accuracy: 0.2651\n",
      "Epoch 10/10\n",
      "375/375 [==============================] - 2s 6ms/step - loss: 2.6738 - accuracy: 0.3047 - val_loss: 2.2377 - val_accuracy: 0.2432\n"
     ]
    },
    {
     "data": {
      "text/plain": [
       "<keras.callbacks.History at 0x7fda316fcf10>"
      ]
     },
     "execution_count": 6,
     "metadata": {},
     "output_type": "execute_result"
    }
   ],
   "source": [
    "(train_images, train_labels), _ = mnist.load_data()\n",
    "train_images = train_images.reshape((60000, 28 * 28))\n",
    "train_images = train_images.astype(\"float32\") / 255\n",
    "\n",
    "model = keras.Sequential([\n",
    "    layers.Dense(512, activation=\"relu\"),\n",
    "    layers.Dense(10, activation=\"softmax\")\n",
    "])\n",
    "model.compile(optimizer=keras.optimizers.RMSprop(1.),\n",
    "              loss=\"sparse_categorical_crossentropy\",\n",
    "              metrics=[\"accuracy\"])\n",
    "model.fit(train_images, train_labels,\n",
    "          epochs=10,\n",
    "          batch_size=128,\n",
    "          validation_split=0.2)"
   ]
  },
  {
   "cell_type": "markdown",
   "metadata": {
    "colab_type": "text"
   },
   "source": [
    "**같은 모델을 적절한 학습률로 훈련하기**"
   ]
  },
  {
   "cell_type": "code",
   "execution_count": null,
   "metadata": {
    "colab_type": "code"
   },
   "outputs": [
    {
     "name": "stdout",
     "output_type": "stream",
     "text": [
      "Epoch 1/10\n",
      "375/375 [==============================] - 3s 6ms/step - loss: 0.3582 - accuracy: 0.9111 - val_loss: 0.1782 - val_accuracy: 0.9544\n",
      "Epoch 2/10\n",
      "375/375 [==============================] - 2s 6ms/step - loss: 0.1400 - accuracy: 0.9641 - val_loss: 0.1446 - val_accuracy: 0.9658\n",
      "Epoch 3/10\n",
      "375/375 [==============================] - 2s 6ms/step - loss: 0.1143 - accuracy: 0.9729 - val_loss: 0.1970 - val_accuracy: 0.9615\n",
      "Epoch 4/10\n",
      "375/375 [==============================] - 2s 6ms/step - loss: 0.1051 - accuracy: 0.9775 - val_loss: 0.1987 - val_accuracy: 0.9688\n",
      "Epoch 5/10\n",
      "375/375 [==============================] - 2s 6ms/step - loss: 0.0913 - accuracy: 0.9816 - val_loss: 0.2091 - val_accuracy: 0.9691\n",
      "Epoch 6/10\n",
      "375/375 [==============================] - 2s 6ms/step - loss: 0.0809 - accuracy: 0.9840 - val_loss: 0.2684 - val_accuracy: 0.9689\n",
      "Epoch 7/10\n",
      "375/375 [==============================] - 2s 6ms/step - loss: 0.0792 - accuracy: 0.9853 - val_loss: 0.2632 - val_accuracy: 0.9732\n",
      "Epoch 8/10\n",
      "375/375 [==============================] - 2s 6ms/step - loss: 0.0734 - accuracy: 0.9870 - val_loss: 0.3128 - val_accuracy: 0.9701\n",
      "Epoch 9/10\n",
      "375/375 [==============================] - 2s 6ms/step - loss: 0.0589 - accuracy: 0.9897 - val_loss: 0.3305 - val_accuracy: 0.9708\n",
      "Epoch 10/10\n",
      "375/375 [==============================] - 2s 6ms/step - loss: 0.0638 - accuracy: 0.9893 - val_loss: 0.3433 - val_accuracy: 0.9697\n"
     ]
    },
    {
     "data": {
      "text/plain": [
       "<keras.callbacks.History at 0x7fda43babfd0>"
      ]
     },
     "execution_count": 7,
     "metadata": {},
     "output_type": "execute_result"
    }
   ],
   "source": [
    "model = keras.Sequential([\n",
    "    layers.Dense(512, activation=\"relu\"),\n",
    "    layers.Dense(10, activation=\"softmax\")\n",
    "])\n",
    "model.compile(optimizer=keras.optimizers.RMSprop(1e-2),\n",
    "              loss=\"sparse_categorical_crossentropy\",\n",
    "              metrics=[\"accuracy\"])\n",
    "model.fit(train_images, train_labels,\n",
    "          epochs=10,\n",
    "          batch_size=128,\n",
    "          validation_split=0.2)"
   ]
  },
  {
   "cell_type": "markdown",
   "metadata": {
    "colab_type": "text"
   },
   "source": [
    "### 구조에 대해 더 나은 가정하기"
   ]
  },
  {
   "cell_type": "markdown",
   "metadata": {
    "colab_type": "text"
   },
   "source": [
    "### 모델 용량 늘리기"
   ]
  },
  {
   "cell_type": "markdown",
   "metadata": {
    "colab_type": "text"
   },
   "source": [
    "**MNIST 데이터를 사용한 간단한 로지스틱 회귀 모델**"
   ]
  },
  {
   "cell_type": "code",
   "execution_count": null,
   "metadata": {
    "colab_type": "code"
   },
   "outputs": [
    {
     "name": "stdout",
     "output_type": "stream",
     "text": [
      "Epoch 1/20\n",
      "375/375 [==============================] - 1s 3ms/step - loss: 0.6807 - accuracy: 0.8317 - val_loss: 0.3630 - val_accuracy: 0.8993\n",
      "Epoch 2/20\n",
      "375/375 [==============================] - 1s 3ms/step - loss: 0.3518 - accuracy: 0.9031 - val_loss: 0.3095 - val_accuracy: 0.9147\n",
      "Epoch 3/20\n",
      "375/375 [==============================] - 1s 2ms/step - loss: 0.3158 - accuracy: 0.9122 - val_loss: 0.2916 - val_accuracy: 0.9196\n",
      "Epoch 4/20\n",
      "375/375 [==============================] - 1s 2ms/step - loss: 0.2992 - accuracy: 0.9173 - val_loss: 0.2851 - val_accuracy: 0.9176\n",
      "Epoch 5/20\n",
      "375/375 [==============================] - 1s 2ms/step - loss: 0.2897 - accuracy: 0.9197 - val_loss: 0.2765 - val_accuracy: 0.9237\n",
      "Epoch 6/20\n",
      "375/375 [==============================] - 1s 2ms/step - loss: 0.2827 - accuracy: 0.9212 - val_loss: 0.2720 - val_accuracy: 0.9267\n",
      "Epoch 7/20\n",
      "375/375 [==============================] - 1s 2ms/step - loss: 0.2781 - accuracy: 0.9227 - val_loss: 0.2708 - val_accuracy: 0.9262\n",
      "Epoch 8/20\n",
      "375/375 [==============================] - 1s 2ms/step - loss: 0.2745 - accuracy: 0.9238 - val_loss: 0.2684 - val_accuracy: 0.9270\n",
      "Epoch 9/20\n",
      "375/375 [==============================] - 1s 2ms/step - loss: 0.2711 - accuracy: 0.9250 - val_loss: 0.2659 - val_accuracy: 0.9283\n",
      "Epoch 10/20\n",
      "375/375 [==============================] - 1s 2ms/step - loss: 0.2689 - accuracy: 0.9251 - val_loss: 0.2655 - val_accuracy: 0.9274\n",
      "Epoch 11/20\n",
      "375/375 [==============================] - 1s 2ms/step - loss: 0.2667 - accuracy: 0.9264 - val_loss: 0.2656 - val_accuracy: 0.9281\n",
      "Epoch 12/20\n",
      "375/375 [==============================] - 1s 2ms/step - loss: 0.2646 - accuracy: 0.9273 - val_loss: 0.2627 - val_accuracy: 0.9289\n",
      "Epoch 13/20\n",
      "375/375 [==============================] - 1s 2ms/step - loss: 0.2630 - accuracy: 0.9269 - val_loss: 0.2633 - val_accuracy: 0.9289\n",
      "Epoch 14/20\n",
      "375/375 [==============================] - 1s 2ms/step - loss: 0.2617 - accuracy: 0.9278 - val_loss: 0.2614 - val_accuracy: 0.9309\n",
      "Epoch 15/20\n",
      "375/375 [==============================] - 1s 2ms/step - loss: 0.2603 - accuracy: 0.9285 - val_loss: 0.2617 - val_accuracy: 0.9301\n",
      "Epoch 16/20\n",
      "375/375 [==============================] - 1s 2ms/step - loss: 0.2590 - accuracy: 0.9293 - val_loss: 0.2624 - val_accuracy: 0.9291\n",
      "Epoch 17/20\n",
      "375/375 [==============================] - 1s 2ms/step - loss: 0.2583 - accuracy: 0.9294 - val_loss: 0.2607 - val_accuracy: 0.9303\n",
      "Epoch 18/20\n",
      "375/375 [==============================] - 1s 2ms/step - loss: 0.2570 - accuracy: 0.9297 - val_loss: 0.2637 - val_accuracy: 0.9312\n",
      "Epoch 19/20\n",
      "375/375 [==============================] - 1s 2ms/step - loss: 0.2565 - accuracy: 0.9301 - val_loss: 0.2614 - val_accuracy: 0.9298\n",
      "Epoch 20/20\n",
      "375/375 [==============================] - 1s 2ms/step - loss: 0.2555 - accuracy: 0.9305 - val_loss: 0.2631 - val_accuracy: 0.9297\n"
     ]
    }
   ],
   "source": [
    "model = keras.Sequential([layers.Dense(10, activation=\"softmax\")])\n",
    "model.compile(optimizer=\"rmsprop\",\n",
    "              loss=\"sparse_categorical_crossentropy\",\n",
    "              metrics=[\"accuracy\"])\n",
    "history_small_model = model.fit(\n",
    "    train_images, train_labels,\n",
    "    epochs=20,\n",
    "    batch_size=128,\n",
    "    validation_split=0.2)"
   ]
  },
  {
   "cell_type": "code",
   "execution_count": null,
   "metadata": {
    "colab_type": "code"
   },
   "outputs": [
    {
     "data": {
      "image/png": "[encoded data removed]",
      "text/plain": [
       "<Figure size 432x288 with 1 Axes>"
      ]
     },
     "metadata": {
      "needs_background": "light"
     },
     "output_type": "display_data"
    }
   ],
   "source": [
    "import matplotlib.pyplot as plt\n",
    "val_loss = history_small_model.history[\"val_loss\"]\n",
    "epochs = range(1, 21)\n",
    "plt.plot(epochs, val_loss, \"b--\",\n",
    "         label=\"Validation loss\")\n",
    "plt.title(\"Effect of insufficient model capacity on validation loss\")\n",
    "plt.xlabel(\"Epochs\")\n",
    "plt.ylabel(\"Loss\")\n",
    "plt.legend()\n",
    "plt.show()"
   ]
  },
  {
   "cell_type": "code",
   "execution_count": null,
   "metadata": {
    "colab_type": "code"
   },
   "outputs": [
    {
     "name": "stdout",
     "output_type": "stream",
     "text": [
      "Epoch 1/20\n",
      "375/375 [==============================] - 2s 5ms/step - loss: 0.3548 - accuracy: 0.8989 - val_loss: 0.1857 - val_accuracy: 0.9485\n",
      "Epoch 2/20\n",
      "375/375 [==============================] - 1s 3ms/step - loss: 0.1611 - accuracy: 0.9517 - val_loss: 0.1329 - val_accuracy: 0.9606\n",
      "Epoch 3/20\n",
      "375/375 [==============================] - 1s 3ms/step - loss: 0.1141 - accuracy: 0.9664 - val_loss: 0.1121 - val_accuracy: 0.9667\n",
      "Epoch 4/20\n",
      "375/375 [==============================] - 1s 3ms/step - loss: 0.0880 - accuracy: 0.9735 - val_loss: 0.1038 - val_accuracy: 0.9697\n",
      "Epoch 5/20\n",
      "375/375 [==============================] - 1s 3ms/step - loss: 0.0705 - accuracy: 0.9785 - val_loss: 0.1022 - val_accuracy: 0.9714\n",
      "Epoch 6/20\n",
      "375/375 [==============================] - 1s 3ms/step - loss: 0.0575 - accuracy: 0.9825 - val_loss: 0.0979 - val_accuracy: 0.9712\n",
      "Epoch 7/20\n",
      "375/375 [==============================] - 1s 3ms/step - loss: 0.0476 - accuracy: 0.9852 - val_loss: 0.1046 - val_accuracy: 0.9729\n",
      "Epoch 8/20\n",
      "375/375 [==============================] - 1s 3ms/step - loss: 0.0390 - accuracy: 0.9881 - val_loss: 0.1021 - val_accuracy: 0.9732\n",
      "Epoch 9/20\n",
      "375/375 [==============================] - 2s 5ms/step - loss: 0.0327 - accuracy: 0.9904 - val_loss: 0.1032 - val_accuracy: 0.9747\n",
      "Epoch 10/20\n",
      "375/375 [==============================] - 1s 4ms/step - loss: 0.0269 - accuracy: 0.9918 - val_loss: 0.1031 - val_accuracy: 0.9748\n",
      "Epoch 11/20\n",
      "375/375 [==============================] - 2s 5ms/step - loss: 0.0234 - accuracy: 0.9927 - val_loss: 0.1076 - val_accuracy: 0.9750\n",
      "Epoch 12/20\n",
      "375/375 [==============================] - 2s 4ms/step - loss: 0.0186 - accuracy: 0.9943 - val_loss: 0.1189 - val_accuracy: 0.9735\n",
      "Epoch 13/20\n",
      "375/375 [==============================] - 1s 3ms/step - loss: 0.0172 - accuracy: 0.9950 - val_loss: 0.1076 - val_accuracy: 0.9771\n",
      "Epoch 14/20\n",
      "375/375 [==============================] - 1s 3ms/step - loss: 0.0136 - accuracy: 0.9962 - val_loss: 0.1223 - val_accuracy: 0.9759\n",
      "Epoch 15/20\n",
      "375/375 [==============================] - 1s 4ms/step - loss: 0.0116 - accuracy: 0.9964 - val_loss: 0.1344 - val_accuracy: 0.9725\n",
      "Epoch 16/20\n",
      "375/375 [==============================] - 2s 4ms/step - loss: 0.0100 - accuracy: 0.9968 - val_loss: 0.1361 - val_accuracy: 0.9743\n",
      "Epoch 17/20\n",
      "375/375 [==============================] - 1s 4ms/step - loss: 0.0085 - accuracy: 0.9974 - val_loss: 0.1350 - val_accuracy: 0.9750\n",
      "Epoch 18/20\n",
      "375/375 [==============================] - 2s 4ms/step - loss: 0.0072 - accuracy: 0.9977 - val_loss: 0.1451 - val_accuracy: 0.9735\n",
      "Epoch 19/20\n",
      "375/375 [==============================] - 1s 3ms/step - loss: 0.0064 - accuracy: 0.9981 - val_loss: 0.1436 - val_accuracy: 0.9754\n",
      "Epoch 20/20\n",
      "375/375 [==============================] - 1s 4ms/step - loss: 0.0052 - accuracy: 0.9984 - val_loss: 0.1622 - val_accuracy: 0.9733\n"
     ]
    }
   ],
   "source": [
    "model = keras.Sequential([\n",
    "    layers.Dense(96, activation=\"relu\"),\n",
    "    layers.Dense(96, activation=\"relu\"),\n",
    "    layers.Dense(10, activation=\"softmax\"),\n",
    "])\n",
    "model.compile(optimizer=\"rmsprop\",\n",
    "              loss=\"sparse_categorical_crossentropy\",\n",
    "              metrics=[\"accuracy\"])\n",
    "history_large_model = model.fit(\n",
    "    train_images, train_labels,\n",
    "    epochs=20,\n",
    "    batch_size=128,\n",
    "    validation_split=0.2)"
   ]
  },
  {
   "cell_type": "markdown",
   "metadata": {
    "colab_type": "text"
   },
   "source": [
    "## 일반화 성능 향상하기"
   ]
  },
  {
   "cell_type": "markdown",
   "metadata": {
    "colab_type": "text"
   },
   "source": [
    "### 데이터셋 큐레이션"
   ]
  },
  {
   "cell_type": "markdown",
   "metadata": {
    "colab_type": "text"
   },
   "source": [
    "### 특성 공학"
   ]
  },
  {
   "cell_type": "markdown",
   "metadata": {
    "colab_type": "text"
   },
   "source": [
    "### 조기 종료 사용하기"
   ]
  },
  {
   "cell_type": "markdown",
   "metadata": {
    "colab_type": "text"
   },
   "source": [
    "### 모델 규제하기"
   ]
  },
  {
   "cell_type": "markdown",
   "metadata": {
    "colab_type": "text"
   },
   "source": [
    "#### 네트워크 크기 축소"
   ]
  },
  {
   "cell_type": "markdown",
   "metadata": {
    "colab_type": "text"
   },
   "source": [
    "**원본 모델**"
   ]
  },
  {
   "cell_type": "code",
   "execution_count": null,
   "metadata": {
    "colab_type": "code"
   },
   "outputs": [
    {
     "name": "stdout",
     "output_type": "stream",
     "text": [
      "Epoch 1/20\n"
     ]
    },
    {
     "name": "stderr",
     "output_type": "stream",
     "text": [
      "2022-04-26 06:08:06.806259: W tensorflow/core/framework/cpu_allocator_impl.cc:82] Allocation of 600000000 exceeds 10% of free system memory.\n"
     ]
    },
    {
     "name": "stdout",
     "output_type": "stream",
     "text": [
      "30/30 [==============================] - 2s 53ms/step - loss: 0.5583 - accuracy: 0.7349 - val_loss: 0.4152 - val_accuracy: 0.8658\n",
      "Epoch 2/20\n",
      "30/30 [==============================] - 1s 27ms/step - loss: 0.3334 - accuracy: 0.8959 - val_loss: 0.3370 - val_accuracy: 0.8722\n",
      "Epoch 3/20\n",
      "30/30 [==============================] - 1s 22ms/step - loss: 0.2316 - accuracy: 0.9288 - val_loss: 0.3156 - val_accuracy: 0.8704\n",
      "Epoch 4/20\n",
      "30/30 [==============================] - 1s 24ms/step - loss: 0.1788 - accuracy: 0.9432 - val_loss: 0.2803 - val_accuracy: 0.8867\n",
      "Epoch 5/20\n",
      "30/30 [==============================] - 1s 22ms/step - loss: 0.1438 - accuracy: 0.9553 - val_loss: 0.2895 - val_accuracy: 0.8847\n",
      "Epoch 6/20\n",
      "30/30 [==============================] - 1s 21ms/step - loss: 0.1166 - accuracy: 0.9645 - val_loss: 0.3241 - val_accuracy: 0.8817\n",
      "Epoch 7/20\n",
      "30/30 [==============================] - 1s 24ms/step - loss: 0.0966 - accuracy: 0.9708 - val_loss: 0.3186 - val_accuracy: 0.8819\n",
      "Epoch 8/20\n",
      "30/30 [==============================] - 1s 23ms/step - loss: 0.0747 - accuracy: 0.9802 - val_loss: 0.3674 - val_accuracy: 0.8792\n",
      "Epoch 9/20\n",
      "30/30 [==============================] - 1s 27ms/step - loss: 0.0649 - accuracy: 0.9819 - val_loss: 0.3676 - val_accuracy: 0.8788\n",
      "Epoch 10/20\n",
      "30/30 [==============================] - 1s 20ms/step - loss: 0.0512 - accuracy: 0.9868 - val_loss: 0.3974 - val_accuracy: 0.8782\n",
      "Epoch 11/20\n",
      "30/30 [==============================] - 1s 20ms/step - loss: 0.0393 - accuracy: 0.9911 - val_loss: 0.4507 - val_accuracy: 0.8666\n",
      "Epoch 12/20\n",
      "30/30 [==============================] - 1s 21ms/step - loss: 0.0330 - accuracy: 0.9932 - val_loss: 0.4653 - val_accuracy: 0.8743\n",
      "Epoch 13/20\n",
      "30/30 [==============================] - 1s 21ms/step - loss: 0.0276 - accuracy: 0.9943 - val_loss: 0.4943 - val_accuracy: 0.8747\n",
      "Epoch 14/20\n",
      "30/30 [==============================] - 1s 23ms/step - loss: 0.0194 - accuracy: 0.9964 - val_loss: 0.5250 - val_accuracy: 0.8728\n",
      "Epoch 15/20\n",
      "30/30 [==============================] - 1s 20ms/step - loss: 0.0196 - accuracy: 0.9960 - val_loss: 0.5599 - val_accuracy: 0.8726\n",
      "Epoch 16/20\n",
      "30/30 [==============================] - 1s 21ms/step - loss: 0.0102 - accuracy: 0.9987 - val_loss: 0.5894 - val_accuracy: 0.8710\n",
      "Epoch 17/20\n",
      "30/30 [==============================] - 1s 21ms/step - loss: 0.0134 - accuracy: 0.9972 - val_loss: 0.6287 - val_accuracy: 0.8708\n",
      "Epoch 18/20\n",
      "30/30 [==============================] - 1s 24ms/step - loss: 0.0062 - accuracy: 0.9993 - val_loss: 0.6538 - val_accuracy: 0.8677\n",
      "Epoch 19/20\n",
      "30/30 [==============================] - 1s 27ms/step - loss: 0.0112 - accuracy: 0.9970 - val_loss: 0.6934 - val_accuracy: 0.8684\n",
      "Epoch 20/20\n",
      "30/30 [==============================] - 1s 23ms/step - loss: 0.0039 - accuracy: 0.9995 - val_loss: 0.7460 - val_accuracy: 0.8687\n"
     ]
    }
   ],
   "source": [
    "from tensorflow.keras.datasets import imdb\n",
    "(train_data, train_labels), _ = imdb.load_data(num_words=10000)\n",
    "\n",
    "def vectorize_sequences(sequences, dimension=10000):\n",
    "    results = np.zeros((len(sequences), dimension))\n",
    "    for i, sequence in enumerate(sequences):\n",
    "        results[i, sequence] = 1.\n",
    "    return results\n",
    "train_data = vectorize_sequences(train_data)\n",
    "\n",
    "model = keras.Sequential([\n",
    "    layers.Dense(16, activation=\"relu\"),\n",
    "    layers.Dense(16, activation=\"relu\"),\n",
    "    layers.Dense(1, activation=\"sigmoid\")\n",
    "])\n",
    "model.compile(optimizer=\"rmsprop\",\n",
    "              loss=\"binary_crossentropy\",\n",
    "              metrics=[\"accuracy\"])\n",
    "history_original = model.fit(train_data, train_labels,\n",
    "                             epochs=20, batch_size=512, validation_split=0.4)"
   ]
  },
  {
   "cell_type": "markdown",
   "metadata": {
    "colab_type": "text"
   },
   "source": [
    "**작은 용량의 모델**"
   ]
  },
  {
   "cell_type": "code",
   "execution_count": null,
   "metadata": {
    "colab_type": "code"
   },
   "outputs": [
    {
     "name": "stdout",
     "output_type": "stream",
     "text": [
      "Epoch 1/20\n"
     ]
    },
    {
     "name": "stderr",
     "output_type": "stream",
     "text": [
      "2022-04-26 06:08:23.002536: W tensorflow/core/framework/cpu_allocator_impl.cc:82] Allocation of 600000000 exceeds 10% of free system memory.\n"
     ]
    },
    {
     "name": "stdout",
     "output_type": "stream",
     "text": [
      "30/30 [==============================] - 2s 50ms/step - loss: 0.6102 - accuracy: 0.7357 - val_loss: 0.5276 - val_accuracy: 0.8339\n",
      "Epoch 2/20\n",
      "30/30 [==============================] - 1s 31ms/step - loss: 0.4571 - accuracy: 0.8817 - val_loss: 0.4236 - val_accuracy: 0.8588\n",
      "Epoch 3/20\n",
      "30/30 [==============================] - 1s 28ms/step - loss: 0.3550 - accuracy: 0.9025 - val_loss: 0.3575 - val_accuracy: 0.8793\n",
      "Epoch 4/20\n",
      "30/30 [==============================] - 1s 21ms/step - loss: 0.2875 - accuracy: 0.9159 - val_loss: 0.3240 - val_accuracy: 0.8768\n",
      "Epoch 5/20\n",
      "30/30 [==============================] - 1s 22ms/step - loss: 0.2425 - accuracy: 0.9271 - val_loss: 0.2934 - val_accuracy: 0.8892\n",
      "Epoch 6/20\n",
      "30/30 [==============================] - 1s 21ms/step - loss: 0.2086 - accuracy: 0.9363 - val_loss: 0.2839 - val_accuracy: 0.8887\n",
      "Epoch 7/20\n",
      "30/30 [==============================] - 1s 20ms/step - loss: 0.1825 - accuracy: 0.9441 - val_loss: 0.2740 - val_accuracy: 0.8930\n",
      "Epoch 8/20\n",
      "30/30 [==============================] - 1s 20ms/step - loss: 0.1610 - accuracy: 0.9513 - val_loss: 0.2801 - val_accuracy: 0.8874\n",
      "Epoch 9/20\n",
      "30/30 [==============================] - 1s 19ms/step - loss: 0.1432 - accuracy: 0.9571 - val_loss: 0.2749 - val_accuracy: 0.8914\n",
      "Epoch 10/20\n",
      "30/30 [==============================] - 1s 20ms/step - loss: 0.1281 - accuracy: 0.9621 - val_loss: 0.2825 - val_accuracy: 0.8890\n",
      "Epoch 11/20\n",
      "30/30 [==============================] - 1s 22ms/step - loss: 0.1149 - accuracy: 0.9670 - val_loss: 0.2858 - val_accuracy: 0.8900\n",
      "Epoch 12/20\n",
      "30/30 [==============================] - 1s 20ms/step - loss: 0.1032 - accuracy: 0.9705 - val_loss: 0.2948 - val_accuracy: 0.8880\n",
      "Epoch 13/20\n",
      "30/30 [==============================] - 1s 23ms/step - loss: 0.0922 - accuracy: 0.9750 - val_loss: 0.3042 - val_accuracy: 0.8883\n",
      "Epoch 14/20\n",
      "30/30 [==============================] - 1s 25ms/step - loss: 0.0835 - accuracy: 0.9772 - val_loss: 0.3176 - val_accuracy: 0.8844\n",
      "Epoch 15/20\n",
      "30/30 [==============================] - 1s 26ms/step - loss: 0.0745 - accuracy: 0.9807 - val_loss: 0.3327 - val_accuracy: 0.8819\n",
      "Epoch 16/20\n",
      "30/30 [==============================] - 1s 21ms/step - loss: 0.0667 - accuracy: 0.9838 - val_loss: 0.3445 - val_accuracy: 0.8816\n",
      "Epoch 17/20\n",
      "30/30 [==============================] - 1s 21ms/step - loss: 0.0596 - accuracy: 0.9861 - val_loss: 0.3587 - val_accuracy: 0.8807\n",
      "Epoch 18/20\n",
      "30/30 [==============================] - 1s 21ms/step - loss: 0.0530 - accuracy: 0.9878 - val_loss: 0.3744 - val_accuracy: 0.8794\n",
      "Epoch 19/20\n",
      "30/30 [==============================] - 1s 21ms/step - loss: 0.0469 - accuracy: 0.9895 - val_loss: 0.3888 - val_accuracy: 0.8789\n",
      "Epoch 20/20\n",
      "30/30 [==============================] - 1s 21ms/step - loss: 0.0414 - accuracy: 0.9913 - val_loss: 0.4078 - val_accuracy: 0.8762\n"
     ]
    }
   ],
   "source": [
    "model = keras.Sequential([\n",
    "    layers.Dense(4, activation=\"relu\"),\n",
    "    layers.Dense(4, activation=\"relu\"),\n",
    "    layers.Dense(1, activation=\"sigmoid\")\n",
    "])\n",
    "model.compile(optimizer=\"rmsprop\",\n",
    "              loss=\"binary_crossentropy\",\n",
    "              metrics=[\"accuracy\"])\n",
    "history_smaller_model = model.fit(\n",
    "    train_data, train_labels,\n",
    "    epochs=20, batch_size=512, validation_split=0.4)"
   ]
  },
  {
   "cell_type": "markdown",
   "metadata": {
    "colab_type": "text"
   },
   "source": [
    "**큰 용량의 모델**"
   ]
  },
  {
   "cell_type": "code",
   "execution_count": null,
   "metadata": {
    "colab_type": "code"
   },
   "outputs": [
    {
     "name": "stdout",
     "output_type": "stream",
     "text": [
      "Epoch 1/20\n"
     ]
    },
    {
     "name": "stderr",
     "output_type": "stream",
     "text": [
      "2022-04-26 06:08:39.214137: W tensorflow/core/framework/cpu_allocator_impl.cc:82] Allocation of 600000000 exceeds 10% of free system memory.\n"
     ]
    },
    {
     "name": "stdout",
     "output_type": "stream",
     "text": [
      "30/30 [==============================] - 6s 150ms/step - loss: 0.5602 - accuracy: 0.7523 - val_loss: 0.3069 - val_accuracy: 0.8823\n",
      "Epoch 2/20\n",
      "30/30 [==============================] - 3s 105ms/step - loss: 0.2433 - accuracy: 0.9059 - val_loss: 0.2695 - val_accuracy: 0.8935\n",
      "Epoch 3/20\n",
      "30/30 [==============================] - 3s 102ms/step - loss: 0.1620 - accuracy: 0.9411 - val_loss: 0.3178 - val_accuracy: 0.8811\n",
      "Epoch 4/20\n",
      "30/30 [==============================] - 3s 107ms/step - loss: 0.0903 - accuracy: 0.9739 - val_loss: 0.3846 - val_accuracy: 0.8755\n",
      "Epoch 5/20\n",
      "30/30 [==============================] - 3s 103ms/step - loss: 0.0974 - accuracy: 0.9755 - val_loss: 0.3148 - val_accuracy: 0.8811\n",
      "Epoch 6/20\n",
      "30/30 [==============================] - 3s 102ms/step - loss: 0.0067 - accuracy: 0.9997 - val_loss: 0.5090 - val_accuracy: 0.8863\n",
      "Epoch 7/20\n",
      "30/30 [==============================] - 3s 118ms/step - loss: 8.1295e-04 - accuracy: 0.9999 - val_loss: 0.6112 - val_accuracy: 0.8839\n",
      "Epoch 8/20\n",
      "30/30 [==============================] - 3s 109ms/step - loss: 1.1569e-04 - accuracy: 1.0000 - val_loss: 0.7250 - val_accuracy: 0.8839\n",
      "Epoch 9/20\n",
      "30/30 [==============================] - 3s 103ms/step - loss: 2.0587e-05 - accuracy: 1.0000 - val_loss: 0.8230 - val_accuracy: 0.8819\n",
      "Epoch 10/20\n",
      "30/30 [==============================] - 4s 118ms/step - loss: 0.3718 - accuracy: 0.9817 - val_loss: 0.8002 - val_accuracy: 0.8577\n",
      "Epoch 11/20\n",
      "30/30 [==============================] - 3s 103ms/step - loss: 0.0010 - accuracy: 0.9999 - val_loss: 0.7042 - val_accuracy: 0.8798\n",
      "Epoch 12/20\n",
      "30/30 [==============================] - 3s 106ms/step - loss: 3.1784e-05 - accuracy: 1.0000 - val_loss: 0.7164 - val_accuracy: 0.8816\n",
      "Epoch 13/20\n",
      "30/30 [==============================] - 3s 107ms/step - loss: 1.4323e-05 - accuracy: 1.0000 - val_loss: 0.7511 - val_accuracy: 0.8816\n",
      "Epoch 14/20\n",
      "30/30 [==============================] - 3s 104ms/step - loss: 7.2266e-06 - accuracy: 1.0000 - val_loss: 0.7991 - val_accuracy: 0.8825\n",
      "Epoch 15/20\n",
      "30/30 [==============================] - 3s 106ms/step - loss: 3.2674e-06 - accuracy: 1.0000 - val_loss: 0.8748 - val_accuracy: 0.8826\n",
      "Epoch 16/20\n",
      "30/30 [==============================] - 3s 100ms/step - loss: 1.2612e-06 - accuracy: 1.0000 - val_loss: 0.9523 - val_accuracy: 0.8821\n",
      "Epoch 17/20\n",
      "30/30 [==============================] - 3s 102ms/step - loss: 4.6610e-07 - accuracy: 1.0000 - val_loss: 1.0402 - val_accuracy: 0.8817\n",
      "Epoch 18/20\n",
      "30/30 [==============================] - 3s 103ms/step - loss: 1.7514e-07 - accuracy: 1.0000 - val_loss: 1.1086 - val_accuracy: 0.8816\n",
      "Epoch 19/20\n",
      "30/30 [==============================] - 3s 99ms/step - loss: 7.4711e-08 - accuracy: 1.0000 - val_loss: 1.1657 - val_accuracy: 0.8819\n",
      "Epoch 20/20\n",
      "30/30 [==============================] - 3s 102ms/step - loss: 3.6566e-08 - accuracy: 1.0000 - val_loss: 1.2086 - val_accuracy: 0.8819\n"
     ]
    }
   ],
   "source": [
    "model = keras.Sequential([\n",
    "    layers.Dense(512, activation=\"relu\"),\n",
    "    layers.Dense(512, activation=\"relu\"),\n",
    "    layers.Dense(1, activation=\"sigmoid\")\n",
    "])\n",
    "model.compile(optimizer=\"rmsprop\",\n",
    "              loss=\"binary_crossentropy\",\n",
    "              metrics=[\"accuracy\"])\n",
    "history_larger_model = model.fit(\n",
    "    train_data, train_labels,\n",
    "    epochs=20, batch_size=512, validation_split=0.4)"
   ]
  },
  {
   "cell_type": "markdown",
   "metadata": {
    "colab_type": "text"
   },
   "source": [
    "#### 가중치 규제 추가하기"
   ]
  },
  {
   "cell_type": "markdown",
   "metadata": {
    "colab_type": "text"
   },
   "source": [
    "**모델에 L2 가중치 추가하기**"
   ]
  },
  {
   "cell_type": "code",
   "execution_count": null,
   "metadata": {
    "colab_type": "code"
   },
   "outputs": [
    {
     "name": "stdout",
     "output_type": "stream",
     "text": [
      "Epoch 1/20\n"
     ]
    },
    {
     "name": "stderr",
     "output_type": "stream",
     "text": [
      "2022-04-26 06:09:45.646248: W tensorflow/core/framework/cpu_allocator_impl.cc:82] Allocation of 600000000 exceeds 10% of free system memory.\n"
     ]
    },
    {
     "name": "stdout",
     "output_type": "stream",
     "text": [
      "30/30 [==============================] - 2s 48ms/step - loss: 0.5829 - accuracy: 0.7870 - val_loss: 0.4552 - val_accuracy: 0.8715\n",
      "Epoch 2/20\n",
      "30/30 [==============================] - 1s 36ms/step - loss: 0.3873 - accuracy: 0.8965 - val_loss: 0.4027 - val_accuracy: 0.8699\n",
      "Epoch 3/20\n",
      "30/30 [==============================] - 1s 20ms/step - loss: 0.3194 - accuracy: 0.9145 - val_loss: 0.3937 - val_accuracy: 0.8683\n",
      "Epoch 4/20\n",
      "30/30 [==============================] - 1s 19ms/step - loss: 0.2871 - accuracy: 0.9275 - val_loss: 0.3595 - val_accuracy: 0.8866\n",
      "Epoch 5/20\n",
      "30/30 [==============================] - 1s 20ms/step - loss: 0.2704 - accuracy: 0.9335 - val_loss: 0.3574 - val_accuracy: 0.8869\n",
      "Epoch 6/20\n",
      "30/30 [==============================] - 1s 20ms/step - loss: 0.2545 - accuracy: 0.9392 - val_loss: 0.3664 - val_accuracy: 0.8829\n",
      "Epoch 7/20\n",
      "30/30 [==============================] - 1s 20ms/step - loss: 0.2435 - accuracy: 0.9455 - val_loss: 0.3734 - val_accuracy: 0.8816\n",
      "Epoch 8/20\n",
      "30/30 [==============================] - 1s 20ms/step - loss: 0.2360 - accuracy: 0.9471 - val_loss: 0.3825 - val_accuracy: 0.8786\n",
      "Epoch 9/20\n",
      "30/30 [==============================] - 1s 21ms/step - loss: 0.2291 - accuracy: 0.9488 - val_loss: 0.3770 - val_accuracy: 0.8810\n",
      "Epoch 10/20\n",
      "30/30 [==============================] - 1s 21ms/step - loss: 0.2282 - accuracy: 0.9504 - val_loss: 0.3835 - val_accuracy: 0.8803\n",
      "Epoch 11/20\n",
      "30/30 [==============================] - 1s 20ms/step - loss: 0.2165 - accuracy: 0.9563 - val_loss: 0.3903 - val_accuracy: 0.8781\n",
      "Epoch 12/20\n",
      "30/30 [==============================] - 1s 21ms/step - loss: 0.2150 - accuracy: 0.9535 - val_loss: 0.4394 - val_accuracy: 0.8643\n",
      "Epoch 13/20\n",
      "30/30 [==============================] - 1s 19ms/step - loss: 0.2145 - accuracy: 0.9552 - val_loss: 0.3992 - val_accuracy: 0.8758\n",
      "Epoch 14/20\n",
      "30/30 [==============================] - 1s 21ms/step - loss: 0.2087 - accuracy: 0.9581 - val_loss: 0.4115 - val_accuracy: 0.8760\n",
      "Epoch 15/20\n",
      "30/30 [==============================] - 1s 21ms/step - loss: 0.2037 - accuracy: 0.9589 - val_loss: 0.4306 - val_accuracy: 0.8694\n",
      "Epoch 16/20\n",
      "30/30 [==============================] - 1s 20ms/step - loss: 0.2027 - accuracy: 0.9601 - val_loss: 0.4054 - val_accuracy: 0.8764\n",
      "Epoch 17/20\n",
      "30/30 [==============================] - 1s 20ms/step - loss: 0.2008 - accuracy: 0.9598 - val_loss: 0.4183 - val_accuracy: 0.8740\n",
      "Epoch 18/20\n",
      "30/30 [==============================] - 1s 20ms/step - loss: 0.1980 - accuracy: 0.9617 - val_loss: 0.4122 - val_accuracy: 0.8778\n",
      "Epoch 19/20\n",
      "30/30 [==============================] - 1s 20ms/step - loss: 0.1914 - accuracy: 0.9629 - val_loss: 0.4412 - val_accuracy: 0.8718\n",
      "Epoch 20/20\n",
      "30/30 [==============================] - 1s 20ms/step - loss: 0.1998 - accuracy: 0.9576 - val_loss: 0.4179 - val_accuracy: 0.8770\n"
     ]
    }
   ],
   "source": [
    "from tensorflow.keras import regularizers\n",
    "model = keras.Sequential([\n",
    "    layers.Dense(16,\n",
    "                 kernel_regularizer=regularizers.l2(0.002),\n",
    "                 activation=\"relu\"),\n",
    "    layers.Dense(16,\n",
    "                 kernel_regularizer=regularizers.l2(0.002),\n",
    "                 activation=\"relu\"),\n",
    "    layers.Dense(1, activation=\"sigmoid\")\n",
    "])\n",
    "model.compile(optimizer=\"rmsprop\",\n",
    "              loss=\"binary_crossentropy\",\n",
    "              metrics=[\"accuracy\"])\n",
    "history_l2_reg = model.fit(\n",
    "    train_data, train_labels,\n",
    "    epochs=20, batch_size=512, validation_split=0.4)"
   ]
  },
  {
   "cell_type": "markdown",
   "metadata": {
    "colab_type": "text"
   },
   "source": [
    "**케라스에서 사용할 수 있는 가중치 규제**"
   ]
  },
  {
   "cell_type": "code",
   "execution_count": null,
   "metadata": {
    "colab_type": "code"
   },
   "outputs": [
    {
     "data": {
      "text/plain": [
       "<keras.regularizers.L1L2 at 0x7fd9a2053b80>"
      ]
     },
     "execution_count": 15,
     "metadata": {},
     "output_type": "execute_result"
    }
   ],
   "source": [
    "from tensorflow.keras import regularizers\n",
    "regularizers.l1(0.001)\n",
    "regularizers.l1_l2(l1=0.001, l2=0.001)"
   ]
  },
  {
   "cell_type": "markdown",
   "metadata": {
    "colab_type": "text"
   },
   "source": [
    "#### 드롭아웃 추가"
   ]
  },
  {
   "cell_type": "markdown",
   "metadata": {
    "colab_type": "text"
   },
   "source": [
    "**IMDB 모델에 드롭아웃 추가하기**"
   ]
  },
  {
   "cell_type": "code",
   "execution_count": null,
   "metadata": {
    "colab_type": "code"
   },
   "outputs": [
    {
     "name": "stdout",
     "output_type": "stream",
     "text": [
      "Epoch 1/20\n"
     ]
    },
    {
     "name": "stderr",
     "output_type": "stream",
     "text": [
      "2022-04-26 06:10:00.536333: W tensorflow/core/framework/cpu_allocator_impl.cc:82] Allocation of 600000000 exceeds 10% of free system memory.\n"
     ]
    },
    {
     "name": "stdout",
     "output_type": "stream",
     "text": [
      "30/30 [==============================] - 2s 47ms/step - loss: 0.6451 - accuracy: 0.6151 - val_loss: 0.5485 - val_accuracy: 0.7754\n",
      "Epoch 2/20\n",
      "30/30 [==============================] - 1s 26ms/step - loss: 0.5379 - accuracy: 0.7553 - val_loss: 0.4662 - val_accuracy: 0.8721\n",
      "Epoch 3/20\n",
      "30/30 [==============================] - 1s 22ms/step - loss: 0.4668 - accuracy: 0.8147 - val_loss: 0.3946 - val_accuracy: 0.8826\n",
      "Epoch 4/20\n",
      "30/30 [==============================] - 1s 20ms/step - loss: 0.4075 - accuracy: 0.8542 - val_loss: 0.3587 - val_accuracy: 0.8811\n",
      "Epoch 5/20\n",
      "30/30 [==============================] - 1s 20ms/step - loss: 0.3580 - accuracy: 0.8818 - val_loss: 0.3193 - val_accuracy: 0.8893\n",
      "Epoch 6/20\n",
      "30/30 [==============================] - 1s 19ms/step - loss: 0.3185 - accuracy: 0.9031 - val_loss: 0.3038 - val_accuracy: 0.8921\n",
      "Epoch 7/20\n",
      "30/30 [==============================] - 1s 20ms/step - loss: 0.2771 - accuracy: 0.9161 - val_loss: 0.2920 - val_accuracy: 0.8887\n",
      "Epoch 8/20\n",
      "30/30 [==============================] - 1s 19ms/step - loss: 0.2547 - accuracy: 0.9281 - val_loss: 0.2929 - val_accuracy: 0.8890\n",
      "Epoch 9/20\n",
      "30/30 [==============================] - 1s 20ms/step - loss: 0.2269 - accuracy: 0.9361 - val_loss: 0.3097 - val_accuracy: 0.8903\n",
      "Epoch 10/20\n",
      "30/30 [==============================] - 1s 19ms/step - loss: 0.2038 - accuracy: 0.9458 - val_loss: 0.3093 - val_accuracy: 0.8905\n",
      "Epoch 11/20\n",
      "30/30 [==============================] - 1s 20ms/step - loss: 0.1848 - accuracy: 0.9490 - val_loss: 0.3251 - val_accuracy: 0.8882\n",
      "Epoch 12/20\n",
      "30/30 [==============================] - 1s 20ms/step - loss: 0.1629 - accuracy: 0.9546 - val_loss: 0.3796 - val_accuracy: 0.8825\n",
      "Epoch 13/20\n",
      "30/30 [==============================] - 1s 20ms/step - loss: 0.1538 - accuracy: 0.9580 - val_loss: 0.3673 - val_accuracy: 0.8883\n",
      "Epoch 14/20\n",
      "30/30 [==============================] - 1s 20ms/step - loss: 0.1444 - accuracy: 0.9606 - val_loss: 0.3599 - val_accuracy: 0.8849\n",
      "Epoch 15/20\n",
      "30/30 [==============================] - 1s 20ms/step - loss: 0.1249 - accuracy: 0.9661 - val_loss: 0.3967 - val_accuracy: 0.8874\n",
      "Epoch 16/20\n",
      "30/30 [==============================] - 1s 22ms/step - loss: 0.1164 - accuracy: 0.9693 - val_loss: 0.4393 - val_accuracy: 0.8863\n",
      "Epoch 17/20\n",
      "30/30 [==============================] - 1s 22ms/step - loss: 0.1088 - accuracy: 0.9697 - val_loss: 0.4698 - val_accuracy: 0.8837\n",
      "Epoch 18/20\n",
      "30/30 [==============================] - 1s 20ms/step - loss: 0.1010 - accuracy: 0.9732 - val_loss: 0.5441 - val_accuracy: 0.8792\n",
      "Epoch 19/20\n",
      "30/30 [==============================] - 1s 22ms/step - loss: 0.0928 - accuracy: 0.9745 - val_loss: 0.5324 - val_accuracy: 0.8851\n",
      "Epoch 20/20\n",
      "30/30 [==============================] - 1s 26ms/step - loss: 0.0862 - accuracy: 0.9772 - val_loss: 0.5024 - val_accuracy: 0.8846\n"
     ]
    }
   ],
   "source": [
    "model = keras.Sequential([\n",
    "    layers.Dense(16, activation=\"relu\"),\n",
    "    layers.Dropout(0.5),\n",
    "    layers.Dense(16, activation=\"relu\"),\n",
    "    layers.Dropout(0.5),\n",
    "    layers.Dense(1, activation=\"sigmoid\")\n",
    "])\n",
    "model.compile(optimizer=\"rmsprop\",\n",
    "              loss=\"binary_crossentropy\",\n",
    "              metrics=[\"accuracy\"])\n",
    "history_dropout = model.fit(\n",
    "    train_data, train_labels,\n",
    "    epochs=20, batch_size=512, validation_split=0.4)"
   ]
  },
  {
   "cell_type": "markdown",
   "metadata": {
    "colab_type": "text"
   },
   "source": [
    "## 요약"
   ]
  }
 ],
 "metadata": {
  "colab": {
   "collapsed_sections": [],
   "name": "chapter05_fundamentals-of-ml.i",
   "private_outputs": false,
   "provenance": [],
   "toc_visible": true
  },
  "kernelspec": {
   "display_name": "default:Python",
   "language": "python",
   "name": "conda-env-default-py"
  },
  "language_info": {
   "codemirror_mode": {
    "name": "ipython",
    "version": 3
   },
   "file_extension": ".py",
   "mimetype": "text/x-python",
   "name": "python",
   "nbconvert_exporter": "python",
   "pygments_lexer": "ipython3",
   "version": "3.9.10"
  }
 },
 "nbformat": 4,
 "nbformat_minor": 4
}
