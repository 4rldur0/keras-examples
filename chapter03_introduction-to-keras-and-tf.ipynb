{
 "cells": [
  {
   "cell_type": "markdown",
   "metadata": {
    "colab_type": "text"
   },
   "source": [
    "이 노트북은 [케라스 창시자에게 배우는 딥러닝 2판](https://tensorflow.blog/kerasdl2/)의 예제 코드를 담고 있습니다.\n",
    "\n",
    "<table align=\"left\"><tr><td>\n",
    "<a href=\"https://colab.research.google.com/github/rickiepark/deep-learning-with-python-2nd/blob/master/chapter03_introduction-to-keras-and-tf.ipynb\" target=\"_parent\"><img src=\"https://colab.research.google.com/assets/colab-badge.svg\" alt=\"Open In Colab\"/></a>\n",
    "</td></tr></table>"
   ]
  },
  {
   "cell_type": "markdown",
   "metadata": {
    "colab_type": "text"
   },
   "source": [
    "# 케라스와 텐서플로 소개"
   ]
  },
  {
   "cell_type": "markdown",
   "metadata": {
    "colab_type": "text"
   },
   "source": [
    "## 텐서플로란?"
   ]
  },
  {
   "cell_type": "markdown",
   "metadata": {
    "colab_type": "text"
   },
   "source": [
    "## 케라스란?"
   ]
  },
  {
   "cell_type": "markdown",
   "metadata": {
    "colab_type": "text"
   },
   "source": [
    "## 케라스와 텐서플로의 간략한 역사"
   ]
  },
  {
   "cell_type": "markdown",
   "metadata": {
    "colab_type": "text"
   },
   "source": [
    "## 딥러닝 작업 환경 설정하기"
   ]
  },
  {
   "cell_type": "markdown",
   "metadata": {
    "colab_type": "text"
   },
   "source": [
    "### 주피터 노트북: 권장하는 딥러닝 실험 도구"
   ]
  },
  {
   "cell_type": "markdown",
   "metadata": {
    "colab_type": "text"
   },
   "source": [
    "### 코랩 사용하기"
   ]
  },
  {
   "cell_type": "markdown",
   "metadata": {
    "colab_type": "text"
   },
   "source": [
    "#### 코랩 시작하기"
   ]
  },
  {
   "cell_type": "markdown",
   "metadata": {
    "colab_type": "text"
   },
   "source": [
    "#### pip로 패키지 설치하기"
   ]
  },
  {
   "cell_type": "markdown",
   "metadata": {
    "colab_type": "text"
   },
   "source": [
    "#### GPU 런타임 사용하기"
   ]
  },
  {
   "cell_type": "markdown",
   "metadata": {
    "colab_type": "text"
   },
   "source": [
    "## 텐서플로 시작하기"
   ]
  },
  {
   "cell_type": "markdown",
   "metadata": {
    "colab_type": "text"
   },
   "source": [
    "#### 상수 텐서와 변수"
   ]
  },
  {
   "cell_type": "markdown",
   "metadata": {
    "colab_type": "text"
   },
   "source": [
    "**모두 1 또는 모두 0인 텐서**"
   ]
  },
  {
   "cell_type": "code",
   "execution_count": 1,
   "metadata": {
    "colab_type": "code",
    "execution": {
     "iopub.execute_input": "2022-05-21T00:58:14.681100Z",
     "iopub.status.busy": "2022-05-21T00:58:14.680540Z",
     "iopub.status.idle": "2022-05-21T00:58:16.481810Z",
     "shell.execute_reply": "2022-05-21T00:58:16.480769Z"
    }
   },
   "outputs": [
    {
     "name": "stdout",
     "output_type": "stream",
     "text": [
      "tf.Tensor(\n",
      "[[1.]\n",
      " [1.]], shape=(2, 1), dtype=float32)\n"
     ]
    },
    {
     "name": "stderr",
     "output_type": "stream",
     "text": [
      "2022-05-21 00:58:16.472895: I tensorflow/core/platform/cpu_feature_guard.cc:193] This TensorFlow binary is optimized with oneAPI Deep Neural Network Library (oneDNN) to use the following CPU instructions in performance-critical operations:  AVX2 FMA\n",
      "To enable them in other operations, rebuild TensorFlow with the appropriate compiler flags.\n"
     ]
    }
   ],
   "source": [
    "import tensorflow as tf\n",
    "x = tf.ones(shape=(2, 1))\n",
    "print(x)"
   ]
  },
  {
   "cell_type": "code",
   "execution_count": 2,
   "metadata": {
    "colab_type": "code",
    "execution": {
     "iopub.execute_input": "2022-05-21T00:58:16.485729Z",
     "iopub.status.busy": "2022-05-21T00:58:16.485088Z",
     "iopub.status.idle": "2022-05-21T00:58:16.490852Z",
     "shell.execute_reply": "2022-05-21T00:58:16.490149Z"
    }
   },
   "outputs": [
    {
     "name": "stdout",
     "output_type": "stream",
     "text": [
      "tf.Tensor(\n",
      "[[0.]\n",
      " [0.]], shape=(2, 1), dtype=float32)\n"
     ]
    }
   ],
   "source": [
    "x = tf.zeros(shape=(2, 1))\n",
    "print(x)"
   ]
  },
  {
   "cell_type": "markdown",
   "metadata": {
    "colab_type": "text"
   },
   "source": [
    "**랜덤 텐서**"
   ]
  },
  {
   "cell_type": "code",
   "execution_count": 3,
   "metadata": {
    "colab_type": "code",
    "execution": {
     "iopub.execute_input": "2022-05-21T00:58:16.494374Z",
     "iopub.status.busy": "2022-05-21T00:58:16.493742Z",
     "iopub.status.idle": "2022-05-21T00:58:16.501220Z",
     "shell.execute_reply": "2022-05-21T00:58:16.500464Z"
    }
   },
   "outputs": [
    {
     "name": "stdout",
     "output_type": "stream",
     "text": [
      "tf.Tensor(\n",
      "[[0.40906563]\n",
      " [0.60894233]\n",
      " [0.1722681 ]], shape=(3, 1), dtype=float32)\n"
     ]
    }
   ],
   "source": [
    "x = tf.random.normal(shape=(3, 1), mean=0., stddev=1.)\n",
    "print(x)"
   ]
  },
  {
   "cell_type": "code",
   "execution_count": 4,
   "metadata": {
    "colab_type": "code",
    "execution": {
     "iopub.execute_input": "2022-05-21T00:58:16.504901Z",
     "iopub.status.busy": "2022-05-21T00:58:16.504410Z",
     "iopub.status.idle": "2022-05-21T00:58:16.510480Z",
     "shell.execute_reply": "2022-05-21T00:58:16.509458Z"
    }
   },
   "outputs": [
    {
     "name": "stdout",
     "output_type": "stream",
     "text": [
      "tf.Tensor(\n",
      "[[0.74544466]\n",
      " [0.24424803]\n",
      " [0.6413239 ]], shape=(3, 1), dtype=float32)\n"
     ]
    }
   ],
   "source": [
    "x = tf.random.uniform(shape=(3, 1), minval=0., maxval=1.)\n",
    "print(x)"
   ]
  },
  {
   "cell_type": "markdown",
   "metadata": {
    "colab_type": "text"
   },
   "source": [
    "**넘파이 배열에 값 할당하기**"
   ]
  },
  {
   "cell_type": "code",
   "execution_count": 5,
   "metadata": {
    "colab_type": "code",
    "execution": {
     "iopub.execute_input": "2022-05-21T00:58:16.514734Z",
     "iopub.status.busy": "2022-05-21T00:58:16.514199Z",
     "iopub.status.idle": "2022-05-21T00:58:16.518209Z",
     "shell.execute_reply": "2022-05-21T00:58:16.517567Z"
    }
   },
   "outputs": [],
   "source": [
    "import numpy as np\n",
    "x = np.ones(shape=(2, 2))\n",
    "x[0, 0] = 0."
   ]
  },
  {
   "cell_type": "markdown",
   "metadata": {
    "colab_type": "text"
   },
   "source": [
    "**텐서플로 변수 만들기**"
   ]
  },
  {
   "cell_type": "code",
   "execution_count": 6,
   "metadata": {
    "colab_type": "code",
    "execution": {
     "iopub.execute_input": "2022-05-21T00:58:16.522164Z",
     "iopub.status.busy": "2022-05-21T00:58:16.521381Z",
     "iopub.status.idle": "2022-05-21T00:58:16.529208Z",
     "shell.execute_reply": "2022-05-21T00:58:16.528387Z"
    }
   },
   "outputs": [
    {
     "name": "stdout",
     "output_type": "stream",
     "text": [
      "<tf.Variable 'Variable:0' shape=(3, 1) dtype=float32, numpy=\n",
      "array([[-0.65379184],\n",
      "       [ 0.7763434 ],\n",
      "       [ 0.5706006 ]], dtype=float32)>\n"
     ]
    }
   ],
   "source": [
    "v = tf.Variable(initial_value=tf.random.normal(shape=(3, 1)))\n",
    "print(v)"
   ]
  },
  {
   "cell_type": "markdown",
   "metadata": {
    "colab_type": "text"
   },
   "source": [
    "**텐서플로 변수에 값 할당하기**"
   ]
  },
  {
   "cell_type": "code",
   "execution_count": 7,
   "metadata": {
    "colab_type": "code",
    "execution": {
     "iopub.execute_input": "2022-05-21T00:58:16.532960Z",
     "iopub.status.busy": "2022-05-21T00:58:16.532657Z",
     "iopub.status.idle": "2022-05-21T00:58:16.545443Z",
     "shell.execute_reply": "2022-05-21T00:58:16.544477Z"
    }
   },
   "outputs": [
    {
     "data": {
      "text/plain": [
       "<tf.Variable 'UnreadVariable' shape=(3, 1) dtype=float32, numpy=\n",
       "array([[1.],\n",
       "       [1.],\n",
       "       [1.]], dtype=float32)>"
      ]
     },
     "execution_count": 7,
     "metadata": {},
     "output_type": "execute_result"
    }
   ],
   "source": [
    "v.assign(tf.ones((3, 1)))"
   ]
  },
  {
   "cell_type": "markdown",
   "metadata": {
    "colab_type": "text"
   },
   "source": [
    "**변수 일부에 값 할당하기**"
   ]
  },
  {
   "cell_type": "code",
   "execution_count": 8,
   "metadata": {
    "colab_type": "code",
    "execution": {
     "iopub.execute_input": "2022-05-21T00:58:16.549025Z",
     "iopub.status.busy": "2022-05-21T00:58:16.548733Z",
     "iopub.status.idle": "2022-05-21T00:58:16.557519Z",
     "shell.execute_reply": "2022-05-21T00:58:16.556482Z"
    }
   },
   "outputs": [
    {
     "data": {
      "text/plain": [
       "<tf.Variable 'UnreadVariable' shape=(3, 1) dtype=float32, numpy=\n",
       "array([[3.],\n",
       "       [1.],\n",
       "       [1.]], dtype=float32)>"
      ]
     },
     "execution_count": 8,
     "metadata": {},
     "output_type": "execute_result"
    }
   ],
   "source": [
    "v[0, 0].assign(3.)"
   ]
  },
  {
   "cell_type": "markdown",
   "metadata": {
    "colab_type": "text"
   },
   "source": [
    "**`assign_add` 사용하기**"
   ]
  },
  {
   "cell_type": "code",
   "execution_count": 9,
   "metadata": {
    "colab_type": "code",
    "execution": {
     "iopub.execute_input": "2022-05-21T00:58:16.561236Z",
     "iopub.status.busy": "2022-05-21T00:58:16.560971Z",
     "iopub.status.idle": "2022-05-21T00:58:16.568357Z",
     "shell.execute_reply": "2022-05-21T00:58:16.567523Z"
    }
   },
   "outputs": [
    {
     "data": {
      "text/plain": [
       "<tf.Variable 'UnreadVariable' shape=(3, 1) dtype=float32, numpy=\n",
       "array([[4.],\n",
       "       [2.],\n",
       "       [2.]], dtype=float32)>"
      ]
     },
     "execution_count": 9,
     "metadata": {},
     "output_type": "execute_result"
    }
   ],
   "source": [
    "v.assign_add(tf.ones((3, 1)))"
   ]
  },
  {
   "cell_type": "markdown",
   "metadata": {
    "colab_type": "text"
   },
   "source": [
    "#### 텐서 연산: 텐서플로에서 수학 계산하기"
   ]
  },
  {
   "cell_type": "markdown",
   "metadata": {
    "colab_type": "text"
   },
   "source": [
    "**기본적인 수학 연산**"
   ]
  },
  {
   "cell_type": "code",
   "execution_count": 10,
   "metadata": {
    "colab_type": "code",
    "execution": {
     "iopub.execute_input": "2022-05-21T00:58:16.572052Z",
     "iopub.status.busy": "2022-05-21T00:58:16.571786Z",
     "iopub.status.idle": "2022-05-21T00:58:16.599467Z",
     "shell.execute_reply": "2022-05-21T00:58:16.598533Z"
    }
   },
   "outputs": [],
   "source": [
    "a = tf.ones((2, 2))\n",
    "b = tf.square(a)\n",
    "c = tf.sqrt(a)\n",
    "d = b + c\n",
    "e = tf.matmul(a, b)\n",
    "e *= d"
   ]
  },
  {
   "cell_type": "markdown",
   "metadata": {
    "colab_type": "text"
   },
   "source": [
    "#### GradientTape API 다시 살펴 보기"
   ]
  },
  {
   "cell_type": "markdown",
   "metadata": {
    "colab_type": "text"
   },
   "source": [
    "**`GradientTape` 사용하기**"
   ]
  },
  {
   "cell_type": "code",
   "execution_count": 11,
   "metadata": {
    "colab_type": "code",
    "execution": {
     "iopub.execute_input": "2022-05-21T00:58:16.603842Z",
     "iopub.status.busy": "2022-05-21T00:58:16.603513Z",
     "iopub.status.idle": "2022-05-21T00:58:16.612102Z",
     "shell.execute_reply": "2022-05-21T00:58:16.611176Z"
    }
   },
   "outputs": [],
   "source": [
    "input_var = tf.Variable(initial_value=3.)\n",
    "with tf.GradientTape() as tape:\n",
    "   result = tf.square(input_var)\n",
    "gradient = tape.gradient(result, input_var)"
   ]
  },
  {
   "cell_type": "markdown",
   "metadata": {
    "colab_type": "text"
   },
   "source": [
    "**상수 입력 텐서와 함께 `GradientTape` 사용하기**"
   ]
  },
  {
   "cell_type": "code",
   "execution_count": 12,
   "metadata": {
    "colab_type": "code",
    "execution": {
     "iopub.execute_input": "2022-05-21T00:58:16.615692Z",
     "iopub.status.busy": "2022-05-21T00:58:16.615413Z",
     "iopub.status.idle": "2022-05-21T00:58:16.620532Z",
     "shell.execute_reply": "2022-05-21T00:58:16.619752Z"
    }
   },
   "outputs": [],
   "source": [
    "input_const = tf.constant(3.)\n",
    "with tf.GradientTape() as tape:\n",
    "   tape.watch(input_const)\n",
    "   result = tf.square(input_const)\n",
    "gradient = tape.gradient(result, input_const)"
   ]
  },
  {
   "cell_type": "markdown",
   "metadata": {
    "colab_type": "text"
   },
   "source": [
    "**그레이디언트 테이프를 중첩하여 이계도 그레이디언트를 계산하기**"
   ]
  },
  {
   "cell_type": "code",
   "execution_count": 13,
   "metadata": {
    "colab_type": "code",
    "execution": {
     "iopub.execute_input": "2022-05-21T00:58:16.624217Z",
     "iopub.status.busy": "2022-05-21T00:58:16.623600Z",
     "iopub.status.idle": "2022-05-21T00:58:16.630991Z",
     "shell.execute_reply": "2022-05-21T00:58:16.629989Z"
    }
   },
   "outputs": [],
   "source": [
    "time = tf.Variable(0.)\n",
    "with tf.GradientTape() as outer_tape:\n",
    "    with tf.GradientTape() as inner_tape:\n",
    "        position =  4.9 * time ** 2\n",
    "    speed = inner_tape.gradient(position, time)\n",
    "acceleration = outer_tape.gradient(speed, time)"
   ]
  },
  {
   "cell_type": "markdown",
   "metadata": {
    "colab_type": "text"
   },
   "source": [
    "#### 엔드-투-엔드 예제: 텐서플로 선형 분류기"
   ]
  },
  {
   "cell_type": "markdown",
   "metadata": {
    "colab_type": "text"
   },
   "source": [
    "**2D 평면에 두 클래스의 랜덤한 포인트 생성하기**"
   ]
  },
  {
   "cell_type": "code",
   "execution_count": 14,
   "metadata": {
    "colab_type": "code",
    "execution": {
     "iopub.execute_input": "2022-05-21T00:58:16.635105Z",
     "iopub.status.busy": "2022-05-21T00:58:16.634828Z",
     "iopub.status.idle": "2022-05-21T00:58:16.641379Z",
     "shell.execute_reply": "2022-05-21T00:58:16.640512Z"
    }
   },
   "outputs": [],
   "source": [
    "num_samples_per_class = 1000\n",
    "negative_samples = np.random.multivariate_normal(\n",
    "    mean=[0, 3],\n",
    "    cov=[[1, 0.5],[0.5, 1]],\n",
    "    size=num_samples_per_class)\n",
    "positive_samples = np.random.multivariate_normal(\n",
    "    mean=[3, 0],\n",
    "    cov=[[1, 0.5],[0.5, 1]],\n",
    "    size=num_samples_per_class)"
   ]
  },
  {
   "cell_type": "markdown",
   "metadata": {
    "colab_type": "text"
   },
   "source": [
    "**두 클래스를 (2000, 2) 크기의 한 배열로 쌓기**"
   ]
  },
  {
   "cell_type": "code",
   "execution_count": 15,
   "metadata": {
    "colab_type": "code",
    "execution": {
     "iopub.execute_input": "2022-05-21T00:58:16.645184Z",
     "iopub.status.busy": "2022-05-21T00:58:16.644657Z",
     "iopub.status.idle": "2022-05-21T00:58:16.649566Z",
     "shell.execute_reply": "2022-05-21T00:58:16.648645Z"
    }
   },
   "outputs": [],
   "source": [
    "inputs = np.vstack((negative_samples, positive_samples)).astype(np.float32)"
   ]
  },
  {
   "cell_type": "markdown",
   "metadata": {
    "colab_type": "text"
   },
   "source": [
    "**(0과 1로 구성된) 타깃 생성하기**"
   ]
  },
  {
   "cell_type": "code",
   "execution_count": 16,
   "metadata": {
    "colab_type": "code",
    "execution": {
     "iopub.execute_input": "2022-05-21T00:58:16.653376Z",
     "iopub.status.busy": "2022-05-21T00:58:16.652893Z",
     "iopub.status.idle": "2022-05-21T00:58:16.656858Z",
     "shell.execute_reply": "2022-05-21T00:58:16.656239Z"
    }
   },
   "outputs": [],
   "source": [
    "targets = np.vstack((np.zeros((num_samples_per_class, 1), dtype=\"float32\"),\n",
    "                     np.ones((num_samples_per_class, 1), dtype=\"float32\")))"
   ]
  },
  {
   "cell_type": "markdown",
   "metadata": {
    "colab_type": "text"
   },
   "source": [
    "**두 클래스의 포인트를 그래프로 그리기**"
   ]
  },
  {
   "cell_type": "code",
   "execution_count": 17,
   "metadata": {
    "colab_type": "code",
    "execution": {
     "iopub.execute_input": "2022-05-21T00:58:16.660370Z",
     "iopub.status.busy": "2022-05-21T00:58:16.659928Z",
     "iopub.status.idle": "2022-05-21T00:58:17.496563Z",
     "shell.execute_reply": "2022-05-21T00:58:17.495565Z"
    }
   },
   "outputs": [
    {
     "data": {
      "image/png": "[encoded data removed]",
      "text/plain": [
       "<Figure size 432x288 with 1 Axes>"
      ]
     },
     "metadata": {
      "needs_background": "light"
     },
     "output_type": "display_data"
    }
   ],
   "source": [
    "import matplotlib.pyplot as plt\n",
    "plt.scatter(inputs[:, 0], inputs[:, 1], c=targets[:, 0])\n",
    "plt.show()"
   ]
  },
  {
   "cell_type": "markdown",
   "metadata": {
    "colab_type": "text"
   },
   "source": [
    "**선형 분류기의 변수 만들기**"
   ]
  },
  {
   "cell_type": "code",
   "execution_count": 18,
   "metadata": {
    "colab_type": "code",
    "execution": {
     "iopub.execute_input": "2022-05-21T00:58:17.501331Z",
     "iopub.status.busy": "2022-05-21T00:58:17.500625Z",
     "iopub.status.idle": "2022-05-21T00:58:17.507479Z",
     "shell.execute_reply": "2022-05-21T00:58:17.506630Z"
    }
   },
   "outputs": [],
   "source": [
    "input_dim = 2\n",
    "output_dim = 1\n",
    "W = tf.Variable(initial_value=tf.random.uniform(shape=(input_dim, output_dim)))\n",
    "b = tf.Variable(initial_value=tf.zeros(shape=(output_dim,)))"
   ]
  },
  {
   "cell_type": "markdown",
   "metadata": {
    "colab_type": "text"
   },
   "source": [
    "**정방향 패스 함수**"
   ]
  },
  {
   "cell_type": "code",
   "execution_count": 19,
   "metadata": {
    "colab_type": "code",
    "execution": {
     "iopub.execute_input": "2022-05-21T00:58:17.511530Z",
     "iopub.status.busy": "2022-05-21T00:58:17.510880Z",
     "iopub.status.idle": "2022-05-21T00:58:17.514807Z",
     "shell.execute_reply": "2022-05-21T00:58:17.513996Z"
    }
   },
   "outputs": [],
   "source": [
    "def model(inputs):\n",
    "    return tf.matmul(inputs, W) + b"
   ]
  },
  {
   "cell_type": "markdown",
   "metadata": {
    "colab_type": "text"
   },
   "source": [
    "**평균 제곱 오차 손실 함수**"
   ]
  },
  {
   "cell_type": "code",
   "execution_count": 20,
   "metadata": {
    "colab_type": "code",
    "execution": {
     "iopub.execute_input": "2022-05-21T00:58:17.518429Z",
     "iopub.status.busy": "2022-05-21T00:58:17.518140Z",
     "iopub.status.idle": "2022-05-21T00:58:17.522316Z",
     "shell.execute_reply": "2022-05-21T00:58:17.521551Z"
    }
   },
   "outputs": [],
   "source": [
    "def square_loss(targets, predictions):\n",
    "    per_sample_losses = tf.square(targets - predictions)\n",
    "    return tf.reduce_mean(per_sample_losses)"
   ]
  },
  {
   "cell_type": "markdown",
   "metadata": {
    "colab_type": "text"
   },
   "source": [
    "**훈련 스텝 함수**"
   ]
  },
  {
   "cell_type": "code",
   "execution_count": 21,
   "metadata": {
    "colab_type": "code",
    "execution": {
     "iopub.execute_input": "2022-05-21T00:58:17.526391Z",
     "iopub.status.busy": "2022-05-21T00:58:17.525809Z",
     "iopub.status.idle": "2022-05-21T00:58:17.531136Z",
     "shell.execute_reply": "2022-05-21T00:58:17.530318Z"
    }
   },
   "outputs": [],
   "source": [
    "learning_rate = 0.1\n",
    "\n",
    "def training_step(inputs, targets):\n",
    "    with tf.GradientTape() as tape:\n",
    "        predictions = model(inputs)\n",
    "        loss = square_loss(targets, predictions)\n",
    "    grad_loss_wrt_W, grad_loss_wrt_b = tape.gradient(loss, [W, b])\n",
    "    W.assign_sub(grad_loss_wrt_W * learning_rate)\n",
    "    b.assign_sub(grad_loss_wrt_b * learning_rate)\n",
    "    return loss"
   ]
  },
  {
   "cell_type": "markdown",
   "metadata": {
    "colab_type": "text"
   },
   "source": [
    "**배치 훈련 루프**"
   ]
  },
  {
   "cell_type": "code",
   "execution_count": 22,
   "metadata": {
    "colab_type": "code",
    "execution": {
     "iopub.execute_input": "2022-05-21T00:58:17.535011Z",
     "iopub.status.busy": "2022-05-21T00:58:17.534413Z",
     "iopub.status.idle": "2022-05-21T00:58:17.601552Z",
     "shell.execute_reply": "2022-05-21T00:58:17.600577Z"
    }
   },
   "outputs": [
    {
     "name": "stdout",
     "output_type": "stream",
     "text": [
      "0번째 스텝의 손실: 2.6556\n",
      "1번째 스텝의 손실: 0.2631\n",
      "2번째 스텝의 손실: 0.1291\n",
      "3번째 스텝의 손실: 0.1072\n",
      "4번째 스텝의 손실: 0.0984\n",
      "5번째 스텝의 손실: 0.0917\n",
      "6번째 스텝의 손실: 0.0856\n",
      "7번째 스텝의 손실: 0.0802\n",
      "8번째 스텝의 손실: 0.0752\n",
      "9번째 스텝의 손실: 0.0706\n",
      "10번째 스텝의 손실: 0.0665\n",
      "11번째 스텝의 손실: 0.0628\n",
      "12번째 스텝의 손실: 0.0594\n",
      "13번째 스텝의 손실: 0.0563\n",
      "14번째 스텝의 손실: 0.0535\n",
      "15번째 스텝의 손실: 0.0509\n",
      "16번째 스텝의 손실: 0.0486\n",
      "17번째 스텝의 손실: 0.0465\n",
      "18번째 스텝의 손실: 0.0445\n",
      "19번째 스텝의 손실: 0.0428\n",
      "20번째 스텝의 손실: 0.0412\n",
      "21번째 스텝의 손실: 0.0397\n",
      "22번째 스텝의 손실: 0.0384\n",
      "23번째 스텝의 손실: 0.0372\n",
      "24번째 스텝의 손실: 0.0361\n",
      "25번째 스텝의 손실: 0.0351\n",
      "26번째 스텝의 손실: 0.0342\n",
      "27번째 스텝의 손실: 0.0334\n",
      "28번째 스텝의 손실: 0.0327\n",
      "29번째 스텝의 손실: 0.0320\n",
      "30번째 스텝의 손실: 0.0314\n",
      "31번째 스텝의 손실: 0.0308\n",
      "32번째 스텝의 손실: 0.0303\n",
      "33번째 스텝의 손실: 0.0298\n",
      "34번째 스텝의 손실: 0.0294\n",
      "35번째 스텝의 손실: 0.0290\n",
      "36번째 스텝의 손실: 0.0287\n",
      "37번째 스텝의 손실: 0.0284\n",
      "38번째 스텝의 손실: 0.0281\n",
      "39번째 스텝의 손실: 0.0278\n"
     ]
    }
   ],
   "source": [
    "for step in range(40):\n",
    "    loss = training_step(inputs, targets)\n",
    "    print(f\"{step}번째 스텝의 손실: {loss:.4f}\")"
   ]
  },
  {
   "cell_type": "code",
   "execution_count": 23,
   "metadata": {
    "colab_type": "code",
    "execution": {
     "iopub.execute_input": "2022-05-21T00:58:17.605276Z",
     "iopub.status.busy": "2022-05-21T00:58:17.604747Z",
     "iopub.status.idle": "2022-05-21T00:58:17.748955Z",
     "shell.execute_reply": "2022-05-21T00:58:17.746773Z"
    }
   },
   "outputs": [
    {
     "data": {
      "image/png": "[encoded data removed]",
      "text/plain": [
       "<Figure size 432x288 with 1 Axes>"
      ]
     },
     "metadata": {
      "needs_background": "light"
     },
     "output_type": "display_data"
    }
   ],
   "source": [
    "predictions = model(inputs)\n",
    "plt.scatter(inputs[:, 0], inputs[:, 1], c=predictions[:, 0] > 0.5)\n",
    "plt.show()"
   ]
  },
  {
   "cell_type": "code",
   "execution_count": 24,
   "metadata": {
    "colab_type": "code",
    "execution": {
     "iopub.execute_input": "2022-05-21T00:58:17.753051Z",
     "iopub.status.busy": "2022-05-21T00:58:17.752361Z",
     "iopub.status.idle": "2022-05-21T00:58:17.897123Z",
     "shell.execute_reply": "2022-05-21T00:58:17.895862Z"
    }
   },
   "outputs": [
    {
     "data": {
      "text/plain": [
       "<matplotlib.collections.PathCollection at 0x7fb9d8e59b38>"
      ]
     },
     "execution_count": 24,
     "metadata": {},
     "output_type": "execute_result"
    },
    {
     "data": {
      "image/png": "[encoded data removed]",
      "text/plain": [
       "<Figure size 432x288 with 1 Axes>"
      ]
     },
     "metadata": {
      "needs_background": "light"
     },
     "output_type": "display_data"
    }
   ],
   "source": [
    "x = [-1, 4] #np.linspace(-1, 4, 100)\n",
    "y = - W[0] /  W[1] * x + (0.5 - b) / W[1]\n",
    "plt.plot(x, y, \"-r\")\n",
    "plt.scatter(inputs[:, 0], inputs[:, 1], c=predictions[:, 0] > 0.5)"
   ]
  },
  {
   "cell_type": "markdown",
   "metadata": {
    "colab_type": "text"
   },
   "source": [
    "## 신경망의 구조: 핵심 Keras API 이해하기"
   ]
  },
  {
   "cell_type": "markdown",
   "metadata": {
    "colab_type": "text"
   },
   "source": [
    "### 층: 딥러닝의 구성 요소"
   ]
  },
  {
   "cell_type": "markdown",
   "metadata": {
    "colab_type": "text"
   },
   "source": [
    "#### 케라스의 Layer 클래스"
   ]
  },
  {
   "cell_type": "markdown",
   "metadata": {
    "colab_type": "text"
   },
   "source": [
    "**`Layer`의 서브클래스로 구현한 `Dense` 층**"
   ]
  },
  {
   "cell_type": "code",
   "execution_count": 25,
   "metadata": {
    "colab_type": "code",
    "execution": {
     "iopub.execute_input": "2022-05-21T00:58:17.901835Z",
     "iopub.status.busy": "2022-05-21T00:58:17.901476Z",
     "iopub.status.idle": "2022-05-21T00:58:17.908604Z",
     "shell.execute_reply": "2022-05-21T00:58:17.907592Z"
    }
   },
   "outputs": [],
   "source": [
    "from tensorflow import keras\n",
    "\n",
    "class SimpleDense(keras.layers.Layer):\n",
    "\n",
    "    def __init__(self, units, activation=None):\n",
    "        super().__init__()\n",
    "        self.units = units\n",
    "        self.activation = activation\n",
    "\n",
    "    def build(self, input_shape):\n",
    "        input_dim = input_shape[-1]\n",
    "        self.W = self.add_weight(shape=(input_dim, self.units),\n",
    "                                 initializer=\"random_normal\")\n",
    "        self.b = self.add_weight(shape=(self.units,),\n",
    "                                 initializer=\"zeros\")\n",
    "\n",
    "    def call(self, inputs):\n",
    "        y = tf.matmul(inputs, self.W) + self.b\n",
    "        if self.activation is not None:\n",
    "            y = self.activation(y)\n",
    "        return y"
   ]
  },
  {
   "cell_type": "code",
   "execution_count": 26,
   "metadata": {
    "colab_type": "code",
    "execution": {
     "iopub.execute_input": "2022-05-21T00:58:17.912833Z",
     "iopub.status.busy": "2022-05-21T00:58:17.912083Z",
     "iopub.status.idle": "2022-05-21T00:58:17.923080Z",
     "shell.execute_reply": "2022-05-21T00:58:17.922276Z"
    }
   },
   "outputs": [
    {
     "name": "stdout",
     "output_type": "stream",
     "text": [
      "(2, 32)\n"
     ]
    }
   ],
   "source": [
    "my_dense = SimpleDense(units=32, activation=tf.nn.relu)\n",
    "input_tensor = tf.ones(shape=(2, 784))\n",
    "output_tensor = my_dense(input_tensor)\n",
    "print(output_tensor.shape)"
   ]
  },
  {
   "cell_type": "markdown",
   "metadata": {
    "colab_type": "text"
   },
   "source": [
    "#### 자동 크기 추론: 동적으로 층 만들기"
   ]
  },
  {
   "cell_type": "code",
   "execution_count": 27,
   "metadata": {
    "colab_type": "code",
    "execution": {
     "iopub.execute_input": "2022-05-21T00:58:17.926464Z",
     "iopub.status.busy": "2022-05-21T00:58:17.926171Z",
     "iopub.status.idle": "2022-05-21T00:58:17.933973Z",
     "shell.execute_reply": "2022-05-21T00:58:17.932941Z"
    }
   },
   "outputs": [],
   "source": [
    "from tensorflow.keras import layers\n",
    "layer = layers.Dense(32, activation=\"relu\")"
   ]
  },
  {
   "cell_type": "code",
   "execution_count": 28,
   "metadata": {
    "colab_type": "code",
    "execution": {
     "iopub.execute_input": "2022-05-21T00:58:17.937598Z",
     "iopub.status.busy": "2022-05-21T00:58:17.937320Z",
     "iopub.status.idle": "2022-05-21T00:58:17.945965Z",
     "shell.execute_reply": "2022-05-21T00:58:17.944897Z"
    }
   },
   "outputs": [],
   "source": [
    "from tensorflow.keras import models\n",
    "from tensorflow.keras import layers\n",
    "model = models.Sequential([\n",
    "    layers.Dense(32, activation=\"relu\"),\n",
    "    layers.Dense(32)\n",
    "])"
   ]
  },
  {
   "cell_type": "code",
   "execution_count": 29,
   "metadata": {
    "colab_type": "code",
    "execution": {
     "iopub.execute_input": "2022-05-21T00:58:17.949491Z",
     "iopub.status.busy": "2022-05-21T00:58:17.949222Z",
     "iopub.status.idle": "2022-05-21T00:58:17.957588Z",
     "shell.execute_reply": "2022-05-21T00:58:17.956818Z"
    }
   },
   "outputs": [],
   "source": [
    "model = keras.Sequential([\n",
    "    SimpleDense(32, activation=\"relu\"),\n",
    "    SimpleDense(64, activation=\"relu\"),\n",
    "    SimpleDense(32, activation=\"relu\"),\n",
    "    SimpleDense(10, activation=\"softmax\")\n",
    "])"
   ]
  },
  {
   "cell_type": "markdown",
   "metadata": {
    "colab_type": "text"
   },
   "source": [
    "### 층에서 모델로"
   ]
  },
  {
   "cell_type": "markdown",
   "metadata": {
    "colab_type": "text"
   },
   "source": [
    "### “컴파일” 단계: 학습 과정 설정"
   ]
  },
  {
   "cell_type": "code",
   "execution_count": 30,
   "metadata": {
    "colab_type": "code",
    "execution": {
     "iopub.execute_input": "2022-05-21T00:58:17.961340Z",
     "iopub.status.busy": "2022-05-21T00:58:17.961064Z",
     "iopub.status.idle": "2022-05-21T00:58:17.973759Z",
     "shell.execute_reply": "2022-05-21T00:58:17.972882Z"
    }
   },
   "outputs": [],
   "source": [
    "model = keras.Sequential([keras.layers.Dense(1)])\n",
    "model.compile(optimizer=\"rmsprop\",\n",
    "              loss=\"mean_squared_error\",\n",
    "              metrics=[\"accuracy\"])"
   ]
  },
  {
   "cell_type": "code",
   "execution_count": 31,
   "metadata": {
    "colab_type": "code",
    "execution": {
     "iopub.execute_input": "2022-05-21T00:58:17.977477Z",
     "iopub.status.busy": "2022-05-21T00:58:17.977176Z",
     "iopub.status.idle": "2022-05-21T00:58:17.989690Z",
     "shell.execute_reply": "2022-05-21T00:58:17.988911Z"
    }
   },
   "outputs": [],
   "source": [
    "model.compile(optimizer=keras.optimizers.RMSprop(),\n",
    "              loss=keras.losses.MeanSquaredError(),\n",
    "              metrics=[keras.metrics.BinaryAccuracy()])"
   ]
  },
  {
   "cell_type": "markdown",
   "metadata": {
    "colab_type": "text"
   },
   "source": [
    "### 손실 함수 선택하기"
   ]
  },
  {
   "cell_type": "markdown",
   "metadata": {
    "colab_type": "text"
   },
   "source": [
    "### fit() 메서드 이해하기"
   ]
  },
  {
   "cell_type": "markdown",
   "metadata": {
    "colab_type": "text"
   },
   "source": [
    "**넘파이 데이터로 `fit()` 메서드 호출하기**"
   ]
  },
  {
   "cell_type": "code",
   "execution_count": 32,
   "metadata": {
    "colab_type": "code",
    "execution": {
     "iopub.execute_input": "2022-05-21T00:58:17.993795Z",
     "iopub.status.busy": "2022-05-21T00:58:17.993504Z",
     "iopub.status.idle": "2022-05-21T00:58:18.510003Z",
     "shell.execute_reply": "2022-05-21T00:58:18.509248Z"
    }
   },
   "outputs": [
    {
     "name": "stdout",
     "output_type": "stream",
     "text": [
      "Epoch 1/5\n",
      "16/16 [==============================] - 0s 1ms/step - loss: 9.2005 - binary_accuracy: 0.9970\n",
      "Epoch 2/5\n",
      "16/16 [==============================] - 0s 1ms/step - loss: 8.8428 - binary_accuracy: 0.9970\n",
      "Epoch 3/5\n",
      "16/16 [==============================] - 0s 1ms/step - loss: 8.5411 - binary_accuracy: 0.9970\n",
      "Epoch 4/5\n",
      "16/16 [==============================] - 0s 1ms/step - loss: 8.2505 - binary_accuracy: 0.9970\n",
      "Epoch 5/5\n",
      "16/16 [==============================] - 0s 1ms/step - loss: 7.9672 - binary_accuracy: 0.9965\n"
     ]
    }
   ],
   "source": [
    "history = model.fit(\n",
    "    inputs,\n",
    "    targets,\n",
    "    epochs=5,\n",
    "    batch_size=128\n",
    ")"
   ]
  },
  {
   "cell_type": "code",
   "execution_count": 33,
   "metadata": {
    "colab_type": "code",
    "execution": {
     "iopub.execute_input": "2022-05-21T00:58:18.513804Z",
     "iopub.status.busy": "2022-05-21T00:58:18.513289Z",
     "iopub.status.idle": "2022-05-21T00:58:18.518984Z",
     "shell.execute_reply": "2022-05-21T00:58:18.518076Z"
    }
   },
   "outputs": [
    {
     "data": {
      "text/plain": [
       "{'loss': [9.200462341308594,\n",
       "  8.842827796936035,\n",
       "  8.541104316711426,\n",
       "  8.250469207763672,\n",
       "  7.967159271240234],\n",
       " 'binary_accuracy': [0.996999979019165,\n",
       "  0.996999979019165,\n",
       "  0.996999979019165,\n",
       "  0.996999979019165,\n",
       "  0.9965000152587891]}"
      ]
     },
     "execution_count": 33,
     "metadata": {},
     "output_type": "execute_result"
    }
   ],
   "source": [
    "history.history"
   ]
  },
  {
   "cell_type": "markdown",
   "metadata": {
    "colab_type": "text"
   },
   "source": [
    "### 검증 데이터에서 손실과 측정 지표 모니터링하기"
   ]
  },
  {
   "cell_type": "markdown",
   "metadata": {
    "colab_type": "text"
   },
   "source": [
    "**`validation_data` 매개변수 사용하기**"
   ]
  },
  {
   "cell_type": "code",
   "execution_count": 34,
   "metadata": {
    "colab_type": "code",
    "execution": {
     "iopub.execute_input": "2022-05-21T00:58:18.522664Z",
     "iopub.status.busy": "2022-05-21T00:58:18.522375Z",
     "iopub.status.idle": "2022-05-21T00:58:19.764061Z",
     "shell.execute_reply": "2022-05-21T00:58:19.763028Z"
    }
   },
   "outputs": [
    {
     "name": "stdout",
     "output_type": "stream",
     "text": [
      "Epoch 1/5\n",
      "88/88 [==============================] - 1s 3ms/step - loss: 0.2335 - binary_accuracy: 0.9321 - val_loss: 0.1123 - val_binary_accuracy: 0.9467\n",
      "Epoch 2/5\n",
      "88/88 [==============================] - 0s 2ms/step - loss: 0.0715 - binary_accuracy: 0.9479 - val_loss: 0.0314 - val_binary_accuracy: 0.9933\n",
      "Epoch 3/5\n",
      "88/88 [==============================] - 0s 2ms/step - loss: 0.0743 - binary_accuracy: 0.9557 - val_loss: 0.0347 - val_binary_accuracy: 0.9967\n",
      "Epoch 4/5\n",
      "88/88 [==============================] - 0s 2ms/step - loss: 0.0730 - binary_accuracy: 0.9600 - val_loss: 0.0435 - val_binary_accuracy: 0.9933\n",
      "Epoch 5/5\n",
      "88/88 [==============================] - 0s 2ms/step - loss: 0.0722 - binary_accuracy: 0.9600 - val_loss: 0.0714 - val_binary_accuracy: 0.9933\n"
     ]
    },
    {
     "data": {
      "text/plain": [
       "<keras.callbacks.History at 0x7fb9d8c49a20>"
      ]
     },
     "execution_count": 34,
     "metadata": {},
     "output_type": "execute_result"
    }
   ],
   "source": [
    "model = keras.Sequential([keras.layers.Dense(1)])\n",
    "model.compile(optimizer=keras.optimizers.RMSprop(learning_rate=0.1),\n",
    "              loss=keras.losses.MeanSquaredError(),\n",
    "              metrics=[keras.metrics.BinaryAccuracy()])\n",
    "\n",
    "indices_permutation = np.random.permutation(len(inputs))\n",
    "shuffled_inputs = inputs[indices_permutation]\n",
    "shuffled_targets = targets[indices_permutation]\n",
    "\n",
    "num_validation_samples = int(0.3 * len(inputs))\n",
    "val_inputs = shuffled_inputs[:num_validation_samples]\n",
    "val_targets = shuffled_targets[:num_validation_samples]\n",
    "training_inputs = shuffled_inputs[num_validation_samples:]\n",
    "training_targets = shuffled_targets[num_validation_samples:]\n",
    "model.fit(\n",
    "    training_inputs,\n",
    "    training_targets,\n",
    "    epochs=5,\n",
    "    batch_size=16,\n",
    "    validation_data=(val_inputs, val_targets)\n",
    ")"
   ]
  },
  {
   "cell_type": "markdown",
   "metadata": {
    "colab_type": "text"
   },
   "source": [
    "### 추론: 훈련한 모델 사용하기"
   ]
  },
  {
   "cell_type": "code",
   "execution_count": 35,
   "metadata": {
    "colab_type": "code",
    "execution": {
     "iopub.execute_input": "2022-05-21T00:58:19.768128Z",
     "iopub.status.busy": "2022-05-21T00:58:19.767816Z",
     "iopub.status.idle": "2022-05-21T00:58:19.874956Z",
     "shell.execute_reply": "2022-05-21T00:58:19.873756Z"
    }
   },
   "outputs": [
    {
     "name": "stdout",
     "output_type": "stream",
     "text": [
      "5/5 [==============================] - 0s 1ms/step\n",
      "[[0.1564705 ]\n",
      " [0.25314882]\n",
      " [0.21407542]\n",
      " [0.20786709]\n",
      " [0.3141666 ]\n",
      " [0.8283688 ]\n",
      " [0.25783038]\n",
      " [0.51289797]\n",
      " [0.2800762 ]\n",
      " [0.7729265 ]]\n"
     ]
    }
   ],
   "source": [
    "predictions = model.predict(val_inputs, batch_size=128)\n",
    "print(predictions[:10])"
   ]
  },
  {
   "cell_type": "markdown",
   "metadata": {
    "colab_type": "text"
   },
   "source": [
    "## 요약"
   ]
  }
 ],
 "metadata": {
  "colab": {
   "collapsed_sections": [],
   "name": "chapter03_introduction-to-keras-and-tf.i",
   "private_outputs": false,
   "provenance": [],
   "toc_visible": true
  },
  "kernelspec": {
   "display_name": "default:Python",
   "language": "python",
   "name": "conda-env-default-py"
  },
  "language_info": {
   "codemirror_mode": {
    "name": "ipython",
    "version": 3
   },
   "file_extension": ".py",
   "mimetype": "text/x-python",
   "name": "python",
   "nbconvert_exporter": "python",
   "pygments_lexer": "ipython3",
   "version": "3.9.10"
  }
 },
 "nbformat": 4,
 "nbformat_minor": 4
}
